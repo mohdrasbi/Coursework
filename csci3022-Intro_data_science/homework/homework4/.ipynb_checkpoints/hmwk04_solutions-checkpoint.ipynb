{
 "cells": [
  {
   "cell_type": "markdown",
   "metadata": {},
   "source": [
    "<a/ id='top'></a>\n",
    "# Homework 4: More Simulation and the Central Limit Theorem \n",
    "***\n",
    "\n",
    "**Name**: Solutions\n",
    "\n",
    "***\n",
    "\n",
    "This assignment is due on Moodle by **5 PM on Friday 26 October**. Your solutions to theoretical questions should be done in Markdown/MathJax directly below the associated question.  Your solutions to computational questions should include any specified Python code and results as well as written commentary on your conclusions.  Remember that you are encouraged to discuss the problems with your instructors and classmates, but **you must write all code and solutions on your own**.\n",
    "\n",
    "**NOTES**: \n",
    "\n",
    "- Do **NOT** load or use any Python packages that are not available in Anaconda 3.6. \n",
    "- Some problems with code may be autograded.  If we provide a function API **do not** change it.  If we do not provide a function API then you're free to structure your code however you like. \n",
    "- Because you can technically evaluate notebook cells is a non-linear order, it's a good idea to do Cell $\\rightarrow$ Run All as a check before submitting your solutions.  That way if we need to run your code you will know that it will work as expected. \n",
    "- Submit only this Jupyter notebook to Moodle.  Do not compress it using tar, rar, zip, etc. \n",
    "- This should go without saying, but... For any question that asks you to calculate something, you **must show all work to receive credit**. Sparse or nonexistent work will receive sparse or nonexistent credit.\n",
    "\n",
    "---\n",
    "**Shortcuts:**  [Problem 1](#p1) | [Problem 2](#p2) | [Problem 3](#p3) | [Problem 4](#p4)\n",
    "\n",
    "---"
   ]
  },
  {
   "cell_type": "code",
   "execution_count": 1,
   "metadata": {
    "collapsed": true,
    "scrolled": true
   },
   "outputs": [],
   "source": [
    "import numpy as np\n",
    "import math\n",
    "import scipy.stats as stats\n",
    "import matplotlib.pyplot as plt\n",
    "import pandas as pd\n",
    "%matplotlib inline"
   ]
  },
  {
   "cell_type": "markdown",
   "metadata": {},
   "source": [
    "<br>\n",
    "\n",
    "---\n",
    "<a/ id='p1'></a>\n",
    "[Back to top](#top)\n",
    "### [30 points] Problem 1 - Monte Carlo Estimation of Definite Integrals\n",
    "\n",
    "One really cool application of random variables is using them to approximate integrals/area under a curve.  This method of approximating integrals is used frequently in computational science to approximate really difficult integrals that we never want to do by hand.  In this exercise you'll figure out how we can do this in practice and test your method on a relatively simple integral. "
   ]
  },
  {
   "cell_type": "markdown",
   "metadata": {},
   "source": [
    "**Part A.**  Let $X$ be a random variable representing how delicious a pie you bake is, as measured by the **Deliciousness Index** (DI).  Suppose the probability density function for $X$ is described by the raised cosine probability density function:\n",
    "\n",
    "$$\n",
    "f(x) = \\begin{cases}\n",
    "         \\dfrac{1}{\\pi}\\left(\\cos{(x)} + 1\\right) & 0 \\leq x \\leq \\pi \\\\\n",
    "         0                           & \\text{otherwise}\n",
    "         \\end{cases}\n",
    "$$\n",
    "\n",
    "A Deliciousness Index of $\\pi$ is the most delicious pie you can ever hope to create, and a DI of $0$ is the most disgusting pie you have ever tasted.  \n",
    "\n",
    "Compute **by hand**, the integral of $f(x)$ for $0 \\leq x \\leq \\dfrac{\\pi}{2}$.  Write a sentence or two to interpret your result physically, in the context of this problem set-up."
   ]
  },
  {
   "cell_type": "markdown",
   "metadata": {
    "collapsed": true
   },
   "source": [
    "**Solution:**\n",
    "\n",
    "$\\begin{align}\n",
    " \\int_0^{\\pi/2} \\dfrac{1}{\\pi}(\\cos(x)+1) dx &= \\dfrac{1}{\\pi}(\\sin(x) + x)\\bigg|_0^{\\frac{\\pi}{2}} \\\\\n",
    "    &= \\dfrac{1}{\\pi}\\left[\\left(\\sin(\\pi/2) + \\pi/2\\right) - \\left(\\sin(0)+0\\right)\\right] \\\\\n",
    "    &= \\dfrac{1}{\\pi}(1 + \\pi/2) \\\\\n",
    "    &= \\fbox{$\\dfrac{1}{\\pi} + \\dfrac{1}{2} \\approx 0.8183$}\n",
    " \\end{align}$\n",
    " \n",
    " This is the probability that a pie we bake has a Deliciousness Index of less than or equation to $\\pi/2$, which everyone knows is defined to be **Mediocre at Best**."
   ]
  },
  {
   "cell_type": "markdown",
   "metadata": {},
   "source": [
    "**Part B.** Suppose we sample a random variable $X$ from $U(0,\\frac{\\pi}{2})$ and another random variable $Y$ from $U(0,1)$ and think of them as $x$- and $y$-coordinates of a point in the box $[0,\\frac{\\pi}{2}] \\times [0,1]$.  If we compute the ratio of points that fall under the curve $f(x)$ to the total points sampled, what does this value estimate? "
   ]
  },
  {
   "cell_type": "markdown",
   "metadata": {
    "collapsed": true
   },
   "source": [
    "**Solution:**\n",
    "\n",
    "This value estimates the proportion of the area in the box that is under the curve $f(x)$."
   ]
  },
  {
   "cell_type": "markdown",
   "metadata": {},
   "source": [
    "**Part C.** How could we modify the process outlined in **Part B** so that our estimator estimates the value of the desired integral?  If you need inspiration, check out the in-class notebook on Stochastic Simulation (#4), specifically, the exercise where we estimated $\\pi$!"
   ]
  },
  {
   "cell_type": "markdown",
   "metadata": {
    "collapsed": true
   },
   "source": [
    "**Solution:**\n",
    "\n",
    "We want to compute the area under the curve, but we have a proportion of the total area. Therefore, multiply the proportion by the total area (which is $\\pi/2$) to get the area under the curve."
   ]
  },
  {
   "cell_type": "markdown",
   "metadata": {},
   "source": [
    "**Part D.** Write a function `integrate` to compute an approximation to the definition integral $\\int_0^{\\text{ub}} f(x)dx$.  Your function should take as arguments:\n",
    "1. `num_samples` -- the number of points to sample,\n",
    "2. `ub` -- a number between $0$ and $\\pi$ that is the upper bound of the integral, and\n",
    "3. `isPlot` -- a Boolean flag for whether or not to display a plot of the results.\n",
    "\n",
    "Your function should return an approximation of the definite integral by sampling $X$ from $U(0,\\text{ub})$ and $Y$ from $U(0,1)$. For each random draw $(X,Y)$, define the random variable $Z$ that represents whether or not the sampled $Y$ value is less than $f(X)$ for the corresponding $X$ value.\n",
    "\n",
    "Your function should perform three tasks: \n",
    "\n",
    "1. return the estimate of the value of the integral,\n",
    "2. return the sample variance of the random variable $Z$ being simulated, using the np.var function, and\n",
    "3. if `isPlot` is True, plot the curve $f(x)$ as well as the location of the points $(X,Y)$, colored according to whether they fall above or below the curve. \n",
    "\n",
    "Run your simulation with `isPlot=True` and `ub=`$\\frac{\\pi}{2}$ for 1,000 samples so we can see your plot. Then, run your simulation (with `isPlot=False`) with at least 10,000 samples and estimate the value of the given integral.  Does your estimate agree with the exact value of the integral you computed in **Part A**? "
   ]
  },
  {
   "cell_type": "markdown",
   "metadata": {},
   "source": [
    "**Solution:**"
   ]
  },
  {
   "cell_type": "code",
   "execution_count": 2,
   "metadata": {},
   "outputs": [
    {
     "data": {
      "text/plain": [
       "(0.80424771931898709, 0.24985600000000005)"
      ]
     },
     "execution_count": 2,
     "metadata": {},
     "output_type": "execute_result"
    },
    {
     "data": {
      "image/png": "[encoded data removed]",
      "text/plain": [
       "<matplotlib.figure.Figure at 0x118dc6f98>"
      ]
     },
     "metadata": {},
     "output_type": "display_data"
    }
   ],
   "source": [
    "def raised_cosine(x):\n",
    "    return (np.cos(x)+1)/np.pi\n",
    "\n",
    "def integrate(num_samples=1000, ub=3.14, isPlot=False):\n",
    "    x = np.random.uniform(0, ub, num_samples)\n",
    "    y = np.random.uniform(0, 1, num_samples)\n",
    "    fx = raised_cosine(x)\n",
    "    rv = y<fx \n",
    "    estimate = ub*np.sum(rv)/num_samples\n",
    "    sample_var = np.var(rv)\n",
    "    if isPlot:\n",
    "        fig, ax = plt.subplots(nrows=1, ncols=1, figsize=(12,6)) \n",
    "        xval = np.arange(0, np.pi, np.pi/100)\n",
    "        ax.plot(xval, raised_cosine(xval),'--')\n",
    "        ax.scatter(x[y<=fx],y[y<=fx],c=['red'],marker = 'v')\n",
    "        ax.scatter(x[y>fx],y[y>fx],c='blue',s = 5)\n",
    "    return estimate, sample_var \n",
    "\n",
    "integrate(num_samples=1000, ub=(np.pi/2), isPlot=True)"
   ]
  },
  {
   "cell_type": "code",
   "execution_count": 155,
   "metadata": {},
   "outputs": [
    {
     "name": "stdout",
     "output_type": "stream",
     "text": [
      "With 10000 samples, estimate: 0.8195\n"
     ]
    }
   ],
   "source": [
    "print('With 10000 samples, estimate: {:0.4f}'.format(integrate(num_samples=10000, ub=np.pi*0.5, isPlot=False)[0]))"
   ]
  },
  {
   "cell_type": "markdown",
   "metadata": {},
   "source": [
    "This answer agrees pretty well with what we got in Part A, but with some small amount of error.\n",
    "\n",
    "Relative error is roughly $\\dfrac{\\text{measured}-\\text{actual}}{\\text{actual}} = \\dfrac{0.8163 - 0.8183}{0.8183} \\times 100\\% \\approx -0.2444 \\%$"
   ]
  },
  {
   "cell_type": "markdown",
   "metadata": {},
   "source": [
    "**Part E.** In the simulation above, what is distribution of the random variable $Z$ that we're actually sampling? What is/are the parameters of this distribution?  "
   ]
  },
  {
   "cell_type": "markdown",
   "metadata": {
    "collapsed": true
   },
   "source": [
    "**Solution:**\n",
    "\n",
    "We are really flipping a coin with parameter $p = \\dfrac{\\text{area under the curve $f(x)$}}{\\text{total area}}$. This is a Bernoulli random variable.\n",
    "\n",
    "If we're thinking about this as counting heads, then we're drawing from a Binomial distribution with $n=\\text{num_samples}$ and p=(area under the curve)/(total area). Both of these explanations are reasonable. "
   ]
  },
  {
   "cell_type": "markdown",
   "metadata": {},
   "source": [
    "**Part F.**  Compute the expected value of the random variable you described in **Part E** by hand.  Does this value agree with the exact value of the integral you computed in **Part A** and the estimated value you simulated in **Part D**? "
   ]
  },
  {
   "cell_type": "markdown",
   "metadata": {
    "collapsed": true
   },
   "source": [
    "**Solution:**\n",
    "\n",
    "The expected value of the Bernoulli with p=(area under curve)/(area in box) should be \n",
    "$$p=\\dfrac{\\left(\\frac{1}{\\pi} + \\frac{1}{2}\\right)}{\\frac{\\pi}{2}} = \\frac{2}{\\pi^2} + \\frac{1}{\\pi} = \\frac{2+\\pi}{\\pi^2} \\approx 0.5210$$\n",
    "\n",
    "No, this doesn't agree with what we computed in part A. To get the value that we computed in part A, we'd need to multiply by the area of the box, $\\frac{\\pi}{2}$, which would indeed give us about $0.8183$."
   ]
  },
  {
   "cell_type": "code",
   "execution_count": 146,
   "metadata": {},
   "outputs": [
    {
     "data": {
      "text/plain": [
       "0.8183098861837906"
      ]
     },
     "execution_count": 146,
     "metadata": {},
     "output_type": "execute_result"
    }
   ],
   "source": [
    "((2+np.pi)/(np.pi**2))*np.pi/2"
   ]
  },
  {
   "cell_type": "markdown",
   "metadata": {},
   "source": [
    "**Part G.** Compute the variance of the random variable you described in **Part E** by hand.  Does this value agree with the sample variance observed in your simulation for **Part D**? "
   ]
  },
  {
   "cell_type": "markdown",
   "metadata": {
    "collapsed": true
   },
   "source": [
    "**Solution:**\n",
    "\n",
    "The variance of the Bernoulli with parameter $p$ is $p (1-p)$. This means that in our case, where $p = \\frac{2+\\pi}{\\pi^2}$, the variance should be\n",
    "$$\\text{Var}(Z) = \\frac{2+\\pi}{\\pi^2}\\left(1-\\frac{2+\\pi}{\\pi^2} \\right )$$\n",
    "This is equal to"
   ]
  },
  {
   "cell_type": "code",
   "execution_count": 147,
   "metadata": {},
   "outputs": [
    {
     "data": {
      "text/plain": [
       "0.24956100307459314"
      ]
     },
     "execution_count": 147,
     "metadata": {},
     "output_type": "execute_result"
    }
   ],
   "source": [
    "((2+np.pi)/(np.pi**2))*(1-((2+np.pi)/(np.pi**2)))"
   ]
  },
  {
   "cell_type": "markdown",
   "metadata": {},
   "source": [
    "This is pretty close to what we got in D!"
   ]
  },
  {
   "cell_type": "markdown",
   "metadata": {},
   "source": [
    "<br>\n",
    "\n",
    "---\n",
    "<a/ id='p2'></a>\n",
    "[Back to top](#top)\n",
    "### [25 points] Problem 2 - Mmmm... Donuts...\n",
    "\n",
    "<img src=\"http://astrokentico.s3.amazonaws.com/rojakdaily/media/1nichoras/homer%20simpson%20krispy%20kreme/main.jpg?ext=.jpg\" style=\"width:300px;\"/>\n",
    "\n",
    "You bring many donuts (or _doughnuts_, if you will) to work to share with your coworkers at the Boulder Nuclear Power Planet. But due to the high levels of radiation there, they must be inspected for safety. In particular, if the mean level of radiation in a sample from your batch of donuts is above [200 mSv (millisievert)](#rad), then they are deemed unsafe and you must throw the whole batch away.\n",
    "\n",
    "You know that historically donuts at the power plant have, on average, 190 mSv of radiation, with a standard deviation of 40 mSv. To test the donut radiation levels, you take the donut receipt and pick every fifth donut off it, and sample the radiation levels of those donuts. You end up sampling the radiation levels of 36 donuts out of the batch."
   ]
  },
  {
   "cell_type": "markdown",
   "metadata": {},
   "source": [
    "**Part A.** What is the probability that a donut batch is deemed unsafe?  You should at the very least set up and justify your calculation by hand (in Markdown/Mathjax), before executing any calculations in Python."
   ]
  },
  {
   "cell_type": "markdown",
   "metadata": {},
   "source": [
    "**Solution:**\n",
    "\n",
    "Let $X$ be the random variable representing the levels of radiation in the donut batch.\n",
    "\n",
    "Central Limit Theorem tells us $\\bar{X} \\sim N(\\mu, \\frac{\\sigma^2}{n})$, where $\\mu = 190$ mSv, $\\sigma = 40$ mSv, and $n=36$ donuts.\n",
    "\n",
    "So we want:\n",
    "$$\\begin{align}\n",
    "  P(\\bar{X} > 200) &= P\\left(Z > \\frac{200-190}{40/\\sqrt{36}}\\right) \\\\\n",
    "                   &= P(Z > 1.5) = 1 - P(Z \\leq 1.5) \\\\\n",
    "                   &= 1 - \\Phi(1.5) = 1-0.93319 = \\fbox{0.0668}\n",
    "\\end{align}$$"
   ]
  },
  {
   "cell_type": "code",
   "execution_count": 5,
   "metadata": {},
   "outputs": [
    {
     "data": {
      "text/plain": [
       "0.93319279873114191"
      ]
     },
     "execution_count": 5,
     "metadata": {},
     "output_type": "execute_result"
    }
   ],
   "source": [
    "stats.norm.cdf(1.5)"
   ]
  },
  {
   "cell_type": "code",
   "execution_count": 6,
   "metadata": {},
   "outputs": [
    {
     "name": "stdout",
     "output_type": "stream",
     "text": [
      "The probability that the donuts are rejected is 0.0668\n",
      "This probability, again, but differently calculated, is 0.0668\n"
     ]
    }
   ],
   "source": [
    "X = 200\n",
    "mu = 190\n",
    "sd = 40\n",
    "n = 36\n",
    "prob = stats.norm.cdf((X-mu)/(sd/np.sqrt(n)))\n",
    "\n",
    "# but `prob` is the cdf, and we want 1-cdf\n",
    "print(\"The probability that the donuts are rejected is {:.4f}\".format(1-prob))\n",
    "\n",
    "# Alternatively:\n",
    "print(\"This probability, again, but differently calculated, is {:.4f}\".format(1-stats.norm.cdf(x=X, loc=mu, scale=sd/np.sqrt(n))))"
   ]
  },
  {
   "cell_type": "markdown",
   "metadata": {},
   "source": [
    "**Part B.** You really do not want to throw away donuts that frequently, so you propose to store the donuts in a lead-lined donut box. But lead also is not very good for your health, so you are motivated to use the least amount of lead possible. What is the minimum mean amount of radiation $\\mu$ for our donuts to have such that the probability that we will throw donuts out due to safety concerns is at most 0.001?\n",
    "\n",
    "Calculate this **by hand**, using Python only to perform arithmetic operations and compute critical values of a standard normal random variable."
   ]
  },
  {
   "cell_type": "markdown",
   "metadata": {},
   "source": [
    "**Solution:**\n",
    "\n",
    "Let's write what we want.\n",
    "\n",
    "$$P(\\bar{X} > 200) < 0.001$$\n",
    "\n",
    "And we know by the CLT that \n",
    "\n",
    "$$P(\\bar{X} > 200) = P \\left( \\frac{\\bar{X} - \\mu}{\\sigma/\\sqrt{n}} > \\frac{200-\\mu}{\\sigma/\\sqrt{36}}\\right) = P\\left (Z > \\frac{200-\\mu}{\\sigma/\\sqrt{36}}\\right ) = 1- P\\left (Z \\leq \\frac{200-\\mu}{\\sigma/\\sqrt{36}}\\right ) \\stackrel{\\heartsuit}{=} 0.001$$\n",
    "\n",
    "This means we want the critical value of $Z$, $z_c$, such that:\n",
    "\n",
    "$$P\\left(Z \\leq \\frac{200-\\mu}{\\sigma/\\sqrt{36}}\\right) = 0.999$$\n",
    "\n",
    "That critical value $z_c$ can be computed from `stats.norm.ppf`:"
   ]
  },
  {
   "cell_type": "code",
   "execution_count": 7,
   "metadata": {},
   "outputs": [
    {
     "name": "stdout",
     "output_type": "stream",
     "text": [
      "3.09023230617\n"
     ]
    }
   ],
   "source": [
    "z_crit = stats.norm.ppf(0.999)\n",
    "print(z_crit)"
   ]
  },
  {
   "cell_type": "markdown",
   "metadata": {},
   "source": [
    "Now, we can solve for $\\mu$:\n",
    "\n",
    "$\\begin{align}\n",
    " z_c &= \\dfrac{200 - \\mu}{\\sigma/\\sqrt{36}} \\\\\n",
    " \\Rightarrow \\mu &= 200 - z_c \\cdot \\dfrac{\\sigma}{6} \\\\\n",
    "                 &= 200 - 3.09 \\cdot \\dfrac{40}{6} \\\\\n",
    "                 &\\approx \\fbox{$179.4 ~\\text{mSv}$}\n",
    "\\end{align}$"
   ]
  },
  {
   "cell_type": "code",
   "execution_count": 172,
   "metadata": {},
   "outputs": [
    {
     "name": "stdout",
     "output_type": "stream",
     "text": [
      "We are going to need a mean of no more than 179.3985 mSv\n"
     ]
    }
   ],
   "source": [
    "mu_new = 200 - stats.norm.ppf(0.999)*sd/np.sqrt(n)\n",
    "print(\"We are going to need a mean of no more than {:.4f} mSv\".format(mu_new))"
   ]
  },
  {
   "cell_type": "markdown",
   "metadata": {},
   "source": [
    "**Part C.**  Your supervisor at the plant decides that serving up donuts in a lead-lined box is a bad idea. Fair enough.\n",
    "\n",
    "But she is still imposing the requirement that the probability of a batch of donuts being rejected must be less than 0.001. Suppose the mean and standard deviation are at their original values of $\\mu = 190$ mSv and $\\sigma = 40$ mSv. What is the minimum sample size to satisfy this requirement?\n",
    "\n",
    "Calculate this **by hand**, using Python only to perform arithmetic operations and compute critical values of a standard normal random variable."
   ]
  },
  {
   "cell_type": "markdown",
   "metadata": {},
   "source": [
    "**Solution:**\n",
    "\n",
    "We can go about setting this up the same way as Part B. The critical value of $z_c$ is going to be the same as in the previous problem, but now we don't get to change $\\mu$, which is fixed back at 190 mSv. Instead, we must change $n$.\n",
    "\n",
    "\n",
    "$$P(\\bar{X} > 200) = P \\left( Z > \\frac{200-190}{40/\\sqrt{n}}\\right) = 1- P\\left (Z \\leq \\frac{200-190}{40/\\sqrt{n}}\\right ) \\stackrel{\\heartsuit}{=} 0.001$$\n",
    "\n",
    "This means we want the critical value of $Z$, $z_c$, such that:\n",
    "\n",
    "$$P\\left(z_c \\leq \\frac{200-190}{40/\\sqrt{n}}\\right) = 0.999$$\n",
    "\n",
    "Again, that critical value $z_c$ can be computed from `stats.norm.ppf`:"
   ]
  },
  {
   "cell_type": "code",
   "execution_count": 173,
   "metadata": {},
   "outputs": [
    {
     "name": "stdout",
     "output_type": "stream",
     "text": [
      "3.09023230617\n"
     ]
    }
   ],
   "source": [
    "z_crit = stats.norm.ppf(0.999)\n",
    "print(z_crit)"
   ]
  },
  {
   "cell_type": "markdown",
   "metadata": {
    "collapsed": true
   },
   "source": [
    "So we have:\n",
    "\n",
    "$\\begin{align}\n",
    "  z_c &\\leq \\dfrac{200-190}{40/\\sqrt{n}} \\\\\n",
    "\\Rightarrow \\dfrac{40}{\\sqrt{n}} &\\leq \\dfrac{10}{z_c} \\\\\n",
    "\\Rightarrow \\dfrac{40 z_c}{10} &\\leq \\sqrt{n} \\\\\n",
    "\\Rightarrow n &\\geq (4 z_c)^2 \\\\\n",
    "\\Rightarrow n &\\geq 16\\cdot 3.09^2 \\approx 152.8\n",
    "\\end{align}$\n",
    "\n",
    "So we will need at least $\\fbox{153}$ donut samples."
   ]
  },
  {
   "cell_type": "code",
   "execution_count": 179,
   "metadata": {},
   "outputs": [
    {
     "name": "stdout",
     "output_type": "stream",
     "text": [
      "We need at least 153 samples of donuts\n"
     ]
    }
   ],
   "source": [
    "min_num_samples = np.ceil((4*stats.norm.ppf(.999))**2)\n",
    "print(\"We need at least {:.0f} samples of donuts\".format(min_num_samples))"
   ]
  },
  {
   "cell_type": "markdown",
   "metadata": {},
   "source": [
    "**Part D.** Can you think of any potential issues with using a normal distribution to model the radiation content of our donuts?"
   ]
  },
  {
   "cell_type": "markdown",
   "metadata": {},
   "source": [
    "**Solution:**\n",
    "\n",
    "A normal distribution with a really wide standard deviation, or with a lower mean, would put some probability mass over donut radiation content which is **negative**.  That does not make sense physically.\n",
    "\n",
    "Things people would do in practice to work around this:\n",
    "1. use a truncated normal distribution\n",
    "1. use a lognormal (or other half-infinite) distribution\n",
    "1. do not eat irradiated donuts in the first place"
   ]
  },
  {
   "cell_type": "markdown",
   "metadata": {},
   "source": [
    "<br>\n",
    "\n",
    "---\n",
    "<a/ id='p3'></a>\n",
    "[Back to top](#top)\n",
    "### [20 points] Problem 3 - Snappy McChatterson over here\n",
    "\n",
    "**Part A:** Your friends are really texting a lot of messages to your Snap Chat. You start your stopwatch and record the time when each Snap Chat text message comes in. The data are found in `SnappedChats.csv`.\n",
    "\n",
    "Load them in using whatever method you prefer, compute the time span between successive snaps, and plot a density histogram of those inter-snap arrival times.\n",
    "\n",
    "Your histogram should be gold with black edges (sko buffs) and have 50 bins. Be sure to label your axes and include a legend.\n"
   ]
  },
  {
   "cell_type": "markdown",
   "metadata": {},
   "source": [
    "**Solution:**"
   ]
  },
  {
   "cell_type": "code",
   "execution_count": 9,
   "metadata": {},
   "outputs": [
    {
     "data": {
      "text/plain": [
       "<matplotlib.legend.Legend at 0x11cda64e0>"
      ]
     },
     "execution_count": 9,
     "metadata": {},
     "output_type": "execute_result"
    },
    {
     "data": {
      "image/png": "[encoded data removed]",
      "text/plain": [
       "<matplotlib.figure.Figure at 0x11cd1e240>"
      ]
     },
     "metadata": {},
     "output_type": "display_data"
    }
   ],
   "source": [
    "x = pd.read_csv('SnappedChats.csv')\n",
    "inters = np.diff(x['snaps'])\n",
    "fig,ax = plt.subplots(1,1, figsize=(6,4)) \n",
    "ax.hist(inters,bins=20,\n",
    "       normed=True,color=\"gold\",edgecolor=\"black\",label='inter-snap arrival times')\n",
    "ax.set_xlabel('inter-snap arrival times',FontSize=14)\n",
    "ax.set_ylabel('density',FontSize=14)\n",
    "ax.legend()"
   ]
  },
  {
   "cell_type": "markdown",
   "metadata": {},
   "source": [
    "**Part B:** Compute a 90% confidence interval (to 4 decimal places) for the mean of the inter-snap arrival time. If you use any theorem(s) in your calculation, be sure to state what they are and why the theorem(s) can be applied. "
   ]
  },
  {
   "cell_type": "markdown",
   "metadata": {},
   "source": [
    "**Solution:** We're going to use the central limit theorem for the mean. This is ok because we have far more than $30$ data points. It also applies even though the data are not necessarily normal."
   ]
  },
  {
   "cell_type": "code",
   "execution_count": 10,
   "metadata": {},
   "outputs": [
    {
     "name": "stdout",
     "output_type": "stream",
     "text": [
      "CI: [21.916,24.931]\n"
     ]
    }
   ],
   "source": [
    "n = len(inters)\n",
    "stdev = np.std(inters)\n",
    "xbar = np.mean(inters)\n",
    "z = stats.norm.ppf(1-0.1/2)\n",
    "print(\"CI: [{:.3f},{:.3f}]\".format(xbar-z*stdev/np.sqrt(n),xbar+z*stdev/np.sqrt(n)))"
   ]
  },
  {
   "cell_type": "markdown",
   "metadata": {},
   "source": [
    "**Part C:** Speculate: what would happen if you hadn't included all the data in your confidence interval calculation above? Specifically, if you used only 30 of your data points to compute a confidence interval, would it be wider or less wide? Why?"
   ]
  },
  {
   "cell_type": "markdown",
   "metadata": {},
   "source": [
    "**Solution:** Smaller $n$ means a wider $CI$. That's because we have a $\\sqrt{n}$ in the denominator of the width. "
   ]
  },
  {
   "cell_type": "markdown",
   "metadata": {},
   "source": [
    "**Part D:** Write a function to confirm what you have written above. For each value of $n$ between $30$ and the total number of data points, compute a 90% CI using the first $n$ inter-arrival times. Plot the CIs (vertical axis) against $n$ (horizontal axis). Plot the means as black X symbols, with vertical \"errorbars\" for the CIs colored gold. See Matplotlib's [errorbar](https://matplotlib.org/api/_as_gen/matplotlib.pyplot.errorbar.html) plot type. "
   ]
  },
  {
   "cell_type": "markdown",
   "metadata": {},
   "source": [
    "**Solution:**"
   ]
  },
  {
   "cell_type": "code",
   "execution_count": 11,
   "metadata": {
    "collapsed": true
   },
   "outputs": [],
   "source": [
    "def get_CI(inters,n):\n",
    "    mydata = inters[:n]\n",
    "    stdev = np.std(mydata)\n",
    "    xbar = np.mean(mydata)\n",
    "    z = stats.norm.ppf(1-0.1/2)\n",
    "    return xbar,z*stdev/np.sqrt(n)\n",
    "ns = np.arange(30,len(inters)+1)\n",
    "xbars = []\n",
    "widths = []\n",
    "for n in ns:\n",
    "    _x,_w = get_CI(inters,n)\n",
    "    xbars.append(_x)\n",
    "    widths.append(_w)"
   ]
  },
  {
   "cell_type": "code",
   "execution_count": 13,
   "metadata": {},
   "outputs": [
    {
     "data": {
      "image/png": "[encoded data removed]",
      "text/plain": [
       "<matplotlib.figure.Figure at 0x11cf7ec18>"
      ]
     },
     "metadata": {},
     "output_type": "display_data"
    }
   ],
   "source": [
    "fig,ax = plt.subplots(1,1, figsize=(10,4)) \n",
    "ax.errorbar(ns,xbars,yerr=widths,\n",
    "           marker='x',color=\"black\",ecolor='gold')\n",
    "ax.set_xlabel('n',FontSize=14)\n",
    "ax.set_ylabel('estimate',FontSize=14);"
   ]
  },
  {
   "cell_type": "markdown",
   "metadata": {},
   "source": [
    "<br>\n",
    "\n",
    "---\n",
    "<a/ id='p4'></a>\n",
    "[Back to top](#top)\n",
    "### [25 points] Problem 4 - Not-so-Easy Peasy Plinko \n",
    "\n",
    "[Plinko](http://priceisright.wikia.com/wiki/Plinko), the shining jewel of the gameshow [Price is Right](https://en.wikipedia.org/wiki/The_Price_Is_Right), is a staple of American culture.  Luckily for us, it's also chalk-full of interesting ideas from probability and statistics. The game involves dropping a disc onto an inclined board of pegs and letting it bounce around until it lands in a bin with an associated cash value. Players get to drop some number of discs down the Plinko board and keep their winnings.\n",
    "\n",
    "In class we looked at a simplified version of Plinko:  \n",
    "\n",
    "![](http://www.cs.colorado.edu/~tonyewong/home/resources/plinko/plinko1.png)\n",
    "\n",
    "In real life, Plinko has boundaries, positioned symmetrically around the center $c$ at positions $\\ell$ and $r$ s.t. $|c-\\ell| = |c+r|$. The effect of the boundaries are that when the Plinko disc hits the boundary, it can only move back toward the center. In other words, if the disc hits the boundary at $\\ell$, it can only go right at that level. Likewise, if the disc hits the boundary at $r$, it can only go left at that level. \n",
    "\n",
    "For instance, the following board depicts a Plinko game with boundaries at $0.5$ (halfway between the centers of Buckets 0 and 1) and $5.5$ (halfway between Buckets 5 and 6)  The red pegs indicate boundary pegs on which the disc always moves toward the center.   \n",
    "\n",
    "![](http://www.cs.colorado.edu/~tonyewong/home/resources/plinko/plinko2.png)\n"
   ]
  },
  {
   "cell_type": "markdown",
   "metadata": {},
   "source": [
    "**Part A**: First, let's consider the case without boundaries. \n",
    "\n",
    "**[1]** Write a simulator of Plinko that models the disc moving through each of the 6 rows of pegs to its final destination in one of the 7 bins. Let $X$ be the random variable corresponding to the Bucket that the disc lands in. Run your simulation for at least 10,000 trials and plot a density histogram estimate of the PMF of $X$ when the probability of moving left when hitting a peg is equal to `p_right = 0.5`. Note that in this set-up, you must always drop the disc above bin 3.\n",
    "\n",
    "Your code should take as arguments:\n",
    "* `n` -- number of Plinko trials\n",
    "* `p_right` -- the probability of bouncing right at any given peg\n",
    "\n",
    "Your code should return some kind of an array-like object that can be used to plot a histogram of the results of your `n` Plinko games.\n",
    "\n",
    "**[2]** Then, plot a density histogram of the results.  Run your simulation for at least 10,000 trials.  The bins should be centered above the corresponding bin numbers, and axes should be labeled appropriately."
   ]
  },
  {
   "cell_type": "markdown",
   "metadata": {},
   "source": [
    "**Solution:**"
   ]
  },
  {
   "cell_type": "code",
   "execution_count": 18,
   "metadata": {
    "collapsed": true
   },
   "outputs": [],
   "source": [
    "def plinko(n=10000, p_right=0.5):\n",
    "    outcomes = []\n",
    "    for trial in range(n):\n",
    "        x = 3\n",
    "        for row in range(6):\n",
    "            x += np.random.choice([-0.5, 0.5], p=[1-p_right, p_right])\n",
    "        outcomes.append(x)\n",
    "    return outcomes"
   ]
  },
  {
   "cell_type": "code",
   "execution_count": 19,
   "metadata": {},
   "outputs": [
    {
     "data": {
      "image/png": "[encoded data removed]",
      "text/plain": [
       "<matplotlib.figure.Figure at 0x11d077390>"
      ]
     },
     "metadata": {},
     "output_type": "display_data"
    }
   ],
   "source": [
    "results = pd.Series(plinko(n=10000, p_right=0.5))\n",
    "bins = np.arange(-0.5, 7.5, 1)\n",
    "\n",
    "fig, ax = plt.subplots(nrows=1, ncols=1, figsize=(7,4))\n",
    "results.hist(ax=ax, bins=bins, edgecolor='white', linewidth=2, normed=True)\n",
    "ax.set_xlabel('Bin')\n",
    "ax.set_ylabel('Density')\n",
    "ax.set_axisbelow(True);"
   ]
  },
  {
   "cell_type": "markdown",
   "metadata": {},
   "source": [
    "**Part B**: Let $X$ be the random variable corresponding to the Bucket that the disc lands in for the situation in **Part A**.  Write down the **true** PMF for $X$. (**Hint**: It might be helpful to reflect back on the discussion from Lecture 11). \n",
    "\n",
    "**Then**, check that your empirical (estimated) probabilities for landing in Bucket 0, 1, 2, or 3 compare to the true probabilities. Comment on whether or not they agree, and be sure to clearly state what the probabilities you've calculated are."
   ]
  },
  {
   "cell_type": "markdown",
   "metadata": {
    "collapsed": true
   },
   "source": [
    "**Solution:**\n",
    "\n",
    "$$f(k) = P(X=k) = {6 \\choose k} p_{\\text{right}}^k (1-p_{\\text{right}})^{6-k}$$"
   ]
  },
  {
   "cell_type": "code",
   "execution_count": 34,
   "metadata": {
    "collapsed": true
   },
   "outputs": [],
   "source": [
    "def choose(n,k):\n",
    "    return math.factorial(n)/(math.factorial(n-k)*math.factorial(k))\n",
    "\n",
    "def binom_pmf(n,k,p):\n",
    "    return choose(n,k)*(p**k)*((1-p)**(n-k))"
   ]
  },
  {
   "cell_type": "code",
   "execution_count": 36,
   "metadata": {},
   "outputs": [
    {
     "name": "stdout",
     "output_type": "stream",
     "text": [
      "Comparison of  EMPIRICAL  and  TRUE probabilities:\n",
      "           0 ... 0.0147 ...   0.015625\n",
      "           1 ... 0.0961 ...   0.09375\n",
      "           2 ... 0.2378 ...   0.234375\n",
      "           3 ... 0.3118 ...   0.3125\n"
     ]
    }
   ],
   "source": [
    "print('Comparison of  EMPIRICAL  and  TRUE probabilities:')\n",
    "for k in range(4):\n",
    "    print('           {} ... {} ...   {}'.format(k,len(results.loc[results==k])/len(results),binom_pmf(6,k,0.5)))"
   ]
  },
  {
   "cell_type": "markdown",
   "metadata": {},
   "source": [
    "**Part C.** \n",
    "\n",
    "**[1]** Now write a simulator for Plinko with boundaries, and an argument for the number of rows. Your code should be similar to your code from **Part A**, with the following arguments:\n",
    "* `n` -- number of Plinko trials\n",
    "* `p_right` -- the probability of bouncing right at any given peg\n",
    "* `left_bound` -- the left boundary\n",
    "* `right_bound` -- the right boundary\n",
    "* `initial` -- the initial bin that you drop the disc above\n",
    "* `n_rows` -- number the rows on the plinko board. The board must have number of pegs in the bottom row equal to `n_rows`.\n",
    "\n",
    "**[2]** As a sanity check, use a 1-row board with `p_right=0.85`, and no left/right boundaries.  Run 10,000 trials and plot a density histogram of the results. The bins should be centered above the corresponding bin numbers, and the axes should be labeled. Does your result match you expect should happen? Explain."
   ]
  },
  {
   "cell_type": "markdown",
   "metadata": {},
   "source": [
    "**Solution:**"
   ]
  },
  {
   "cell_type": "code",
   "execution_count": 16,
   "metadata": {
    "collapsed": true
   },
   "outputs": [],
   "source": [
    "def plinko_bounded(n=10000, p_right=0.5, left_bound=-1, right_bound=7, initial=3, n_rows=6):\n",
    "    '''\n",
    "    default arguments for left_bound and right_bound so we have \n",
    "    the unbounded Plinko board\n",
    "    '''\n",
    "    outcomes = []\n",
    "    for trial in range(n):\n",
    "        x = initial\n",
    "        for row in range(n_rows):\n",
    "            if x==left_bound:\n",
    "                x += 0.5\n",
    "            elif x==right_bound:\n",
    "                x += -0.5\n",
    "            else:\n",
    "                x += np.random.choice([-0.5,0.5], p=[1-p_right, p_right])\n",
    "        outcomes.append(x)\n",
    "    return outcomes"
   ]
  },
  {
   "cell_type": "code",
   "execution_count": 17,
   "metadata": {},
   "outputs": [
    {
     "data": {
      "image/png": "[encoded data removed]",
      "text/plain": [
       "<matplotlib.figure.Figure at 0x11d0e27b8>"
      ]
     },
     "metadata": {},
     "output_type": "display_data"
    }
   ],
   "source": [
    "results = pd.Series(plinko_bounded(n=10000, p_right=0.85, left_bound=-0.5, \\\n",
    "                                   right_bound=1.5, initial=0.5, n_rows=1))\n",
    "bins = np.arange(-0.5, 2.5, 1)\n",
    "\n",
    "fig, ax = plt.subplots(nrows=1, ncols=1, figsize=(4,4))\n",
    "results.hist(ax=ax, bins=bins, edgecolor='white', linewidth=4, normed=True)\n",
    "ax.set_xlim([-1,2])\n",
    "ax.set_xlabel('Bin')\n",
    "ax.set_ylabel('Density')\n",
    "ax.set_axisbelow(True);"
   ]
  },
  {
   "cell_type": "markdown",
   "metadata": {},
   "source": [
    "This matches what we expect, which is that about 15% the time, the disc falls to the left and about 85% the time the disc falls to the right."
   ]
  },
  {
   "cell_type": "markdown",
   "metadata": {},
   "source": [
    "**Part D.**  Run 10,000 trials with left and right boundaries at 0.5 and 5.5, respectively, and a 6-row board. Drop the disc above Bin 3. Plot a density histogram of the results, simiarly to **Part C**."
   ]
  },
  {
   "cell_type": "markdown",
   "metadata": {},
   "source": [
    "**Solution:**"
   ]
  },
  {
   "cell_type": "code",
   "execution_count": 27,
   "metadata": {},
   "outputs": [
    {
     "data": {
      "image/png": "[encoded data removed]",
      "text/plain": [
       "<matplotlib.figure.Figure at 0x110d55358>"
      ]
     },
     "metadata": {},
     "output_type": "display_data"
    }
   ],
   "source": [
    "results = pd.Series(plinko_bounded(n=10000, p_right=0.5, left_bound=0.5, \\\n",
    "                                   right_bound=5.5, initial=3, n_rows=6))\n",
    "bins = np.arange(-0.5, 8.5, 1)\n",
    "\n",
    "fig, ax = plt.subplots(nrows=1, ncols=1, figsize=(7,4))\n",
    "results.hist(ax=ax, bins=bins, edgecolor='white', linewidth=2, normed=True)\n",
    "ax.set_xlabel('Bin')\n",
    "ax.set_ylabel('Density')\n",
    "ax.set_axisbelow(True);"
   ]
  },
  {
   "cell_type": "markdown",
   "metadata": {},
   "source": [
    "**Part E**:  Let $X$ be the random variable corresponding to the Bucket that the disc lands in for the situation in **Part C**.  Compare the approximate PMF for this board to the no-boundary board from **Part A/B**. Explain the mechanism that causes the differences between the two PMFs in words. Then, write down the **true** PMF for $X$."
   ]
  },
  {
   "cell_type": "markdown",
   "metadata": {},
   "source": [
    "**Solution:**\n",
    "\n",
    "It looks as if all the area from the far left bin (the 0 bin) has been added to the adjacent bin (the 1 bin). Similarly, all the area from the far right bin (the 6 bin) has been added to the 5 bin. This is because any disk that would fall into that 0 or 6 bin just gets dumped in the the 1 or 5 bin (respectively).\n",
    "\n",
    "Thus, with $f(k)$ defined as above, the PMF is the following:\n",
    "\n",
    "$\\begin{align}\n",
    "  P(X=1) &= f(1) + f(0) = {6 \\choose 1} p_{\\text{right}}^1 (1-p_{\\text{right}})^{5} + {6 \\choose 0} p_{\\text{right}}^0 (1-p_{\\text{right}})^{6} = 6\\cdot 0.5^6 + 1\\cdot 0.5^6 \\approx 0.109\\\\\n",
    "  P(X=2) &= f(2) = {6 \\choose 2} p_{\\text{right}}^2 (1-p_{\\text{right}})^{4} = 15\\cdot 0.5^6 \\approx 0.234 \\\\\n",
    "  P(X=3) &= f(3) = {6 \\choose 3} p_{\\text{right}}^3 (1-p_{\\text{right}})^{3} = 20\\cdot 0.5^6 \\approx 0.313 \\\\\n",
    "  P(X=4) &= f(4) = {6 \\choose 4} p_{\\text{right}}^4 (1-p_{\\text{right}})^{2} = 15\\cdot 0.5^6 \\approx 0.234 \\\\\n",
    "  P(X=5) &= f(5) + f(6) = {6 \\choose 5} p_{\\text{right}}^5 (1-p_{\\text{right}})^{1} + {6 \\choose 6} p_{\\text{right}}^6 (1-p_{\\text{right}})^0 = 6\\cdot 0.5^6 + 1\\cdot 0.5^6 \\approx 0.109 \\\\\n",
    "  \\end{align}$\n",
    "               "
   ]
  },
  {
   "cell_type": "markdown",
   "metadata": {},
   "source": [
    "**Part F**: Suppose I challenge you to a _friendly_ game of Plinko on the board from **Parts D** and **E**.\n",
    "* If the disc lands in bins 1 or 5, I will pay you \\$1\n",
    "* If the disc lands in bin 3, I will pay you \\$4\n",
    "* If the disc lands in bins 2 or 4, I will pay you nothing\n",
    "* I will also charge you a flat fee for each disc that you play.\n",
    "\n",
    "How much should I charge you per disc so that we break even in the long run? "
   ]
  },
  {
   "cell_type": "markdown",
   "metadata": {},
   "source": [
    "**Solution:**\n",
    "\n",
    "The amount I should charge per disc should be the expected value of your winnings.  We calculate this using the PMF found in Part E and the payout structure from above:"
   ]
  },
  {
   "cell_type": "code",
   "execution_count": 14,
   "metadata": {},
   "outputs": [
    {
     "name": "stdout",
     "output_type": "stream",
     "text": [
      "You should charge 1.469 per disc\n"
     ]
    }
   ],
   "source": [
    "from scipy.stats import binom\n",
    "exp_winnings = (1 *(binom.pmf(0, n=6, p=0.5) + binom.pmf(1, n=6, p=0.5)) +\n",
    "                0 * binom.pmf(2, n=6, p=0.5) +\n",
    "                4 * binom.pmf(3, n=6, p=0.5) +\n",
    "                0 * binom.pmf(4, n=6, p=0.5) +\n",
    "                1 * binom.pmf(5, n=6, p=0.5) + binom.pmf(6, n=6, p=0.5) )\n",
    "print(\"You should charge {:.3f} per disc\".format(exp_winnings))"
   ]
  },
  {
   "cell_type": "markdown",
   "metadata": {},
   "source": [
    "***"
   ]
  },
  {
   "cell_type": "markdown",
   "metadata": {},
   "source": [
    "### Challenge Fun Problem [0 points] - Real-Deal Plinko \n",
    "***\n",
    "\n",
    "Implement a full-blown Plinko simulator based on the actual board from Price is Right, which allows you to choose where to place the disc at the top of the board.  \n",
    "\n",
    "![alt text](https://i.pinimg.com/736x/7d/4b/5b/7d4b5b9ba5cdeceea16433eaadeeaf13--mash-game-plinko-game.jpg)\n",
    "\n",
    "You can actually do this using mostly your code from **Problem 3** and some careful handling of the boundaries relative to where you drop the disc.  Investigate questions like \"What is the optimal position to drop the disc to maximize expected winnings?\" and \"What are the expected winnings if you play Plinko optimally?\"\n",
    "\n",
    "Once you're done with that, it's time to go full-on Meta-Plinko.  Suppose the boundaries of the Plinko board are in their true positions from the real game show, but the board can have an arbitrary number of rows.  Is there a minimum number of rows the board can have at which point the PMF for the distribution becomes approximately uniform?  If not, is there a Bucket, or set of Buckets, that always have a greater chance of claiming the disc? \n"
   ]
  },
  {
   "cell_type": "markdown",
   "metadata": {},
   "source": [
    "<br>\n",
    "\n",
    "---\n",
    "\n",
    "Code for generating plinko boards"
   ]
  },
  {
   "cell_type": "code",
   "execution_count": 24,
   "metadata": {},
   "outputs": [
    {
     "data": {
      "image/png": "[encoded data removed]",
      "text/plain": [
       "<matplotlib.figure.Figure at 0x1134b76a0>"
      ]
     },
     "metadata": {},
     "output_type": "display_data"
    }
   ],
   "source": [
    "def plinko_board(num_rows=6, left_bucket=None, right_bucket=None):\n",
    "    \n",
    "    fig, ax = plt.subplots(nrows=1, ncols=1, figsize=(7,5))\n",
    "    xPegs = np.array([])\n",
    "    yPegs = np.array([])\n",
    "    for ii in range(1,num_rows+1):\n",
    "        xRow = np.array(range(ii), dtype=float)\n",
    "        xRow -= np.mean(xRow)\n",
    "        xPegs = np.concatenate((xPegs, xRow))\n",
    "        yPegs = np.concatenate((yPegs, (num_rows-ii)*np.ones(ii)))\n",
    "        \n",
    "    lastRow = np.array(range(num_rows+2), dtype=float)\n",
    "    lastRow -= np.mean(lastRow)\n",
    "    \n",
    "    leftBlack = np.ones(len(xPegs), dtype=bool)\n",
    "    rightBlack = np.ones(len(xPegs), dtype=bool)\n",
    "    leftRed = np.zeros(len(xPegs), dtype=bool)\n",
    "    rightRed = np.zeros(len(xPegs), dtype=bool)\n",
    "    leftGray = np.zeros(len(xPegs), dtype=bool)\n",
    "    rightGray = np.zeros(len(xPegs), dtype=bool)\n",
    "    \n",
    "    if left_bucket:\n",
    "        xbound = -num_rows/2-.5+left_bucket\n",
    "        leftRed = xPegs == xbound \n",
    "        leftGray = xPegs < xbound \n",
    "        leftBlack = xPegs > xbound \n",
    "        \n",
    "    if right_bucket:\n",
    "        xbound = .5+(right_bucket-num_rows/2)\n",
    "        rightRed = xPegs == xbound \n",
    "        rightGray = xPegs > xbound \n",
    "        rightBlack = xPegs < xbound \n",
    "        \n",
    "    Black = np.logical_and(leftBlack, rightBlack)\n",
    "    Red = np.logical_or(leftRed, rightRed)\n",
    "    Gray = np.logical_or(leftGray, rightGray)\n",
    "        \n",
    "    ax.scatter(xPegs[Black], yPegs[Black], color=\"black\", s=300)\n",
    "    ax.scatter(xPegs[Red], yPegs[Red], color=\"red\", s=300)\n",
    "    ax.scatter(xPegs[Gray], yPegs[Gray], color=\"gray\", s=300, alpha=0.5)\n",
    "    \n",
    "    ax.spines['right'].set_visible(False)\n",
    "    ax.spines['left'].set_visible(False)\n",
    "    ax.spines['top'].set_visible(False)\n",
    "    ax.spines['bottom'].set_visible(False)\n",
    "    plt.xticks([])\n",
    "    plt.yticks([])\n",
    "    \n",
    "    bucket = 0 \n",
    "    for x1, x2 in zip(lastRow[:-1],lastRow[1:]): \n",
    "        xBox = np.array([x1+.05, x1+.05, x2-.05, x2-.05])\n",
    "        yBox = np.array([0-.5, -2-.5, -2-.5, 0-.5])\n",
    "        color = \"black\"\n",
    "        alpha = 1.0\n",
    "        if left_bucket and bucket < left_bucket:\n",
    "            color = \"gray\"\n",
    "            alpha = 0.5\n",
    "        if right_bucket and bucket > right_bucket:\n",
    "            color = \"gray\"\n",
    "            alpha = 0.5\n",
    "        ax.plot(xBox, yBox, color=color, alpha=alpha)\n",
    "        xCen = np.mean(xBox)-.075\n",
    "        yCen = np.mean(yBox)\n",
    "        ax.text(xCen, yCen, r\"{}\".format(bucket), color=color, alpha=alpha, fontsize=16)\n",
    "        bucket+=1 \n",
    "\n",
    "plinko_board(num_rows=6, left_bucket=3, right_bucket=4)\n",
    "        "
   ]
  },
  {
   "cell_type": "markdown",
   "metadata": {},
   "source": [
    "<br>\n",
    "\n",
    "---\n",
    "### Notes\n",
    "\n",
    "<a/ id='rad'></a> 200 mSv is somewhere below Chernobyl levels of exposure, but more radiation than you would want with regard to potentially increasing your risk of cancer. It's probably too high, but it is a nice round number! More information [here](https://www.theguardian.com/news/datablog/2011/mar/15/radiation-exposure-levels-guide).\n",
    "\n",
    "[Back to Problem 2](#p2)"
   ]
  },
  {
   "cell_type": "code",
   "execution_count": null,
   "metadata": {
    "collapsed": true
   },
   "outputs": [],
   "source": []
  }
 ],
 "metadata": {
  "kernelspec": {
   "display_name": "Python 3",
   "language": "python",
   "name": "python3"
  },
  "language_info": {
   "codemirror_mode": {
    "name": "ipython",
    "version": 3
   },
   "file_extension": ".py",
   "mimetype": "text/x-python",
   "name": "python",
   "nbconvert_exporter": "python",
   "pygments_lexer": "ipython3",
   "version": "3.6.5"
  }
 },
 "nbformat": 4,
 "nbformat_minor": 2
}
