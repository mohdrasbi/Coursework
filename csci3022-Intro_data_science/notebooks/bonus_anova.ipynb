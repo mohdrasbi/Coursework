{
 "cells": [
  {
   "cell_type": "markdown",
   "metadata": {},
   "source": [
    "# Which group can hold its breath the longest?\n",
    "\n",
    "A slightly dangerous and more-than-slightly silly example in two-sample t-tests and ANOVA"
   ]
  },
  {
   "cell_type": "code",
   "execution_count": 1,
   "metadata": {},
   "outputs": [
    {
     "name": "stderr",
     "output_type": "stream",
     "text": [
      "/Users/tony/anaconda/lib/python3.6/site-packages/statsmodels/compat/pandas.py:56: FutureWarning: The pandas.core.datetools module is deprecated and will be removed in a future version. Please use the pandas.tseries module instead.\n",
      "  from pandas.core import datetools\n"
     ]
    }
   ],
   "source": [
    "import numpy as np\n",
    "import pandas as pd\n",
    "import math\n",
    "import scipy.stats as stats\n",
    "import statsmodels.api as sm \n",
    "import matplotlib.pyplot as plt\n",
    "%matplotlib inline"
   ]
  },
  {
   "cell_type": "code",
   "execution_count": 9,
   "metadata": {},
   "outputs": [
    {
     "data": {
      "text/html": [
       "<div>\n",
       "<style scoped>\n",
       "    .dataframe tbody tr th:only-of-type {\n",
       "        vertical-align: middle;\n",
       "    }\n",
       "\n",
       "    .dataframe tbody tr th {\n",
       "        vertical-align: top;\n",
       "    }\n",
       "\n",
       "    .dataframe thead th {\n",
       "        text-align: right;\n",
       "    }\n",
       "</style>\n",
       "<table border=\"1\" class=\"dataframe\">\n",
       "  <thead>\n",
       "    <tr style=\"text-align: right;\">\n",
       "      <th></th>\n",
       "      <th>do octopuses breathe???</th>\n",
       "      <th>Go Data Science</th>\n",
       "      <th>Keyboard Slappers</th>\n",
       "      <th>Octopus Eaters</th>\n",
       "      <th>take your breath away</th>\n",
       "      <th>Anon. Wolverine</th>\n",
       "      <th>The Boys</th>\n",
       "      <th>The Bold and the Breathless</th>\n",
       "      <th>Group 10 TAKEN</th>\n",
       "      <th>Group 11 taken</th>\n",
       "      <th>Taken Group</th>\n",
       "      <th>back</th>\n",
       "      <th>that one group</th>\n",
       "      <th>Group CU swim</th>\n",
       "    </tr>\n",
       "  </thead>\n",
       "  <tbody>\n",
       "    <tr>\n",
       "      <th>0</th>\n",
       "      <td>41.00</td>\n",
       "      <td>40.0</td>\n",
       "      <td>35.0</td>\n",
       "      <td>40.0</td>\n",
       "      <td>35.80</td>\n",
       "      <td>64.3</td>\n",
       "      <td>41.0</td>\n",
       "      <td>30.0</td>\n",
       "      <td>38.0</td>\n",
       "      <td>65.0</td>\n",
       "      <td>14.36</td>\n",
       "      <td>41.0</td>\n",
       "      <td>31.48</td>\n",
       "      <td>65.0</td>\n",
       "    </tr>\n",
       "    <tr>\n",
       "      <th>1</th>\n",
       "      <td>42.00</td>\n",
       "      <td>55.0</td>\n",
       "      <td>25.0</td>\n",
       "      <td>60.0</td>\n",
       "      <td>41.62</td>\n",
       "      <td>55.8</td>\n",
       "      <td>69.0</td>\n",
       "      <td>38.0</td>\n",
       "      <td>46.0</td>\n",
       "      <td>23.0</td>\n",
       "      <td>24.35</td>\n",
       "      <td>30.0</td>\n",
       "      <td>50.17</td>\n",
       "      <td>166.0</td>\n",
       "    </tr>\n",
       "    <tr>\n",
       "      <th>2</th>\n",
       "      <td>25.42</td>\n",
       "      <td>61.0</td>\n",
       "      <td>73.0</td>\n",
       "      <td>87.0</td>\n",
       "      <td>54.53</td>\n",
       "      <td>63.0</td>\n",
       "      <td>32.0</td>\n",
       "      <td>32.0</td>\n",
       "      <td>62.0</td>\n",
       "      <td>NaN</td>\n",
       "      <td>NaN</td>\n",
       "      <td>130.0</td>\n",
       "      <td>48.27</td>\n",
       "      <td>NaN</td>\n",
       "    </tr>\n",
       "    <tr>\n",
       "      <th>3</th>\n",
       "      <td>51.00</td>\n",
       "      <td>104.0</td>\n",
       "      <td>NaN</td>\n",
       "      <td>NaN</td>\n",
       "      <td>59.68</td>\n",
       "      <td>60.0</td>\n",
       "      <td>29.0</td>\n",
       "      <td>NaN</td>\n",
       "      <td>54.0</td>\n",
       "      <td>NaN</td>\n",
       "      <td>NaN</td>\n",
       "      <td>NaN</td>\n",
       "      <td>NaN</td>\n",
       "      <td>NaN</td>\n",
       "    </tr>\n",
       "    <tr>\n",
       "      <th>4</th>\n",
       "      <td>78.00</td>\n",
       "      <td>100.0</td>\n",
       "      <td>NaN</td>\n",
       "      <td>NaN</td>\n",
       "      <td>NaN</td>\n",
       "      <td>107.0</td>\n",
       "      <td>NaN</td>\n",
       "      <td>NaN</td>\n",
       "      <td>NaN</td>\n",
       "      <td>NaN</td>\n",
       "      <td>NaN</td>\n",
       "      <td>NaN</td>\n",
       "      <td>NaN</td>\n",
       "      <td>NaN</td>\n",
       "    </tr>\n",
       "  </tbody>\n",
       "</table>\n",
       "</div>"
      ],
      "text/plain": [
       "   do octopuses breathe???  Go Data Science  Keyboard Slappers  \\\n",
       "0                    41.00             40.0               35.0   \n",
       "1                    42.00             55.0               25.0   \n",
       "2                    25.42             61.0               73.0   \n",
       "3                    51.00            104.0                NaN   \n",
       "4                    78.00            100.0                NaN   \n",
       "\n",
       "   Octopus Eaters  take your breath away  Anon. Wolverine  The Boys  \\\n",
       "0            40.0                  35.80             64.3      41.0   \n",
       "1            60.0                  41.62             55.8      69.0   \n",
       "2            87.0                  54.53             63.0      32.0   \n",
       "3             NaN                  59.68             60.0      29.0   \n",
       "4             NaN                    NaN            107.0       NaN   \n",
       "\n",
       "   The Bold and the Breathless  Group 10 TAKEN   Group 11 taken  Taken Group  \\\n",
       "0                         30.0             38.0            65.0        14.36   \n",
       "1                         38.0             46.0            23.0        24.35   \n",
       "2                         32.0             62.0             NaN          NaN   \n",
       "3                          NaN             54.0             NaN          NaN   \n",
       "4                          NaN              NaN             NaN          NaN   \n",
       "\n",
       "    back  that one group  Group CU swim  \n",
       "0   41.0           31.48           65.0  \n",
       "1   30.0           50.17          166.0  \n",
       "2  130.0           48.27            NaN  \n",
       "3    NaN             NaN            NaN  \n",
       "4    NaN             NaN            NaN  "
      ]
     },
     "execution_count": 9,
     "metadata": {},
     "output_type": "execute_result"
    }
   ],
   "source": [
    "df = pd.read_csv('holding_breath.csv')\n",
    "df.head()"
   ]
  },
  {
   "cell_type": "markdown",
   "metadata": {},
   "source": [
    "## ANOVA F-test\n",
    "\n",
    "$$F = \\dfrac{SSB/df_{SSB}}{SSW/df_{SSW}}$$"
   ]
  },
  {
   "cell_type": "code",
   "execution_count": 10,
   "metadata": {},
   "outputs": [
    {
     "data": {
      "text/plain": [
       "(8, 14)"
      ]
     },
     "execution_count": 10,
     "metadata": {},
     "output_type": "execute_result"
    }
   ],
   "source": [
    "df.shape"
   ]
  },
  {
   "cell_type": "code",
   "execution_count": 3,
   "metadata": {
    "collapsed": true
   },
   "outputs": [],
   "source": [
    "I = len(df.columns)"
   ]
  },
  {
   "cell_type": "code",
   "execution_count": 13,
   "metadata": {},
   "outputs": [],
   "source": [
    "N = np.sum(df.count())"
   ]
  },
  {
   "cell_type": "code",
   "execution_count": 14,
   "metadata": {
    "collapsed": true
   },
   "outputs": [],
   "source": [
    "df_SSB = I-1\n",
    "df_SSW = N-I"
   ]
  },
  {
   "cell_type": "code",
   "execution_count": 15,
   "metadata": {},
   "outputs": [
    {
     "data": {
      "text/plain": [
       "(13, 37)"
      ]
     },
     "execution_count": 15,
     "metadata": {},
     "output_type": "execute_result"
    }
   ],
   "source": [
    "df_SSB, df_SSW"
   ]
  },
  {
   "cell_type": "markdown",
   "metadata": {},
   "source": [
    "$$SSB = \\sum_{i=1}^I n_i (\\bar{y}_i - \\bar{\\bar{y}})^2$$"
   ]
  },
  {
   "cell_type": "code",
   "execution_count": 18,
   "metadata": {},
   "outputs": [
    {
     "name": "stdout",
     "output_type": "stream",
     "text": [
      "54.14404761904762\n"
     ]
    }
   ],
   "source": [
    "grand_mean = df.mean().mean(); print(grand_mean)"
   ]
  },
  {
   "cell_type": "code",
   "execution_count": 23,
   "metadata": {},
   "outputs": [
    {
     "name": "stdout",
     "output_type": "stream",
     "text": [
      "16898.53836054422\n"
     ]
    }
   ],
   "source": [
    "SSB = 0\n",
    "for grp in df.columns:\n",
    "    SSB += df[grp].count()*(df[grp].mean() - grand_mean)**2\n",
    "print(SSB)"
   ]
  },
  {
   "cell_type": "markdown",
   "metadata": {},
   "source": [
    "$$SSW = \\sum_{i=1}^I \\sum_{j=1}^{n_i} (y_{ij} - \\bar{y}_i)^2$$"
   ]
  },
  {
   "cell_type": "code",
   "execution_count": 24,
   "metadata": {},
   "outputs": [
    {
     "name": "stdout",
     "output_type": "stream",
     "text": [
      "23284.745941666664\n"
     ]
    }
   ],
   "source": [
    "SSW = 0\n",
    "for grp in df.columns:\n",
    "    for j in range(df[grp].count()):\n",
    "        SSW += (df[grp][j] - df[grp].mean())**2\n",
    "print(SSW)"
   ]
  },
  {
   "cell_type": "code",
   "execution_count": 25,
   "metadata": {},
   "outputs": [
    {
     "name": "stdout",
     "output_type": "stream",
     "text": [
      "2.065551415924045\n"
     ]
    }
   ],
   "source": [
    "# test statistic:\n",
    "\n",
    "F = (SSB/df_SSB)/(SSW/df_SSW)\n",
    "print(F)"
   ]
  },
  {
   "cell_type": "code",
   "execution_count": 26,
   "metadata": {},
   "outputs": [
    {
     "name": "stdout",
     "output_type": "stream",
     "text": [
      "0.042091275630777414\n"
     ]
    }
   ],
   "source": [
    "pval = 1 - stats.f.cdf(F, dfn=df_SSB, dfd=df_SSW)\n",
    "print(pval)"
   ]
  },
  {
   "cell_type": "markdown",
   "metadata": {},
   "source": [
    "4% probability of observing the differences we saw (or anythign more extreme), if H0 is true (in a world where there is no difference between the groups)"
   ]
  },
  {
   "cell_type": "markdown",
   "metadata": {},
   "source": [
    "## Is there a significant difference between two groups?"
   ]
  },
  {
   "cell_type": "markdown",
   "metadata": {},
   "source": [
    "two sample t-test:\n",
    "\n",
    "H0: $\\mu_1 = \\mu_2$\n",
    "\n",
    "H1: $\\mu_1 \\neq \\mu_2$"
   ]
  },
  {
   "cell_type": "code",
   "execution_count": 27,
   "metadata": {},
   "outputs": [
    {
     "data": {
      "text/plain": [
       "Index(['do octopuses breathe???', 'Go Data Science', 'Keyboard Slappers',\n",
       "       'Octopus Eaters', 'take your breath away', 'Anon. Wolverine',\n",
       "       'The Boys', 'The Bold and the Breathless', 'Group 10 TAKEN ',\n",
       "       'Group 11 taken', 'Taken Group', 'back', 'that one group',\n",
       "       'Group CU swim'],\n",
       "      dtype='object')"
      ]
     },
     "execution_count": 27,
     "metadata": {},
     "output_type": "execute_result"
    }
   ],
   "source": [
    "df.columns"
   ]
  },
  {
   "cell_type": "code",
   "execution_count": 30,
   "metadata": {},
   "outputs": [
    {
     "name": "stdout",
     "output_type": "stream",
     "text": [
      "16.549856926442423\n"
     ]
    }
   ],
   "source": [
    "stderr1 = df[grp1].std(ddof=1)\n",
    "print(stderr1)"
   ]
  },
  {
   "cell_type": "code",
   "execution_count": 31,
   "metadata": {
    "collapsed": true
   },
   "outputs": [],
   "source": [
    "grp1 = 'do octopuses breathe???'\n",
    "grp2 = 'Anon. Wolverine'\n",
    "mu1 = df[grp1].mean()\n",
    "mu2 = df[grp2].mean()\n",
    "stderr1 = df[grp1].std()\n",
    "stderr2 = df[grp2].std()\n",
    "n1 = df[grp1].count()\n",
    "n2 = df[grp2].count()"
   ]
  },
  {
   "cell_type": "code",
   "execution_count": 33,
   "metadata": {},
   "outputs": [
    {
     "name": "stdout",
     "output_type": "stream",
     "text": [
      "-2.159983301008341\n"
     ]
    }
   ],
   "source": [
    "t = (mu1-mu2)/np.sqrt(stderr1**2/n1 + stderr2**2/n2)\n",
    "print(t)"
   ]
  },
  {
   "cell_type": "code",
   "execution_count": 34,
   "metadata": {},
   "outputs": [
    {
     "name": "stdout",
     "output_type": "stream",
     "text": [
      "0.053705850819399596\n"
     ]
    }
   ],
   "source": [
    "pval = 2*stats.t.cdf(t, df=(n1+n2-2))\n",
    "print(pval)"
   ]
  },
  {
   "cell_type": "code",
   "execution_count": null,
   "metadata": {
    "collapsed": true
   },
   "outputs": [],
   "source": [
    "df = (n1-1) + (n2-1) = n1+n2-2"
   ]
  },
  {
   "cell_type": "code",
   "execution_count": null,
   "metadata": {
    "collapsed": true
   },
   "outputs": [],
   "source": []
  }
 ],
 "metadata": {
  "kernelspec": {
   "display_name": "Python 3",
   "language": "python",
   "name": "python3"
  },
  "language_info": {
   "codemirror_mode": {
    "name": "ipython",
    "version": 3
   },
   "file_extension": ".py",
   "mimetype": "text/x-python",
   "name": "python",
   "nbconvert_exporter": "python",
   "pygments_lexer": "ipython3",
   "version": "3.6.5"
  }
 },
 "nbformat": 4,
 "nbformat_minor": 2
}
