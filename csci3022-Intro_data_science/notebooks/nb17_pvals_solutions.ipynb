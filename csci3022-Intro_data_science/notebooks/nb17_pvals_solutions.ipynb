{
 "cells": [
  {
   "cell_type": "markdown",
   "metadata": {},
   "source": [
    "# Lecture 17: Introduction to P-Values Solutions\n",
    "***\n",
    "\n",
    "We'll need Numpy, Matplotlib, Pandas, and scipy.stats for this notebook, so let's load them. "
   ]
  },
  {
   "cell_type": "code",
   "execution_count": 1,
   "metadata": {
    "collapsed": true
   },
   "outputs": [],
   "source": [
    "import numpy as np \n",
    "from scipy import stats\n",
    "import pandas as pd\n",
    "import matplotlib.pylab as plt \n",
    "%matplotlib inline"
   ]
  },
  {
   "cell_type": "markdown",
   "metadata": {},
   "source": [
    "### Exercise 1 - Estimating the Distribution of P-Values \n",
    "*** \n",
    "\n",
    "Suppose you have a population that is normally distributed with mean $\\mu_0$ and standard deviation $\\sigma$. In this problem you will simulate many draws from this distribution with a particular sample size and compute p-values for the alternate hypothesis that that $\\mu \\neq \\mu_0$.  Plot a histogram of the sampled p-values. Set the bin width to be equal to the significance level $\\alpha$. What can you say about the distribution of p-values in the case where the Null hypothesis is actually true?  About what proportion of the sampled p-values are such that $p \\leq \\alpha$?      "
   ]
  },
  {
   "cell_type": "code",
   "execution_count": 2,
   "metadata": {},
   "outputs": [
    {
     "data": {
      "image/png": "[encoded data removed]",
      "text/plain": [
       "<matplotlib.figure.Figure at 0x11443d438>"
      ]
     },
     "metadata": {},
     "output_type": "display_data"
    }
   ],
   "source": [
    "def pvalue_dist(num_tests=10000, sample_size=100, mu0=20, sig=2, alpha=0.05):\n",
    "    \n",
    "    fig, ax = plt.subplots(nrows=1, ncols=1, figsize=(12,4))\n",
    "    bins = np.linspace(0, 1, int(1/alpha)+1)\n",
    "    ps = np.zeros(num_tests)\n",
    "    for ii in range(num_tests):\n",
    "        xbar = np.mean(stats.norm.rvs(mu0,sig,size=sample_size))\n",
    "        z = (xbar-mu0)/(sig/np.sqrt(sample_size))\n",
    "        ps[ii] = 2*np.min([stats.norm.cdf(z), 1-stats.norm.cdf(z)])\n",
    "    pd.Series(ps).hist(ax=ax, color=\"steelblue\", edgecolor=\"white\", bins=bins, normed=True)\n",
    "    ax.grid(alpha=0.25)\n",
    "    ax.set_axisbelow(True)\n",
    "    \n",
    "pvalue_dist(num_tests=int(1e5), sample_size=500)"
   ]
  },
  {
   "cell_type": "markdown",
   "metadata": {},
   "source": [
    "When the null hypothesis is true, the distribution of p-values is is uniform.  Since the bin width is equal to the significance level $\\alpha$ we know that the the proportion of p-values that are less than or equal to $\\alpha$ is exactly $\\alpha$. "
   ]
  }
 ],
 "metadata": {
  "kernelspec": {
   "display_name": "Python 3",
   "language": "python",
   "name": "python3"
  },
  "language_info": {
   "codemirror_mode": {
    "name": "ipython",
    "version": 3
   },
   "file_extension": ".py",
   "mimetype": "text/x-python",
   "name": "python",
   "nbconvert_exporter": "python",
   "pygments_lexer": "ipython3",
   "version": "3.6.1"
  }
 },
 "nbformat": 4,
 "nbformat_minor": 2
}
