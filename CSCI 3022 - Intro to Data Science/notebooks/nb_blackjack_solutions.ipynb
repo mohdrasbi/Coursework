{
 "cells": [
  {
   "cell_type": "markdown",
   "metadata": {},
   "source": [
    "# Blackjack simulation\n",
    "***\n",
    "\n",
    "We'll need Numpy and Matplotlib for this notebook, so let's load them. "
   ]
  },
  {
   "cell_type": "code",
   "execution_count": 1,
   "metadata": {},
   "outputs": [],
   "source": [
    "import numpy as np \n",
    "import matplotlib.pylab as plt \n",
    "%matplotlib inline"
   ]
  },
  {
   "cell_type": "markdown",
   "metadata": {},
   "source": [
    "## The problem\n",
    "\n",
    "Octavius O'Flaherty are playing blackjack up at an octopus-themed casino in Blackhawk, Colorado. \n",
    "\n",
    "In the simplified version of blackjack that he is playing, here are the rules:\n",
    "1. Cards are worth face values (2, 3, ... , 10), face cards (J, Q, K) are worth 10, and Aces are worth either 11 or 1.\n",
    "2. The dealer gives Octavius two cards, then herself two cards.\n",
    "3. Octavius is allowed to draw a new card repeatedly (\"hit\") to try and get a card total as close to 21 as he can without going over (\"busting\").\n",
    "4. The dealer will then do the same. The dealer must always \"hit\" if her card total is 16 or less.\n",
    "5. If Octavius goes over 21, he loses, even if the dealer also busts.\n",
    "6. If neither player busts, then whoever gets closest to 21 wins. The dealer wins draws.\n",
    "\n",
    "Octavius is facing a common challenge among blackjack players: when you have a hand of 16 or 17, do you hit or stand?\n",
    "\n",
    "## Some other details\n",
    "\n",
    "In casinos, including the one Octavius happens to be in, the dealer has many decks of cards all shuffled together. There are so many decks, in fact, that we can consider the dealer to have an infinite reservoir of cards, such that the probability of obtaining any given card in a single draw is equal to the probability of obtaining that card from a single full deck of 52 cards.\n",
    "\n",
    "Note that in blackjack, we do not care about suit.\n",
    "\n",
    "## The big question\n",
    "\n",
    "**Is Octavius more likely to win if he adopts a strategy where he stands on a 16 or higher, or if he adopts a strategy where he stands on a 17 or higher?**"
   ]
  },
  {
   "cell_type": "markdown",
   "metadata": {},
   "source": [
    "# The plan\n",
    "\n",
    "1. We get 2 cards\n",
    "\n",
    "2. Dealer gets 2 cards\n",
    "\n",
    "3. We decide to hit or stay until we stay or bust\n",
    "\n",
    "4. Same as 3, but for the dealer.\n",
    "\n",
    "5. Who won?"
   ]
  },
  {
   "cell_type": "markdown",
   "metadata": {},
   "source": [
    "# Functions that seem useful\n",
    "\n",
    "- *Get a card*. This should be a uniform draw from all possible cards. Suit doesn't matter. Inputs: none. Outputs: a card. \n",
    "\n",
    "- *Decide if we hit*. Inputs: cards that you have and the value of the cutoff. Note: we can have both the player and dealer strategies all rolled into one function, where we just pass a different value of that cutoff parameter. Output: bool, True if we hit. False if we don't hit. \n",
    "\n",
    "- *Get winner*. Inputs: cards of player, cards of dealer. Output: winner.\n",
    "\n",
    "- *Play game*. Goes through the plan above, and returns the winner. "
   ]
  },
  {
   "cell_type": "code",
   "execution_count": 2,
   "metadata": {},
   "outputs": [],
   "source": [
    "def get_a_card():\n",
    "    # draw uniformly at random from cards. \n",
    "    deck = [2,3,4,5,6,7,8,9,10,10,10,10,11]\n",
    "    return np.random.choice(deck)"
   ]
  },
  {
   "cell_type": "code",
   "execution_count": 32,
   "metadata": {},
   "outputs": [],
   "source": [
    "def decide_if_we_hit(my_cards,my_cutoff):\n",
    "    total = np.sum(my_cards)\n",
    "    if (total < my_cutoff):\n",
    "        return True\n",
    "    else:\n",
    "        if (total <= 21):\n",
    "            return False\n",
    "        else:\n",
    "            if (11 in my_cards):\n",
    "                # do something smart with the ace... treat like 1\n",
    "                my_cards[my_cards.index(11)] = 1\n",
    "                # recursive something something.\n",
    "                return decide_if_we_hit(my_cards,my_cutoff)\n",
    "            else:\n",
    "                # we're over 21, have no aces... lose :(\n",
    "                return False"
   ]
  },
  {
   "cell_type": "code",
   "execution_count": 45,
   "metadata": {},
   "outputs": [],
   "source": [
    "def did_we_win(our_cards,dealer_cards):\n",
    "    our_sum = np.sum(our_cards)\n",
    "    dealer_sum = np.array(dealer_cards).sum()\n",
    "    if (our_sum > 21):\n",
    "        return False\n",
    "    else:\n",
    "        if (dealer_sum > 21):\n",
    "            return True\n",
    "        else:\n",
    "            # both our hand and dealer are under 21...\n",
    "            if (our_sum > dealer_sum):\n",
    "                return True\n",
    "            else:\n",
    "                # note: if sums are equal, we are here, and return false\n",
    "                # because ties go to the dealer.\n",
    "                return False\n",
    "    "
   ]
  },
  {
   "cell_type": "code",
   "execution_count": 57,
   "metadata": {},
   "outputs": [],
   "source": [
    "def play_blackjack(isVerbose=False):\n",
    "    # Step 1 we get two cards\n",
    "    our_cards = [get_a_card() for i in range(2)]\n",
    "    if isVerbose:\n",
    "        print(\"Us:\",our_cards)\n",
    "    # Step 2 dealer gets two cards\n",
    "    dealer_cards = [get_a_card() for i in range(2)]\n",
    "    if isVerbose:\n",
    "        print(\"Dealer:\",dealer_cards)\n",
    "    # Step 3. We decide to hit or stay until we stay or bust\n",
    "    while (decide_if_we_hit(our_cards,16)):\n",
    "        our_cards.append(get_a_card())\n",
    "    # Step 4. We decide to hit or stay until we stay or bust\n",
    "    while (decide_if_we_hit(dealer_cards,17)):\n",
    "        dealer_cards.append(get_a_card())\n",
    "    if isVerbose:\n",
    "        print(\"Us final:\",our_cards)\n",
    "        print(\"Dealer final:\",dealer_cards)\n",
    "    # step 5 who won?\n",
    "    return did_we_win(our_cards,dealer_cards)"
   ]
  },
  {
   "cell_type": "code",
   "execution_count": 59,
   "metadata": {},
   "outputs": [
    {
     "name": "stdout",
     "output_type": "stream",
     "text": [
      "Us: [10, 7]\n",
      "Dealer: [2, 10]\n",
      "Us final: [10, 7]\n",
      "Dealer final: [2, 10, 10]\n"
     ]
    },
    {
     "data": {
      "text/plain": [
       "True"
      ]
     },
     "execution_count": 59,
     "metadata": {},
     "output_type": "execute_result"
    }
   ],
   "source": [
    "play_blackjack(isVerbose=True)"
   ]
  },
  {
   "cell_type": "markdown",
   "metadata": {},
   "source": [
    "### Let's conduct an experiment!"
   ]
  },
  {
   "cell_type": "code",
   "execution_count": 60,
   "metadata": {},
   "outputs": [
    {
     "name": "stdout",
     "output_type": "stream",
     "text": [
      "wins 4114\n",
      "losses 5886\n"
     ]
    }
   ],
   "source": [
    "wins = 0\n",
    "losses = 0 \n",
    "for i in range(10000):\n",
    "    if (play_blackjack()):\n",
    "        wins +=1\n",
    "    else:\n",
    "        losses +=1\n",
    "print(\"wins\",wins)\n",
    "print(\"losses\",losses)"
   ]
  }
 ],
 "metadata": {
  "kernelspec": {
   "display_name": "Python 3",
   "language": "python",
   "name": "python3"
  },
  "language_info": {
   "codemirror_mode": {
    "name": "ipython",
    "version": 3
   },
   "file_extension": ".py",
   "mimetype": "text/x-python",
   "name": "python",
   "nbconvert_exporter": "python",
   "pygments_lexer": "ipython3",
   "version": "3.7.0"
  }
 },
 "nbformat": 4,
 "nbformat_minor": 2
}
