{
 "cells": [
  {
   "cell_type": "markdown",
   "metadata": {},
   "source": [
    "# Blackjack simulation\n",
    "***\n",
    "\n",
    "We'll need Numpy and Matplotlib for this notebook, so let's load them. "
   ]
  },
  {
   "cell_type": "code",
   "execution_count": null,
   "metadata": {},
   "outputs": [],
   "source": [
    "import numpy as np \n",
    "import matplotlib.pylab as plt \n",
    "%matplotlib inline"
   ]
  },
  {
   "cell_type": "markdown",
   "metadata": {},
   "source": [
    "## The problem\n",
    "\n",
    "Octavius O'Flaherty are playing blackjack up at an octopus-themed casino in Blackhawk, Colorado. \n",
    "\n",
    "In the simplified version of blackjack that he is playing, here are the rules:\n",
    "1. Cards are worth face values (2, 3, ... , 10), face cards (J, Q, K) are worth 10, and Aces are worth either 11 or 1.\n",
    "2. The dealer gives Octavius two cards, then herself two cards.\n",
    "3. Octavius is allowed to draw a new card repeatedly (\"hit\") to try and get a card total as close to 21 as he can without going over (\"busting\").\n",
    "4. The dealer will then do the same. The dealer must always \"hit\" if her card total is 16 or less.\n",
    "5. If Octavius goes over 21, he loses, even if the dealer also busts.\n",
    "6. If neither player busts, then whoever gets closest to 21 wins. The dealer wins draws.\n",
    "\n",
    "Octavius is facing a common challenge among blackjack players: when you have a hand of 16 or 17, do you hit or stand?\n",
    "\n",
    "## Some other details\n",
    "\n",
    "In casinos, including the one Octavius happens to be in, the dealer has many decks of cards all shuffled together. There are so many decks, in fact, that we can consider the dealer to have an infinite reservoir of cards, such that the probability of obtaining any given card in a single draw is equal to the probability of obtaining that card from a single full deck of 52 cards.\n",
    "\n",
    "Note that in blackjack, we do not care about suit.\n",
    "\n",
    "## The big question\n",
    "\n",
    "**Is Octavius more likely to win if he adopts a strategy where he stands on a 16 or higher, or if he adopts a strategy where he stands on a 17 or higher?**"
   ]
  },
  {
   "cell_type": "code",
   "execution_count": null,
   "metadata": {},
   "outputs": [],
   "source": []
  },
  {
   "cell_type": "code",
   "execution_count": null,
   "metadata": {},
   "outputs": [],
   "source": []
  },
  {
   "cell_type": "code",
   "execution_count": null,
   "metadata": {},
   "outputs": [],
   "source": []
  },
  {
   "cell_type": "code",
   "execution_count": null,
   "metadata": {},
   "outputs": [],
   "source": []
  },
  {
   "cell_type": "code",
   "execution_count": null,
   "metadata": {},
   "outputs": [],
   "source": []
  }
 ],
 "metadata": {
  "kernelspec": {
   "display_name": "Python 3",
   "language": "python",
   "name": "python3"
  },
  "language_info": {
   "codemirror_mode": {
    "name": "ipython",
    "version": 3
   },
   "file_extension": ".py",
   "mimetype": "text/x-python",
   "name": "python",
   "nbconvert_exporter": "python",
   "pygments_lexer": "ipython3",
   "version": "3.6.1"
  }
 },
 "nbformat": 4,
 "nbformat_minor": 2
}
