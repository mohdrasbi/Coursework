{
 "cells": [
  {
   "cell_type": "markdown",
   "metadata": {},
   "source": [
    "<a/ id='top'></a>\n",
    "# Homework 2: Introduction to Probability and Simulation \n",
    "***\n",
    "\n",
    "**Name**: Mohamed Al-Rasbi\n",
    "\n",
    "***\n",
    "\n",
    "This assignment is due on Moodle by **5 PM on Friday September 28**. Your solutions to theoretical questions should be done in Markdown/MathJax directly below the associated question.  Your solutions to computational questions should include any specified Python code and results as well as written commentary on your conclusions.  Remember that you are encouraged to discuss the problems with your instructors and classmates, but **you must write all code and solutions on your own**. \n",
    "\n",
    "**NOTES**: \n",
    "\n",
    "- It is **bad form** to make your reader interpret numerical output from your code.  If a question asks you to compute some value from the data you should show your code output **AND** write a summary of the results in Markdown directly below your code.\n",
    "- Because you can technically evaluate notebook cells in a non-linear order, it's a good idea to do Cell $\\rightarrow$ Run All as a check before submitting your solutions.  That way if we need to run your code you will know that it will work as expected.\n",
    "- Leave all of your code cells executed and the output displayed before submitting your final notebook. That way, we do not need to re-run all of the simulations, which can be time-consuming.\n",
    "- Submit only this Jupyter notebook to Moodle.  Do not compress it using tar, rar, zip, etc. \n",
    "\n",
    "---\n",
    "**Shortcuts:**  [Problem 1](#p1) | [Problem 2](#p2) | [Problem 3](#p3) | [Problem 4](#p4) | [Problem 5](#p5) | [Challenge!](#ch)\n",
    "\n",
    "---"
   ]
  },
  {
   "cell_type": "code",
   "execution_count": 1,
   "metadata": {
    "scrolled": true
   },
   "outputs": [],
   "source": [
    "import pandas as pd\n",
    "import numpy as np\n",
    "import matplotlib.pylab as plt\n",
    "%matplotlib inline"
   ]
  },
  {
   "cell_type": "markdown",
   "metadata": {},
   "source": [
    "***\n",
    "<a/ id='p1'></a>\n",
    "[Back to top](#top)\n",
    "\n",
    "### [20 points] Problem 1\n",
    "\n",
    "To play a game, you have a bag containing 28 fair [four-sided dice](https://en.wikipedia.org/wiki/Four-sided_die), with faces `{1,2,3,4}`.  This bag also contains 10 fair six-sided dice (faces `{1,2,3,4,5,6}`) and 2 fair twenty-sided dice (faces `{1,2,3,4,...,19,20}`).  Call these 3 classes of die \"Four\", \"Six\" and \"Twenty\" (or F, S, and T, for short).  You grab one die at random from the box.  \n",
    "\n",
    "Work the following problems by hand unless otherwise stated (but don't be afraid to simulate to check your result!). "
   ]
  },
  {
   "cell_type": "markdown",
   "metadata": {},
   "source": [
    "**Part A**: You roll your die one time.  What is the probability of the event $R_5$, that you roll a 5?  Include at least 4 decimal places in your answer."
   ]
  },
  {
   "cell_type": "markdown",
   "metadata": {},
   "source": [
    "$P(R_5) = P(R_5 | F)P(F) + P(R_5 | S)P(S) + P(R_5 | T)P(T)$\n",
    "<br><br>\n",
    "$P(R_5) = 0 * \\frac{28}{40} + \\frac{1}{6} * \\frac{10}{40} + \\frac{1}{20} * \\frac{2}{40}$\n",
    "<br><br>\n",
    "$P(R_5) = \\frac{1}{24} + \\frac{1}{400} = 0.044166$"
   ]
  },
  {
   "cell_type": "markdown",
   "metadata": {},
   "source": [
    "**Part B**: Suppose you roll a 5.  What is the probability that the die you chose from the box is a Six-sided die? "
   ]
  },
  {
   "cell_type": "markdown",
   "metadata": {},
   "source": [
    "$P(S | R_5) = \\frac{P(R_5 | S)P(S)}{P(R_5)}$\n",
    "<br><br>\n",
    "$P(S | R_5) = \\frac{(1/6)(1/4)}{(1/24) + (1/400)} = \\frac{(1/24)}{(1/24) + (1/400)} = \\frac{1}{1 + (24/400)} = \\frac{400}{424} = 0.943396$"
   ]
  },
  {
   "cell_type": "markdown",
   "metadata": {},
   "source": [
    "**Part C:**  Are the events $R_5$ and $S$ independent?  Justify your answer **using math**."
   ]
  },
  {
   "cell_type": "markdown",
   "metadata": {},
   "source": [
    "1. $P(R_5 \\cap S) = P(R_5 | S)P(S) = \\frac{1}{6}*\\frac{1}{4} = \\frac{1}{24}$\n",
    "<br><br>\n",
    "2. $P(R_5)P(S) = (\\frac{1}{24}+\\frac{1}{400})(\\frac{1}{4}) = (\\frac{53}{1200})(\\frac{1}{4}) = \\frac{53}{4800}$\n",
    "<br><br>\n",
    "Since $P(R_5 \\cap S) \\neq P(R_5)P(S)$, then $R_5$ and $S$ are **dependent**"
   ]
  },
  {
   "cell_type": "markdown",
   "metadata": {},
   "source": [
    "**Part D:**  Suppose you roll your die $n$ times and record each outcome.  Obviously, if you roll 5 or 6 you know you did *not* pick a Four-sided die, and if you roll a 7 or higher, you must have picked a Twenty-sided die.\n",
    "\n",
    "But, if you roll $n$ times in a row and get only 1, 2, 3 or 4, you would have a stronger belief that you in fact grabbed one of the Four-sided dice.  Let $E_n$ be the event that you roll $n$ rolls of 1, 2, 3 or 4 in a row.  For example, one outcome in $E_3$ is the sequence 2, 3, 1.\n",
    "\n",
    "Given that you roll a single value of 1, 2, 3 or 4, what is the probability that you have grabbed a Four-sided die?  That is, calculate **by hand** $P(F \\mid E_1)$."
   ]
  },
  {
   "cell_type": "markdown",
   "metadata": {},
   "source": [
    "$P(F | E_1) = \\frac{P(F \\cap E_1)}{P(E_1)} = \\frac{P(E_1 | F)P(F)}{P(E_1)}$\n",
    "<br><br>\n",
    "\n",
    "$P(F | E_1) = \\frac{P(E_1 | F)P(F)}{P(E_1 | F)P(F) + P(E_1 | S)P(S) + P(E_1 | T)P(T)}$\n",
    "<br><br>\n",
    "\n",
    "Plug in the numbers:<br>\n",
    "$(F | E_1) = \\frac{1*\\frac{28}{40}}{1*\\frac{28}{40} + \\frac{4}{6}*\\frac{10}{40} + \\frac{4}{20}*\\frac{2}{40}} = \\frac{\\frac{7}{10}}{\\frac{7}{10} + \\frac{2}{3}*\\frac{1}{4} + \\frac{1}{5}*\\frac{1}{20}} = \\frac{\\frac{7}{10}}{\\frac{7}{10} + \\frac{1}{6} + \\frac{1}{100}} = 0.798479$"
   ]
  },
  {
   "cell_type": "markdown",
   "metadata": {},
   "source": [
    "**Part E**:  \n",
    "\n",
    "First, work out **by hand** a formula for the probability in general that you are rolling a Four-sided die, given that you have rolled $n$ values in a row that are 1, 2, 3 or 4 (that is, $E_n$).  So you want a formula for $P(F \\mid E_n)$ in terms of $n$.\n",
    "\n",
    "Then, define a function `prob_four` to calculate $P(F \\mid E_n)$.  This function should only take one positive integer argument, $n$.\n",
    "\n",
    "Verify that your function is performing as expected by checking your answer to **Part D**."
   ]
  },
  {
   "cell_type": "markdown",
   "metadata": {},
   "source": [
    "The only two values that will change in $P(F | E_1)$ formula to get $P(F | E_n)$ are: <br><br>\n",
    "$P(E_1 | S)$ and $P(E_1 | T)$, such that: <br>\n",
    "[1] $P(E_2 | S) = P(E_1 | S)*P(E_1 | S)$ and $P(E_3 | S) = P(E_1 | S)*P(E_1 | S)*P(E_1 | S)$<br>\n",
    "[2] And the same thing applys for $P(E_n | T)$\n",
    "<br><br>\n",
    "**Hence,**<br>\n",
    "$P(E_n | S) = P(E_1 | S)^n$<br>\n",
    "$P(E_n | T) = P(E_1 | T)^n$<br><br>\n",
    "Taking that into consideration: <br><br>\n",
    "$P(F | E_n) = \\frac{P(E_1 | F)P(F)}{P(E_1 | F)P(F) + P(E_1 | S)^nP(E_1 | T)^nP(F^c)}$\n",
    "<br><br>\n",
    "**Plug in the constant values** <br>\n",
    "$P(F | E_n) = \\frac{0.7}{0.7 + 0.25(\\frac{2}{3})^n + 0.05(\\frac{1}{5})^n}$"
   ]
  },
  {
   "cell_type": "code",
   "execution_count": 2,
   "metadata": {},
   "outputs": [
    {
     "name": "stdout",
     "output_type": "stream",
     "text": [
      "P(F | E_1) = 0.798479\n"
     ]
    }
   ],
   "source": [
    "def prob_four(n):\n",
    "\n",
    "    final_answer = (0.7 / (0.7 + (0.25 * (2/3)**n) + (0.05 * (1/5)**n)))\n",
    "    return final_answer\n",
    "\n",
    "print(\"P(F | E_1) = {:.6f}\".format(prob_four(1)))\n",
    "    "
   ]
  },
  {
   "cell_type": "markdown",
   "metadata": {},
   "source": [
    "**Part F:**  What is the smallest value of $n$ successive rolls of 1, 2, 3 or 4 that would make you believe that there's a better-than-95% chance that the die you grabbed is Four-sided?  Plugging larger and larger values for $n$ into your `prob_four` function is a very reasonable way to check this."
   ]
  },
  {
   "cell_type": "code",
   "execution_count": 3,
   "metadata": {},
   "outputs": [
    {
     "name": "stdout",
     "output_type": "stream",
     "text": [
      "P(F | E_1) = 0.79847908745247153650\n",
      "P(F | E_2) = 0.86089095381251701244\n",
      "P(F | E_3) = 0.90383916445090584091\n",
      "P(F | E_4) = 0.93400243268922855666\n",
      "P(F | E_5) = 0.95506056555037144307\n",
      "P(F | E_6) = 0.96959479028932782363\n",
      "P(F | E_7) = 0.97952436430951306257\n",
      "P(F | E_8) = 0.98625618393587022315\n",
      "P(F | E_9) = 0.99079537043119725315\n"
     ]
    }
   ],
   "source": [
    "for i in range(1, 10):\n",
    "    print(\"P(F | E_{}) = {:.20f}\".format(i, prob_four(i)))"
   ]
  },
  {
   "cell_type": "markdown",
   "metadata": {},
   "source": [
    "n = 5 is the smallest value to get better-than-95% "
   ]
  },
  {
   "cell_type": "markdown",
   "metadata": {},
   "source": [
    "***\n",
    "<a/ id='p2'></a>\n",
    "[Back to top](#top)\n",
    "\n",
    "### [20 points] Problem 2\n",
    "\n",
    "Oscar and Stella are two average young adult octopuses. They work hard, but they also like to blow off a little steam after work. When they leave work from the CU Engineering Center ($E~$), they each head for one of five other locations: the Gym to get strong ($G~$), the Library to get learned ($L~$), the Boulder Reservoir to have a nice swim ($R$), the Hill to have a sandwich ($H~$), or to Brewing Market to have a nice Coffee ($C~$).  \n",
    "\n",
    "Here are some rules governing their movements throughout the fair city of Boulder:\n",
    "* When Oscar and/or Stella is leaving one location, they randomly select one of the available adjacent locations, with equal probability.\n",
    "* This includes back-tracking, but note that to return to their original location would require 2 moves.\n",
    "* Assume that all moves require the same amount of time.\n",
    "* They are also not allowed to stay put; they always must move to some *other* adjacent location.\n",
    "* Oscar and Stella, being the think-for-yourselfers that they are, also act **independently** of one another. That is, the probability that Oscar goes from one place to another is independent of the probability of Stella's movements.\n",
    "* As we learned from your answers to Problem 5 of Homework 1, Stella and Oscar of course prefer to *walk* from place to place, as opposed to swim... because one of an octopus' *three* hearts will stop beating when it swims. Yowza!\n",
    "\n",
    "<img src=\"http://www.cs.colorado.edu/~tonyewong/home/resources/chris_and_dan_statespace.png\" style=\"width: 300px;\"/>"
   ]
  },
  {
   "cell_type": "markdown",
   "metadata": {},
   "source": [
    "**Part A**: Oscar, being a learned octopus, wants to go to the library, but also wants to make a stop somewhere else first, for he has octopus errands to run. Compute (by hand) the probability that Oscar ends up at the the Library ($L$) after first visiting one other location, after he is initially at the Engineering Center ($E$). "
   ]
  },
  {
   "cell_type": "markdown",
   "metadata": {},
   "source": [
    "We want to find the prabability of Oscar going to the libary as his second place, which is $P(L_2)$. <br>\n",
    "So before he goes to the libary, he should go to one of the other places ($G_1, R_1, C_1, or H_1$). <br>\n",
    "Using LTP and keeping in mind that to go to the library as his second location, he should go first to a location that is adjacent to the library.<br><br>\n",
    "\n",
    "$P(L_2) = P(L_2 | R_1)P(R_1) + P(L_2 | G_1)P(G_1) + P(L_2 | H_1)P(H_1) + P(L_2 | C_1)P(C_1)$ <br>\n",
    "$P(L_2) = 0*\\frac{1}{4} + \\frac{1}{4}*\\frac{1}{4} + \\frac{1}{3}*0 + \\frac{1}{3}*\\frac{1}{4}$ <br>\n",
    "$P(L_2) = 0 + \\frac{1}{16} + 0 + \\frac{1}{12} = \\frac{7}{48} = 0.1458333$"
   ]
  },
  {
   "cell_type": "markdown",
   "metadata": {},
   "source": [
    "**Part B**: Stella, on the other tentacle, is a body-building octopus. This is quite the feat given her lack of bones! Compute (by hand) the probability that Stella ends up at the Gym _either_ as her first _or_ second location visited after leaving the Reservsoir. (Again, assume that Stella wanders the streets of Boulder randomly using the same rules described above.)"
   ]
  },
  {
   "cell_type": "markdown",
   "metadata": {},
   "source": [
    "Stella going to the Gym either as her first **or** the second location means: $P(G_1 \\cup G_2)$ <br>\n",
    "$P(G_1 \\cup G_2) = P(G_1) + P(G_2) - P(G_1 \\cap G_2)$ <br>\n",
    "**However,** $P(G_1 \\cap G_2) = 0$ since 2 moves are at least required to get back to the same location. Hence, the Gym cannot be both the first **and** the second location. <br><br>\n",
    "$P(G_1) = \\frac{1}{2}$ <br><br>\n",
    "$P(G_2) = P(G_2 | E_1)P(E_1) + P(G_2 | L_1)P(L_1) + P(G_2 | H_1)P(H_1) + P(G_2 | C_1)P(C_1)$ <br>\n",
    "$P(G_2) = \\frac{1}{4}*\\frac{1}{2} + \\frac{1}{4}*0 + \\frac{1}{3}*0 + \\frac{1}{3}* 0 = \\frac{1}{8}$ <br><br>\n",
    "$P(G_1 \\cup G_2) = \\frac{1}{2} + \\frac{1}{8} = \\frac{5}{8} = 0.625$"
   ]
  },
  {
   "cell_type": "markdown",
   "metadata": {},
   "source": [
    "**Part C**: Suppose that Oscar works late at the Engineering Center, while Stella goes to the Hill.  Later, they both leave and wander around, randomly and independently of one another, as described above.\n",
    "1. What is the probability that they run into each other in the same location on the first location visited?  \n",
    "2. Given their two initial locations, what is the probability that they meet at the Hill after 2 moves?"
   ]
  },
  {
   "cell_type": "markdown",
   "metadata": {},
   "source": [
    "**[1]** <br><br>\n",
    "E and H have three common adjacents G, L and C. So, we want to find the probability that Oscar and Stella end at one of these locations as their first location. <br> ***Note:*** O for Oscar and S for Stella.<br><br>\n",
    "$P($run_to_each_other$) = P(O_{G_1} \\cap S_{G_1}) + P(O_{L_1} \\cap S_{L_1}) + P(O_{C_1} \\cap S_{C_1})$ <br><br>\n",
    "Since they are independent, <br>\n",
    "$P($run_to_each_other$) = P(O_{G_1})P(S_{G_1}) + P(O_{L_1})P(S_{L_1}) + P(O_{C_1})P(S_{C_1})$<br>\n",
    "$= \\frac{1}{4}\\frac{1}{3} + \\frac{1}{4}\\frac{1}{3} + \\frac{1}{4}\\frac{1}{3} = \\frac{3}{12} = \\frac{1}{4} = 0.25$\n",
    "<br><br>\n",
    "\n",
    "**[2]** <br><br>\n",
    "$P(O_{H_2} \\cap S_{H_2}) = P(O_{H_2})P(S_{H_2})$\n",
    "<br><br>\n",
    "$P(O_{H_2}) = P(O_{H_2} | O_{R_1})P(O_{R_1}) + P(O_{H_2} | O_{G_1})P(O_{G_1}) + P(O_{H_2} | O_{L_1})P(O_{L_1}) + P(O_{H_2} | O_{C_1})P(O_{C_1})$\n",
    "$P(O_{H_2}) = 0*\\frac{1}{4} + \\frac{1}{4}*\\frac{1}{4} + \\frac{1}{4}*\\frac{1}{4} + \\frac{1}{3}*\\frac{1}{4}$<br>\n",
    "$P(O_{H_2}) = \\frac{1}{16} + \\frac{1}{16} + \\frac{1}{12} =\\frac{5}{24} = 0.208333$\n",
    "<br><br>\n",
    "$P(S_{H_2}) = P(S_{H_2} | S_{C_1})P(S_{C_1}) + P(S_{H_2} | S_{L_1})P(S_{L_1}) + P(S_{H_2} | S_{G_1})P(S_{G_1}) + P(S_{H_2} | S_{R_1})P(S_{R_1}) + P(S_{H_2} | S_{E_1})P(S_{E_1})$ <br>\n",
    "$P(S_{H_2}) = \\frac{1}{3}*\\frac{1}{3} + \\frac{1}{4}*\\frac{1}{3} + \\frac{1}{4}*\\frac{1}{3} + 0 + 0 $<br>\n",
    "$P(S_{H_2}) = \\frac{1}{9} + \\frac{1}{12} + \\frac{1}{12} = \\frac{5}{18} = 0.27777$\n",
    "<br><br>\n",
    "$P(O_{H_2} \\cap S_{H_2}) = \\frac{5}{24} * \\frac{5}{18} = \\frac{25}{432} = 0.0578703$"
   ]
  },
  {
   "cell_type": "markdown",
   "metadata": {},
   "source": [
    "**Part D**: Write a simulation to confirm that your by-hand calculations in **Part A**, **Part B**, and **Part C** are correct. Make sure you run your simulations for enough trials that your estimates are reasonably close to your analytic results. In addition to showing your code, you should explain in Markdown (not just in code comments) what your code is doing and why it is a reasonable approximation of the probabilities in **Part A**, **Part B**, and **Part C**.  "
   ]
  },
  {
   "cell_type": "code",
   "execution_count": 4,
   "metadata": {},
   "outputs": [
    {
     "data": {
      "image/png": "[encoded data removed]",
      "text/plain": [
       "<Figure size 864x432 with 1 Axes>"
      ]
     },
     "metadata": {},
     "output_type": "display_data"
    },
    {
     "data": {
      "image/png": "[encoded data removed]",
      "text/plain": [
       "<Figure size 864x432 with 1 Axes>"
      ]
     },
     "metadata": {},
     "output_type": "display_data"
    },
    {
     "data": {
      "image/png": "[encoded data removed]",
      "text/plain": [
       "<Figure size 864x432 with 1 Axes>"
      ]
     },
     "metadata": {},
     "output_type": "display_data"
    },
    {
     "data": {
      "image/png": "[encoded data removed]",
      "text/plain": [
       "<Figure size 864x432 with 1 Axes>"
      ]
     },
     "metadata": {},
     "output_type": "display_data"
    }
   ],
   "source": [
    "import numpy as np\n",
    "import matplotlib.pylab as plt\n",
    "\n",
    "def random_end_location(start_location, num_steps, graph):\n",
    "    current = start_location\n",
    "    current_adj = graph[current]\n",
    "    for i in range(num_steps):\n",
    "    \tcurrent = np.random.choice(current_adj)\n",
    "    \tcurrent_adj = graph[current]\n",
    "\n",
    "    return current\n",
    "\n",
    "\n",
    "def plot(p,title):\n",
    "\tfig, ax = plt.subplots(figsize=(12,6))\n",
    "\tax.plot(p, color=\"steelblue\")\n",
    "\tax.set_title(title, fontsize=15)\n",
    "\tax.set_xlabel(\"Number of Trials\", fontsize=16)\n",
    "\tax.set_ylabel(\"Estimate of Probability\", fontsize=16)\n",
    "\n",
    "\tax.grid(True, alpha=0.25)\n",
    "\tplt.show()\n",
    "\n",
    "def simulation(start_location, num_steps, end_location, num_trials):\n",
    "\tgraph = {'R': ['E', 'G'], \n",
    "\t\t\t 'E': ['R', 'G', 'L', 'C'], \n",
    "\t\t\t 'C': ['E', 'L', 'H'], \n",
    "\t\t\t 'H': ['G', 'L', 'C'], \n",
    "\t\t\t 'G': ['R', 'E', 'L', 'H'], \n",
    "\t\t\t 'L': ['G', 'E', 'C', 'H']}\n",
    "\n",
    "\tdata = []\n",
    "\tfor i in range(num_trials):\n",
    "\t\tdata.append(random_end_location(start_location, num_steps, graph))\n",
    "\n",
    "\tdata_np = np.array(data)\n",
    "\tp = np.zeros(len(data_np))\n",
    "\tfor i in range(len(p)):\n",
    "\t    p[i] = np.sum(data_np[:i+1] == end_location) / len(data_np[:i+1])\n",
    "\t   \n",
    "\n",
    "\treturn p\n",
    "\n",
    "#Part A\n",
    "plot(simulation('E', 2, 'L', 5000), \"Estimate of Probability of L as 2nd location starting from E\")\n",
    "\n",
    "#Part B\n",
    "k1 = simulation('R', 1, 'G', 5000)\n",
    "k2 = simulation('R', 2, 'G', 5000)\n",
    "plot(k1+k2, \"Estimate of Probability of G as 1st or 2nd location starting from R\")\n",
    "#Part C - 1\n",
    "p1 = simulation('E', 1, 'G', 5000)\n",
    "p2 = simulation('H', 1, 'G', 5000)\n",
    "p3 = simulation('E', 1, 'L', 5000)\n",
    "p4 = simulation('H', 1, 'L', 5000)\n",
    "p5 = simulation('E', 1, 'C', 5000)\n",
    "p6 = simulation('H', 1, 'C', 5000)\n",
    "p_final = p1*p2 + p3*p4 + p5*p6\n",
    "plot(p_final, \"Estimate of Probability of Oscar and Stella meet at first location\")\n",
    "\n",
    "#Part C - 2\n",
    "q1 = simulation('E', 2, 'H', 5000)\n",
    "q2 = simulation('H', 2, 'H', 5000)\n",
    "plot(q1*q2, \"Estimate of Probability of Oscar and Stella meet at the Hill after 2 moves\")"
   ]
  },
  {
   "cell_type": "markdown",
   "metadata": {},
   "source": [
    "Steps of what my code is doing:\n",
    "1. Run **simulation** function by passing start location, number of steps, end location and number of trials <br>\n",
    "    - This function generate a graph using dictionaries<br>\n",
    "    - Depending on the number of trials, it loops and in each loop **random_end_location** function is called <br>\n",
    "        * This function takes as input start location, number of steps and the graph <br>\n",
    "        * It returns the end location randomly depending on the number of steps<br>\n",
    "    - All the data from **random_end_location** function is stored in a list<br>\n",
    "    - Then, another list(numpy array) is created that stores the percentage of that end location. Each index stores the percentage by taking a sample of the data list with size up to that index. <br>\n",
    "    - i.e. If index=50, then percentage=(number of times end location appeard in first 50 trials)/50 <br>\n",
    "    - Finally, the numpy array that stores all the percentages is returned<br>\n",
    "2. Run **plot** funciton by passing the numpy array and a title for the plot\n",
    "<br><br>\n",
    "The approximations I got from running my code are reasonable because **the number of trials(5000) is big enough to get a steady probability.** And the estimations are very close to what I got in Part A, B and C."
   ]
  },
  {
   "cell_type": "markdown",
   "metadata": {},
   "source": [
    "***\n",
    "<a/ id='p3'></a>\n",
    "[Back to top](#top)\n",
    "\n",
    "### [20 points] Problem 3  \n",
    "\n",
    "As part of their Computer Science Jedi training, Tony and Dan are having a lightsaber duel. The rules of the lightsaber duel are as follows:\n",
    "* The duel is composed of a number of rounds.\n",
    "* Each round consists of Tony practicing his sweetest Jedi moves and trying to strike Dan, then Dan practicing *his* best moves and trying to strike Tony.\n",
    "* If Tony manages to strike Dan, then Tony is awarded a point, and similarly if Dan manages to strike Tony, then Dan is awarded a point.\n",
    "* If a round ends in a tie, then Tony and Dan proceed to another round. If a round ends with one Jedi scoring a point but the other one does not, then the Jedi who scored a point wins the duel.\n",
    "\n",
    "Let $T$ be the event that \"Tony wins the duel\", $E$ be the event that \"the duel ends after the first round of lightsaber strikes\", and $C$ be the event that \"the duel continues after the first round of lightsaber strikes\".  Suppose that the result of one lightsaber strike is independent of the other strikes, Tony successfully lands his lightsaber strikes with probability $p$, and Dan lands his strikes with probability $q$.\n",
    "\n",
    "**Part A**: The duel will continue until Tony or Dan wins.  What is the sample space $\\Omega$ for this \"experiment\"?  Represent the outcomes of individual lightsaber strikes by $H$ for a hit and $M$ for a miss, and assume that Tony has the first strike in each round. At the very least, your answer should include all of the events in $\\Omega$ that include one or two rounds."
   ]
  },
  {
   "cell_type": "markdown",
   "metadata": {},
   "source": [
    "$\\Omega = [HM, MH, [HH, HM], [HH, MH], [HH, HH], [HH, MM], [MM, HM], [MM, MH], [MM, HH], [MM, MM]]$"
   ]
  },
  {
   "cell_type": "markdown",
   "metadata": {},
   "source": [
    "**Part B**: Determine $P(T \\mid E)$ in terms of $p$ and $q$."
   ]
  },
  {
   "cell_type": "markdown",
   "metadata": {},
   "source": [
    "$P(T | E) = \\frac{P(T \\cap E)}{P(E)} = \\frac{P(T \\cap E)}{P(E | T)P(T) + P(E | T^c)P(T^c)} = \\frac{P(T \\cap E)}{P(T \\cap E) + P(T^c \\cap E)}$<br>\n",
    "$P(T | E) = \\frac{p(1-q)}{p(1-q) + q(1-p)}$"
   ]
  },
  {
   "cell_type": "markdown",
   "metadata": {},
   "source": [
    "**Part C**: Explain why events $C$ and $T$ are independent. "
   ]
  },
  {
   "cell_type": "markdown",
   "metadata": {},
   "source": [
    "Because if Tony wins that means he should hit and Dan should not. Since Tony starts and assuming he hits every time, then if the match continues or not depends on Dan. <br><br>\n",
    "\n"
   ]
  },
  {
   "cell_type": "markdown",
   "metadata": {},
   "source": [
    "**Part D**: Use the Law of Total Probability to show that $P(T) = p(1-q) + (2pq - p - q +1) P(T \\mid C)$. "
   ]
  },
  {
   "cell_type": "markdown",
   "metadata": {},
   "source": [
    "$P(T) = P(T | E)P(E) + P(T | C)P(C) = P(T \\cap E) + (1 - P(E))P(T | C)$<br>\n",
    "$P(T) = p(1-q) + (1 - p(1-q) - q(1-p))P(T | C)$ \n",
    "$P(T) = p(1-q) + (1 - p + pq - q + pq)P(T | C) = p(1-q) + (2pq - p - q + 1)P(T | C)$"
   ]
  },
  {
   "cell_type": "markdown",
   "metadata": {},
   "source": [
    "**Part E**: Use the fact from **Part C** that $P(T \\mid C) = P(T)$ to determine $P(T)$ in terms of $p$ and $q$. "
   ]
  },
  {
   "cell_type": "markdown",
   "metadata": {},
   "source": [
    "$P(T) = p(1-q) + (2pq - p - q + 1)P(T)$<br>\n",
    "$P(T) - (2pq - p - q + 1)P(T) = p(1-q)$<br>\n",
    "$P(T)(1 - 2pq + p + q - 1) = p(1-q)$<br>\n",
    "$P(T) = \\frac{p(1-q)}{p + q - 2pq}$<br>\n",
    "$P(T) = \\frac{p(1-q)}{p(1-q) + q(1-p)}$"
   ]
  },
  {
   "cell_type": "markdown",
   "metadata": {},
   "source": [
    "**Part F**: Explain why the answers to **Part B** and **Part E** are the same. "
   ]
  },
  {
   "cell_type": "markdown",
   "metadata": {},
   "source": [
    "If Tony wins that means the match will eventualy ends. Hence, to get $P(T)$ we assume that the match ends, which equals $P(T | E)$. Otherwise, if the match never ends, then Tony will never win."
   ]
  },
  {
   "cell_type": "markdown",
   "metadata": {},
   "source": [
    "**Part G**: Explain the significance of the solution technique for $P(T)$ outlined in **Part D** and **Part E**.  Why did we go this route instead of computing $P(T)$ directly?  Can we always use such techniques?  What assumption did we need to make in order to use this solution approach?"
   ]
  },
  {
   "cell_type": "markdown",
   "metadata": {},
   "source": [
    "We took that route because:\n",
    "1. We know that T and C are independent, so we used that fact that $P(T | C) = P(T)$\n",
    "2. We know the value of $P(E)$ and we know that $P(C) = 1 - P(E)$.\n",
    "3. Hence, by using these two facts, we can find $P(T)$ easily.\n",
    "<br><br>\n",
    "We cannot always use this technique. If T and C are dependent, then we will not be able to use it. Hence, to use this technique, we assumed that two event are independent so we can use the formula $P(A | C) = P(A)$"
   ]
  },
  {
   "cell_type": "markdown",
   "metadata": {},
   "source": [
    "***\n",
    "<a/ id='p4'></a>\n",
    "[Back to top](#top)\n",
    "\n",
    "### [20 points] Problem 4\n",
    "\n",
    "In this problem you will write some code to simulate the game of **Miniopoly** (a very rough approximation of [Monopoly](https://en.wikipedia.org/wiki/Monopoly_(game)).  The game consists of a round board with 40 \"squares\" numbered from $0$ to $39$, where squares $0$ and would-be $40$ are [coincident](https://en.wikipedia.org/wiki/Coincident) and called **GO**.  A player starts on **GO** with \\$200 in their pocket.  On each turn the player rolls a pair of dice and then moves a number of spaces equal to the sum of the dice.  Landing on different squares have different results: \n",
    "\n",
    "- Squares 2, 7, 17, 22, 33, and 36 cause you to draw a card.  The cards tell you to collect \\$50, \\$100 or \\$200, or pay the bank \\$50 or \\$100.  There is always an equal probability associated with each of these possible cards.\n",
    "\n",
    "<p> </p>\n",
    "\n",
    "- Squares 0, 10, and 20 do not trigger any action \n",
    "\n",
    "<p> </p>\n",
    "\n",
    "- Square 30 is **Go To Jail**, which sends the player directly to **Jail** and ends the turn \n",
    "\n",
    "<p> </p>\n",
    "\n",
    "- If a player starts a turn from **Jail** she rolls two dice: \n",
    "\n",
    "    - If the player rolls doubles (i.e. the dice have equal values) the player moves from Square 10 a number of squares equal to the sum of the dice\n",
    "    \n",
    "    - If the player rolls anything other than doubles she pays the bank \\$20 and remains in **Jail** \n",
    "    \n",
    "<p> </p>\n",
    "\n",
    "- If the player passes or lands on **GO** she collects \\$200. \n",
    "\n",
    "<p> </p>\n",
    "\n",
    "- If the player lands on any other square not mentioned above, she pays the bank an amount equal to the square's number (e.g. if she lands on Square 29 she pays the bank \\$29). \n",
    "\n",
    "<p> </p>\n",
    "\n",
    "If at any point the player has \\$0 or less they go bankrupt and the game ends.\n",
    "\n",
    "See [here](http://www.cs.colorado.edu/~tonyewong/home/resources/miniopoly_example.png) for an example of the Miniopoly board layout.\n",
    "\n",
    "<br>\n",
    "\n",
    "**Part A**: Complete the function miniopoly_turn below. The function should simulate one turn of Miniopoly.  It should take as arguments the player's current location on the board as well as the player's current cash reserves, and return the player's new location and cash reserves after the turn has completed. Note that if a player goes bankrupt during the game you should return their cash as 0 instead of a negative value.  "
   ]
  },
  {
   "cell_type": "code",
   "execution_count": 5,
   "metadata": {},
   "outputs": [],
   "source": [
    "def create_squares():\n",
    "\tsquares = {}\n",
    "\tfor i in range(40):\n",
    "\t\tsquares[i] = None\n",
    "\n",
    "\tcards = [50, 100, 200, -50, -100]\n",
    "\tsquares[2] = cards\n",
    "\tsquares[7] = cards\n",
    "\tsquares[17] = cards\n",
    "\tsquares[22] = cards\n",
    "\tsquares[33] = cards\n",
    "\tsquares[36] = cards\n",
    "\n",
    "\tsquares[0] = 0\n",
    "\tsquares[10] = 0\n",
    "\tsquares[20] = 0\n",
    "\tsquares[30] = -20\n",
    "\n",
    "\tfor i in range(40):\n",
    "\t\tif(squares[i] == None):\n",
    "\t\t\tsquares[i] = -i\n",
    "\n",
    "\treturn squares\n",
    "\n",
    "def miniopoly_turn(location, cash):\n",
    "    \n",
    "\tif(cash == 0):\n",
    "\t\treturn location, cash\n",
    "\n",
    "\tsquares = create_squares()\n",
    "\tstart_location = location\n",
    "\n",
    "\tdice = [1, 2, 3, 4, 5, 6]\n",
    "\troll1 = np.random.choice(dice)\n",
    "\troll2 = np.random.choice(dice)\n",
    "\tmovement = roll1 + roll2\n",
    "    \n",
    "\tif(start_location == 30):\n",
    "\t\tif(roll1 == roll2):\n",
    "\t\t\tnew_location = 10 + movement\n",
    "\t\telse:\n",
    "\t\t\tcash += squares[start_location]\n",
    "\t\t\treturn location, cash\n",
    "\telse:\n",
    "\t\tnew_location = location + movement\n",
    "\n",
    "\tif(new_location >= 40):\n",
    "\t\tcash += 200\n",
    "\t\tnew_location -= 40\n",
    "\n",
    "\tif(new_location == 30):\n",
    "\t\treturn new_location, cash\n",
    "\n",
    "\tif(type(squares[new_location]) == int):\n",
    "\t\tcash += squares[new_location]\n",
    "\n",
    "\tif(type(squares[new_location]) == list):\n",
    "\t\tcash += np.random.choice(squares[new_location])\n",
    "\n",
    "\tif(cash <= 0):\n",
    "\t\treturn new_location, 0\n",
    "\n",
    "\treturn new_location, cash"
   ]
  },
  {
   "cell_type": "markdown",
   "metadata": {},
   "source": [
    "**Part B**: Use your function from **Part A** to Simulate at least 5000 30-turn games of Miniopoly and make a frequency histogram of the player's cash at the end of the game. "
   ]
  },
  {
   "cell_type": "code",
   "execution_count": 6,
   "metadata": {},
   "outputs": [
    {
     "data": {
      "image/png": "[encoded data removed]",
      "text/plain": [
       "<Figure size 864x432 with 1 Axes>"
      ]
     },
     "metadata": {},
     "output_type": "display_data"
    }
   ],
   "source": [
    "def plot(x,title):\n",
    "\tfig, ax = plt.subplots(figsize=(12,6))\n",
    "\tax.hist(x, color=\"steelblue\")\n",
    "\tax.set_title(title, fontsize=15)\n",
    "\tax.set_xlabel(\"Cash at the end\", fontsize=16)\n",
    "\tax.set_ylabel(\"Frequency\", fontsize=16)\n",
    "\n",
    "def minipoly_sim():\n",
    "    \n",
    "    data = []\n",
    "    for i in range(5000):\n",
    "        cash = 20\n",
    "        location = 0\n",
    "        for i in range(30):\n",
    "            locaion, cash = miniopoly_turn(location, cash)\n",
    "        data.append(cash)\n",
    "    \n",
    "    plot(data, \"Frequency of Player's cash at the end of 5000 30-turn games\")\n",
    "    \n",
    "minipoly_sim()"
   ]
  },
  {
   "cell_type": "markdown",
   "metadata": {},
   "source": [
    "**Part C**: Use your code from **Part A** to estimate the probability that a player goes bankrupt in the first 30 turns of the game. "
   ]
  },
  {
   "cell_type": "code",
   "execution_count": 7,
   "metadata": {},
   "outputs": [
    {
     "name": "stdout",
     "output_type": "stream",
     "text": [
      "Estimate of the probability a plyer foes bankrupt in the first 30 turns: 0.8148\n"
     ]
    }
   ],
   "source": [
    "def minipoly_sim():\n",
    "    \n",
    "    data = []\n",
    "    for i in range(5000):\n",
    "        cash = 20\n",
    "        location = 0\n",
    "        for i in range(30):\n",
    "            locaion, cash = miniopoly_turn(location, cash)\n",
    "        data.append(cash)\n",
    "    \n",
    "    return data\n",
    "    \n",
    "data_np = np.array(minipoly_sim())\n",
    "\n",
    "estimate = np.sum(data_np == 0)/len(data_np)\n",
    "\n",
    "print(\"Estimate of the probability a plyer foes bankrupt in the first 30 turns: {}\".format(estimate))\n",
    "      \n",
    "      "
   ]
  },
  {
   "cell_type": "markdown",
   "metadata": {},
   "source": [
    "**Part D**: Use your code from **Part A** to estimate the probability that a player goes bankrupt in the first 30 turns _given_ that they went to **Jail** at least once.  Is a player more or less likely to go bankrupt if they've been to **Jail**?  "
   ]
  },
  {
   "cell_type": "code",
   "execution_count": 8,
   "metadata": {},
   "outputs": [
    {
     "name": "stdout",
     "output_type": "stream",
     "text": [
      "0.3279445727482679\n"
     ]
    }
   ],
   "source": [
    "def miniopoly_turn(location, cash, flag):\n",
    "    \n",
    "\tif(cash == 0):\n",
    "\t\treturn location, cash, flag\n",
    "\n",
    "\tsquares = create_squares()\n",
    "\tstart_location = location\n",
    "\n",
    "\tdice = [1, 2, 3, 4, 5, 6]\n",
    "\troll1 = np.random.choice(dice)\n",
    "\troll2 = np.random.choice(dice)\n",
    "\tmovement = roll1 + roll2\n",
    "    \n",
    "\tif(start_location == 30):\n",
    "\t\tflag = True\n",
    "\t\tif(roll1 == roll2):\n",
    "\t\t\tnew_location = 10 + movement\n",
    "\t\telse:\n",
    "\t\t\tcash += squares[start_location]\n",
    "\t\t\treturn location, cash, flag\n",
    "\telse:\n",
    "\t\tnew_location = location + movement\n",
    "\n",
    "\tif(new_location >= 40):\n",
    "\t\tcash += 200\n",
    "\t\tnew_location -= 40\n",
    "\n",
    "\tif(new_location == 30):\n",
    "\t\tflag = True\n",
    "\t\treturn new_location, cash, flag\n",
    "\n",
    "\tif(type(squares[new_location]) == int):\n",
    "\t\tcash += squares[new_location]\n",
    "\n",
    "\tif(type(squares[new_location]) == list):\n",
    "\t\tcash += np.random.choice(squares[new_location])\n",
    "\n",
    "\tif(cash <= 0):\n",
    "\t\treturn new_location, 0, flag\n",
    "\n",
    "\treturn new_location, cash, flag\n",
    "\n",
    "def minipoly_sim():\n",
    "    data = []\n",
    "    for i in range(5000):\n",
    "        cash = 20\n",
    "        location = 0\n",
    "        flag = False\n",
    "        for i in range(30):\n",
    "            location, cash, flag = miniopoly_turn(location, cash, flag)\n",
    "        data.append([cash, flag])\n",
    "    return data\n",
    "\n",
    "sum_bankrupt = 0\n",
    "sum_total = 0\n",
    "data = minipoly_sim()\n",
    "for i in range(len(data)):\n",
    "    if(data[i][1] == True):\n",
    "        sum_total += 1\n",
    "        if(data[i][0] == 0):\n",
    "            sum_bankrupt += 1\n",
    "\n",
    "estimate = sum_bankrupt/sum_total\n",
    "print(estimate)"
   ]
  },
  {
   "cell_type": "markdown",
   "metadata": {},
   "source": [
    "**Part E**: Use your code from **Part A** to estimate the probability (either directly or using Bayes' Rule) that a player has gone to jail at least once, given that the player went bankrupt in the first 30 turns."
   ]
  },
  {
   "cell_type": "code",
   "execution_count": 9,
   "metadata": {},
   "outputs": [
    {
     "data": {
      "text/plain": [
       "0.5186"
      ]
     },
     "execution_count": 9,
     "metadata": {},
     "output_type": "execute_result"
    }
   ],
   "source": [
    "def is_jail():\n",
    "    s,c,flag = 0,200, False\n",
    "    for turn in range(30):\n",
    "        s,c,flag = miniopoly_turn(s,c, flag)\n",
    "        if s==30:\n",
    "            return 1\n",
    "        if c <= 0:\n",
    "            return 0\n",
    "    return 0\n",
    "\n",
    "jail = 0\n",
    "for g in range(5000):\n",
    "    if is_jail()==1:\n",
    "        jail += 1\n",
    "jail/5000"
   ]
  },
  {
   "cell_type": "markdown",
   "metadata": {},
   "source": [
    "***\n",
    "<a/ id='p5'></a>\n",
    "[Back to top](#top)\n",
    "\n",
    "### [20 points] Problem 5\n",
    "\n",
    "Suppose you roll two fair six-sided dice.  Let $C$ be the event that the two rolls are _close_ to one another in value, in the sense that they're either equal or differ by only 1.  \n",
    "\n",
    "**Part A**: Compute $P(C)$ by hand. \n"
   ]
  },
  {
   "cell_type": "markdown",
   "metadata": {},
   "source": [
    "All possible outcomes:<br>\n",
    "**(1, 1)**, **(1, 2)**, (1, 3), (1, 4), (1, 5), (1, 6)<br>\n",
    "**(2, 1)**, **(2, 2)**, **(2, 3**), (2, 4), (2, 5), (2, 6)<br>\n",
    "(3, 1), (**3, 2)**, **3, 3)**, **(3, 4)**, (3, 5), (3, 6)<br>\n",
    "(4, 1), (4, 2), **(4, 3)**, **(4, 4)**, **(4, 5)**, (4, 6)<br>\n",
    "(5, 1), (5, 2), (5, 3), **(5, 4)**, **(5, 5)**, **(5, 6)**<br>\n",
    "(6, 1), (6, 2), (6, 3), (6, 4), **(6, 5)**, **(6, 6)**<br>\n",
    "<br>\n",
    "From the table: <br>\n",
    "All possible outcomes = 36<br>\n",
    "Number of desired outcomes = 16<br>\n",
    "<br>\n",
    "**Hence,** $P(C) = \\frac{16}{36} = 0.44444444$"
   ]
  },
  {
   "cell_type": "markdown",
   "metadata": {},
   "source": [
    "**Part B**: Write a simulation to run many trials (at least 10,000) of the pair of rolls and estimate the value of $P(C)$ you calculated in **Part A**.  Does your estimate agree with the exact calculation you did in **Part A**?  If not, try increasing the number of trials in your simulation. "
   ]
  },
  {
   "cell_type": "code",
   "execution_count": 10,
   "metadata": {},
   "outputs": [
    {
     "name": "stdout",
     "output_type": "stream",
     "text": [
      "0.44111\n"
     ]
    }
   ],
   "source": [
    "def roll(n):\n",
    "\tdata = []\n",
    "\tfor i in range(n):\n",
    "\t\troll1 = np.random.choice(6)+1\n",
    "\t\troll2 = np.random.choice(6)+1\n",
    "\n",
    "\t\tif(abs(roll1 - roll2) == 0 or abs(roll1 - roll2) == 1):\n",
    "\t\t\tdata.append(True)\n",
    "\t\telse:\n",
    "\t\t\tdata.append(False)\n",
    "\n",
    "\treturn data\n",
    "\n",
    "\n",
    "data = np.array(roll(100000))\n",
    "\n",
    "estimate = np.sum(data == True)/len(data)\n",
    "print(estimate)"
   ]
  },
  {
   "cell_type": "markdown",
   "metadata": {},
   "source": [
    "**Part C**: In the in-class notebook associated with Lecture 4 (nb04) we plotted a running estimate of the probability of an event as a function of the number of trials in our simulation.  Write code to run at least 10 independent simulations of at least 50,000 trials each to estimate $P(C)$ and plot their running estimate curves on the same set of axes. **Hint**: This is a lot of computation, so try to leverage Numpy as much as possible so that your code doesn't run forever. "
   ]
  },
  {
   "cell_type": "code",
   "execution_count": 11,
   "metadata": {},
   "outputs": [
    {
     "data": {
      "image/png": "[encoded data removed]",
      "text/plain": [
       "<Figure size 864x432 with 1 Axes>"
      ]
     },
     "metadata": {},
     "output_type": "display_data"
    }
   ],
   "source": [
    "data = np.array(roll(100000))\n",
    "sim = []\n",
    "\n",
    "for i in range(50000, 101000, 1000):\n",
    "    sim.append(np.sum(data[:i] == True)/len(data[:i]))\n",
    "\n",
    "fig, ax = plt.subplots(figsize=(12,6))\n",
    "ax.plot(sim, color=\"steelblue\")\n",
    "ax.set_title(\"Running Estimate of P(C)\", fontsize=20)\n",
    "ax.set_xlabel(\"Simulation Number\", fontsize=16)\n",
    "ax.set_ylabel(\"Estimate of Probability\", fontsize=16)\n",
    "\n",
    "ax.grid(True, alpha=0.25)\n",
    "\n"
   ]
  },
  {
   "cell_type": "markdown",
   "metadata": {},
   "source": [
    "**Part D**: Comment on the behavior of the running estimates as the number of trials increases. "
   ]
  },
  {
   "cell_type": "markdown",
   "metadata": {},
   "source": [
    "As the number of trial increases, the estimation of the probability tends to be more accurate and matches the by-hand calculated probability."
   ]
  },
  {
   "cell_type": "markdown",
   "metadata": {
    "collapsed": true
   },
   "source": [
    "***\n",
    "<a/ id='ch'></a>\n",
    "[Back to top](#top)\n",
    "\n",
    "### Challenge Problem - Night Falls. A Storm Rolls In. Can You Cross The River?\n",
    "\n",
    "In every homework assignment we'll give you a Challenge Problem.  Challenge Problems never need to be turned in (and in fact, will not be graded) but we encourage you to give them a shot (after completing the required homework problems) and discuss them with your classmates and your instructors. \n",
    "\n",
    "This Challenge Problem was a [Riddler](https://fivethirtyeight.com/tag/the-riddler/) on [FiveThirtyEight](https://fivethirtyeight.com) a few years back. \n",
    "\n",
    "You’re on the north shore of a river, and want to cross to the south, via a series of 13 bridges and six islands, which you can see in the diagram below. But, as you approach the water, night falls, a bad storm rolls in, and you’re forced to wait until morning to try to cross. Overnight, the storm could render some of the bridges unusable — it has a 50 percent chance of knocking out each of the bridges. (The chance is independent for each bridge.)\n",
    "\n",
    "<br>\n",
    "\n",
    "![alt text](https://espnfivethirtyeight.files.wordpress.com/2016/01/roeder-riddler-diagram-11.png?w=575&h=449&quality=90&strip=info)\n",
    "\n",
    "<br>\n",
    "\n",
    "What’s the probability you will be able to cross the river in the morning? (You have no boat, can’t swim, can’t fix the bridges, etc. No tricks.)"
   ]
  },
  {
   "cell_type": "code",
   "execution_count": null,
   "metadata": {},
   "outputs": [],
   "source": []
  }
 ],
 "metadata": {
  "kernelspec": {
   "display_name": "Python 3",
   "language": "python",
   "name": "python3"
  },
  "language_info": {
   "codemirror_mode": {
    "name": "ipython",
    "version": 3
   },
   "file_extension": ".py",
   "mimetype": "text/x-python",
   "name": "python",
   "nbconvert_exporter": "python",
   "pygments_lexer": "ipython3",
   "version": "3.6.5"
  }
 },
 "nbformat": 4,
 "nbformat_minor": 2
}
