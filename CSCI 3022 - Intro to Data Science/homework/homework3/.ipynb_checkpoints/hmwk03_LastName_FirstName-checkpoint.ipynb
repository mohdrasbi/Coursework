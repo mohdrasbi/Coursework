{
 "cells": [
  {
   "cell_type": "markdown",
   "metadata": {},
   "source": [
    "<a/ id='top'></a>\n",
    "# Homework 3: Random Variables and Their Distributions\n",
    "***\n",
    "\n",
    "**Name**: Mohamed Al-Rasbi\n",
    "\n",
    "***\n",
    "\n",
    "This assignment is due on Moodle by **5pm on Friday October 12**. Your solutions to theoretical questions should be done in Markdown/MathJax directly below the associated question.  Your solutions to computational questions should include any specified Python code and results as well as written commentary on your conclusions.  Remember that you are encouraged to discuss the problems with your instructors and classmates, but **you must write all code and solutions on your own**. \n",
    "\n",
    "**NOTES**: \n",
    "\n",
    "- Do **NOT** load or use any Python packages that are not available in Anaconda 3.6. \n",
    "- Because you can technically evaluate notebook cells in a non-linear order, it's a good idea to do Cell $\\rightarrow$ Run All as a check before submitting your solutions.  That way if we need to run your code you will know that it will work as expected. \n",
    "- Submit only this Jupyter notebook to Moodle.  Do not compress it using tar, rar, zip, etc. \n",
    "- This should go without saying, but... For any question that asks you to calculate something, you **must show all work to receive credit**. Sparse or nonexistent work will receive sparse or nonexistent credit.\n",
    "\n",
    "---\n",
    "**Shortcuts:**  [Problem 1](#p1) | [Problem 2](#p2) | [Problem 3](#p3) | [Problem 4](#p4) | [Problem 5](#p5)\n",
    "\n",
    "---"
   ]
  },
  {
   "cell_type": "code",
   "execution_count": 1,
   "metadata": {
    "scrolled": true
   },
   "outputs": [],
   "source": [
    "import pandas as pd\n",
    "import numpy as np\n",
    "import matplotlib.pyplot as plt\n",
    "import math\n",
    "from scipy.special import binom\n",
    "%matplotlib inline"
   ]
  },
  {
   "cell_type": "markdown",
   "metadata": {},
   "source": [
    "<br>\n",
    "\n",
    "---\n",
    "<a/ id='p1'></a>\n",
    "[Back to top](#top)\n",
    "### [20 points] Problem 1\n",
    "\n",
    "Suppose you are modeling the probability of observing flood levels of various heights when there is a storm in a particular coastal city.  Let $X$ be a random variable representing the observed flood height (in feet), which must be nonnegative. There are many different choices for probability density function (pdf) for $X$.  You decide to use the following pdf for $X$:\n",
    "\n",
    "$$\n",
    "f(x) = \\begin{cases}\n",
    "         c \\ x \\ e^{\\left(-\\frac{x^2}{10}\\right)} & 0 \\leq x < \\infty \\\\\n",
    "         0                           & \\text{otherwise}\n",
    "       \\end{cases}\n",
    "$$\n",
    "where $c$ is some normalizing constant.\n",
    "\n",
    "**Part A**: Determine the value of $c$ such that $f(x)$ is a valid density function. "
   ]
  },
  {
   "cell_type": "markdown",
   "metadata": {},
   "source": [
    "$$\\int_{-\\infty}^{\\infty} f(x) dx = 1$$ <br>\n",
    "$$\\int_{0}^{\\infty} cxe^{(-\\frac{x^2}{10})} dx = 1$$ <br>\n",
    "$$-5ce^{(-\\frac{x^2}{10})} \\Big|_0^\\infty = 1 $$ <br>\n",
    "$$-5c [\\lim_{x\\to\\infty} \\frac{1}{e^{\\frac{x^2}{10}}} - \\lim_{x\\to0} \\frac{1}{e^{\\frac{x^2}{10}}}] = 1$$ <br>\n",
    "$$-5c[ 0 - 1 ] = 1$$ <br>\n",
    "$$5c = 1 \\rightarrow c = \\frac{1}{5}$$\n"
   ]
  },
  {
   "cell_type": "markdown",
   "metadata": {},
   "source": [
    "**Part B**: Compute the cumulative density (cdf) function $F(x)$ for $X$.  Then, conduct two sanity checks: First, what should $F(0)$ equal?  Second, what should be the limit of $F(x)$ as $x \\rightarrow \\infty$?  Be sure to **justify** these answers. Verify that $F(0)$ and $\\displaystyle \\lim_{x\\rightarrow \\infty} F(x)$ satisfy your hypotheses using cdf you derived."
   ]
  },
  {
   "cell_type": "markdown",
   "metadata": {},
   "source": [
    "$$f(x) = \\frac{1}{5}xe^{(-\\frac{x^2}{10})}$$ <br>\n",
    "$$F(x) = P(X \\leq x) = \\int_{-\\infty}^x f(t)dt$$ <br>\n",
    "$$F(x) = \\int_0^x \\frac{1}{5}te^{(-\\frac{t^2}{10})} dt = -e^{(-\\frac{t^2}{10})} \\Big |_0^x$$ <br>\n",
    "$$F(x) = -\\frac{1}{e^{\\frac{x^2}{10}}} + \\frac{1}{e^0} = 1 - \\frac{1}{e^{\\frac{x^2}{10}}}$$<br>\n",
    "<br>\n",
    "1. Sanity check F(0). Should equal 0 because calculating the probabilities of all values that are $\\leq 0$ is 0.<br>\n",
    "**Proof:** <br>\n",
    "$$F(0) = 1 - \\frac{1}{e^{\\frac{0}{10}}} = 1 - 1 = 0$$\n",
    "<br><bar>\n",
    "2. Sanity check the limit of F(x) as x $\\rightarrow \\infty$. Should equal to 1 because calculating the probabilities of all values that are $\\leq \\infty$ is basically the total probability of a certain event, which is 1. <br>\n",
    "**Proof:** <br>\n",
    "$$lim_{x\\to\\infty} \\Big(1 - \\frac{1}{e^{\\frac{x^2}{10}}}\\Big) = 1 - lim_{x\\to\\infty} \\frac{1}{e^{\\frac{x^2}{10}}} = 1 - 0 = 1$$"
   ]
  },
  {
   "cell_type": "markdown",
   "metadata": {},
   "source": [
    "**Part C:**  Use the cdf you derived in **Part B** to calculate the median, $\\tilde{x}$, of the probability density for $X$."
   ]
  },
  {
   "cell_type": "markdown",
   "metadata": {},
   "source": [
    "$$F(x) = 1 - e^{-\\frac{x^2}{10}}$$ <br>\n",
    "The median is when $F(x) = 0.5$, hence:<br>\n",
    "$$0.5 = 1 - e^{-\\frac{x^2}{10}} \\rightarrow e^{-\\frac{x^2}{10}} = 0.5$$ <br>\n",
    "$$-\\frac{x^2}{10} = \\ln(0.5) \\rightarrow x^2 = 10\\ln(0.5^{-1})$$<br>\n",
    "$$ x = \\sqrt{10\\ln(2)}$$"
   ]
  },
  {
   "cell_type": "markdown",
   "metadata": {},
   "source": [
    "**Part D**: It is a well-known fact that if there is a storm in your coastal city, if the flood level exceeds 6 feet, then the town will become inundated with octopuses in an event known localy as **Octogeddon**. Use the cdf you computed in **Part B** to find the probability that a given storm is an Octogeddon. "
   ]
  },
  {
   "cell_type": "markdown",
   "metadata": {},
   "source": [
    "$$F(x) = 1 - e^{-\\frac{x^2}{10}}$$ <br>\n",
    "We want to calculate $P(X > 6) = 1 - F(6) = 1 - P(X \\leq 6)$"
   ]
  },
  {
   "cell_type": "code",
   "execution_count": 480,
   "metadata": {},
   "outputs": [
    {
     "name": "stdout",
     "output_type": "stream",
     "text": [
      "The probability that a given storm is an Octogeddon = 0.02732372244729253\n"
     ]
    }
   ],
   "source": [
    "x = 6\n",
    "cdf = 1 - math.exp(-(x**2 / 10))\n",
    "print(\"The probability that a given storm is an Octogeddon =\", 1 - cdf)"
   ]
  },
  {
   "cell_type": "markdown",
   "metadata": {},
   "source": [
    "**Part E:** You have been painstakingly collecting data on storms in your city, and have determined that storms occur at an average rate of 5 per year. To makes things a bit more precise, the pdf from **Part A** really describes the distribution of flood heights *given* that there is a storm, $P(X \\mid \\text{storm})$. You may assume that storms occur as independent events of one another.\n",
    "\n",
    "What is the probability of observing 3 storms in a given year, none of which are Octogeddons?\n",
    "\n",
    "That is, what is $P(3 \\text{ non-Octogeddon storms} \\cap 3 \\text{ storms})$?"
   ]
  },
  {
   "cell_type": "markdown",
   "metadata": {},
   "source": [
    "**Notes:**\n",
    "1. Observing a non-Octogeddon storm means the flood height is $\\leq 6$.\n",
    "2. Since storms occur as independent events, then we can find the probability of observing one storm in a given year that is not Octogeddon. Then, we cube the result.\n",
    "3. Hence, what we want is $P(X\\leq6 \\cap storm) = P(storm)P(X\\leq6$ | storm)\n",
    "<br>\n",
    "$$P(X\\leq6 \\cap storm) = \\frac{1}{5} * 1 - e^{-\\frac{x^2}{10}}$$\n",
    "$$P(3 \\text{ non-Octogeddon storms} \\cap 3 \\text{ storms}) = (\\frac{1}{5} * 1 - e^{-\\frac{x^2}{10}})^3$$"
   ]
  },
  {
   "cell_type": "code",
   "execution_count": 485,
   "metadata": {},
   "outputs": [
    {
     "name": "stdout",
     "output_type": "stream",
     "text": [
      "0.007361985524638732\n"
     ]
    }
   ],
   "source": [
    "x = 6\n",
    "cdf = 1 - math.exp(-(x**2 / 10))\n",
    "prob = (0.2*cdf)**3\n",
    "print(prob)"
   ]
  },
  {
   "cell_type": "markdown",
   "metadata": {},
   "source": [
    "<br>\n",
    "\n",
    "---\n",
    "<a/ id='p2'></a>\n",
    "[Back to top](#top)\n",
    "### [20 points] Problem 2\n",
    "\n",
    "You are waiting in line at the grocery store. It is taking _forever_!  There are only two lines open; one is being tended by a cashier named [John Henry](https://en.wikipedia.org/wiki/John_Henry_(folklore)), and the other is tended by a [self check-out machine](https://theconversation.com/the-economics-of-self-service-checkouts-78593). Like all human beings when they arrive at the front of the store to check-out and encounter lines everywhere, you first experience a moment of intense panic. _Which line will be the fastest?_ you wonder, as people shuffle around you.\n",
    "\n",
    "You decide you need to model the arrival of customers at the front of each of the lines.  From your Intro to Data Science class you remember that the distribution of times _between_ independent arrivals is often modeled using an Exponential distribution.  You observe the following:\n",
    "* John's line checks-out an average of 4 customers per ten minutes,\n",
    "* the self check-out machine checks-out an average of 5 customers per ten minutes **if** the machine is working properly, \n",
    "* the self check-out machine checks-out an average of 1 customer per ten minutes if the machine is freezing up, and\n",
    "* in any given moment, the self check-out machine has a probability of 0.1 of freezing up.\n",
    "\n",
    "Answer the following questions about this scenario. **Note** that for **Parts B-D** you should clearly express the computation you're doing with math, but feel free to do any fancy function evaluations with Python. \n",
    "\n",
    "**Part A**:  Assuming the between-customer times do in fact follow exponential distributions, what distributions do you expect the **number** of customers who pass through each line in a given 10-minute interval to follow?  What are the parameter(s) of each distribution?  Note that you should consider both the case where the self check-out is working properly and when it is broken."
   ]
  },
  {
   "cell_type": "markdown",
   "metadata": {},
   "source": [
    "We can use Poisson distribution to find the probability of the number of customers who pass through each line in a given 10 minutes. The parameters:<br>\n",
    "1. John's line: $\\lambda = 4$\n",
    "2. Self check-out working properly: $\\lambda = 5$\n",
    "3. Self check-out freezing up; $\\lambda = 1$"
   ]
  },
  {
   "cell_type": "markdown",
   "metadata": {},
   "source": [
    "**Part B**:  What is the probability that 6 customers pass through John's line in the next 10 minutes?  What about the self check-out, assuming that it is working?  What about the self check-out, assuming that it is frozen?"
   ]
  },
  {
   "cell_type": "markdown",
   "metadata": {},
   "source": [
    "**Poisson Distribution**<br>\n",
    "$$p_X(k) = P(X = k) = \\frac{\\lambda^k e^{-\\lambda}}{k!}$$<br>\n"
   ]
  },
  {
   "cell_type": "code",
   "execution_count": 4,
   "metadata": {},
   "outputs": [],
   "source": [
    "def get_probability(lambda_val, k_val):\n",
    "    result = (lambda_val**k_val * math.exp(-lambda_val)) / math.factorial(k_val)\n",
    "    return result"
   ]
  },
  {
   "cell_type": "code",
   "execution_count": 5,
   "metadata": {},
   "outputs": [
    {
     "name": "stdout",
     "output_type": "stream",
     "text": [
      "John's line\n",
      "Probability: 0.1041956345670211\n"
     ]
    }
   ],
   "source": [
    "john_line = get_probability(4, 6)\n",
    "print(\"John's line\")\n",
    "print(\"Probability:\", john_line)"
   ]
  },
  {
   "cell_type": "code",
   "execution_count": 6,
   "metadata": {},
   "outputs": [
    {
     "name": "stdout",
     "output_type": "stream",
     "text": [
      "Self check-out working properly\n",
      "Probability: 0.1462228081398756\n"
     ]
    }
   ],
   "source": [
    "self_working = get_probability(5, 6)\n",
    "print(\"Self check-out working properly\")\n",
    "print(\"Probability:\", self_working)"
   ]
  },
  {
   "cell_type": "code",
   "execution_count": 7,
   "metadata": {},
   "outputs": [
    {
     "name": "stdout",
     "output_type": "stream",
     "text": [
      "Self check-out frozen\n",
      "Probability: 0.0005109436682936699\n"
     ]
    }
   ],
   "source": [
    "self_frozen = get_probability(1, 6)\n",
    "print(\"Self check-out frozen\")\n",
    "print(\"Probability:\", self_frozen)"
   ]
  },
  {
   "cell_type": "markdown",
   "metadata": {},
   "source": [
    "**Part C:**  Use your answer to **Part B** and the Law of Total Probability to calculate the probability that the self check-out tends 6 customers is the next 10 minutes."
   ]
  },
  {
   "cell_type": "markdown",
   "metadata": {},
   "source": [
    "P(6): prob. self check-out tends 6 customers<br>\n",
    "p(w): prob. self check-out is working properly <br>\n",
    "p(f): prob. self check-out is forzen<br>\n",
    "\n",
    "$$P(6) = P(6 | w)P(w) + P(6 | f)p(f)$$<br>\n",
    "$$P(w) = 0.9 \\space \\space P(f) = 0.1$$"
   ]
  },
  {
   "cell_type": "code",
   "execution_count": 8,
   "metadata": {},
   "outputs": [
    {
     "name": "stdout",
     "output_type": "stream",
     "text": [
      "The probability self check-out tends 6 customers/10 minutes:\n",
      " 0.1316516216927174\n"
     ]
    }
   ],
   "source": [
    "prob = self_working*0.9 + self_frozen*0.1\n",
    "print(\"The probability self check-out tends 6 customers/10 minutes:\\n\", prob)\n"
   ]
  },
  {
   "cell_type": "markdown",
   "metadata": {},
   "source": [
    "**Part D**:  S'pose John is working a 5-hour shift from 4-9 PM after school. He gets no breaks, because the year is 1870 and worker's rights is not yet a thing.  Calculate **exactly** (aside from rounding) the probability that he serves 100 or more customers during his shift.  (Assume we can safely scale our data up to a 5-hour interval.)"
   ]
  },
  {
   "cell_type": "markdown",
   "metadata": {},
   "source": [
    "**Notes:**\n",
    "1. 4 customers / 10 mins $\\rightarrow$ 24 customers / 1 hour $\\rightarrow$ 120 customers / 5 hours \n",
    "2. $\\lambda = 120$\n",
    "3. We want to calculate the probability that $k \\geq 100$, which equals 1 - CDF of $k \\leq 99$.\n",
    "4. To calculate F(99), we can sum all probabilities of k between 0 and 99\n"
   ]
  },
  {
   "cell_type": "code",
   "execution_count": 9,
   "metadata": {},
   "outputs": [
    {
     "name": "stdout",
     "output_type": "stream",
     "text": [
      "Probability john serves 100 or more customers:\n",
      " 0.9721362601094793\n"
     ]
    }
   ],
   "source": [
    "john_shift = np.sum(get_probability(120, i) for i in range(100))\n",
    "print(\"Probability john serves 100 or more customers:\\n\", 1 - john_shift)\n"
   ]
  },
  {
   "cell_type": "markdown",
   "metadata": {},
   "source": [
    "**Part E**:  Write a function `checkout_count` to simulate the number of customers served by the self check-out machine in a 5-hour shift. At the very least, your function should take as input the working and broken customer arrival rate parameters, and the probability that the machine is working properly. Your simulation should model the arrival of each new customer, and sample whether or not the machine is working properly for each new customer. Then, your function should simulate customer arrival times at the front of the line by sampling between-customer times from $Exp(\\lambda)$ via Numpy's [random.exponential](https://docs.scipy.org/doc/numpy-1.13.0/reference/generated/numpy.random.exponential.html) function, where the argument $\\lambda$ will depend on the state of the machine (working or broken). Your function should return the number of customer arrivals in a 5-hour shift. Use at least 5000 simulations.\n",
    "\n",
    "Use this function to estimate the probability of the self check-out machine serves 100 or more customers in a 5-hour shift, and report your result.\n",
    "\n",
    "Finally, use **this same function**, to verify your answer to **Part D**.\n",
    "\n",
    "**Caution!**  Be aware that in some Numpy or Scipy functions for distribution and/or random variables, the conventions for the parameter arguments may differ from those used in class."
   ]
  },
  {
   "cell_type": "code",
   "execution_count": 10,
   "metadata": {},
   "outputs": [],
   "source": [
    "def checkout_count(time_len, rate_work, rate_broken, p):\n",
    "    '''\n",
    "    rate_work and rate_broken: how many customers served / 1 hour\n",
    "    time_len: in hours\n",
    "    p: probability machine is working properly\n",
    "    '''\n",
    "    num_customers = 0\n",
    "    rate = np.random.choice([rate_work, rate_broken], p=[p, 1-p])\n",
    "    time = np.random.exponential(1/rate)\n",
    "    while(time <= time_len):\n",
    "        num_customers += 1\n",
    "        rate = np.random.choice([rate_work, rate_broken], p=[p, 1-p])\n",
    "        time += np.random.exponential(1/rate)\n",
    "        \n",
    "    return num_customers"
   ]
  },
  {
   "cell_type": "code",
   "execution_count": 11,
   "metadata": {},
   "outputs": [
    {
     "name": "stdout",
     "output_type": "stream",
     "text": [
      "Probability self check-out machine serves >= 100 customers:\n",
      "0.7104\n"
     ]
    }
   ],
   "source": [
    "simulations = 5000\n",
    "results = [checkout_count(5, 30, 6, 0.9) for i in range(simulations)]\n",
    "more_than_100 = len([i for i in results if i >= 100])\n",
    "prob = more_than_100/simulations\n",
    "\n",
    "print(\"Probability self check-out machine serves >= 100 customers:\")\n",
    "print(prob)"
   ]
  },
  {
   "cell_type": "code",
   "execution_count": 12,
   "metadata": {},
   "outputs": [
    {
     "name": "stdout",
     "output_type": "stream",
     "text": [
      "Probability John serves >= 100 customers:\n",
      "0.9678\n"
     ]
    }
   ],
   "source": [
    "simulations = 5000\n",
    "results = [checkout_count(5, 24, 0, 1) for i in range(simulations)]\n",
    "more_than_100 = len([i for i in results if i >= 100])\n",
    "prob = more_than_100/simulations\n",
    "\n",
    "print(\"Probability John serves >= 100 customers:\")\n",
    "print(prob)"
   ]
  },
  {
   "cell_type": "markdown",
   "metadata": {},
   "source": [
    "**Part F:** Comment on the results you found in **Part E** for the probabilities that John and the self check-out machine will serve 100 or more customers in a 5-hour block. Which seems like a better investment for the grocery store?"
   ]
  },
  {
   "cell_type": "markdown",
   "metadata": {},
   "source": [
    "The probability that John serves more than 100 customers is higher than a self-check machine serves more than 100 customers. The reason is because the self-check machine freeze 1 out of 10 times.\n",
    "<br><br>\n",
    "**Hence**, John seems like a better investement for the store."
   ]
  },
  {
   "cell_type": "markdown",
   "metadata": {
    "collapsed": true
   },
   "source": [
    "### [20 points] Problem 3 \n",
    "***\n",
    "\n",
    "Let $X =$ the leading digit of a randomly selected number from a large accounting\n",
    "ledger. For example, if we randomly draw the number \\$20,695, then $X = 2.$\n",
    "People who make up numbers to commit accounting fraud tend to give $X$ a\n",
    "(discrete) uniform distribution, i.e., $P(X = x) = \\frac{1}{9}$, for $x \\in \\{1, ..., 9\\}$. However,\n",
    "there is empirical evidence that suggests that _naturally occurring_ numbers (e.g.,\n",
    "numbers in a non-fraudulent accounting ledgers) have leading digits that do not\n",
    "follow a uniform distribution. Instead, they follow a distribution defined by the following probability mass function:\n",
    "\n",
    "$$\n",
    "f(x) = \\log_{10}\\left( \\frac{x+1}{x} \\right) \\quad \\textrm{for } x = 1, 2, \\ldots, 9\n",
    "$$"
   ]
  },
  {
   "cell_type": "markdown",
   "metadata": {},
   "source": [
    "**Part A**: Write a function pmf_natural that implements $f(x)$. Your function should take in an integer $x$ and return $f(x) = P(X = x)$.  Use your function to argue that $f(x)$ is a well-defined probability mass function. "
   ]
  },
  {
   "cell_type": "code",
   "execution_count": 13,
   "metadata": {},
   "outputs": [],
   "source": [
    "def pmf_natural(x):\n",
    "    return math.log10((x + 1) / x)"
   ]
  },
  {
   "cell_type": "markdown",
   "metadata": {},
   "source": [
    "**Part B**: Use the function you wrote above to make two bar plots describing the pmf of the naturally occurring numbers as well as the discrete uniform distribution.  Make sure that the $x$- and $y$-limits on your plots are the same so that the two distributions are easy to compare. Please make one plot directly above the other. "
   ]
  },
  {
   "cell_type": "code",
   "execution_count": 14,
   "metadata": {},
   "outputs": [
    {
     "data": {
      "image/png": "[encoded data removed]",
      "text/plain": [
       "<Figure size 432x288 with 1 Axes>"
      ]
     },
     "metadata": {},
     "output_type": "display_data"
    },
    {
     "data": {
      "image/png": "[encoded data removed]",
      "text/plain": [
       "<Figure size 432x288 with 1 Axes>"
      ]
     },
     "metadata": {},
     "output_type": "display_data"
    }
   ],
   "source": [
    "x = [i for i in range(1, 10)]\n",
    "discrete_pmf = [1/9]*9\n",
    "natural_pmf = [pmf_natural(i) for i in range(1, 10)]\n",
    "\n",
    "#############\n",
    "\n",
    "fig, ax = plt.subplots()\n",
    "ax.bar(x, discrete_pmf)\n",
    "ax.set_xticks(x)\n",
    "ax.set_ylim(0, 0.32)\n",
    "ax.set_title(\"PMF of discrete uniform distribution\")\n",
    "ax.set_xlabel(\"Digit\")\n",
    "ax.set_ylabel(\"Density\")\n",
    "\n",
    "#############\n",
    "\n",
    "fig, ax2 = plt.subplots()\n",
    "ax2.bar(x, natural_pmf)\n",
    "ax2.set_xticks(x)\n",
    "ax2.set_ylim(0, 0.32)\n",
    "ax2.set_title(\"PMF of naturally occurring numbers\")\n",
    "ax2.set_xlabel(\"Digit\")\n",
    "ax2.set_ylabel(\"Density\")\n",
    "\n",
    "plt.show()"
   ]
  },
  {
   "cell_type": "markdown",
   "metadata": {},
   "source": [
    "**Part C**: Write a function cdf_natural that implements the cumulative distribution function $F(y)$ for $X$ and use it to compute the probability that the leading digit in a number is at most 4 and at most 5. "
   ]
  },
  {
   "cell_type": "code",
   "execution_count": 15,
   "metadata": {},
   "outputs": [
    {
     "name": "stdout",
     "output_type": "stream",
     "text": [
      "Probability leading digit is at most 4:\n",
      "0.6989700043360189\n",
      "Probability leading digit is at most 5:\n",
      "0.7781512503836436\n"
     ]
    }
   ],
   "source": [
    "def cdf_natural(y):\n",
    "    cdf = np.sum([pmf_natural(i) for i in range(1, y+1)])\n",
    "    return cdf  \n",
    "\n",
    "print(\"Probability leading digit is at most 4:\"),\n",
    "print(cdf_natural(4))\n",
    "\n",
    "print(\"Probability leading digit is at most 5:\"),\n",
    "print(cdf_natural(5))"
   ]
  },
  {
   "cell_type": "markdown",
   "metadata": {},
   "source": [
    "**Part D**: The data in tax_data.txt contains the taxable income for individuals in 1978. Use Pandas and the information from **Parts A-D** to determine whether or not the dataset is likely fraudulent.  In addition to code and any graphical summaries, make sure to clearly justify your conclusion in words. "
   ]
  },
  {
   "cell_type": "code",
   "execution_count": 16,
   "metadata": {},
   "outputs": [
    {
     "data": {
      "image/png": "[encoded data removed]",
      "text/plain": [
       "<Figure size 432x288 with 1 Axes>"
      ]
     },
     "metadata": {},
     "output_type": "display_data"
    }
   ],
   "source": [
    "df = pd.read_csv(\"tax_data.txt\", sep=\"\\t\", skiprows=[0], header=None)\n",
    "length = int(df[1].count())\n",
    "\n",
    "counts = []\n",
    "x = [i for i in range(10)]\n",
    "for i in range(10):\n",
    "    counts.append(df[1].apply(lambda x: x if str(x)[0] == str(i) else None).count())\n",
    "\n",
    "percentage = [i/length for i in counts]\n",
    "\n",
    "fig, ax = plt.subplots()\n",
    "ax.bar(x, percentage)\n",
    "ax.set_xticks(x)\n",
    "ax.set_ylim(0, 0.32)\n",
    "ax.set_title(\"Density of digits [0-9] in the text file\")\n",
    "ax.set_xlabel(\"Digit\")\n",
    "ax.set_ylabel(\"Density\")\n",
    "\n",
    "plt.show()"
   ]
  },
  {
   "cell_type": "markdown",
   "metadata": {},
   "source": [
    "According to the plot above, which shows the density of each leading digit in the text file, the dataset is **very unlikely** to be fraudulent."
   ]
  },
  {
   "cell_type": "markdown",
   "metadata": {},
   "source": [
    "### [20 points] Problem 4\n",
    "***\n",
    "\n",
    "Well. They're back at it. Tony and Dan are honing their lightsaber skills, and this time they've got a _new_ tournament format. (They wouldn't have had to switch formats, but you figured out all the probabilities for their previous tournament format two weeks ago, so this is on you.)\n",
    "\n",
    "The new format is a _Best-of-9 Series_ of individual duels. The first professor to win 5 duels is declared the winner. Each duel can be considered to be independent of all previous duels. Moreover, a rigorous statistical analysis of Tony's and Dan's strengths, weaknesses, and handwriting, has revealed that Tony has an edge: the probability that Tony wins any one duel against Dan is given by $p=0.56$."
   ]
  },
  {
   "cell_type": "markdown",
   "metadata": {},
   "source": [
    "**Part A**: What is the probability that Tony wins the 9-duel series on the 8th duel? "
   ]
  },
  {
   "cell_type": "markdown",
   "metadata": {},
   "source": [
    "P(T wins series on 8th dual) = P(wins 4 of the last 7 duals)P(wins the 8th dual)<br>\n",
    "$$= {7 \\choose 4}p^4(1-p)^3p = {7 \\choose 4}p^5(1-p)^3$$"
   ]
  },
  {
   "cell_type": "code",
   "execution_count": 19,
   "metadata": {},
   "outputs": [
    {
     "name": "stdout",
     "output_type": "stream",
     "text": [
      "Probability Tony wins the series on 8th dual 0.1642\n"
     ]
    }
   ],
   "source": [
    "p = 0.56\n",
    "prob = binom(7,4)*(p**5)*((1-p)**3)\n",
    "print(\"Probability Tony wins the series on 8th dual {:.4f}\".format(prob))"
   ]
  },
  {
   "cell_type": "markdown",
   "metadata": {},
   "source": [
    "**Part B**: What is the probability that Tony wins the 9-duel series in _any_ valid number of duels? "
   ]
  },
  {
   "cell_type": "markdown",
   "metadata": {},
   "source": [
    "Probability that Tony wins the series is given by:<br>\n",
    "P(T) = P(T | 5)P(5) + P(T | 6)P(6) + P(T | 7)P(7) + P(T | 8)P(8) + P(T | 9)P(9)\n",
    "<br><br>\n",
    "$$P(T) = {5 \\choose 5}p^5 + {5 \\choose 4}p^4(1-p)p + {6 \\choose 4}p^4(1-p)^2p + {7 \\choose 4}p^4(1-p)^3p + {8 \\choose 4}p^4(1-p)^4p$$\n",
    "<br>\n",
    "$$P(T) = {5 \\choose 5}p^5 + {5 \\choose 4}p^5(1-p) + {6 \\choose 4}p^5(1-p)^2 + {7 \\choose 4}p^5(1-p)^3 + {8 \\choose 4}p^5(1-p)^4$$"
   ]
  },
  {
   "cell_type": "code",
   "execution_count": 20,
   "metadata": {},
   "outputs": [
    {
     "name": "stdout",
     "output_type": "stream",
     "text": [
      "P(T) = 0.6449\n"
     ]
    }
   ],
   "source": [
    "p = 0.56\n",
    "prob = binom(5, 5)*(p**5) + binom(5, 4)*(p**5)*(1-p) + \\\n",
    "       binom(6, 4)*(p**5)*((1-p)**2) + binom(7, 4)*(p**5)*((1-p)**3) + \\\n",
    "       binom(8, 4)*(p**5)*((1-p)**4)\n",
    "\n",
    "print(\"P(T) = {:.4f}\".format(prob))"
   ]
  },
  {
   "cell_type": "markdown",
   "metadata": {},
   "source": [
    "**Part C**: The winner of the tournament will take home \\$10,000 to use for a giant home aquarium for Stella the Octopus. Because the stakes are so high, Tony has decided to hire a famous Jedi consultant, Darth Ketelsen, to help him prepare for each duel. \n",
    "\n",
    "With Ketelsen's help, Tony's probability of winning any given match increases to $p = 0.7$. Ketelsen charges a fee of \\$90 per game, but as a testament to her confidence in her abilities, only charges Tony the \\$90 for games that he wins and _only if Tony wins the whole tournament_.  So, if Tony competes in a 9-duel tournament and wins, he will take home \\$10,000 _minus_ \\$450 for Darth Ketelsen's fees, for a total payout of \\$9,550.  What is the expected payout for a 9-duel series?   "
   ]
  },
  {
   "cell_type": "markdown",
   "metadata": {},
   "source": [
    "$$E[X] = \\sum_i a_ip(a_i)$$\n",
    "<br>\n",
    "If Tony wins the series on any dual (5-9), he will get the total payout of 9550. Hence, $a_i$ for i in [5, 9] is 9550.\n",
    "<br>\n",
    "By knowing that, the expected payout = (probability that Tony wins the series)(the total payout)"
   ]
  },
  {
   "cell_type": "code",
   "execution_count": 40,
   "metadata": {},
   "outputs": [
    {
     "name": "stdout",
     "output_type": "stream",
     "text": [
      "The expected payout for 9-duel series: 8606.377\n"
     ]
    }
   ],
   "source": [
    "payout = 9550\n",
    "p = 0.7\n",
    "prob = binom(5, 5)*(p**5) + binom(5, 4)*(p**5)*(1-p) + \\\n",
    "       binom(6, 4)*(p**5)*((1-p)**2) + binom(7, 4)*(p**5)*((1-p)**3) + \\\n",
    "       binom(8, 4)*(p**5)*((1-p)**4)\n",
    "print(\"The expected payout for 9-duel series: {:.3f}\".format(payout*prob))"
   ]
  },
  {
   "cell_type": "markdown",
   "metadata": {},
   "source": [
    "**Part D**: This year the Jedi Knight Lightsaber-on-Lightsaber Association (the JKLOL Assoc) is implementing an experimental rule: Since Tony is rumored to be the stronger duelist, he gets to _choose_ the length of the championship tournament! Specifically, he can choose the series to be any odd length, from $N=3, 5, 7 \\dots, 99$ duels long. Assuming that Tony continues to use the service of Darth Ketelsen, and considering the fact that Tony has a better-than-even chance of winning each duel, explain the trade-offs between choosing a short series vs. a long series in terms of Expected Payout. "
   ]
  },
  {
   "cell_type": "markdown",
   "metadata": {},
   "source": [
    "The longer the duel, the higher the probability that Tony wins. However, the longer the duel, the more money Tony loses to Darth Ketelsen. <br>\n",
    "Hence, by calculating the expected payout, I think that Tony should choose the length of the series with the highest (probability * total_payout)"
   ]
  },
  {
   "cell_type": "markdown",
   "metadata": {},
   "source": [
    "**Part E**: Write a function `optimal_series` that takes in $p$, the probability that Tony wins an individual duel, then computes the Expected Payout for each series of length $N=3, 5, 7, \\ldots 99$ and returns the optimal series length.  In addition to returning the optimal series length, your function should also produce a plot of Expected Payout vs Series Length. You may write any additional helper functions that you like, but you should not change the API for the function optimal_series. "
   ]
  },
  {
   "cell_type": "code",
   "execution_count": 101,
   "metadata": {},
   "outputs": [],
   "source": [
    "def optimal_series(p):\n",
    "    payouts = []\n",
    "    for i in range(3, 100, 2):\n",
    "        duals = (i+1)//2\n",
    "        fees = 90*duals\n",
    "        prob = p**duals\n",
    "        for j in range(i//2):\n",
    "            prob += binom(duals+j, duals-1)*(p**duals)*((1-p)**(j+1))\n",
    "        \n",
    "        total_payout = 10000 - fees\n",
    "        payouts.append(prob*total_payout)\n",
    "    \n",
    "    optimal_series_length = (2 * payouts.index(max(payouts))) + 3\n",
    "    x = [i for i in range(3, 100, 2)]\n",
    "    plt.plot(x, payouts)\n",
    "    plt.xlabel(\"Series length\")\n",
    "    plt.ylabel(\"Expected payout\")\n",
    "    plt.show()\n",
    "    \n",
    "    return optimal_series_length"
   ]
  },
  {
   "cell_type": "code",
   "execution_count": 120,
   "metadata": {},
   "outputs": [
    {
     "data": {
      "image/png": "[encoded data removed]",
      "text/plain": [
       "<Figure size 432x288 with 1 Axes>"
      ]
     },
     "metadata": {},
     "output_type": "display_data"
    },
    {
     "name": "stdout",
     "output_type": "stream",
     "text": [
      "Optimal series length for p=0.7 is 17\n"
     ]
    }
   ],
   "source": [
    "p = 0.7\n",
    "print(\"Optimal series length for p={} is {}\".format(p, optimal_series(p)))\n",
    "      \n",
    "      "
   ]
  },
  {
   "cell_type": "code",
   "execution_count": null,
   "metadata": {},
   "outputs": [],
   "source": []
  },
  {
   "cell_type": "markdown",
   "metadata": {},
   "source": [
    "### [20 points] Problem 5\n",
    "\n",
    "Cement your superior stochastic simulation skills by solving some straightforward simulation scenarios."
   ]
  },
  {
   "cell_type": "markdown",
   "metadata": {},
   "source": [
    "**Part A**: Using a stochastic simulation, compute the probability that, from a shuffled standard deck of cards, two cards are sequentially chosen which have either identical value or _adjacent_ value. You may let Aces be high or low, but not both."
   ]
  },
  {
   "cell_type": "code",
   "execution_count": 408,
   "metadata": {},
   "outputs": [
    {
     "name": "stdout",
     "output_type": "stream",
     "text": [
      "P(2 identitcal or adjacent cards) = 0.14307\n"
     ]
    }
   ],
   "source": [
    "def adjOrIdentical(deck):\n",
    "    np.random.shuffle(deck)\n",
    "    choice = np.random.choice(deck, size=2, replace=False)\n",
    "    index1 = deck.index(choice[0])\n",
    "    index2 = deck.index(choice[1])\n",
    "    \n",
    "    if(abs(index1 - index2) in [0, 1]):\n",
    "        return True\n",
    "    return False\n",
    "\n",
    "#ordered cards\n",
    "cards = ['2', '3', '4', '5', '6', '7', '8', '9', '10', 'J', 'Q', 'K', 'A']\n",
    "deck = cards*4\n",
    "\n",
    "num = 100000\n",
    "count = 0 #increase if two cards are identical or adjacent\n",
    "simulations = [adjOrIdentical(deck) for i in range(num)]\n",
    "for i in simulations:\n",
    "    if(i == True):\n",
    "        count += 1\n",
    "\n",
    "print(\"P(2 identitcal or adjacent cards) = {}\".format(count/num))"
   ]
  },
  {
   "cell_type": "markdown",
   "metadata": {},
   "source": [
    "**Part B**: Using a stochastic simulation, compute the probability that, from a shuffled standard deck of cards, three cards are sequentially chosen which form a run, e.g. 4-5-6 or 9-10-J. (The cards do not need to be drawn in order, like 4,5,6... any order is fine, like 6,4,5.) You may let Aces be high or low, but not both."
   ]
  },
  {
   "cell_type": "code",
   "execution_count": 409,
   "metadata": {},
   "outputs": [
    {
     "name": "stdout",
     "output_type": "stream",
     "text": [
      "P(3 cards are sequentially chosen) = 0.03209\n"
     ]
    }
   ],
   "source": [
    "def sequentialChoice(deck):\n",
    "    np.random.shuffle(deck)\n",
    "    choices = sorted(np.random.choice(deck, size=3, replace=False))\n",
    "\n",
    "    if((choices[1] == choices[0]+1) and (choices[2] == choices[1]+1)):\n",
    "        return True\n",
    "    return False\n",
    "\n",
    "#ordered cards\n",
    "# 1:A, 11:J, 12:Q, 13:K\n",
    "cards = [i for i in range(1, 14)]\n",
    "deck = cards*4\n",
    "\n",
    "num = 100000\n",
    "count = 0\n",
    "simulations = [sequentialChoice(deck) for i in range(num)]\n",
    "for i in simulations:\n",
    "    if(i == True):\n",
    "        count += 1\n",
    "\n",
    "print(\"P(3 cards are sequentially chosen) = {}\".format(count/num))\n"
   ]
  },
  {
   "cell_type": "markdown",
   "metadata": {},
   "source": [
    "**Part C**: When flipping over cards, sequentially, from a randomly shuffled deck, what is the probability that the third Ace will be revealed between flips 16 and 24, inclusively?"
   ]
  },
  {
   "cell_type": "code",
   "execution_count": 411,
   "metadata": {},
   "outputs": [
    {
     "name": "stdout",
     "output_type": "stream",
     "text": [
      "P(3rd Ace revealed between 16-24 flips) = 0.09816\n"
     ]
    }
   ],
   "source": [
    "def ace16and24flips(deck):\n",
    "    np.random.shuffle(deck)\n",
    "    flips = list(np.random.choice(deck, size=24, replace=False))\n",
    "    \n",
    "    if (flips[:15].count('A') == 2) and (flips[15:].count('A') == 1):\n",
    "        return True\n",
    "    return False\n",
    "\n",
    "    \n",
    "cards = ['2', '3', '4', '5', '6', '7', '8', '9', '10', 'J', 'Q', 'K', 'A']\n",
    "deck = cards*4\n",
    "\n",
    "num = 100000\n",
    "count = 0\n",
    "simulations = [ace16and24flips(deck) for i in range(num)]\n",
    "for i in simulations:\n",
    "    if(i == True):\n",
    "        count += 1\n",
    "\n",
    "print(\"P(3rd Ace revealed between 16-24 flips) = {}\".format(count/num))\n"
   ]
  },
  {
   "cell_type": "markdown",
   "metadata": {},
   "source": [
    "**Part D**: Using a stochastic simulation, determine the probability mass function for: the probability that the first card drawn is an $X$, given that the card was part of a 3-card sequence (as in Part B). Express your PMF as a bar graph. Explain why it has the shape that it has."
   ]
  },
  {
   "cell_type": "code",
   "execution_count": 436,
   "metadata": {},
   "outputs": [],
   "source": [
    "def draw3cards(deck):\n",
    "    np.random.shuffle(deck)\n",
    "    choices = np.random.choice(deck, size=3, replace=False)\n",
    "    temp = sorted(choices)\n",
    "    if((temp[1] == temp[0]+1) and (temp[2] == temp[1]+1)):\n",
    "        return list(choices)\n",
    "    return []"
   ]
  },
  {
   "cell_type": "code",
   "execution_count": 478,
   "metadata": {},
   "outputs": [
    {
     "name": "stdout",
     "output_type": "stream",
     "text": [
      "[0.33174386920980925, 0.32668843443890705, 0.33666288308740067, 0.3424548654479391, 0.3268254147387428, 0.33189606263474414, 0.3329532497149373, 0.33503749147920925, 0.33741138806311455, 0.3213066241748236, 0.3382014719411224, 0.3296608710621449, 0.3476901701979854]\n"
     ]
    }
   ],
   "source": [
    "#ordered cards\n",
    "# 1:A, 11:J, 12:Q, 13:K\n",
    "cards = [i for i in range(1, 14)]\n",
    "deck = cards*4\n",
    "\n",
    "num = 1000000\n",
    "straights = []\n",
    "for i in range(num):\n",
    "    draw = draw3cards(deck)\n",
    "    if(draw != []):\n",
    "        straights.append(draw)\n",
    "\n",
    "probs = []\n",
    "for card in cards:\n",
    "    temp_seq = []\n",
    "    for seq in straights:\n",
    "        if card in seq:\n",
    "            temp_seq.append(seq)\n",
    "    temp_count = 0\n",
    "    for s in temp_seq:\n",
    "        if card == s[0]:\n",
    "            temp_count += 1\n",
    "    if temp_count != 0:\n",
    "        probs.append(temp_count/len(temp_seq))\n",
    "    else:\n",
    "        probs.append(0)\n",
    "        \n",
    "print(probs)\n",
    "\n"
   ]
  },
  {
   "cell_type": "code",
   "execution_count": 479,
   "metadata": {},
   "outputs": [
    {
     "data": {
      "image/png": "[encoded data removed]",
      "text/plain": [
       "<Figure size 432x288 with 1 Axes>"
      ]
     },
     "metadata": {},
     "output_type": "display_data"
    }
   ],
   "source": [
    "new_cards = ['A', '2', '3', '4', '5', '6', '7', '8', '9', '10', 'J', 'Q', 'K']\n",
    "\n",
    "fig, ax = plt.subplots()\n",
    "ax.bar(new_cards, probs)\n",
    "ax.set_xticks(new_cards)\n",
    "ax.set_title(\"PMF: P(X first card| X in 3-card sequence)\")\n",
    "ax.set_xlabel(\"Card\")\n",
    "ax.set_ylabel(\"Density\")\n",
    "plt.show()"
   ]
  },
  {
   "cell_type": "code",
   "execution_count": null,
   "metadata": {},
   "outputs": [],
   "source": []
  }
 ],
 "metadata": {
  "kernelspec": {
   "display_name": "Python 3",
   "language": "python",
   "name": "python3"
  },
  "language_info": {
   "codemirror_mode": {
    "name": "ipython",
    "version": 3
   },
   "file_extension": ".py",
   "mimetype": "text/x-python",
   "name": "python",
   "nbconvert_exporter": "python",
   "pygments_lexer": "ipython3",
   "version": "3.6.5"
  }
 },
 "nbformat": 4,
 "nbformat_minor": 2
}
