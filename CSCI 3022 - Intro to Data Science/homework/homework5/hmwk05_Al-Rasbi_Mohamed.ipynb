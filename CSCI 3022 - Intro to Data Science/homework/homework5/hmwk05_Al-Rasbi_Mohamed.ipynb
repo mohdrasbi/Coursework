{
 "cells": [
  {
   "cell_type": "markdown",
   "metadata": {},
   "source": [
    "<a id='top'></a>\n",
    "\n",
    "# Homework 5: Confidence intervals and other things\n",
    "***\n",
    "\n",
    "**Name**: Mohamed Al-Rasbi\n",
    "\n",
    "***\n",
    "\n",
    "This assignment is due on Moodle by **5 PM on Friday November 9**. Your solutions to theoretical questions should be done in Markdown/MathJax directly below the associated question.  Your solutions to computational questions should include any specified Python code and results as well as written commentary on your conclusions.  Remember that you are encouraged to discuss the problems with your instructors and classmates, but **you must write all code and solutions on your own**.  \n",
    "\n",
    "**NOTES**: \n",
    "\n",
    "- Do **NOT** load or use any Python packages that are not available in Anaconda 3.6. \n",
    "- Some problems with code may be autograded.  If we provide a function API **do not** change it.  If we do not provide a function API then you're free to structure your code however you like. \n",
    "- Because you can technically evaluate notebook cells is a non-linear order, it's a good idea to do Cell $\\rightarrow$ Run All as a check before submitting your solutions.  That way if we need to run your code you will know that it will work as expected. \n",
    "- Submit only this Jupyter notebook to Moodle.  Do not compress it using tar, rar, zip, etc. \n",
    "- This should go without saying, but... For any question that asks you to calculate something, you **must show all work to receive credit**. Sparse or nonexistent work will receive sparse or nonexistent credit.\n",
    "\n",
    "---\n",
    "**Shortcuts:**  [Problem 1](#p1) | [Problem 2](#p2) | [Problem 3](#p3) | [Problem 4](#p4)\n",
    "\n",
    "---"
   ]
  },
  {
   "cell_type": "code",
   "execution_count": 1,
   "metadata": {
    "scrolled": true
   },
   "outputs": [],
   "source": [
    "import numpy as np\n",
    "import matplotlib.pyplot as plt\n",
    "import pandas as pd\n",
    "import scipy.stats as stats\n",
    "import matplotlib.patches as mpatches\n",
    "import math\n",
    "%matplotlib inline"
   ]
  },
  {
   "cell_type": "markdown",
   "metadata": {},
   "source": [
    "---\n",
    "\n",
    "<a id='p1'></a>\n",
    "[Back to top](#top)\n",
    "\n",
    "### [30 points] Problem 1 - Sea-level rise, schmee-level rise!\n",
    "\n",
    "You have been contacted by the local government of Key West, Florida, to assess whether there is statistical evidence for sea-level rise in the area. You obtain from the University of Hawaii Sea Level Center's [gigantic repository of sea-level data](https://uhslc.soest.hawaii.edu/data/?rq) the daily mean sea levels file [linked here](https://piazza.com/class_profile/get_resource/jhaqogsdelf76h/jixzm0rl5dp6y4) and below.\n",
    "\n",
    "In this problem, you will:\n",
    "1. practice calculating confidence intervals, \n",
    "1. practice wrangling a real-life data set into a form where you can actually compute these confidence intervals, because life will rarely be so kind as to simply hand you a nicely packaged and cleaned set of data, and\n",
    "1. save Key West from a watery fate?"
   ]
  },
  {
   "cell_type": "code",
   "execution_count": 2,
   "metadata": {
    "scrolled": true
   },
   "outputs": [
    {
     "data": {
      "text/html": [
       "<div>\n",
       "<style scoped>\n",
       "    .dataframe tbody tr th:only-of-type {\n",
       "        vertical-align: middle;\n",
       "    }\n",
       "\n",
       "    .dataframe tbody tr th {\n",
       "        vertical-align: top;\n",
       "    }\n",
       "\n",
       "    .dataframe thead th {\n",
       "        text-align: right;\n",
       "    }\n",
       "</style>\n",
       "<table border=\"1\" class=\"dataframe\">\n",
       "  <thead>\n",
       "    <tr style=\"text-align: right;\">\n",
       "      <th></th>\n",
       "      <th>Year</th>\n",
       "      <th>Month</th>\n",
       "      <th>Day</th>\n",
       "      <th>SL</th>\n",
       "    </tr>\n",
       "  </thead>\n",
       "  <tbody>\n",
       "    <tr>\n",
       "      <th>0</th>\n",
       "      <td>1913</td>\n",
       "      <td>1</td>\n",
       "      <td>20</td>\n",
       "      <td>1453</td>\n",
       "    </tr>\n",
       "    <tr>\n",
       "      <th>1</th>\n",
       "      <td>1913</td>\n",
       "      <td>1</td>\n",
       "      <td>21</td>\n",
       "      <td>1439</td>\n",
       "    </tr>\n",
       "    <tr>\n",
       "      <th>2</th>\n",
       "      <td>1913</td>\n",
       "      <td>1</td>\n",
       "      <td>22</td>\n",
       "      <td>1444</td>\n",
       "    </tr>\n",
       "    <tr>\n",
       "      <th>3</th>\n",
       "      <td>1913</td>\n",
       "      <td>1</td>\n",
       "      <td>23</td>\n",
       "      <td>1489</td>\n",
       "    </tr>\n",
       "    <tr>\n",
       "      <th>4</th>\n",
       "      <td>1913</td>\n",
       "      <td>1</td>\n",
       "      <td>24</td>\n",
       "      <td>1474</td>\n",
       "    </tr>\n",
       "  </tbody>\n",
       "</table>\n",
       "</div>"
      ],
      "text/plain": [
       "   Year  Month  Day    SL\n",
       "0  1913      1   20  1453\n",
       "1  1913      1   21  1439\n",
       "2  1913      1   22  1444\n",
       "3  1913      1   23  1489\n",
       "4  1913      1   24  1474"
      ]
     },
     "execution_count": 2,
     "metadata": {},
     "output_type": "execute_result"
    }
   ],
   "source": [
    "# Local and web paths to the data; pick which works for you.\n",
    "local_path = \"data/sealevel_keywest.csv\"\n",
    "web_path   = \"https://raw.githubusercontent.com/dblarremore/csci3022/master/homework/homework5/data/sealevel_keywest.csv\"\n",
    "file_path  = local_path\n",
    "\n",
    "dfSL = pd.read_csv(file_path, header=None)\n",
    "dfSL.rename(columns={0 : 'Year', 1 : 'Month', 2 : 'Day', 3 : 'SL'}, inplace=True)\n",
    "dfSL.head()"
   ]
  },
  {
   "cell_type": "markdown",
   "metadata": {},
   "source": [
    "**Part A:**  Write a function `clean_data` to:\n",
    "1. take in a single argument of a raw sea level data frame (e.g., `dfSL` above),\n",
    "2. compute the fill-value used to replace missing sea level (SL) data (**not** hard-coded!),\n",
    "3. use the Pandas `DataFrame.dropna` method to remove all missing rows of data, \n",
    "4. select only the data point on the second day of each month, and\n",
    "4. return a cleaned Pandas data frame.\n",
    "\n",
    "Use your shiny new function to clean the `dfSL` data frame and save the results in a new data frame.\n",
    "\n",
    "There is a very specific reason to sample only one daily data point per month. We will talk about it later."
   ]
  },
  {
   "cell_type": "code",
   "execution_count": 3,
   "metadata": {},
   "outputs": [
    {
     "name": "stderr",
     "output_type": "stream",
     "text": [
      "/anaconda3/lib/python3.6/site-packages/ipykernel_launcher.py:3: UserWarning: Boolean Series key will be reindexed to match DataFrame index.\n",
      "  This is separate from the ipykernel package so we can avoid doing imports until\n"
     ]
    },
    {
     "data": {
      "text/html": [
       "<div>\n",
       "<style scoped>\n",
       "    .dataframe tbody tr th:only-of-type {\n",
       "        vertical-align: middle;\n",
       "    }\n",
       "\n",
       "    .dataframe tbody tr th {\n",
       "        vertical-align: top;\n",
       "    }\n",
       "\n",
       "    .dataframe thead th {\n",
       "        text-align: right;\n",
       "    }\n",
       "</style>\n",
       "<table border=\"1\" class=\"dataframe\">\n",
       "  <thead>\n",
       "    <tr style=\"text-align: right;\">\n",
       "      <th></th>\n",
       "      <th>Year</th>\n",
       "      <th>Month</th>\n",
       "      <th>Day</th>\n",
       "      <th>SL</th>\n",
       "    </tr>\n",
       "  </thead>\n",
       "  <tbody>\n",
       "    <tr>\n",
       "      <th>13</th>\n",
       "      <td>1913.0</td>\n",
       "      <td>2.0</td>\n",
       "      <td>2.0</td>\n",
       "      <td>1409.0</td>\n",
       "    </tr>\n",
       "    <tr>\n",
       "      <th>41</th>\n",
       "      <td>1913.0</td>\n",
       "      <td>3.0</td>\n",
       "      <td>2.0</td>\n",
       "      <td>1397.0</td>\n",
       "    </tr>\n",
       "    <tr>\n",
       "      <th>72</th>\n",
       "      <td>1913.0</td>\n",
       "      <td>4.0</td>\n",
       "      <td>2.0</td>\n",
       "      <td>1402.0</td>\n",
       "    </tr>\n",
       "    <tr>\n",
       "      <th>102</th>\n",
       "      <td>1913.0</td>\n",
       "      <td>5.0</td>\n",
       "      <td>2.0</td>\n",
       "      <td>1450.0</td>\n",
       "    </tr>\n",
       "    <tr>\n",
       "      <th>133</th>\n",
       "      <td>1913.0</td>\n",
       "      <td>6.0</td>\n",
       "      <td>2.0</td>\n",
       "      <td>1490.0</td>\n",
       "    </tr>\n",
       "  </tbody>\n",
       "</table>\n",
       "</div>"
      ],
      "text/plain": [
       "       Year  Month  Day      SL\n",
       "13   1913.0    2.0  2.0  1409.0\n",
       "41   1913.0    3.0  2.0  1397.0\n",
       "72   1913.0    4.0  2.0  1402.0\n",
       "102  1913.0    5.0  2.0  1450.0\n",
       "133  1913.0    6.0  2.0  1490.0"
      ]
     },
     "execution_count": 3,
     "metadata": {},
     "output_type": "execute_result"
    }
   ],
   "source": [
    "def clean_data(df):\n",
    "    df[df['SL'] < 0] = None\n",
    "    df = df.dropna()[dfSL['Day'] == 2]\n",
    "    \n",
    "    dfClean = df\n",
    "    return dfClean\n",
    "\n",
    "dfClean = clean_data(dfSL)\n",
    "dfClean.head()"
   ]
  },
  {
   "cell_type": "markdown",
   "metadata": {},
   "source": [
    "**Part B:**  Plot the cleaned time series of sea levels. Be sure to label your axes, including units. The UHSLC data portal includes a link to the metadata accompanying our data set; if you are not sure about units, that would be a good place to start looking. For the $x$-axis, place the $x$ tick marks on January 2 of each year that is divisible by 10 (i.e., 1920, 1930, ...), and label with that year. You may need to do additional processing in order to grab these indices. \n",
    "\n",
    "**Bonus challenge (0 points):**  Why do we choose to work with the second day of each month instead of the first?  You may need to look at the original data set to answer this."
   ]
  },
  {
   "cell_type": "code",
   "execution_count": 4,
   "metadata": {},
   "outputs": [
    {
     "data": {
      "image/png": "[encoded data removed]",
      "text/plain": [
       "<Figure size 432x288 with 1 Axes>"
      ]
     },
     "metadata": {},
     "output_type": "display_data"
    }
   ],
   "source": [
    "ticks = dfClean[(dfClean['Year'] % 10 == 0) & (dfClean['Month'] == 1)]['Year']\n",
    "x = []\n",
    "y = []\n",
    "for i in range(len(dfClean)):\n",
    "    x.append(dfClean.iloc[i].Year)\n",
    "    y.append(dfClean.iloc[i].SL)\n",
    "\n",
    "plt.plot(x, y)\n",
    "plt.xticks(ticks)\n",
    "plt.title(\"Sea-level in Key West\")\n",
    "plt.ylabel(\"Millimeters\")\n",
    "plt.xlabel(\"Year\")\n",
    "plt.show()"
   ]
  },
  {
   "cell_type": "markdown",
   "metadata": {},
   "source": [
    "**Part C:** Use your cleaned sea levels data frame to create two new Pandas data frames or series:\n",
    "1. one object to contain the sea levels between (and including) the years 1986 and 1995, and\n",
    "2. another object to contain the sea levels between (and including) the years 2006 and 2015.\n",
    "\n",
    "Then, create a single-panel figure that includes density histograms of each decade of sea levels. Be sure to label everything appropriately.\n",
    "\n",
    "Finally, based on the data in front of you, formulate and state a hypothesis about how the mean sea level in the decade 2006-2015 compares to the mean sea level in the decade 1986-1995."
   ]
  },
  {
   "cell_type": "code",
   "execution_count": 5,
   "metadata": {},
   "outputs": [
    {
     "data": {
      "image/png": "[encoded data removed]",
      "text/plain": [
       "<Figure size 432x288 with 1 Axes>"
      ]
     },
     "metadata": {},
     "output_type": "display_data"
    }
   ],
   "source": [
    "d1 = dfClean[(dfClean[\"Year\"] >= 1986) & (dfClean[\"Year\"] <= 1995)]\n",
    "d1_sl = d1[\"SL\"]\n",
    "\n",
    "d2 = dfClean[(dfClean[\"Year\"] >= 2006) & (dfClean[\"Year\"] <= 2015)]\n",
    "d2_sl = d2[\"SL\"]\n",
    "\n",
    "fig, ax = plt.subplots()\n",
    "ax.hist(d1_sl, density=True, alpha=0.4, color=\"darkgreen\")\n",
    "ax.hist(d2_sl, density=True, alpha=0.4, color=\"navy\")\n",
    "\n",
    "p1 = mpatches.Patch(color='darkgreen', label='1986-1995', alpha=0.4)\n",
    "p2 = mpatches.Patch(color='navy', label='2006-2015', alpha=0.4)\n",
    "plt.legend(handles=[p1, p2])\n",
    "plt.xlabel(\"Sea level in mm\")\n",
    "plt.ylabel(\"Density\")\n",
    "plt.title(\"Density hist of sea levels in Key West\")\n",
    "\n",
    "plt.show()"
   ]
  },
  {
   "cell_type": "code",
   "execution_count": 6,
   "metadata": {},
   "outputs": [
    {
     "name": "stdout",
     "output_type": "stream",
     "text": [
      "Mean SL 1986-1995: 1670.58\n",
      "Mean SL 2006-2015: 1720.68\n"
     ]
    }
   ],
   "source": [
    "print(\"Mean SL 1986-1995: {:.2f}\".format(d1_sl.mean()))\n",
    "print(\"Mean SL 2006-2015: {:.2f}\".format(d2_sl.mean()))"
   ]
  },
  {
   "cell_type": "markdown",
   "metadata": {},
   "source": [
    "As we can see from the histogram and the calculated means above, the mean of the sea level in the decade 2006-2015 is greater than the mean of the sea level in the decade 1986-1995.<br>\n",
    "Also, we can see from the histogram that the values became bigger.<br>\n",
    "<br>\n",
    "Hence, the sea level in Key West was increasing since 1986."
   ]
  },
  {
   "cell_type": "markdown",
   "metadata": {},
   "source": [
    "**Part D:** Compute a 99.9% confidence interval for each of (1) the mean sea level in the 1986-1995 decade ($\\mu_{1986-1995}$) and (2) the mean sea level in the 2006-2015 decade ($\\mu_{2006-2015}$).  You may use Python for arithmetic operations and executing the calculations, but the relevant steps/set-up should be displayed in Markdown/MathJax.\n",
    "\n",
    "Based on these two confidence intervals, do you think there is sufficient evidence to conclude that there is or is not a significant difference in the mean sea level between 1986-1995 and 2006-2015? Justify your answer. "
   ]
  },
  {
   "cell_type": "code",
   "execution_count": 7,
   "metadata": {},
   "outputs": [
    {
     "name": "stdout",
     "output_type": "stream",
     "text": [
      "1986-1995\n",
      "n:120, mean:1670.575, std:98.506, z:3.291\n",
      "CI_lower = 1640.985\n",
      "CI_higher = 1700.165\n",
      "\n",
      "2006-2015\n",
      "n:118, mean:1720.678, std:109.829, z:3.291\n",
      "CI_lower = 1687.409\n",
      "CI_higher = 1753.947\n"
     ]
    }
   ],
   "source": [
    "a = 0.001\n",
    "z = stats.norm.ppf(1-(a/2))\n",
    "\n",
    "#1986-1995\n",
    "n1 = len(d1_sl)\n",
    "mean1 = d1_sl.mean()\n",
    "std1 = d1_sl.std()\n",
    "print(\"1986-1995\")\n",
    "print(\"n:{}, mean:{:.3f}, std:{:.3f}, z:{:.3f}\".format(n1, mean1, std1, z))\n",
    "print(\"CI_lower = {:.3f}\".format(mean1 - (z*(std1/math.sqrt(n1)))))\n",
    "print(\"CI_higher = {:.3f}\".format(mean1 + (z*(std1/math.sqrt(n1)))))\n",
    "\n",
    "print()\n",
    "\n",
    "#2006-2015\n",
    "n2 = len(d2_sl)\n",
    "mean2 = d2_sl.mean()\n",
    "std2 = d2_sl.std()\n",
    "print(\"2006-2015\")\n",
    "print(\"n:{}, mean:{:.3f}, std:{:.3f}, z:{:.3f}\".format(n2, mean2, std2, z))\n",
    "print(\"CI_lower = {:.3f}\".format(mean2 - (z*(std2/math.sqrt(n2)))))\n",
    "print(\"CI_higher = {:.3f}\".format(mean2 + (z*(std2/math.sqrt(n2)))))"
   ]
  },
  {
   "cell_type": "markdown",
   "metadata": {},
   "source": [
    "$$[\\bar{x} - z_{a/2}\\frac{\\sigma}{\\sqrt{n}}, \\bar{x} + z_{a/2}\\frac{\\sigma}{\\sqrt{n}}]$$<br>\n",
    "[1] CI of the mean sea level in the 1986-1995<br>\n",
    "$$CI = [1670.575 - 3.291\\frac{98.506}{\\sqrt{120}}, 1670.575 + 3.291\\frac{98.506}{\\sqrt{120}}]$$<br>\n",
    "$$CI = [1640.985, 1700.165]$$\n",
    "<br><br>\n",
    "[2] CI of the mean sea level in the 2006-2015<br>\n",
    "$$ CI = [1720.678 - 3.291\\frac{109.829}{\\sqrt{118}}, 1720.678 + 3.291\\frac{109.829}{\\sqrt{118}}]$$<br>\n",
    "$$CI = [1687.409, 1753.947]$$"
   ]
  },
  {
   "cell_type": "markdown",
   "metadata": {},
   "source": [
    "The CI tell us that if we calculate all sea levels, the true mean of 99.9% of sea levels between 1986-1995 would be a value between [1640.985,1700.165] and 99.9% of sea levels between 2006-1015 would be a value between [1687.409,1753.947].<br>\n",
    "<br>\n",
    "Hence, comapring two CIs does not tell us anything about the difference between two random variables. Therefore, there is no sufficient evidence to conclude that there is or is not a significant difference in the mean sea level between 1986-1995 and 2006-2015."
   ]
  },
  {
   "cell_type": "markdown",
   "metadata": {},
   "source": [
    "**Part E:**  Compute a 99.9% confidence interval for the ***difference in mean sea level*** between the 2006-2015 and the 1986-1995 decades ($\\mu_{2006-2015} - \\mu_{1986-1995}$. Based on this, make a conclusion regarding your hypothesis from **Part C**, and compare to what your results in **Part D** implied. You may use Python for arithmetic operations and executing the calculations, but the relevant steps/set-up should be displayed in Markdown/MathJax."
   ]
  },
  {
   "cell_type": "markdown",
   "metadata": {},
   "source": [
    "$$CI = \\bar{x}_{2006}-\\bar{x}_{1986} \\pm z_{\\alpha/2}\\sqrt{\\frac{\\sigma^2_{1986}}{n_{1986}}+\\frac{\\sigma^2_{2006}}{n_{2006}}}$$\n",
    "$$ CI = 1720.678-1670.575 \\pm 3.291*\\sqrt{\\frac{98.506^2}{120}+\\frac{109.829^2}{118}}$$\n",
    "<br>\n",
    "$$ CI = [5.579, 94.627] $$"
   ]
  },
  {
   "cell_type": "code",
   "execution_count": 8,
   "metadata": {},
   "outputs": [
    {
     "name": "stdout",
     "output_type": "stream",
     "text": [
      "CI = [5.579, 94.627]\n"
     ]
    }
   ],
   "source": [
    "ci_lower = mean2-mean1 - z*(math.sqrt((std1**2/n1)+(std2**2/n2)))\n",
    "ci_upper = mean2-mean1 + z*(math.sqrt((std1**2/n1)+(std2**2/n2)))\n",
    "print(\"CI = [{:.3f}, {:.3f}]\".format(ci_lower, ci_upper))"
   ]
  },
  {
   "cell_type": "markdown",
   "metadata": {},
   "source": [
    "Since we are calculating the CI for the difference, we can know if there is a significant difference if the CI covers 0 or not. <br>\n",
    "<br>\n",
    "Since the CI does not cover 0, then there is a significant difference in the means."
   ]
  },
  {
   "cell_type": "markdown",
   "metadata": {},
   "source": [
    "**Part F:**  The confidence intervals from **Parts D** and **E** were derived using the Central Limit Theorem.  Which assumption of the Central Limit Theorem would likely be violated if we took more than one measurement per month to form our samples, and why?"
   ]
  },
  {
   "cell_type": "markdown",
   "metadata": {},
   "source": [
    "Since the sea levels goes up and down during each month, the values would be dependent. The CLT assumes that the values should be independent, hence, if we take more than one value, we would violate this assumption."
   ]
  },
  {
   "cell_type": "markdown",
   "metadata": {},
   "source": [
    "---\n",
    "\n",
    "<a id='p2'></a>\n",
    "[Back to top](#top)\n",
    "\n",
    "### [25 points] Problem 2 - Quality of Red vs White Wine \n",
    "\n",
    "**Part A:** Load the data in [`winequalityred.csv`](https://piazza.com/class_profile/get_resource/jhaqogsdelf76h/jixzm1ebc6q6ye) and [`winequalitywhite.csv`](https://piazza.com/class_profile/get_resource/jhaqogsdelf76h/jixzm17x9pu6y9) into Pandas DataFrames.  They are available under Resources on Piazza, and linked here and below.  A description of this dataset can be found on [UC Irvine's Machine Learning Repository](https://archive.ics.uci.edu/ml/datasets/Wine+Quality). The quantity of interest for this problem is the quality of the wine.\n",
    "\n",
    "Are we justified in using the Central Limit Theorem in our analysis of estimates of the mean and proportions of the data?  Justify your response. "
   ]
  },
  {
   "cell_type": "code",
   "execution_count": 9,
   "metadata": {},
   "outputs": [],
   "source": [
    "# read either local or web file version; pick whichever works for you\n",
    "local_file_white = \"data/winequality-white.csv\"\n",
    "local_file_red   = \"data/winequality-red.csv\"\n",
    "web_file_white = \"https://raw.githubusercontent.com/dblarremore/csci3022/master/homework/homework5/data/winequality-white.csv\"\n",
    "web_file_red   = \"https://raw.githubusercontent.com/dblarremore/csci3022/master/homework/homework5/data/winequality-red.csv\"\n",
    "\n",
    "dfRed   = pd.read_csv(local_file_red, delimiter=';')\n",
    "dfWhite = pd.read_csv(local_file_white, delimiter=';')"
   ]
  },
  {
   "cell_type": "code",
   "execution_count": 10,
   "metadata": {},
   "outputs": [
    {
     "name": "stdout",
     "output_type": "stream",
     "text": [
      "dfRed size: 1599\n",
      "dfWhite size: 4898\n"
     ]
    }
   ],
   "source": [
    "print(\"dfRed size: {}\".format(len(dfRed)))\n",
    "print(\"dfWhite size: {}\".format(len(dfWhite)))"
   ]
  },
  {
   "cell_type": "markdown",
   "metadata": {},
   "source": [
    "Since we have a reasonable number of samples (n=1599, m=4898) for each dataframe, then we can use CLT."
   ]
  },
  {
   "cell_type": "markdown",
   "metadata": {},
   "source": [
    "**Part B:** Let $X$ be a random variable denoting the quality of a bottle of wine, and let $C$ be a random variable denoting its color (either red ($r$) or white ($w$)). For the remainder of this problem, we are concerned with probabilities such as \"If I buy a random bottle of red wine, what is the probability that its quality is at least a 7?\". We could write that probability as $P(X \\geq 7 \\mid C=r)$, for example, and consider it the ***proportion*** of the population of red wines that are at least a 7 in quality. Calculate and report estimates of $P(X \\geq 7 \\mid C=r)$ and $P(X \\geq 7 \\mid C=w)$.\n",
    "\n",
    "Obtain 95% confidence intervals for the proportion of red and white wines that are **at least** a 7 in quality (obtain one CI for each color).  Based on your results, if you are interested in buying many high quality bottles of wine but are buying totally at random, is one color a better bet than the other? Fully justify your answer.\n",
    "\n",
    "Calculations may be executed in Python, but you need to set up your work (*what* it is you are calculating) in Markdown/MathJax."
   ]
  },
  {
   "cell_type": "markdown",
   "metadata": {},
   "source": [
    "$P(X \\geq 7 \\mid C=r) =\\frac{number\\ of\\ red\\ wines\\ that\\ are\\ at\\ least\\ 7\\ in\\ quality}{total\\ number} = \\frac{217}{1599} = 0.1357$<br>\n",
    "<br>\n",
    "$P(X \\geq 7 \\mid C=w) =\\frac{number\\ of\\ white\\ wines\\ that\\ are\\ at\\ least\\ 7\\ in\\ quality}{total\\ number} = \\frac{1060}{4898} = 0.2164$\n",
    "<br><br>\n",
    "CI:<br>\n",
    "$$\\hat{p} \\pm z_{\\alpha/2}\\sqrt{\\frac{\\hat{p}(1-\\hat{p})}{n}}$$"
   ]
  },
  {
   "cell_type": "code",
   "execution_count": 11,
   "metadata": {
    "scrolled": true
   },
   "outputs": [
    {
     "name": "stdout",
     "output_type": "stream",
     "text": [
      "P(x >= 7 | C = r) = 0.1357\n",
      "P(x >= 7 | C = w) = 0.2164\n",
      "\n",
      "CI for red: [0.11892335230093068, 0.15249628497236514]\n",
      "CI for white: [0.20488231343578847, 0.22794741298315804]\n"
     ]
    }
   ],
   "source": [
    "r_len = len(dfRed)\n",
    "r_len7 = len(dfRed[dfRed['quality'] >= 7])\n",
    "r_prob = r_len7/r_len\n",
    "print(\"P(x >= 7 | C = r) = {:.4f}\".format(r_prob))\n",
    "\n",
    "w_len = len(dfWhite)\n",
    "w_len7 = len(dfWhite[dfWhite['quality'] >= 7])\n",
    "w_prob = w_len7/w_len\n",
    "print(\"P(x >= 7 | C = w) = {:.4f}\".format(w_prob))\n",
    "\n",
    "print()\n",
    "\n",
    "z = stats.norm.ppf(1-((1-0.95)/2))\n",
    "r_ci = [r_prob-(z*math.sqrt(r_prob*(1-r_prob)/r_len)),\\\n",
    "        r_prob+(z*math.sqrt(r_prob*(1-r_prob)/r_len))]\n",
    "w_ci = [w_prob-(z*math.sqrt(w_prob*(1-w_prob)/w_len)),\\\n",
    "        w_prob+(z*math.sqrt(w_prob*(1-w_prob)/w_len))]\n",
    "\n",
    "print(\"CI for red: {}\".format(r_ci))\n",
    "print(\"CI for white: {}\".format(w_ci))"
   ]
  },
  {
   "cell_type": "markdown",
   "metadata": {},
   "source": [
    "It seems better to buy white wine. The confidence interval for the probability of the proportion of white wines with at least 7 is higher and not overlapped with the confidence interval for the probability of the proportion fo red wines."
   ]
  },
  {
   "cell_type": "markdown",
   "metadata": {},
   "source": [
    "**Part C:** Now, as college students (and teachers), we might not be super concerned with buying a really high quality bottle of wine.  Let's focus instead on making sure we do *not* buy a really disgusting bottle of wine.  Calculate and report estimates of $P(X \\geq 5 \\mid C=r)$ and $P(X \\geq 5 \\mid C=w)$.\n",
    "\n",
    "Obtain 95% confidence intervals for the proportion of red and white wines that are **at least** a 5 in quality, that is, $P(X \\geq 5 \\mid C)$.  Based on your results - and what you saw in Problem 1 - if you are interested in buying bottles of wine that are at least a 5 in quality, but are again buying wine totally randomly, can you conclude that you are better off buying one color over the other? Fully justify your answer."
   ]
  },
  {
   "cell_type": "code",
   "execution_count": 12,
   "metadata": {},
   "outputs": [
    {
     "name": "stdout",
     "output_type": "stream",
     "text": [
      "P(x >= 5 | C = r) = 0.9606\n",
      "P(x >= 5 | C = w) = 0.9626\n",
      "\n",
      "CI for red: [0.9510649233738256, 0.9701358270952175]\n",
      "CI for white: [0.9573266889153214, 0.9679489337878229]\n"
     ]
    },
    {
     "data": {
      "text/plain": [
       "5815.552906322062"
      ]
     },
     "execution_count": 12,
     "metadata": {},
     "output_type": "execute_result"
    }
   ],
   "source": [
    "r_len = len(dfRed)\n",
    "r_len5 = len(dfRed[dfRed['quality'] >= 5])\n",
    "r_prob = r_len5/r_len\n",
    "print(\"P(x >= 5 | C = r) = {:.4f}\".format(r_prob))\n",
    "\n",
    "w_len = len(dfWhite)\n",
    "w_len5 = len(dfWhite[dfWhite['quality'] >= 5])\n",
    "w_prob = w_len5/w_len\n",
    "print(\"P(x >= 5 | C = w) = {:.4f}\".format(w_prob))\n",
    "\n",
    "print()\n",
    "\n",
    "z = stats.norm.ppf(1-((1-0.95)/2))\n",
    "r_ci = [r_prob-(z*math.sqrt(r_prob*(1-r_prob)/r_len)),\\\n",
    "        r_prob+(z*math.sqrt(r_prob*(1-r_prob)/r_len))]\n",
    "w_ci = [w_prob-(z*math.sqrt(w_prob*(1-w_prob)/w_len)),\\\n",
    "        w_prob+(z*math.sqrt(w_prob*(1-w_prob)/w_len))]\n",
    "\n",
    "print(\"CI for red: {}\".format(r_ci))\n",
    "print(\"CI for white: {}\".format(w_ci))\n",
    "\n",
    "tmp = ((r_ci[1]-r_ci[0])/0.01)**2 * 1599\n",
    "tmp"
   ]
  },
  {
   "cell_type": "markdown",
   "metadata": {},
   "source": [
    "Here, we are not calculating the difference in proportions, so we cannot determine if there is a significant difference or not. <br>\n",
    "Even though the intervals are overlapping, we cannot make a conclusion."
   ]
  },
  {
   "cell_type": "markdown",
   "metadata": {},
   "source": [
    "**Part D:** Compute a 95% confidence interval for the difference in proportions of red and white wines that are at least a 5 in quality. \n",
    "\n",
    "Now, based on your results for this part, can you conclude that you are better off buying one color over the other? Fully justify your answer. How does your work here differ from your work in **Part C**?"
   ]
  },
  {
   "cell_type": "markdown",
   "metadata": {},
   "source": [
    "$$\\hat{p}_w - \\hat{p}_r \\pm z_{\\alpha/2} \\sqrt{\\frac{\\hat{p}_w(1-\\hat{p}_w)}{n_w} + \\frac{\\hat{p}_r(1-\\hat{p}_r)}{n_r}}$$"
   ]
  },
  {
   "cell_type": "code",
   "execution_count": 13,
   "metadata": {},
   "outputs": [
    {
     "data": {
      "text/plain": [
       "[-0.008877364097359978, 0.012952236331461057]"
      ]
     },
     "execution_count": 13,
     "metadata": {},
     "output_type": "execute_result"
    }
   ],
   "source": [
    "ci_diff = [(w_prob - r_prob) - z*math.sqrt((r_prob*(1-r_prob)/r_len) + (w_prob*(1-w_prob)/w_len)), \\\n",
    "           (w_prob - r_prob) + z*math.sqrt((r_prob*(1-r_prob)/r_len) + (w_prob*(1-w_prob)/w_len))]\n",
    "\n",
    "ci_diff"
   ]
  },
  {
   "cell_type": "markdown",
   "metadata": {},
   "source": [
    "Since the CI contains 0, we can conclude that there is no evidence that show a difference between red and white wines that are at least 5 in quality. <br>\n",
    "We are able to draw conclusions using the CI for the difference of proportions, but could not draw any conclusions in part c."
   ]
  },
  {
   "cell_type": "markdown",
   "metadata": {},
   "source": [
    "**Part E:**  Now, we have many more observations of white wines than red. This certainly contributes to the width of the 95% confidence interval for the proportion of red wines that are at least a 5 in quality, which you should have found in **Part C** to be wider than the corresponding confidence interval for white wines. \n",
    "\n",
    "How large would our sample size of red wines need to be in order to guarantee that this 95% confidence interval width is at most 0.01? Note that we are hypothetically adding more samples, so we do not know the precise value of $\\hat{p}$."
   ]
  },
  {
   "cell_type": "markdown",
   "metadata": {},
   "source": [
    "The CI width = $2*z_{\\alpha/2}\\sqrt{\\frac{\\hat{p}(1-\\hat{p})}{n}}$<br>\n",
    "We know two things:\n",
    "1. We want to find the width such that $2*z_{\\alpha/2}\\sqrt{\\frac{\\hat{p}(1-\\hat{p})}{n}} \\leq 0.01$\n",
    "2. $\\hat{p}(1-\\hat{p}) \\leq 1/2(1-1/2)=1/4$\n",
    "<br><br>\n",
    "**Hence**\n",
    "<br>\n",
    "$$\n",
    "2*1.959\\sqrt{\\frac{1/4}{n}} \\leq 0.01 \\\\\n",
    "2^2*1.959^2*\\frac{1/4}{0.01^2} \\leq n \\\\\n",
    "38415 \\leq n\n",
    "$$"
   ]
  },
  {
   "cell_type": "code",
   "execution_count": 14,
   "metadata": {},
   "outputs": [
    {
     "name": "stdout",
     "output_type": "stream",
     "text": [
      "z = 1.959963984540054\n",
      "n >= 38414.588206941255\n"
     ]
    }
   ],
   "source": [
    "print(\"z = {}\".format(z))\n",
    "print(\"n >= {}\".format(z**2/0.01**2))"
   ]
  },
  {
   "cell_type": "markdown",
   "metadata": {},
   "source": [
    "To get a width of at most 0.01, the sample size should be at least 38415 wines."
   ]
  },
  {
   "cell_type": "markdown",
   "metadata": {},
   "source": [
    "---\n",
    "\n",
    "<a id='p3'></a>\n",
    "[Back to top](#top)\n",
    "\n",
    "### [30 points] Problem 3 - Exploring Confidence Intervals \n",
    "\n",
    "The [Gumbel](https://en.wikipedia.org/wiki/Gumbel_distribution) distribution is one of several distributions frequently used to model environmental extremes (for example, extreme temperatures and sea levels).  It is also fairly asymmetric, and thus interesting for investigating confidence intervals.  It is implemented in scipy.stats as [gumbel_r](https://docs.scipy.org/doc/scipy/reference/generated/scipy.stats.gumbel_r.html), where the appendix \"\\_r\" denotes the right-skewed version of the Gumbel distribution (as opposed to the left-skewed)."
   ]
  },
  {
   "cell_type": "markdown",
   "metadata": {},
   "source": [
    "**Part A**: Complete the following code cell to plot a histogram of 100 realizations from the Gumbel distribution with parameters $\\mu=8$ and $\\beta=2$.  Be sure to leave this cell executed before turning in your assignment! Make your histogram grey with gold edges."
   ]
  },
  {
   "cell_type": "code",
   "execution_count": 15,
   "metadata": {},
   "outputs": [
    {
     "data": {
      "image/png": "[encoded data removed]",
      "text/plain": [
       "<Figure size 432x288 with 1 Axes>"
      ]
     },
     "metadata": {},
     "output_type": "display_data"
    }
   ],
   "source": [
    "mu = 8\n",
    "beta = 2\n",
    "n_sample = 100\n",
    "# your code here\n",
    "x = stats.gumbel_r.rvs(size=n_sample, loc=mu, scale=beta)\n",
    "\n",
    "plt.hist(x, edgecolor=\"gold\", color=\"grey\")\n",
    "ax.set_xlabel('X')\n",
    "ax.set_ylabel('Frequency')\n",
    "ax.set_title('Gumbel histogram')\n",
    "plt.xlim([0,30])\n",
    "plt.show()"
   ]
  },
  {
   "cell_type": "markdown",
   "metadata": {},
   "source": [
    "**Part B:** Look up the analytical mean and variance of the Gumbel distribution with parameters $\\mu=8$ and $\\beta=2$ and calculate them here by hand.  Note that the Euler–Mascheroni constant can be accessed via `np.euler_gamma`. \n",
    "\n",
    "Use the empirical mean from your sample in **Part A**, and the true variance of the Gumbel distribution to compute by hand a 95% confidence interval for the mean."
   ]
  },
  {
   "cell_type": "markdown",
   "metadata": {},
   "source": [
    "$Mean = E[X] = \\mu+\\beta \\gamma = 8 + 2*0.577 = 9.154$<br>\n",
    "$Variance = Var(X) = \\frac{\\pi^2}{6}\\beta^2 = \\frac{\\pi^2}{6}*4 = 6.579$\n",
    "<br>\n",
    "<br>\n",
    "$CI = Mean \\pm z_{0.05/2}\\sqrt{\\frac{Variance}{n}}$<br>\n",
    "$CI = [8.266, 9.189]$"
   ]
  },
  {
   "cell_type": "code",
   "execution_count": 16,
   "metadata": {},
   "outputs": [
    {
     "name": "stdout",
     "output_type": "stream",
     "text": [
      "gamma = 0.5772156649015329\n",
      "\n",
      "[Using analytical mean]\n",
      "Mean = 9.154431329803066\n",
      "Var =  6.579736267392906\n",
      "\n",
      "Using empirical mean\n",
      "n = 100\n",
      "z =  1.959963984540054\n",
      "Mean =  9.211139360623262\n",
      "Var =  5.587021281098036\n",
      "CI = [8.74786501229735, 9.674413708949174]\n"
     ]
    }
   ],
   "source": [
    "print(\"gamma =\", np.euler_gamma)\n",
    "print()\n",
    "\n",
    "print(\"[Using analytical mean]\")\n",
    "print(\"Mean =\", 8 + (2*np.euler_gamma))\n",
    "print(\"Var = \", math.pi**2 * 4 / 6)\n",
    "print()\n",
    "\n",
    "print(\"Using empirical mean\")\n",
    "n = 100\n",
    "print(\"n = 100\")\n",
    "z = stats.norm.ppf(1-((1-0.95)/2))\n",
    "print(\"z = \", z)\n",
    "print(\"Mean = \", x.mean())\n",
    "print(\"Var = \", x.std()**2)\n",
    "ci = [x.mean() - z*(x.std()/math.sqrt(n)), x.mean() + z*(x.std()/math.sqrt(n))]\n",
    "print(\"CI = {}\".format(ci))"
   ]
  },
  {
   "cell_type": "markdown",
   "metadata": {},
   "source": [
    "**Part C:  A theoretical interlude.** When Stella O'Flaherty (the famous octopus) ran her solution code for **Part B**, she obtained a 95% confidence interval of $[8.81, 9.82]$ for the mean of the $Gum(\\mu=8, \\beta=2)$ distribution. For each of the following, explain why or why not the situation described is correct, given the technical definition of a 95% confidence interval we went over in class.\n",
    "\n",
    "**(i)** If you had no other evidence regarding true mean of the $Gum(\\mu=8, \\beta=2)$ distribution, you could say there is a 95% chance that its true mean falls between 8.81 and 9.82.\n",
    "\n",
    "**(ii)** If a class of 100 students all construct 95% confidence intervals for the mean of the $Gum(\\mu=8, \\beta=2)$ distribution, then we expect about 95 of their CIs to contain the true mean, and about 5 of them to miss the true mean.\n",
    "\n",
    "**(iii)** There is a 95% probability that any given random variable sampled from $Gum(\\mu=8, \\beta=2)$ will be between 8.81 and 9.82."
   ]
  },
  {
   "cell_type": "markdown",
   "metadata": {},
   "source": [
    "(i) False. CI if not about \"a chance\". We are 100% confident that the true mean of 95% of all calculated means to be in this interval.<br>\n",
    "(ii) True. As explained above, this is the meaning of CI.<br>\n",
    "(iii) False. CI is about sampling the mean not any element."
   ]
  },
  {
   "cell_type": "markdown",
   "metadata": {},
   "source": [
    "**Part D:** In this part you'll write a function to investigate the _coverage properties_ of a confidence interval for the mean of the Gumbel distribution. Complete the following function to randomly sample $m=500$ sample means with sample size $n=100$ for the Gumbel distribution with parameters $\\mu=8$ and $\\beta=2$.  For each random sample, compute the 66% confidence interval for the mean. Note that you actually know that the variance for the true population distribution is, $\\sigma^2$.  Your function should do two things: \n",
    "\n",
    "1. Report the proportion of confidence intervals that successfully cover the true mean of the distribution \n",
    "2. Make a plot of 50 randomly selected confidence intervals. Overlay the intervals on the line $y=\\textrm{True mean}$ (from **Part B**). Color confidence intervals black if they cover the true mean, and red if they don't.  \n",
    "\n",
    "Be sure to leave this cell executed before turning in your assignment!"
   ]
  },
  {
   "cell_type": "code",
   "execution_count": 17,
   "metadata": {
    "scrolled": false
   },
   "outputs": [
    {
     "name": "stdout",
     "output_type": "stream",
     "text": [
      "proportion covering mean: 0.688\n"
     ]
    },
    {
     "data": {
      "image/png": "[encoded data removed]",
      "text/plain": [
       "<Figure size 432x288 with 1 Axes>"
      ]
     },
     "metadata": {},
     "output_type": "display_data"
    }
   ],
   "source": [
    "def confidence_intervals(m=500, n=100):\n",
    "    mu = 8\n",
    "    beta = 2\n",
    "    z = stats.norm.ppf(1-((1-0.66)/2))\n",
    "    mean = mu + (beta*np.euler_gamma)\n",
    "    var = (math.pi * beta)**2 / 6\n",
    "    \n",
    "    count = 0\n",
    "    CIs = []\n",
    "    for i in range(m):\n",
    "        x = stats.gumbel_r.rvs(size=n, loc=mu, scale=beta)\n",
    "        ci = [x.mean() - z*(math.sqrt(var/n)), \\\n",
    "              x.mean() + z*(math.sqrt(var/n))]\n",
    "        if (mean >= ci[0]) and (mean <= ci[1]):\n",
    "            count += 1\n",
    "        CIs.append(ci)\n",
    "    proportion_CIs_covering_mean = count/m\n",
    "    print(\"proportion covering mean: {:.3f}\".format(proportion_CIs_covering_mean))\n",
    "    \n",
    "    x = 1\n",
    "    for i in np.random.choice(range(m), size=50, replace=False):\n",
    "        color = \"black\" if (mean >= CIs[i][0]) and (mean <= CIs[i][1]) else \"red\"\n",
    "        plt.plot([x+1, x+1], CIs[i], color=color)\n",
    "        x += 1\n",
    "    plt.plot([0, 51], [mean, mean])\n",
    "    \n",
    "    \n",
    "confidence_intervals()"
   ]
  },
  {
   "cell_type": "markdown",
   "metadata": {},
   "source": [
    "**Part E:** Does the proportion of confidence intervals that cover the true mean of the distribution agree with the theory described in class?  Justify your conclusion. "
   ]
  },
  {
   "cell_type": "markdown",
   "metadata": {},
   "source": [
    "Yes. We calculated 66% CI and from the function above, we see that the proportion covering mean is really close to 66%."
   ]
  },
  {
   "cell_type": "markdown",
   "metadata": {
    "collapsed": true
   },
   "source": [
    "---\n",
    "\n",
    "<a id='p4'></a>\n",
    "[Back to top](#top)\n",
    "\n",
    "### [15 points] Problem 4 - Freethrows\n",
    "***\n",
    "\n",
    "Keep your skills sharp by answering these straightforward questions."
   ]
  },
  {
   "cell_type": "markdown",
   "metadata": {},
   "source": [
    "**Part A**: <font color='green'>You are driving through the paint toward the basket when Steph Curry fouls you. You step to the line to sink this freethrow shot, which is delivered in the form of a CSCI3022 problem:</font>\n",
    "\n",
    "You have a shuffled deck of cards. It includes the usual 52 cards AND three special additional Octopus cards. You flip over the cards one by one, without replacing them in the deck. You count how many cards you'll have to flip until you flip over the second Octopus.  You repeat this many times. Simulate this process. Plot a histogram with binsize=1 of the outcomes, in lightgrey with white outline. Compute the mean, median, and mode for this dataset, indicate them on the plot too, using linstyles of green dashed, pink dotted, and black solid, respectively. Look up how to do a legend in MatPlotLib, and label your histogram, mean, median.\n",
    "***"
   ]
  },
  {
   "cell_type": "code",
   "execution_count": 18,
   "metadata": {},
   "outputs": [
    {
     "data": {
      "image/png": "[encoded data removed]",
      "text/plain": [
       "<Figure size 432x288 with 1 Axes>"
      ]
     },
     "metadata": {},
     "output_type": "display_data"
    }
   ],
   "source": [
    "#special cards are named 's'\n",
    "deck = [i for i in range(1, 53)]\n",
    "deck.append('s')\n",
    "deck.append('s')\n",
    "deck.append('s')\n",
    "\n",
    "results = []\n",
    "simulations = 50000\n",
    "for i in range(simulations):\n",
    "    np.random.shuffle(deck)\n",
    "    count = 0 #count number of flipped cards\n",
    "    flag = False #to find the second Octopus\n",
    "    for i in deck:\n",
    "        if i == 's':\n",
    "            if flag:\n",
    "                break\n",
    "            flag = True\n",
    "        count += 1\n",
    "    \n",
    "    results.append(count)\n",
    "\n",
    "bins = [i for i in range(0, 51)]\n",
    "plt.hist(results, bins=bins, color=\"lightgrey\", edgecolor=\"white\")\n",
    "\n",
    "plt.plot([np.mean(results), np.mean(results)], [0, 1000], linestyle='dashed', color='green', linewidth=2, label=\"Mean\")\n",
    "plt.plot([np.median(results), np.median(results)], [0, 1000], linestyle='dotted', color='pink', linewidth=4, label=\"Median\")\n",
    "plt.plot([stats.mode(results)[0][0], stats.mode(results)[0][0]], [0, 1000], color='black', linewidth=2, label=\"Mode\")\n",
    "plt.legend()\n",
    "\n",
    "plt.xlabel(\"Number of flips\")\n",
    "plt.ylabel(\"Density\")\n",
    "plt.show()"
   ]
  },
  {
   "cell_type": "markdown",
   "metadata": {},
   "source": [
    "**Part B**: <font color='green'>You sink your first free throw and immediately get dap from your teammates, Oscar O'Flaherty and Octavia O'Flaherty. You prepare to take another shot, which—and you're not going to believe this—is another CSCI3022 problem:</font>\n",
    "\n",
    "In general, which is wider: a 95% confidence interval or a 99% confidence interval? How would you explain this to your younger sibling, who is not a statistician?\n",
    "***"
   ]
  },
  {
   "cell_type": "markdown",
   "metadata": {},
   "source": [
    "95% CI will have the true mean 95% of the time, but 99% CI will have the true mean 99% of the time. Taking that into consideration, if 99% CI catches the true mean more than 95% CI, it would make since to say that 99% CI is wider."
   ]
  },
  {
   "cell_type": "markdown",
   "metadata": {},
   "source": [
    "**Part C**: <font color='green'>The crowd is silent. Everything is slow motion. You're literally in the air, releasing what looks to be a perfect shot to tie the match. As you release the ball, a hand appears to block it. It is Kevin Durant. :( \n",
    "\n",
    "Luckily, his fingertips also brush against your arm. That's a foul, and everyone saw it. Back to the line. Back to CSCI3022:</font>\n",
    "\n",
    "Let $X$ be a normally-distributed random variable. You draw from it and get these values, stored in the numpy array **durant**, below. Compute a 95% confidence interval for the _standard deviation_.\n",
    "***"
   ]
  },
  {
   "cell_type": "code",
   "execution_count": 19,
   "metadata": {},
   "outputs": [],
   "source": [
    "durant = np.array([3.7778,3.9459,3.8248,4.1111,4.0180,4.0898,4.0380,3.9273,3.9614,3.8387])"
   ]
  },
  {
   "cell_type": "code",
   "execution_count": 20,
   "metadata": {},
   "outputs": [
    {
     "name": "stdout",
     "output_type": "stream",
     "text": [
      "CI = [0.0000638, 0.0004495]\n"
     ]
    }
   ],
   "source": [
    "a = 1-((1-0.95)/2)\n",
    "n = len(durant)\n",
    "lower = (n-1)*np.var(durant)**2/stats.chi2.ppf(a, n-1)\n",
    "upper = (n-1)*np.var(durant)**2/stats.chi2.ppf(1-a, n-1)\n",
    "print(\"CI = [{:.7f}, {:.7f}]\".format(lower, upper))"
   ]
  },
  {
   "cell_type": "markdown",
   "metadata": {},
   "source": [
    "**Part D**: <font color='green'>\"Draymond Green has it all, in spite of living in the Bay Area,\" you think to yourself. \"But he doesn't have this shot...\" You're all over him, and he's going to have to pass. You can see the irritation in his eyes. Then you realize that it's not irritation, and he's not being distracted by your superb defense. He's being distracted by this CSCI3022 problem:</font>\n",
    "\n",
    "If you're doing quality control for the average strength of carbon fiber that will be used in airplane construction, and your alternative hypothesis is that the strength of the carbon is below tolerance, and therefore unsafe, would you rather have a low Type I error rate or a low Type II error rate? Explain.\n",
    "\n",
    "***"
   ]
  },
  {
   "cell_type": "markdown",
   "metadata": {},
   "source": [
    "The null hypothesis is that it is safe. I would rather to have Type 1 error. Which mean that I reject the null hypothesis (so it is unsafe now) and try to increase the strength of carbon fiber in airplane construction. "
   ]
  },
  {
   "cell_type": "markdown",
   "metadata": {},
   "source": [
    "**Part E**: <font color='green'>You are watching tape footage at halftime with your personal trainer, Stella O'Flaherty. You gotta focus up if you're going to match Klay Thompson's speed in the second half. You take a sip of Gatorade and Dr. O'Flaherty suggests that you do the following CSCI3022 problem:</font>\n",
    "\n",
    "You measure 53 suckers from baby reef octopuses and find that they are, on average, 45.2 mm wide, with a standard devaition of 30.4mm. \n",
    "\n",
    "Then you measure 41 suckers from from baby dumbo octopuses and find that they are, on average, 52.8 mm wide, with a standard deviation of 22.8 mm. \n",
    "\n",
    "Is there statistical evidence at the 0.05 significance level that the true mean of baby dumbo octopus sucker width exceeds the true mean of baby reef octopus sucker width by more than 6 mm?  Use a test of your choice.\n",
    "\n",
    "***"
   ]
  },
  {
   "cell_type": "markdown",
   "metadata": {},
   "source": [
    "$$z = \\frac{(\\mu_1 - \\mu_2) - c}{\\sqrt{\\frac{\\sigma_1^2}{m}+\\frac{\\sigma_2^2}{n}}}$$"
   ]
  },
  {
   "cell_type": "code",
   "execution_count": 21,
   "metadata": {},
   "outputs": [
    {
     "name": "stdout",
     "output_type": "stream",
     "text": [
      "Baby reef\n",
      "n=53\tmean=45.2\tstd=30.4\n",
      "\n",
      "Baby dumbo\n",
      "n=41\tmean=52.8\tstd=22.8\n",
      "\n",
      "z =  0.2915555403427804\n",
      "p-value =  0.6146867636175007\n",
      "\n",
      "\n",
      "Since p-value > significance level, we fail to reject the null hypothesis\n",
      "\n",
      "Hence, true mean of baby dumbo octopus sucker width exceeds the true mean of baby reef octopus sucker width by more than 6 mm\n"
     ]
    }
   ],
   "source": [
    "print(\"Baby reef\")\n",
    "print(\"n=53\\tmean=45.2\\tstd=30.4\")\n",
    "print()\n",
    "print(\"Baby dumbo\")\n",
    "print(\"n=41\\tmean=52.8\\tstd=22.8\")\n",
    "print()\n",
    "z = (52.8-45.2-6)/(math.sqrt((22.8**2/41)+(30.4**2/53)))\n",
    "print(\"z = \", z)\n",
    "print(\"p-value = \", stats.norm.cdf(z))\n",
    "print(\"\\n\")\n",
    "print(\"Since p-value > significance level, we fail to reject the null hypothesis\\n\")\n",
    "print(\"Hence, true mean of baby dumbo octopus sucker width exceeds the true mean of baby reef octopus sucker width by more than 6 mm\")"
   ]
  }
 ],
 "metadata": {
  "kernelspec": {
   "display_name": "Python 3",
   "language": "python",
   "name": "python3"
  },
  "language_info": {
   "codemirror_mode": {
    "name": "ipython",
    "version": 3
   },
   "file_extension": ".py",
   "mimetype": "text/x-python",
   "name": "python",
   "nbconvert_exporter": "python",
   "pygments_lexer": "ipython3",
   "version": "3.6.5"
  }
 },
 "nbformat": 4,
 "nbformat_minor": 2
}
