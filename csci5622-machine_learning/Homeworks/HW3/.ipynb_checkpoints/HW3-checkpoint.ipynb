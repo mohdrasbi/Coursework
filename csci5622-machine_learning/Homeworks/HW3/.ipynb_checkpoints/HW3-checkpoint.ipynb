{
 "cells": [
  {
   "cell_type": "markdown",
   "metadata": {},
   "source": [
    "# Homework 3 - SVM and Regularization\n",
    "## CSCI 5622 - Spring 2019\n",
    "***\n",
    "**Name**: $<$insert name here$>$ \n",
    "***\n",
    "\n",
    "This assignment is due on Canvas by **11.59 PM on Wednesday, March 20**. Submit only this Jupyter notebook to Canvas.  Do not compress it using tar, rar, zip, etc. Your solutions to analysis questions should be done in Markdown directly below the associated question.  Remember that you are encouraged to discuss the problems with your classmates and instructors, but **you must write all code and solutions on your own**, and list any people or sources consulted.\n",
    "\n",
    "Portions of this assignment, including the plotting functions used, are implemented from Andrew Ng's Machine Learning course"
   ]
  },
  {
   "cell_type": "markdown",
   "metadata": {},
   "source": [
    "## Part 1: Lasso and Ridge regression - 30 points"
   ]
  },
  {
   "cell_type": "markdown",
   "metadata": {},
   "source": [
    "We have seen that the difference between LASSO and Ridge regression is due to their different regularization model (L1 norm vs. L2 norm). The regularization term in LASSO is $\\lambda||\\mathbf w||_1$, while the regularization term in ridge regression is  $(\\lambda/2) ||\\mathbf w||^2$ (where $\\mathbf w$ denotes the set of parameters for the linear regression model and $\\lambda$ is the trade-off regularization parameter). LASSO typically enforces more _sparsity_ on the resulting $\\mathbf w$. That is, the resulting classifier will have a small number of non-zero weights. In this exercise, you'll explore differences in performance between LASSO and Ridge regression algorithms.\n",
    "\n",
    "You will be using the following data sets:"
   ]
  },
  {
   "cell_type": "code",
   "execution_count": 19,
   "metadata": {
    "ExecuteTime": {
     "end_time": "2018-10-30T23:46:14.931653Z",
     "start_time": "2018-10-30T23:46:14.919868Z"
    }
   },
   "outputs": [],
   "source": [
    "import numpy as np\n",
    "import matplotlib.pyplot as plt\n",
    "import pandas as pd\n",
    "%matplotlib inline\n",
    "class DataA:\n",
    "    def __init__(self):\n",
    "        f = lambda x, y : np.random.randn(x, y)\n",
    "        self.train_x = f(1000, 20)\n",
    "        self.train_y = f(1000, 1)[:,0]\n",
    "        self.test_x = f(500, 20)\n",
    "        self.test_y = f(500, 1)[:,0]\n",
    "        \n",
    "class DataB:\n",
    "    def __init__(self):\n",
    "        # Data from: https://archive.ics.uci.edu/ml/datasets/Cloud\n",
    "        data = np.fromfile(\"data/cloud.data\", sep = \" \").reshape((1024, 10))\n",
    "        y = data[:, 6]\n",
    "        X = np.delete(data, 6, axis = 1)\n",
    "        \n",
    "        self.train_x = X[:800]\n",
    "        self.train_y = y[:800]\n",
    "        \n",
    "        self.test_x = X[800:]\n",
    "        self.test_y = y[800:]\n",
    "        \n",
    "class DataC:\n",
    "    def __init__(self):\n",
    "        # Data from: http://archive.ics.uci.edu/ml/datasets/Forest+Fires\n",
    "        data = pd.read_csv(\"data/forestfires.csv\")\n",
    "        data = data.sample(frac = 1).reset_index(drop = True).drop(columns = [\"month\", \"day\"])\n",
    "        data[\"area\"] = np.log(data[\"area\"] + 1)\n",
    "        X = data.drop(columns = \"area\").values\n",
    "        y = data[\"area\"].values\n",
    "        \n",
    "        self.train_x = X[:400]\n",
    "        self.train_y = y[:400]\n",
    "        \n",
    "        self.test_x = X[400:]\n",
    "        self.test_y = y[400:]"
   ]
  },
  {
   "cell_type": "code",
   "execution_count": 20,
   "metadata": {},
   "outputs": [],
   "source": [
    "data_a = DataA()\n",
    "data_b = DataB()\n",
    "data_c = DataC()"
   ]
  },
  {
   "cell_type": "markdown",
   "metadata": {},
   "source": [
    "1. Fit a regressor to the data set using sklearn's `Lasso` module (for more details, read [here](http://scikit-learn.org/stable/modules/generated/sklearn.linear_model.Lasso.html)):\n",
    "    1. Train a LASSO model using 5 different values for the regularization parameter $\\lambda$. Use $\\lambda = 0.01, 0.05, 0.1, 0.2, 0.3$. Report and plot the number of non-zero coefficients.\n",
    "    2. Report the value of $\\lambda$ that yields the minimum number of non-zero coefficients in the resulting $\\mathbf w$, and report the number of non-zero coefficients in that case. Keep track of this $\\mathbf w$, we will refer to it as $\\mathbf w_b$. [This step is only needed if any $\\mathbf{w}$ has coefficients that are 0.]\n",
    "    3. For each of the classifiers learned in part (A), compute their test error as mean-squared-error. Plot the test error as function of $\\lambda$.\n",
    "    4. Report the value of $\\lambda$ that yields the $\\mathbf w$ with the minimum test error. Save this $\\mathbf w$ as $\\mathbf w_d$. How many non-zero coordinates does $\\mathbf w_d$ have? Keep track of this, as well as the answers for $\\mathbf w_b$ for the comparison to Ridge Regression below. It might be helpful to make a table, i.e. the number of non-zero coordinates and the test error for $\\mathbf w_b$ and $\\mathbf w_d$ for each data set.\n",
    "    5. For data set A, by increasing the value of $\\lambda$, can you get most of the entries to be 0? Can you get every entry to be 0?\n",
    "    \n",
    "Note: $\\lambda$ is same as $\\alpha$ in the sklearn module."
   ]
  },
  {
   "cell_type": "code",
   "execution_count": 21,
   "metadata": {},
   "outputs": [
    {
     "name": "stdout",
     "output_type": "stream",
     "text": [
      "1A\n",
      "1B\n",
      "1C\n",
      "1D\n"
     ]
    }
   ],
   "source": [
    "# 1A\n",
    "print(\"1A\")\n",
    "#TODO\n",
    "\n",
    "# 1B\n",
    "print(\"1B\")\n",
    "#TODO\n",
    "\n",
    "# 1C\n",
    "print(\"1C\")\n",
    "#TODO\n",
    "\n",
    "# 1D\n",
    "print(\"1D\")\n",
    "#TODO"
   ]
  },
  {
   "cell_type": "markdown",
   "metadata": {},
   "source": [
    "1.\n",
    "E) $<$your answer here$>$"
   ]
  },
  {
   "cell_type": "markdown",
   "metadata": {},
   "source": [
    "2. Now, we turn to Ridge regression. We'll use sklearn module `Ridge` (read more [here](http://scikit-learn.org/stable/modules/generated/sklearn.linear_model.Ridge.html#sklearn.linear_model.Ridge)). Repeat each of the experiment above using Ridge regression. Use $\\lambda = 1, 50, 100, 200, 1000$."
   ]
  },
  {
   "cell_type": "code",
   "execution_count": 22,
   "metadata": {},
   "outputs": [
    {
     "name": "stdout",
     "output_type": "stream",
     "text": [
      "2A\n",
      "2B\n",
      "2C\n",
      "2D\n"
     ]
    }
   ],
   "source": [
    "# 2A\n",
    "print(\"2A\")\n",
    "#TODO\n",
    "\n",
    "# 2B\n",
    "print(\"2B\")\n",
    "#TODO\n",
    "\n",
    "# 2C\n",
    "print(\"2C\")\n",
    "#TODO\n",
    "\n",
    "# 2D\n",
    "print(\"2D\")\n",
    "#TODO"
   ]
  },
  {
   "cell_type": "markdown",
   "metadata": {},
   "source": [
    "2.\n",
    "E) $<$your answer here$>$"
   ]
  },
  {
   "cell_type": "markdown",
   "metadata": {},
   "source": [
    "3. Compare the two algorithms on each data set: compare the number of non-zero coordinates of the $\\mathbf w_d$'s, and compare the test error rates of the $\\mathbf w_b$'s. Report your results and comment on them."
   ]
  },
  {
   "cell_type": "markdown",
   "metadata": {},
   "source": [
    "$<$Your Answer Here$>$"
   ]
  },
  {
   "cell_type": "markdown",
   "metadata": {},
   "source": [
    "## Part 2: Visualizing Data and Decision Boundaries for different kernels - 30 points"
   ]
  },
  {
   "cell_type": "markdown",
   "metadata": {},
   "source": [
    "### A. Training SVM with Linear Kernel (Dataset 1)"
   ]
  },
  {
   "cell_type": "code",
   "execution_count": 23,
   "metadata": {},
   "outputs": [
    {
     "data": {
      "image/png": "[encoded data removed]",
      "text/plain": [
       "<Figure size 432x288 with 1 Axes>"
      ]
     },
     "metadata": {},
     "output_type": "display_data"
    }
   ],
   "source": [
    "import numpy as np\n",
    "import scipy.io as sio\n",
    "import matplotlib.pyplot as plt\n",
    "\n",
    "from plot_data import plot_data\n",
    "\n",
    "\n",
    "# Load from data1\n",
    "mat_data = sio.loadmat('./data/data1.mat')\n",
    "X = mat_data['X']\n",
    "y = mat_data['y'].ravel()\n",
    "\n",
    "# Plot training data\n",
    "plt.figure()\n",
    "plot_data(X, y)\n",
    "plt.xlim([0, 4.5])\n",
    "plt.ylim([1.5, 5])\n",
    "plt.title(\"Dataset 1\")\n",
    "plt.show()"
   ]
  },
  {
   "cell_type": "markdown",
   "metadata": {},
   "source": [
    "**A:** In `data1.mat`, most of the positive and negative examples can be separated by a single line. Train SVM with linear kernel with C = 1 and plot the decision boundary using `visualize_boundary_linear(X, y, clf)`. `clf` is the SVM classifier. For the classifier, you should use the scikit-learn implementation. Feel free to experiment with different values of C and see what effect it has on the decision boundary. However finally train your classifier with C = 1"
   ]
  },
  {
   "cell_type": "code",
   "execution_count": 24,
   "metadata": {},
   "outputs": [
    {
     "data": {
      "image/png": "[encoded data removed]",
      "text/plain": [
       "<Figure size 432x288 with 1 Axes>"
      ]
     },
     "metadata": {},
     "output_type": "display_data"
    }
   ],
   "source": [
    "# SOLUTION \n",
    "from sklearn import svm\n",
    "from visualize_boundary_linear import visualize_boundary_linear\n",
    "\n",
    "### START CODE HERE ### (approx. 3 lines)\n",
    "# 1. Create a linear SVM classifier\n",
    "# 2. Fit the model according to the given training data.\n",
    "# 3. Print the mean accuracy on the given train data and labels using the score function in scikit-learn\n",
    "### END CODE HERE ### \n",
    "\n",
    "plt.figure()\n",
    "# Uncomment the below line after you build your classifier\n",
    "# visualize_boundary_linear(X, y, clf)\n",
    "plt.xlim([0, 4.5])\n",
    "plt.ylim([1.5, 5])\n",
    "plt.title(\"Dataset 1\")\n",
    "plt.show()"
   ]
  },
  {
   "cell_type": "markdown",
   "metadata": {},
   "source": [
    "### B. Training SVM with RBF Kernel (Dataset 2)"
   ]
  },
  {
   "cell_type": "code",
   "execution_count": 25,
   "metadata": {},
   "outputs": [
    {
     "data": {
      "image/png": "[encoded data removed]",
      "text/plain": [
       "<Figure size 432x288 with 1 Axes>"
      ]
     },
     "metadata": {},
     "output_type": "display_data"
    }
   ],
   "source": [
    "# Load from data2\n",
    "mat_data = sio.loadmat('./data/data2.mat')\n",
    "X = mat_data['X']\n",
    "y = mat_data['y'].ravel()\n",
    "\n",
    "# Plot training data\n",
    "plt.figure()\n",
    "plot_data(X, y)\n",
    "plt.xlim([0, 1])\n",
    "plt.ylim([0.4, 1])\n",
    "plt.title(\"Dataset 2\")\n",
    "plt.show()"
   ]
  },
  {
   "cell_type": "markdown",
   "metadata": {},
   "source": [
    "**B** In `data2.mat`, the positive and negative data points are not linearly separable. For this dataset, construct an SVM classifier with a Gaussian kernel to learn a non-linear decision boundary. You should use the scikit-learn implementation for the same. To plot the decision boundary use `visualize_boundary(X, y, clf)`"
   ]
  },
  {
   "cell_type": "code",
   "execution_count": 26,
   "metadata": {},
   "outputs": [
    {
     "data": {
      "image/png": "[encoded data removed]",
      "text/plain": [
       "<Figure size 432x288 with 1 Axes>"
      ]
     },
     "metadata": {},
     "output_type": "display_data"
    }
   ],
   "source": [
    "from visualize_boundary import visualize_boundary\n",
    "\n",
    "# SVM Parameters to be used\n",
    "C = 100\n",
    "gamma = 10\n",
    "\n",
    "### START CODE HERE ### (approx. 3 lines)\n",
    "# 1. Create a SVM classifier with kernel='rbf'\n",
    "# 2. Fit the model according to the given training data.\n",
    "# 3. Print the mean accuracy on the given train data and labels using the score function in scikit-learn\n",
    "### END CODE HERE ### \n",
    "\n",
    "plt.figure()\n",
    "# Uncomment the below line after you build your classifier\n",
    "# visualize_boundary(X, y, clf)\n",
    "plt.xlim([0, 1])\n",
    "plt.ylim([0.4, 1])\n",
    "plt.title(\"Dataset 2\")\n",
    "plt.show()"
   ]
  },
  {
   "cell_type": "markdown",
   "metadata": {},
   "source": [
    "## Part 3: Kernel Perceptron - 40 points"
   ]
  },
  {
   "cell_type": "markdown",
   "metadata": {},
   "source": [
    "For this task, you will be implement the Kernel Perceptron using different kernel functions. You will then use the training and test data provided below to train and test your implementation. Finally you will have to report the error rate as a percentage for each kernel function."
   ]
  },
  {
   "cell_type": "markdown",
   "metadata": {},
   "source": [
    "**A:** Implement the kernel functions below:"
   ]
  },
  {
   "cell_type": "code",
   "execution_count": 27,
   "metadata": {},
   "outputs": [],
   "source": [
    "import numpy as np\n",
    "from numpy import linalg\n",
    "\n",
    "def linear_kernel(x1, x2):\n",
    "    #  TODO\n",
    "    pass\n",
    "    \n",
    "\n",
    "def polynomial_kernel(x, y, p = 3):\n",
    "    #  TODO\n",
    "    #  p = degree of the polynomial\n",
    "    pass\n",
    "    \n",
    "def gaussian_kernel(x, y, sigma = 0.5):\n",
    "    #     TODO:\n",
    "    pass"
   ]
  },
  {
   "cell_type": "code",
   "execution_count": 28,
   "metadata": {},
   "outputs": [
    {
     "name": "stderr",
     "output_type": "stream",
     "text": [
      "FEF\n",
      "======================================================================\n",
      "ERROR: test_gaussian_kernel (__main__.TestKernels)\n",
      "----------------------------------------------------------------------\n",
      "Traceback (most recent call last):\n",
      "  File \"<ipython-input-28-1cfaa5dc1b71>\", line 25, in test_gaussian_kernel\n",
      "    self.assertAlmostEqual(gaussian_kernel(self.x1, self.x2) * 10 ** 8, 1.52299, 4)\n",
      "TypeError: unsupported operand type(s) for *: 'NoneType' and 'int'\n",
      "\n",
      "======================================================================\n",
      "FAIL: test0 (__main__.TestKernels)\n",
      "----------------------------------------------------------------------\n",
      "Traceback (most recent call last):\n",
      "  File \"<ipython-input-28-1cfaa5dc1b71>\", line 13, in test0\n",
      "    self.assertEqual(linear_kernel(self.x1, self.x2), 7)\n",
      "AssertionError: None != 7\n",
      "\n",
      "======================================================================\n",
      "FAIL: test_polynomial_kernel (__main__.TestKernels)\n",
      "----------------------------------------------------------------------\n",
      "Traceback (most recent call last):\n",
      "  File \"<ipython-input-28-1cfaa5dc1b71>\", line 19, in test_polynomial_kernel\n",
      "    self.assertEqual(polynomial_kernel(self.x1, self.x2), 512)\n",
      "AssertionError: None != 512\n",
      "\n",
      "----------------------------------------------------------------------\n",
      "Ran 3 tests in 0.003s\n",
      "\n",
      "FAILED (failures=2, errors=1)\n"
     ]
    },
    {
     "data": {
      "text/plain": [
       "<unittest.runner.TextTestResult run=3 errors=1 failures=2>"
      ]
     },
     "execution_count": 28,
     "metadata": {},
     "output_type": "execute_result"
    }
   ],
   "source": [
    "import unittest\n",
    "\n",
    "class TestKernels(unittest.TestCase):\n",
    "    \n",
    "    def setUp(self):\n",
    "        self.x1 = np.array([1, 2, 1])\n",
    "        self.x2 = np.array([0, 4, -1])\n",
    "        \n",
    "    def test0(self):\n",
    "        \"\"\"\n",
    "        Test the linear kernel\n",
    "        \"\"\"\n",
    "        self.assertEqual(linear_kernel(self.x1, self.x2), 7)\n",
    "    \n",
    "    def test_polynomial_kernel(self):\n",
    "        \"\"\"\n",
    "        Test the polynomial kernel\n",
    "        \"\"\"\n",
    "        self.assertEqual(polynomial_kernel(self.x1, self.x2), 512)\n",
    "        \n",
    "    def test_gaussian_kernel(self):\n",
    "        \"\"\"\n",
    "        Test the gaussian kernel\n",
    "        \"\"\"\n",
    "        self.assertAlmostEqual(gaussian_kernel(self.x1, self.x2) * 10 ** 8, 1.52299, 4)\n",
    "    \n",
    "\n",
    "tests = TestKernels()\n",
    "tests_to_run = unittest.TestLoader().loadTestsFromModule(tests)\n",
    "unittest.TextTestRunner().run(tests_to_run)\n",
    "            "
   ]
  },
  {
   "cell_type": "markdown",
   "metadata": {},
   "source": [
    "**B:** Implement the following methods of the `KernelPerceptron` class. The `__init__` takes also as input the kernel to use. You are allowed to introduce new class variables/methods.\n",
    "\n",
    "* Implement the `fit` method. Taking as input the training data, it learns the model parameters\n",
    "* Implement the `predict` method which takes as input new examples and returns the estimated label "
   ]
  },
  {
   "cell_type": "code",
   "execution_count": 29,
   "metadata": {},
   "outputs": [],
   "source": [
    "class KernelPerceptron:\n",
    "    def __init__(self, kernel = linear_kernel, Niter = 1):\n",
    "        self.kernel = kernel\n",
    "        self.Niter = Niter\n",
    "        self.support_vector_x = None\n",
    "        self.support_vector_y = None\n",
    "        \n",
    "    def fit(self, X, y):\n",
    "        # TODO: \n",
    "        pass\n",
    "\n",
    "        \n",
    "    def predict(self, X):\n",
    "        # TODO: \n",
    "        pass"
   ]
  },
  {
   "cell_type": "markdown",
   "metadata": {},
   "source": [
    "##  Solving a new classification problem using SVM"
   ]
  },
  {
   "cell_type": "markdown",
   "metadata": {},
   "source": [
    "We are using the IRIS Dataset for this classification task. We have created a binary classification problem to determine whether a given flower is a setosa or not. To create this, we pre-processed the labels to create a label vector where setosa’s label is unchanged (i.e. its label is 1), but both versicolor and virginica are now labeled as -1. The data contains two out of the four attributes, petal width and petal length.We are going to use this dataset to test our Kernel Perceptron\n",
    "<br>\n",
    "\n",
    "<img src=\"wide_iris.png\" alt=\"Drawing\" style=\"width: 600px;\"/>\n",
    "\n",
    "<br>"
   ]
  },
  {
   "cell_type": "code",
   "execution_count": 30,
   "metadata": {},
   "outputs": [],
   "source": [
    "from scipy.io import loadmat\n",
    "class Data:\n",
    "    def __init__(self):\n",
    "        ff = lambda x,y : loadmat(x)[y]\n",
    "        \n",
    "        self.X_train = ff(\"data/iris_3/train_data.mat\", \"train_data\")\n",
    "        self.y_train = ff(\"data/iris_3/train_labels.mat\", \"train_labels\").flatten()\n",
    "        \n",
    "        self.X_test = ff(\"data/iris_3/test_data.mat\", \"test_data\")\n",
    "        self.y_test = ff(\"data/iris_3/test_labels.mat\", \"test_labels\").flatten()\n",
    "        \n",
    "data = Data()"
   ]
  },
  {
   "cell_type": "markdown",
   "metadata": {},
   "source": [
    "**C:** Report the test error as a percentage for each kernel function for `Niter = 20`"
   ]
  },
  {
   "cell_type": "markdown",
   "metadata": {},
   "source": []
  },
  {
   "cell_type": "markdown",
   "metadata": {},
   "source": [
    "**Expected Output**: \n",
    "\n",
    "<table> \n",
    "    <tr>\n",
    "    <td>\n",
    "    **Linear Kernel**\n",
    "    </td>\n",
    "     <td>\n",
    "    40 %\n",
    "    </td>\n",
    "    </tr>\n",
    "      <tr>\n",
    "    <td>\n",
    "    **Polynomial Kernel**\n",
    "    </td>\n",
    "     <td>\n",
    "    6.67 %\n",
    "    </td>\n",
    "    </tr>\n",
    "      <tr>\n",
    "    <td>\n",
    "    **Gaussian Kernel**\n",
    "    </td>\n",
    "     <td>\n",
    "    6.67 %\n",
    "    </td>\n",
    "    </tr>\n",
    "\n",
    "</table> "
   ]
  },
  {
   "cell_type": "code",
   "execution_count": null,
   "metadata": {},
   "outputs": [],
   "source": []
  }
 ],
 "metadata": {
  "kernelspec": {
   "display_name": "Python 3",
   "language": "python",
   "name": "python3"
  },
  "language_info": {
   "codemirror_mode": {
    "name": "ipython",
    "version": 3
   },
   "file_extension": ".py",
   "mimetype": "text/x-python",
   "name": "python",
   "nbconvert_exporter": "python",
   "pygments_lexer": "ipython3",
   "version": "3.6.5"
  }
 },
 "nbformat": 4,
 "nbformat_minor": 2
}
