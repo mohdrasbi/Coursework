{
 "cells": [
  {
   "cell_type": "markdown",
   "metadata": {},
   "source": [
    "# Homework 3 - SVM and Regularization\n",
    "## CSCI 5622 - Spring 2019\n",
    "***\n",
    "**Name**: Mohamed Al-Rasbi\n",
    "***\n",
    "\n",
    "This assignment is due on Canvas by **11.59 PM on Wednesday, March 20**. Submit only this Jupyter notebook to Canvas.  Do not compress it using tar, rar, zip, etc. Your solutions to analysis questions should be done in Markdown directly below the associated question.  Remember that you are encouraged to discuss the problems with your classmates and instructors, but **you must write all code and solutions on your own**, and list any people or sources consulted.\n",
    "\n",
    "Portions of this assignment, including the plotting functions used, are implemented from Andrew Ng's Machine Learning course"
   ]
  },
  {
   "cell_type": "markdown",
   "metadata": {},
   "source": [
    "## Part 1: Lasso and Ridge regression - 30 points"
   ]
  },
  {
   "cell_type": "markdown",
   "metadata": {},
   "source": [
    "We have seen that the difference between LASSO and Ridge regression is due to their different regularization model (L1 norm vs. L2 norm). The regularization term in LASSO is $\\lambda||\\mathbf w||_1$, while the regularization term in ridge regression is  $(\\lambda/2) ||\\mathbf w||^2$ (where $\\mathbf w$ denotes the set of parameters for the linear regression model and $\\lambda$ is the trade-off regularization parameter). LASSO typically enforces more _sparsity_ on the resulting $\\mathbf w$. That is, the resulting classifier will have a small number of non-zero weights. In this exercise, you'll explore differences in performance between LASSO and Ridge regression algorithms.\n",
    "\n",
    "You will be using the following data sets:"
   ]
  },
  {
   "cell_type": "code",
   "execution_count": 1,
   "metadata": {
    "ExecuteTime": {
     "end_time": "2018-10-30T23:46:14.931653Z",
     "start_time": "2018-10-30T23:46:14.919868Z"
    }
   },
   "outputs": [],
   "source": [
    "import numpy as np\n",
    "import matplotlib.pyplot as plt\n",
    "import pandas as pd\n",
    "from sklearn.linear_model import Lasso, Ridge\n",
    "from sklearn.metrics import mean_squared_error\n",
    "\n",
    "%matplotlib inline\n",
    "class DataA:\n",
    "    def __init__(self):\n",
    "        f = lambda x, y : np.random.randn(x, y)\n",
    "        self.train_x = f(1000, 20)\n",
    "        self.train_y = f(1000, 1)[:,0]\n",
    "        self.test_x = f(500, 20)\n",
    "        self.test_y = f(500, 1)[:,0]\n",
    "        \n",
    "class DataB:\n",
    "    def __init__(self):\n",
    "        # Data from: https://archive.ics.uci.edu/ml/datasets/Cloud\n",
    "        data = np.fromfile(\"data/cloud.data\", sep = \" \").reshape((1024, 10))\n",
    "        y = data[:, 6]\n",
    "        X = np.delete(data, 6, axis = 1)\n",
    "        \n",
    "        self.train_x = X[:800]\n",
    "        self.train_y = y[:800]\n",
    "        \n",
    "        self.test_x = X[800:]\n",
    "        self.test_y = y[800:]\n",
    "        \n",
    "class DataC:\n",
    "    def __init__(self):\n",
    "        # Data from: http://archive.ics.uci.edu/ml/datasets/Forest+Fires\n",
    "        data = pd.read_csv(\"data/forestfires.csv\")\n",
    "        data = data.sample(frac = 1).reset_index(drop = True).drop(columns = [\"month\", \"day\"])\n",
    "        data[\"area\"] = np.log(data[\"area\"] + 1)\n",
    "        X = data.drop(columns = \"area\").values\n",
    "        y = data[\"area\"].values\n",
    "        \n",
    "        self.train_x = X[:400]\n",
    "        self.train_y = y[:400]\n",
    "        \n",
    "        self.test_x = X[400:]\n",
    "        self.test_y = y[400:]"
   ]
  },
  {
   "cell_type": "code",
   "execution_count": 2,
   "metadata": {},
   "outputs": [],
   "source": [
    "data_a = DataA()\n",
    "data_b = DataB()\n",
    "data_c = DataC()"
   ]
  },
  {
   "cell_type": "markdown",
   "metadata": {},
   "source": [
    "1. Fit a regressor to the data set using sklearn's `Lasso` module (for more details, read [here](http://scikit-learn.org/stable/modules/generated/sklearn.linear_model.Lasso.html)):\n",
    "    1. Train a LASSO model using 5 different values for the regularization parameter $\\lambda$. Use $\\lambda = 0.01, 0.05, 0.1, 0.2, 0.3$. Report and plot the number of non-zero coefficients.\n",
    "    2. Report the value of $\\lambda$ that yields the minimum number of non-zero coefficients in the resulting $\\mathbf w$, and report the number of non-zero coefficients in that case. Keep track of this $\\mathbf w$, we will refer to it as $\\mathbf w_b$. [This step is only needed if any $\\mathbf{w}$ has coefficients that are 0.]\n",
    "    3. For each of the classifiers learned in part (A), compute their test error as mean-squared-error. Plot the test error as function of $\\lambda$.\n",
    "    4. Report the value of $\\lambda$ that yields the $\\mathbf w$ with the minimum test error. Save this $\\mathbf w$ as $\\mathbf w_d$. How many non-zero coordinates does $\\mathbf w_d$ have? Keep track of this, as well as the answers for $\\mathbf w_b$ for the comparison to Ridge Regression below. It might be helpful to make a table, i.e. the number of non-zero coordinates and the test error for $\\mathbf w_b$ and $\\mathbf w_d$ for each data set.\n",
    "    5. For data set A, by increasing the value of $\\lambda$, can you get most of the entries to be 0? Can you get every entry to be 0?\n",
    "    \n",
    "Note: $\\lambda$ is same as $\\alpha$ in the sklearn module."
   ]
  },
  {
   "cell_type": "code",
   "execution_count": 3,
   "metadata": {},
   "outputs": [],
   "source": [
    "def create_plot(data1, data2, data3, reg_params, algo):\n",
    "    data_dict = {\"data1\": data1, \"data2\": data2, \"data3\": data3}\n",
    "    data_plot = {}\n",
    "    data_clf = {}\n",
    "    for i in range(1, 4):\n",
    "        data = data_dict[\"data{}\".format(i)]\n",
    "        x = []\n",
    "        y = []\n",
    "        data_clf[\"data{}\".format(i)] = {}\n",
    "        for param in reg_params:\n",
    "            if(algo == \"lasso\"):\n",
    "                clf = Lasso(alpha=param)\n",
    "            elif(algo == \"ridge\"):\n",
    "                clf = Ridge(alpha=param)\n",
    "                \n",
    "            clf.fit(data.train_x, data.train_y)\n",
    "            x.append(param)\n",
    "            y.append(sum(clf.coef_ != 0))\n",
    "            data_clf[\"data{}\".format(i)][param] = clf\n",
    "            \n",
    "        plt.plot(x, y, label=\"data{}\".format(i))\n",
    "        data_plot[\"data{}\".format(i)] = {\"x\": x, \"y\": y}\n",
    "        \n",
    "    plt.legend()\n",
    "    plt.xlabel(\"Lambda\")\n",
    "    plt.ylabel(\"Number of non-zero coeff\")\n",
    "    plt.show()\n",
    "    \n",
    "    return data_plot, data_clf, data_dict\n",
    "\n",
    "def creat_plot2(data_clf):\n",
    "    data_plot = {}\n",
    "    for data in data_clf:\n",
    "        x = []\n",
    "        y = []\n",
    "        for param in data_clf[data]:\n",
    "            clf = data_clf[data][param]\n",
    "            y_pred = clf.predict(data_dict[data].test_x)\n",
    "            x.append(param)\n",
    "            y.append(mean_squared_error(data_dict[data].test_y, y_pred))\n",
    "        plt.plot(x, y, label=data)\n",
    "        data_plot[data] = {\"x\": x, \"y\": y}\n",
    "        \n",
    "    plt.legend()\n",
    "    plt.xlabel(\"Lambda\")\n",
    "    plt.ylabel(\"MSE\")\n",
    "    plt.show()\n",
    "    \n",
    "    return data_plot"
   ]
  },
  {
   "cell_type": "code",
   "execution_count": 4,
   "metadata": {},
   "outputs": [
    {
     "name": "stdout",
     "output_type": "stream",
     "text": [
      "1A\n"
     ]
    },
    {
     "data": {
      "image/png": "[encoded data removed]",
      "text/plain": [
       "<Figure size 432x288 with 1 Axes>"
      ]
     },
     "metadata": {
      "needs_background": "light"
     },
     "output_type": "display_data"
    },
    {
     "name": "stdout",
     "output_type": "stream",
     "text": [
      "data1\n",
      "[Lambda]\t[Num non-zero coeff]\n",
      "0.01\t\t16\n",
      "0.05\t\t2\n",
      "0.1\t\t0\n",
      "0.2\t\t0\n",
      "0.3\t\t0\n",
      "data2\n",
      "[Lambda]\t[Num non-zero coeff]\n",
      "0.01\t\t9\n",
      "0.05\t\t7\n",
      "0.1\t\t7\n",
      "0.2\t\t7\n",
      "0.3\t\t6\n",
      "data3\n",
      "[Lambda]\t[Num non-zero coeff]\n",
      "0.01\t\t9\n",
      "0.05\t\t8\n",
      "0.1\t\t6\n",
      "0.2\t\t4\n",
      "0.3\t\t4\n",
      "\n",
      "=============================\n",
      "\n",
      "1B\n",
      "Lambda value that yields the minimum number of non-zero coefficients:\n",
      "data1\n",
      "[Lambda]\t[Num non-zero coeff]\n",
      "0.1\t\t0\n",
      "0.2\t\t0\n",
      "0.3\t\t0\n",
      "data2\n",
      "[Lambda]\t[Num non-zero coeff]\n",
      "0.3\t\t6\n",
      "data3\n",
      "[Lambda]\t[Num non-zero coeff]\n",
      "0.2\t\t4\n",
      "0.3\t\t4\n",
      "\n",
      "=============================\n",
      "\n",
      "1C\n"
     ]
    },
    {
     "data": {
      "image/png": "[encoded data removed]",
      "text/plain": [
       "<Figure size 432x288 with 1 Axes>"
      ]
     },
     "metadata": {
      "needs_background": "light"
     },
     "output_type": "display_data"
    },
    {
     "name": "stdout",
     "output_type": "stream",
     "text": [
      "data1\n",
      "[Lambda]\t[MSE]\n",
      "0.01\t\t1.0611873389442872\n",
      "0.05\t\t1.0533535680702206\n",
      "0.1\t\t1.0554182829634164\n",
      "0.2\t\t1.0554182829634164\n",
      "0.3\t\t1.0554182829634164\n",
      "data2\n",
      "[Lambda]\t[MSE]\n",
      "0.01\t\t0.018247756874594755\n",
      "0.05\t\t0.059146577568349026\n",
      "0.1\t\t0.0813741485531316\n",
      "0.2\t\t0.14161835477729212\n",
      "0.3\t\t0.18555716699510397\n",
      "data3\n",
      "[Lambda]\t[MSE]\n",
      "0.01\t\t2.2447659348779516\n",
      "0.05\t\t2.2505419827920994\n",
      "0.1\t\t2.260923355456788\n",
      "0.2\t\t2.2657342668903118\n",
      "0.3\t\t2.2578033504365327\n",
      "\n",
      "=============================\n",
      "\n",
      "1D\n",
      "data1\n",
      "[Lambda]\t[MSE]\t[Num non-zero coeff]\n",
      "0.05\t\t1.053\t2\n",
      "data2\n",
      "[Lambda]\t[MSE]\t[Num non-zero coeff]\n",
      "0.01\t\t0.018\t9\n",
      "data3\n",
      "[Lambda]\t[MSE]\t[Num non-zero coeff]\n",
      "0.01\t\t2.245\t9\n"
     ]
    }
   ],
   "source": [
    "print(\"1A\")\n",
    "data_plot1, data_clf, data_dict = create_plot(data_a, data_b, data_c, [0.01, 0.05, 0.1, 0.2, 0.3], \"lasso\")\n",
    "wb = {}\n",
    "for data in data_plot1:\n",
    "    print(data)\n",
    "    print(\"[Lambda]\\t[Num non-zero coeff]\")\n",
    "    for i in range(len(data_plot1[data]['x'])):\n",
    "        print(\"{}\\t\\t{}\".format(data_plot1[data]['x'][i], data_plot1[data]['y'][i]))\n",
    "    \n",
    "    min_val = min(data_plot1[data]['y'])\n",
    "    index_min_val = data_plot1[data]['y'].index(min_val)\n",
    "    wb[data] = {\"lambda\": data_plot1[data]['x'][index_min_val:], \"val\": data_plot1[data]['y'][index_min_val:]}\n",
    "    \n",
    "print(\"\\n=============================\\n\")\n",
    "print(\"1B\")\n",
    "print(\"Lambda value that yields the minimum number of non-zero coefficients:\")\n",
    "for data in wb:\n",
    "    print(data)\n",
    "    print(\"[Lambda]\\t[Num non-zero coeff]\")\n",
    "    for i in range(len(wb[data]['lambda'])):\n",
    "        print(\"{}\\t\\t{}\".format(wb[data]['lambda'][i], wb[data]['val'][i]))\n",
    "\n",
    "        \n",
    "print(\"\\n=============================\\n\")\n",
    "print(\"1C\")\n",
    "data_plot2 = creat_plot2(data_clf)\n",
    "wd = {}\n",
    "for data in data_plot2:\n",
    "    print(data)\n",
    "    print(\"[Lambda]\\t[MSE]\")\n",
    "    for i in range(len(data_plot2[data]['x'])):\n",
    "        print(\"{}\\t\\t{}\".format(data_plot2[data]['x'][i], data_plot2[data]['y'][i]))\n",
    "    \n",
    "    min_val = min(data_plot2[data]['y'])\n",
    "    index_min_val = data_plot2[data]['y'].index(min_val)\n",
    "    wd[data] = {\"lambda\": data_plot2[data]['x'][index_min_val], \"mse\": data_plot2[data]['y'][index_min_val]}\n",
    "\n",
    "    \n",
    "print(\"\\n=============================\\n\")\n",
    "print(\"1D\")\n",
    "for data in wd:\n",
    "    print(data)\n",
    "    print(\"[Lambda]\\t[MSE]\\t[Num non-zero coeff]\")\n",
    "    index = data_plot1[data]['x'].index(wd[data]['lambda'])\n",
    "    print(\"{}\\t\\t{:.3f}\\t{}\".format(wd[data]['lambda'], wd[data]['mse'], data_plot1[data]['y'][index]))\n",
    "\n"
   ]
  },
  {
   "cell_type": "code",
   "execution_count": 5,
   "metadata": {},
   "outputs": [
    {
     "data": {
      "image/png": "[encoded data removed]",
      "text/plain": [
       "<Figure size 432x288 with 1 Axes>"
      ]
     },
     "metadata": {
      "needs_background": "light"
     },
     "output_type": "display_data"
    }
   ],
   "source": [
    "_1, _2, _3 = create_plot(data_a, data_b, data_c, np.arange(0.01, 5.0, 0.1), \"lasso\")\n"
   ]
  },
  {
   "cell_type": "markdown",
   "metadata": {},
   "source": [
    "1.\n",
    "E) As you can see from the plot above and the plot from 1A, the values of all entries are 0 for the values of lambda that are greater than or equal to 0.1"
   ]
  },
  {
   "cell_type": "markdown",
   "metadata": {},
   "source": [
    "2. Now, we turn to Ridge regression. We'll use sklearn module `Ridge` (read more [here](http://scikit-learn.org/stable/modules/generated/sklearn.linear_model.Ridge.html#sklearn.linear_model.Ridge)). Repeat each of the experiment above using Ridge regression. Use $\\lambda = 1, 50, 100, 200, 1000$."
   ]
  },
  {
   "cell_type": "code",
   "execution_count": 6,
   "metadata": {},
   "outputs": [
    {
     "name": "stdout",
     "output_type": "stream",
     "text": [
      "2A\n"
     ]
    },
    {
     "data": {
      "image/png": "[encoded data removed]",
      "text/plain": [
       "<Figure size 432x288 with 1 Axes>"
      ]
     },
     "metadata": {
      "needs_background": "light"
     },
     "output_type": "display_data"
    },
    {
     "name": "stdout",
     "output_type": "stream",
     "text": [
      "data1\n",
      "[Lambda]\t[Num non-zero coeff]\n",
      "1\t\t20\n",
      "50\t\t20\n",
      "100\t\t20\n",
      "200\t\t20\n",
      "1000\t\t20\n",
      "data2\n",
      "[Lambda]\t[Num non-zero coeff]\n",
      "1\t\t9\n",
      "50\t\t9\n",
      "100\t\t9\n",
      "200\t\t9\n",
      "1000\t\t9\n",
      "data3\n",
      "[Lambda]\t[Num non-zero coeff]\n",
      "1\t\t10\n",
      "50\t\t10\n",
      "100\t\t10\n",
      "200\t\t10\n",
      "1000\t\t10\n",
      "\n",
      "=============================\n",
      "\n",
      "2B\n",
      "Lambda value that yields the minimum number of non-zero coefficients:\n",
      "data1\n",
      "[Lambda]\t[Num non-zero coeff]\n",
      "1\t\t20\n",
      "50\t\t20\n",
      "100\t\t20\n",
      "200\t\t20\n",
      "1000\t\t20\n",
      "data2\n",
      "[Lambda]\t[Num non-zero coeff]\n",
      "1\t\t9\n",
      "50\t\t9\n",
      "100\t\t9\n",
      "200\t\t9\n",
      "1000\t\t9\n",
      "data3\n",
      "[Lambda]\t[Num non-zero coeff]\n",
      "1\t\t10\n",
      "50\t\t10\n",
      "100\t\t10\n",
      "200\t\t10\n",
      "1000\t\t10\n",
      "\n",
      "=============================\n",
      "\n",
      "2C\n"
     ]
    },
    {
     "data": {
      "image/png": "[encoded data removed]",
      "text/plain": [
       "<Figure size 432x288 with 1 Axes>"
      ]
     },
     "metadata": {
      "needs_background": "light"
     },
     "output_type": "display_data"
    },
    {
     "name": "stdout",
     "output_type": "stream",
     "text": [
      "data1\n",
      "[Lambda]\t[MSE]\n",
      "1\t\t1.0614769734756946\n",
      "50\t\t1.0603027819736912\n",
      "100\t\t1.059300465629637\n",
      "200\t\t1.0577447928140513\n",
      "1000\t\t1.0537070622320455\n",
      "data2\n",
      "[Lambda]\t[MSE]\n",
      "1\t\t0.0036802254541537607\n",
      "50\t\t0.03971462323639101\n",
      "100\t\t0.04968027530949831\n",
      "200\t\t0.06393518128301373\n",
      "1000\t\t0.1192109436729029\n",
      "data3\n",
      "[Lambda]\t[MSE]\n",
      "1\t\t2.4696158202498872\n",
      "50\t\t2.2530053802941623\n",
      "100\t\t2.249083509743037\n",
      "200\t\t2.247093141292732\n",
      "1000\t\t2.2471611489085803\n",
      "\n",
      "=============================\n",
      "\n",
      "2D\n",
      "data1\n",
      "[Lambda]\t[MSE]\t[Num non-zero coeff]\n",
      "1000\t\t1.054\t20\n",
      "data2\n",
      "[Lambda]\t[MSE]\t[Num non-zero coeff]\n",
      "1\t\t0.004\t9\n",
      "data3\n",
      "[Lambda]\t[MSE]\t[Num non-zero coeff]\n",
      "200\t\t2.247\t10\n"
     ]
    }
   ],
   "source": [
    "print(\"2A\")\n",
    "data_plot3, data_clf, data_dict = create_plot(data_a, data_b, data_c, [1, 50, 100, 200, 1000], \"ridge\")\n",
    "wb2 = {}\n",
    "for data in data_plot3:\n",
    "    print(data)\n",
    "    print(\"[Lambda]\\t[Num non-zero coeff]\")\n",
    "    for i in range(len(data_plot3[data]['x'])):\n",
    "        print(\"{}\\t\\t{}\".format(data_plot3[data]['x'][i], data_plot3[data]['y'][i]))\n",
    "    \n",
    "    min_val = min(data_plot3[data]['y'])\n",
    "    index_min_val = data_plot3[data]['y'].index(min_val)\n",
    "    wb2[data] = {\"lambda\": data_plot3[data]['x'][index_min_val:], \"val\": data_plot3[data]['y'][index_min_val:]}\n",
    "    \n",
    "\n",
    "print(\"\\n=============================\\n\")\n",
    "print(\"2B\")\n",
    "print(\"Lambda value that yields the minimum number of non-zero coefficients:\")\n",
    "for data in wb2:\n",
    "    print(data)\n",
    "    print(\"[Lambda]\\t[Num non-zero coeff]\")\n",
    "    for i in range(len(wb2[data]['lambda'])):\n",
    "        print(\"{}\\t\\t{}\".format(wb2[data]['lambda'][i], wb2[data]['val'][i]))\n",
    "\n",
    "\n",
    "print(\"\\n=============================\\n\")\n",
    "print(\"2C\")\n",
    "data_plot4 = creat_plot2(data_clf)\n",
    "wd2 = {}\n",
    "for data in data_plot4:\n",
    "    print(data)\n",
    "    print(\"[Lambda]\\t[MSE]\")\n",
    "    for i in range(len(data_plot4[data]['x'])):\n",
    "        print(\"{}\\t\\t{}\".format(data_plot4[data]['x'][i], data_plot4[data]['y'][i]))\n",
    "    \n",
    "    min_val = min(data_plot4[data]['y'])\n",
    "    index_min_val = data_plot4[data]['y'].index(min_val)\n",
    "    wd2[data] = {\"lambda\": data_plot4[data]['x'][index_min_val], \"mse\": data_plot4[data]['y'][index_min_val]}\n",
    "\n",
    "\n",
    "print(\"\\n=============================\\n\")\n",
    "print(\"2D\")\n",
    "for data in wd2:\n",
    "    print(data)\n",
    "    print(\"[Lambda]\\t[MSE]\\t[Num non-zero coeff]\")\n",
    "    index = data_plot3[data]['x'].index(wd2[data]['lambda'])\n",
    "    print(\"{}\\t\\t{:.3f}\\t{}\".format(wd2[data]['lambda'], wd2[data]['mse'], data_plot3[data]['y'][index]))"
   ]
  },
  {
   "cell_type": "code",
   "execution_count": 7,
   "metadata": {},
   "outputs": [
    {
     "data": {
      "image/png": "[encoded data removed]",
      "text/plain": [
       "<Figure size 432x288 with 1 Axes>"
      ]
     },
     "metadata": {
      "needs_background": "light"
     },
     "output_type": "display_data"
    }
   ],
   "source": [
    "data_plot, data_clf, data_dict = create_plot(data_a, data_b, data_c, range(1000, 100000, 1000), \"ridge\")\n"
   ]
  },
  {
   "cell_type": "markdown",
   "metadata": {},
   "source": [
    "2.\n",
    "E) No. As you can see from the plot above, I increased the value of lambda to 100000, but the number of non-zero coeff did not change."
   ]
  },
  {
   "cell_type": "markdown",
   "metadata": {},
   "source": [
    "3. Compare the two algorithms on each data set: compare the number of non-zero coordinates of the $\\mathbf w_d$'s, and compare the test error rates of the $\\mathbf w_b$'s. Report your results and comment on them."
   ]
  },
  {
   "cell_type": "code",
   "execution_count": 8,
   "metadata": {},
   "outputs": [
    {
     "name": "stdout",
     "output_type": "stream",
     "text": [
      "w_b values\n",
      "data1\n",
      "Lasso:\t[Lambda]\t[Num non-zero coeff]\tRidge:\t[Lambda]\t[Num non-zero coeff]\t\n",
      "\t0.1\t\t0\t\t\t\t1\t\t20\n",
      "\t0.2\t\t0\t\t\t\t50\t\t20\n",
      "\t0.3\t\t0\t\t\t\t100\t\t20\n",
      "data2\n",
      "Lasso:\t[Lambda]\t[Num non-zero coeff]\tRidge:\t[Lambda]\t[Num non-zero coeff]\t\n",
      "\t0.3\t\t6\t\t\t\t1\t\t9\n",
      "data3\n",
      "Lasso:\t[Lambda]\t[Num non-zero coeff]\tRidge:\t[Lambda]\t[Num non-zero coeff]\t\n",
      "\t0.2\t\t4\t\t\t\t1\t\t10\n",
      "\t0.3\t\t4\t\t\t\t50\t\t10\n",
      "\n",
      "w_d values\n",
      "data1\n",
      "Lasso:\t[Lambda]\t[MSE]\t[Num non-zero coeff]\tRidge:\t[Lambda]\t[MSE]\t[Num non-zero coeff]\n",
      "\t0.05\t\t1.053\t2\t\t\t\t1000\t\t1.054\t20\n",
      "data2\n",
      "Lasso:\t[Lambda]\t[MSE]\t[Num non-zero coeff]\tRidge:\t[Lambda]\t[MSE]\t[Num non-zero coeff]\n",
      "\t0.01\t\t0.018\t9\t\t\t\t1\t\t0.004\t9\n",
      "data3\n",
      "Lasso:\t[Lambda]\t[MSE]\t[Num non-zero coeff]\tRidge:\t[Lambda]\t[MSE]\t[Num non-zero coeff]\n",
      "\t0.01\t\t2.245\t9\t\t\t\t200\t\t2.247\t10\n"
     ]
    }
   ],
   "source": [
    "print(\"w_b values\")\n",
    "for data in wb:\n",
    "    print(data)\n",
    "    print(\"Lasso:\\t[Lambda]\\t[Num non-zero coeff]\\tRidge:\\t[Lambda]\\t[Num non-zero coeff]\\t\")\n",
    "    for i in range(len(wb[data]['lambda'])):\n",
    "        print(\"\\t{}\\t\\t{}\\t\\t\\t\\t{}\\t\\t{}\".format(wb[data]['lambda'][i], wb[data]['val'][i], wb2[data]['lambda'][i], wb2[data]['val'][i]))\n",
    "\n",
    "print()\n",
    "print(\"w_d values\")\n",
    "for data in wd:\n",
    "    print(data)\n",
    "    print(\"Lasso:\\t[Lambda]\\t[MSE]\\t[Num non-zero coeff]\\tRidge:\\t[Lambda]\\t[MSE]\\t[Num non-zero coeff]\")\n",
    "    index1 = data_plot1[data]['x'].index(wd[data]['lambda'])\n",
    "    index2 = data_plot3[data]['x'].index(wd2[data]['lambda'])\n",
    "    print(\"\\t{}\\t\\t{:.3f}\\t{}\\t\\t\\t\\t{}\\t\\t{:.3f}\\t{}\".format(wd[data]['lambda'], wd[data]['mse'], data_plot1[data]['y'][index1], wd2[data]['lambda'], wd2[data]['mse'], data_plot3[data]['y'][index2]))"
   ]
  },
  {
   "cell_type": "markdown",
   "metadata": {},
   "source": [
    "The table above shows a comparison between $w_b$ and $w_d$ values for Ridge and Lasso.<br>\n",
    "We can see that, in general, the number of non-zero coefficients is less in Lasso, but the MSE values are very close."
   ]
  },
  {
   "cell_type": "markdown",
   "metadata": {},
   "source": [
    "## Part 2: Visualizing Data and Decision Boundaries for different kernels - 30 points"
   ]
  },
  {
   "cell_type": "markdown",
   "metadata": {},
   "source": [
    "### A. Training SVM with Linear Kernel (Dataset 1)"
   ]
  },
  {
   "cell_type": "code",
   "execution_count": 9,
   "metadata": {},
   "outputs": [
    {
     "data": {
      "image/png": "[encoded data removed]",
      "text/plain": [
       "<Figure size 432x288 with 1 Axes>"
      ]
     },
     "metadata": {
      "needs_background": "light"
     },
     "output_type": "display_data"
    }
   ],
   "source": [
    "import numpy as np\n",
    "import scipy.io as sio\n",
    "import matplotlib.pyplot as plt\n",
    "\n",
    "from plot_data import plot_data\n",
    "\n",
    "\n",
    "# Load from data1\n",
    "mat_data = sio.loadmat('./data/data1.mat')\n",
    "X = mat_data['X']\n",
    "y = mat_data['y'].ravel()\n",
    "\n",
    "# Plot training data\n",
    "plt.figure()\n",
    "plot_data(X, y)\n",
    "plt.xlim([0, 4.5])\n",
    "plt.ylim([1.5, 5])\n",
    "plt.title(\"Dataset 1\")\n",
    "plt.show()"
   ]
  },
  {
   "cell_type": "markdown",
   "metadata": {},
   "source": [
    "**A:** In `data1.mat`, most of the positive and negative examples can be separated by a single line. Train SVM with linear kernel with C = 1 and plot the decision boundary using `visualize_boundary_linear(X, y, clf)`. `clf` is the SVM classifier. For the classifier, you should use the scikit-learn implementation. Feel free to experiment with different values of C and see what effect it has on the decision boundary. However finally train your classifier with C = 1"
   ]
  },
  {
   "cell_type": "code",
   "execution_count": 10,
   "metadata": {},
   "outputs": [
    {
     "name": "stdout",
     "output_type": "stream",
     "text": [
      "Score: 0.9803921568627451\n"
     ]
    },
    {
     "data": {
      "image/png": "[encoded data removed]",
      "text/plain": [
       "<Figure size 432x288 with 1 Axes>"
      ]
     },
     "metadata": {
      "needs_background": "light"
     },
     "output_type": "display_data"
    }
   ],
   "source": [
    "# SOLUTION \n",
    "from sklearn import svm\n",
    "from visualize_boundary_linear import visualize_boundary_linear\n",
    "\n",
    "### START CODE HERE ### (approx. 3 lines)\n",
    "# 1. Create a linear SVM classifier\n",
    "clf = svm.SVC(C=1.0, kernel=\"linear\")\n",
    "# 2. Fit the model according to the given training data.\n",
    "clf.fit(X, y)\n",
    "# 3. Print the mean accuracy on the given train data and labels using the score function in scikit-learn\n",
    "print(\"Score: {}\".format(clf.score(X, y)))\n",
    "### END CODE HERE ### \n",
    "\n",
    "plt.figure()\n",
    "# Uncomment the below line after you build your classifier\n",
    "visualize_boundary_linear(X, y, clf)\n",
    "plt.xlim([0, 4.5])\n",
    "plt.ylim([1.5, 5])\n",
    "plt.title(\"Dataset 1\")\n",
    "plt.show()"
   ]
  },
  {
   "cell_type": "markdown",
   "metadata": {},
   "source": [
    "### B. Training SVM with RBF Kernel (Dataset 2)"
   ]
  },
  {
   "cell_type": "code",
   "execution_count": 11,
   "metadata": {},
   "outputs": [
    {
     "data": {
      "image/png": "[encoded data removed]",
      "text/plain": [
       "<Figure size 432x288 with 1 Axes>"
      ]
     },
     "metadata": {
      "needs_background": "light"
     },
     "output_type": "display_data"
    }
   ],
   "source": [
    "# Load from data2\n",
    "mat_data = sio.loadmat('./data/data2.mat')\n",
    "X = mat_data['X']\n",
    "y = mat_data['y'].ravel()\n",
    "\n",
    "# Plot training data\n",
    "plt.figure()\n",
    "plot_data(X, y)\n",
    "plt.xlim([0, 1])\n",
    "plt.ylim([0.4, 1])\n",
    "plt.title(\"Dataset 2\")\n",
    "plt.show()"
   ]
  },
  {
   "cell_type": "markdown",
   "metadata": {},
   "source": [
    "**B** In `data2.mat`, the positive and negative data points are not linearly separable. For this dataset, construct an SVM classifier with a Gaussian kernel to learn a non-linear decision boundary. You should use the scikit-learn implementation for the same. To plot the decision boundary use `visualize_boundary(X, y, clf)`"
   ]
  },
  {
   "cell_type": "code",
   "execution_count": 12,
   "metadata": {},
   "outputs": [
    {
     "name": "stdout",
     "output_type": "stream",
     "text": [
      "Score: 0.9698725376593279\n"
     ]
    },
    {
     "name": "stderr",
     "output_type": "stream",
     "text": [
      "/Library/Frameworks/Python.framework/Versions/3.7/lib/python3.7/site-packages/matplotlib/contour.py:1243: UserWarning: No contour levels were found within the data range.\n",
      "  warnings.warn(\"No contour levels were found\"\n"
     ]
    },
    {
     "data": {
      "image/png": "[encoded data removed]",
      "text/plain": [
       "<Figure size 432x288 with 1 Axes>"
      ]
     },
     "metadata": {
      "needs_background": "light"
     },
     "output_type": "display_data"
    }
   ],
   "source": [
    "from visualize_boundary import visualize_boundary\n",
    "\n",
    "# SVM Parameters to be used\n",
    "C = 100\n",
    "gamma = 10\n",
    "\n",
    "### START CODE HERE ### (approx. 3 lines)\n",
    "# 1. Create a SVM classifier with kernel='rbf'\n",
    "clf = svm.SVC(C=C, gamma=gamma, kernel='rbf')\n",
    "# 2. Fit the model according to the given training data.\n",
    "clf.fit(X, y)\n",
    "# 3. Print the mean accuracy on the given train data and labels using the score function in scikit-learn\n",
    "print(\"Score: {}\".format(clf.score(X, y\n",
    "                                  )))\n",
    "### END CODE HERE ### \n",
    "\n",
    "plt.figure()\n",
    "# Uncomment the below line after you build your classifier\n",
    "visualize_boundary(X, y, clf)\n",
    "plt.xlim([0, 1])\n",
    "plt.ylim([0.4, 1])\n",
    "plt.title(\"Dataset 2\")\n",
    "plt.show()"
   ]
  },
  {
   "cell_type": "markdown",
   "metadata": {},
   "source": [
    "## Part 3: Kernel Perceptron - 40 points"
   ]
  },
  {
   "cell_type": "markdown",
   "metadata": {},
   "source": [
    "For this task, you will be implement the Kernel Perceptron using different kernel functions. You will then use the training and test data provided below to train and test your implementation. Finally you will have to report the error rate as a percentage for each kernel function."
   ]
  },
  {
   "cell_type": "markdown",
   "metadata": {},
   "source": [
    "**A:** Implement the kernel functions below:"
   ]
  },
  {
   "cell_type": "code",
   "execution_count": 13,
   "metadata": {},
   "outputs": [],
   "source": [
    "import numpy as np\n",
    "from numpy import linalg\n",
    "\n",
    "def linear_kernel(x1, x2):\n",
    "    #  TODO\n",
    "    return np.dot(x1, x2)\n",
    "    \n",
    "\n",
    "def polynomial_kernel(x, y, p = 3):\n",
    "    return (np.dot(x, y) + 1)**p\n",
    "    \n",
    "def gaussian_kernel(x, y, sigma = 0.5):\n",
    "    return np.exp(-linalg.norm(x-y)**2 / (2 * (sigma ** 2)))\n",
    "    "
   ]
  },
  {
   "cell_type": "code",
   "execution_count": 14,
   "metadata": {},
   "outputs": [
    {
     "name": "stderr",
     "output_type": "stream",
     "text": [
      "...\n",
      "----------------------------------------------------------------------\n",
      "Ran 3 tests in 0.007s\n",
      "\n",
      "OK\n"
     ]
    },
    {
     "data": {
      "text/plain": [
       "<unittest.runner.TextTestResult run=3 errors=0 failures=0>"
      ]
     },
     "execution_count": 14,
     "metadata": {},
     "output_type": "execute_result"
    }
   ],
   "source": [
    "import unittest\n",
    "\n",
    "class TestKernels(unittest.TestCase):\n",
    "    \n",
    "    def setUp(self):\n",
    "        self.x1 = np.array([1, 2, 1])\n",
    "        self.x2 = np.array([0, 4, -1])\n",
    "        \n",
    "    def test0(self):\n",
    "        \"\"\"\n",
    "        Test the linear kernel\n",
    "        \"\"\"\n",
    "        self.assertEqual(linear_kernel(self.x1, self.x2), 7)\n",
    "    \n",
    "    def test_polynomial_kernel(self):\n",
    "        \"\"\"\n",
    "        Test the polynomial kernel\n",
    "        \"\"\"\n",
    "        self.assertEqual(polynomial_kernel(self.x1, self.x2), 512)\n",
    "        \n",
    "    def test_gaussian_kernel(self):\n",
    "        \"\"\"\n",
    "        Test the gaussian kernel\n",
    "        \"\"\"\n",
    "        self.assertAlmostEqual(gaussian_kernel(self.x1, self.x2) * 10 ** 8, 1.52299, 4)\n",
    "    \n",
    "\n",
    "tests = TestKernels()\n",
    "tests_to_run = unittest.TestLoader().loadTestsFromModule(tests)\n",
    "unittest.TextTestRunner().run(tests_to_run)\n",
    "            "
   ]
  },
  {
   "cell_type": "markdown",
   "metadata": {},
   "source": [
    "**B:** Implement the following methods of the `KernelPerceptron` class. The `__init__` takes also as input the kernel to use. You are allowed to introduce new class variables/methods.\n",
    "\n",
    "* Implement the `fit` method. Taking as input the training data, it learns the model parameters\n",
    "* Implement the `predict` method which takes as input new examples and returns the estimated label "
   ]
  },
  {
   "cell_type": "code",
   "execution_count": 15,
   "metadata": {},
   "outputs": [],
   "source": [
    "class KernelPerceptron:\n",
    "    def __init__(self, kernel = linear_kernel, Niter = 1):\n",
    "        self.kernel = kernel\n",
    "        self.Niter = Niter\n",
    "        self.support_vector_x = None\n",
    "        self.support_vector_y = None\n",
    "        self.alphas = None\n",
    "            \n",
    "    def find_support_vectors(self, X, y):\n",
    "        self.support_vector_x = np.zeros(X.shape)\n",
    "        self.support_vector_y = np.zeros(y.shape)\n",
    "        for i in range(len(self.alphas)):\n",
    "            if self.alphas[i] != 0:\n",
    "                self.support_vector_x[i] = X[i]\n",
    "                self.support_vector_y[i] = y[i]\n",
    "            \n",
    "        \n",
    "    def fit(self, X, y):\n",
    "        length = X.shape[0]\n",
    "        self.alphas = np.zeros(length)\n",
    "        K = np.zeros((length, length))\n",
    "        for i in range(length):\n",
    "            for j in range(length):\n",
    "                K[i, j] = self.kernel(X[i], X[j])\n",
    "        \n",
    "        for n in range(self.Niter):\n",
    "            for i in range(length):\n",
    "                y_hat = np.sign(np.sum(K[:,i]*self.alphas*y))\n",
    "                if y_hat != y[i]:\n",
    "                    self.alphas[i] += 1\n",
    "\n",
    "        self.find_support_vectors(X, y)\n",
    "        \n",
    "    def predict(self, X):\n",
    "        y_predict = []\n",
    "        for i in range(X.shape[0]):\n",
    "            temp = 0\n",
    "            for j in range(self.alphas.shape[0]):\n",
    "                temp += self.alphas[j] * self.support_vector_y[j] * self.kernel(X[i],self.support_vector_x[j])\n",
    "            y_predict.append(temp)\n",
    "        return np.sign(y_predict)\n",
    "    \n",
    "        \n",
    "            "
   ]
  },
  {
   "cell_type": "markdown",
   "metadata": {},
   "source": [
    "##  Solving a new classification problem using SVM"
   ]
  },
  {
   "cell_type": "markdown",
   "metadata": {},
   "source": [
    "We are using the IRIS Dataset for this classification task. We have created a binary classification problem to determine whether a given flower is a setosa or not. To create this, we pre-processed the labels to create a label vector where setosa’s label is unchanged (i.e. its label is 1), but both versicolor and virginica are now labeled as -1. The data contains two out of the four attributes, petal width and petal length.We are going to use this dataset to test our Kernel Perceptron\n",
    "<br>\n",
    "\n",
    "<img src=\"wide_iris.png\" alt=\"Drawing\" style=\"width: 600px;\"/>\n",
    "\n",
    "<br>"
   ]
  },
  {
   "cell_type": "code",
   "execution_count": 16,
   "metadata": {},
   "outputs": [],
   "source": [
    "from scipy.io import loadmat\n",
    "class Data:\n",
    "    def __init__(self):\n",
    "        ff = lambda x,y : loadmat(x)[y]\n",
    "        \n",
    "        self.X_train = ff(\"data/iris_3/train_data.mat\", \"train_data\")\n",
    "        self.y_train = ff(\"data/iris_3/train_labels.mat\", \"train_labels\").flatten()\n",
    "        \n",
    "        self.X_test = ff(\"data/iris_3/test_data.mat\", \"test_data\")\n",
    "        self.y_test = ff(\"data/iris_3/test_labels.mat\", \"test_labels\").flatten()\n",
    "        \n",
    "data = Data()"
   ]
  },
  {
   "cell_type": "markdown",
   "metadata": {},
   "source": [
    "**C:** Report the test error as a percentage for each kernel function for `Niter = 20`"
   ]
  },
  {
   "cell_type": "markdown",
   "metadata": {},
   "source": [
    "**Expected Output**: \n",
    "\n",
    "<table> \n",
    "    <tr>\n",
    "    <td>\n",
    "    **Linear Kernel**\n",
    "    </td>\n",
    "     <td>\n",
    "    40 %\n",
    "    </td>\n",
    "    </tr>\n",
    "      <tr>\n",
    "    <td>\n",
    "    **Polynomial Kernel**\n",
    "    </td>\n",
    "     <td>\n",
    "    6.67 %\n",
    "    </td>\n",
    "    </tr>\n",
    "      <tr>\n",
    "    <td>\n",
    "    **Gaussian Kernel**\n",
    "    </td>\n",
    "     <td>\n",
    "    6.67 %\n",
    "    </td>\n",
    "    </tr>\n",
    "\n",
    "</table> "
   ]
  },
  {
   "cell_type": "code",
   "execution_count": 17,
   "metadata": {},
   "outputs": [
    {
     "name": "stdout",
     "output_type": "stream",
     "text": [
      "Linear kernel: 40.00%\n",
      "Gaussian kernel: 6.67%\n",
      "Polynomial kernel: 6.67%\n"
     ]
    }
   ],
   "source": [
    "s1 = KernelPerceptron(linear_kernel, 20)\n",
    "s1.fit(data.X_train, data.y_train)\n",
    "y_hat1 = s1.predict(data.X_test)\n",
    "y = data.y_test\n",
    "print(\"Linear kernel: {:.2f}%\".format(100 - 100 * sum(y == y_hat1)/len(y)))\n",
    "\n",
    "s2 = KernelPerceptron(gaussian_kernel, 20)\n",
    "s2.fit(data.X_train, data.y_train)\n",
    "y_hat2 = s2.predict(data.X_test)\n",
    "y = data.y_test\n",
    "print(\"Gaussian kernel: {:.2f}%\".format(100 - 100 * sum(y == y_hat2)/len(y)))\n",
    "\n",
    "s3 = KernelPerceptron(polynomial_kernel, 20)\n",
    "s3.fit(data.X_train, data.y_train)\n",
    "y_hat3 = s3.predict(data.X_test)\n",
    "y = data.y_test\n",
    "print(\"Polynomial kernel: {:.2f}%\".format(100 - 100 * sum(y == y_hat3)/len(y)))"
   ]
  }
 ],
 "metadata": {
  "kernelspec": {
   "display_name": "Python 3",
   "language": "python",
   "name": "python3"
  },
  "language_info": {
   "codemirror_mode": {
    "name": "ipython",
    "version": 3
   },
   "file_extension": ".py",
   "mimetype": "text/x-python",
   "name": "python",
   "nbconvert_exporter": "python",
   "pygments_lexer": "ipython3",
   "version": "3.7.2"
  }
 },
 "nbformat": 4,
 "nbformat_minor": 2
}
