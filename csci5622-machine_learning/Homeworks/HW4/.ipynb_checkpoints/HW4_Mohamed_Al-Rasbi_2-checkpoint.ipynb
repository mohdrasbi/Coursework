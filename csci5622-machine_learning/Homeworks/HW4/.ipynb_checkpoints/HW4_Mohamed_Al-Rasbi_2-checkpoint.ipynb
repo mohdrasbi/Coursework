{
 "cells": [
  {
   "cell_type": "markdown",
   "metadata": {},
   "source": [
    "# Homework 4 - Ensemble Methods and Decision Trees \n",
    "## CSCI 5622 - Spring 2019\n",
    "***\n",
    "**Name**: Mohamed Al-Rasbi\n",
    "***\n",
    "\n",
    "This assignment is due on Canvas by **11.59 PM on Wednesday, March 20**. Submit only this Jupyter notebook to Canvas.  Do not compress it using tar, rar, zip, etc. Your solutions to analysis questions should be done in Markdown directly below the associated question.  Remember that you are encouraged to discuss the problems with your classmates and instructors, but **you must write all code and solutions on your own**, and list any people or sources consulted.\n"
   ]
  },
  {
   "cell_type": "markdown",
   "metadata": {},
   "source": [
    "## Dataset\n",
    "***\n",
    "Please do not change this class. We will use the MNIST dataset for this assignment. You have previously trained KNN, Logistic Regression on this dataset. You will now be using Ensemble methods and Decision Trees. This is a good opportunity to compare the results of different Machine Learning Algorithms on the dataset.\n",
    "\n",
    "This is a binary classification task. We have only included 3's and 8's for this task."
   ]
  },
  {
   "cell_type": "code",
   "execution_count": 1,
   "metadata": {},
   "outputs": [],
   "source": [
    "import numpy as np\n",
    "import pandas as pd\n",
    "from sklearn.base import clone\n",
    "from sklearn.model_selection import train_test_split\n",
    "from sklearn.tree import DecisionTreeClassifier\n",
    "from sklearn.preprocessing import normalize\n",
    "from sklearn.model_selection import KFold\n",
    "import time\n",
    "import matplotlib.pyplot as plt"
   ]
  },
  {
   "cell_type": "code",
   "execution_count": 2,
   "metadata": {},
   "outputs": [],
   "source": [
    "class ThreesAndEights:\n",
    "    \"\"\"\n",
    "    Class to store MNIST data\n",
    "    \"\"\"\n",
    "\n",
    "    def __init__(self, location):\n",
    "\n",
    "        import pickle, gzip\n",
    "\n",
    "        # Load the dataset\n",
    "        f = gzip.open(location, 'rb')\n",
    "\n",
    "        # Split the data set\n",
    "        train_set, valid_set, test_set = pickle.load(f)\n",
    "    \n",
    "        X_train, y_train = train_set\n",
    "        X_valid, y_valid = valid_set\n",
    "\n",
    "        # Extract only 3's and 8's for training set \n",
    "        self.X_train = X_train[np.logical_or( y_train==3, y_train == 8), :]\n",
    "        self.y_train = y_train[np.logical_or( y_train==3, y_train == 8)]\n",
    "        self.y_train = np.array([1 if y == 8 else -1 for y in self.y_train])\n",
    "        \n",
    "        # Shuffle the training data \n",
    "        shuff = np.arange(self.X_train.shape[0])\n",
    "        np.random.shuffle(shuff)\n",
    "        self.X_train = self.X_train[shuff,:]\n",
    "        self.y_train = self.y_train[shuff]\n",
    "\n",
    "        # Extract only 3's and 8's for validation set \n",
    "        self.X_valid = X_valid[np.logical_or( y_valid==3, y_valid == 8), :]\n",
    "        self.y_valid = y_valid[np.logical_or( y_valid==3, y_valid == 8)]\n",
    "        self.y_valid = np.array([1 if y == 8 else -1 for y in self.y_valid])\n",
    "        \n",
    "        f.close()"
   ]
  },
  {
   "cell_type": "code",
   "execution_count": 3,
   "metadata": {},
   "outputs": [],
   "source": [
    "data = ThreesAndEights(\"data/mnist.pklz\")"
   ]
  },
  {
   "cell_type": "markdown",
   "metadata": {},
   "source": [
    "Feel free to explore this data and get comfortable with it before proceeding further."
   ]
  },
  {
   "cell_type": "markdown",
   "metadata": {},
   "source": [
    "## Bagging\n",
    "Bootstrap aggregating, also called bagging, is a machine learning ensemble meta-algorithm designed to improve the stability and accuracy of machine learning algorithms used in statistical classification and regression. It also reduces variance and helps to avoid overfitting. Although it is usually applied to decision tree methods, it can be used with any type of method. Bagging is a special case of the model averaging approach.\n",
    "\n",
    "Given a standard training set $D$ of size n, bagging generates $N$ new training sets $D_i$, roughly each of size n * ratio, by sampling from $D$ uniformly and with replacement. By sampling with replacement, some observations may be repeated in each $D_i$ The $N$ models are fitted using the above $N$ bootstraped samples and combined by averaging the output (for regression) or voting (for classification). \n",
    "\n",
    "-Source [Wiki](https://en.wikipedia.org/wiki/Bootstrap_aggregating)"
   ]
  },
  {
   "cell_type": "markdown",
   "metadata": {},
   "source": [
    "## Implementing Bagging [25 points]\n",
    "***\n",
    "\n",
    "We've given you a skeleton of the class `BaggingClassifier` below which will train a classifier based on the decision trees as implemented by sklearn. Your tasks are as follows, please approach step by step to understand the code flow:\n",
    "* Implement `bootstrap` method which takes in two parameters (`X_train, y_train`) and returns a bootstrapped training set ($D_i$)\n",
    "* Implement `fit` method which takes in two parameters (`X_train, y_train`) and trains `N` number of base models on different bootstrap samples. You should call `bootstrap` method to get bootstrapped training data for each of your base model\n",
    "* Implement `voting` method which takes the predictions from learner trained on bootstrapped data points `y_hats` and returns final prediction as per majority rule. In case of ties, return either of the class randomly.\n",
    "* Implement `predict` method which takes in multiple data points and returns final prediction for each one of those. Please use the `voting` method to reach consensus on final prediction."
   ]
  },
  {
   "cell_type": "code",
   "execution_count": 4,
   "metadata": {},
   "outputs": [],
   "source": [
    "class BaggingClassifier:\n",
    "    def __init__(self, ratio = 0.20, N = 20, base=DecisionTreeClassifier(max_depth=4)):\n",
    "        \"\"\"\n",
    "        Create a new BaggingClassifier\n",
    "        \n",
    "        Args:\n",
    "            base (BaseEstimator, optional): Sklearn implementation of decision tree\n",
    "            ratio: ratio of number of data points in subsampled data to the actual training data\n",
    "            N: number of base estimator in the ensemble\n",
    "        \n",
    "        Attributes:\n",
    "            base (estimator): Sklearn implementation of decision tree\n",
    "            N: Number of decision trees\n",
    "            learners: List of models trained on bootstrapped data sample\n",
    "        \"\"\"\n",
    "        \n",
    "        assert ratio <= 1.0, \"Cannot have ratio greater than one\"\n",
    "        self.base = base\n",
    "        self.ratio = ratio\n",
    "        self.N = N\n",
    "        self.learners = []\n",
    "        \n",
    "    def fit(self, X_train, y_train):\n",
    "        \"\"\"\n",
    "        Train Bagging Ensemble Classifier on data\n",
    "        \n",
    "        Args:\n",
    "            X_train (ndarray): [n_samples x n_features] ndarray of training data   \n",
    "            y_train (ndarray): [n_samples] ndarray of data \n",
    "        \"\"\"\n",
    "        for i in range(self.N):  \n",
    "            X_bs, y_bs = self.boostrap(X_train, y_train)\n",
    "            clf = clone(self.base)\n",
    "            self.learners.append(clf.fit(X_bs, y_bs))\n",
    "        \n",
    "        \n",
    "    def boostrap(self, X_train, y_train):\n",
    "        \"\"\"\n",
    "        Args:\n",
    "            n (int): total size of the training data\n",
    "            X_train (ndarray): [n_samples x n_features] ndarray of training data   \n",
    "            y_train (ndarray): [n_samples] ndarray of data \n",
    "        \"\"\"\n",
    "        #rm: remained, bs: bootstrapped\n",
    "        X_rm, X_bs, y_rm, y_bs = train_test_split(X_train, y_train, test_size=self.ratio)\n",
    "        \n",
    "        return X_bs, y_bs\n",
    "    \n",
    "    def predict(self, X):\n",
    "        \"\"\"\n",
    "        BaggingClassifier prediction for data points in X\n",
    "        \n",
    "        Args:\n",
    "            X (ndarray): [n_samples x n_features] ndarray of data \n",
    "            \n",
    "        Returns:\n",
    "            yhat (ndarray): [n_samples] ndarray of predicted labels {-1,1}\n",
    "        \"\"\"\n",
    "        y_hats = []\n",
    "        for clf in self.learners:\n",
    "            y_hats.append(clf.predict(X))\n",
    "            \n",
    "        final_prediction = np.array(self.voting(y_hats))\n",
    "        return final_prediction\n",
    "    \n",
    "    def voting(self, y_hats):\n",
    "        \"\"\"\n",
    "        Args:\n",
    "            y_hats (ndarray): [N] ndarray of data\n",
    "        Returns:\n",
    "            y_final : int, final prediction of the \n",
    "        \"\"\"\n",
    "        #TODO: Implement majority voting scheme and incase of ties return random label\n",
    "        return np.sign(np.sum(y_hats, axis=0))\n",
    "    "
   ]
  },
  {
   "cell_type": "markdown",
   "metadata": {},
   "source": [
    "## BaggingClassifier for Handwritten Digit Recognition [10 points]\n",
    "***\n",
    "\n",
    "After you've successfully completed `BaggingClassifier` find the optimal values of `ratio`, `N` and `depth` using k-fold cross validation. You are allowed to use sklearn library to split your training data in folds. Use the data from `ThreesAndEights` class initialized variable `data`. Hyperparameter tuning as you may have noticed is very important in Machine Learning.  \n",
    "\n",
    "Justify why those values are optimal.\n",
    "\n",
    "Report accuracy on the validation data using the optimal parameter values.\n",
    "\n",
    "__Note__: This might take a little longer time than usual to run (i.e. several minutes). This is true for the ensemble methods you will implement below as well."
   ]
  },
  {
   "cell_type": "code",
   "execution_count": 5,
   "metadata": {},
   "outputs": [
    {
     "name": "stdout",
     "output_type": "stream",
     "text": [
      "Current max accuracy: 0.8670917116233448\n",
      "Current max accuracy: 0.9185875429131928\n",
      "Current max accuracy: 0.933300637567435\n",
      "Current max accuracy: 0.9470328592447278\n",
      "Current max accuracy: 0.9475232957332026\n",
      "Current max accuracy: 0.9514467876410004\n",
      "Current max accuracy: 0.9583128984796468\n",
      "Current max accuracy: 0.9588033349681216\n",
      "Current max accuracy: 0.9627268268759196\n",
      "Current max accuracy: 0.9637076998528691\n",
      "Current max accuracy: 0.9651790093182933\n",
      "Current max accuracy: 0.9661598822952427\n",
      "Current max accuracy: 0.967631191760667\n",
      "Current max accuracy: 0.9681216282491417\n",
      "Current max accuracy: 0.9691025012260912\n",
      "Current max accuracy: 0.9700833742030407\n",
      "2691.8148798942566\n"
     ]
    }
   ],
   "source": [
    "start = time.time()\n",
    "\n",
    "kf = KFold(n_splits=5).split(data.X_train)\n",
    "ratios = np.arange(0.1,1.0, 0.05)\n",
    "N = range(10, 140, 10)\n",
    "depths = range(1,11)\n",
    "\n",
    "found = False\n",
    "max_acc = {\"acc\": 0, \"ratio\": None, \"n\": None, \"depth\": None}\n",
    "for train_index, test_index in kf:\n",
    "    X_train, X_test = data.X_train[train_index], data.X_valid\n",
    "    y_train, y_test = data.y_train[train_index], data.y_valid\n",
    "    \n",
    "    for ratio in ratios:\n",
    "        if found:\n",
    "            break\n",
    "        for n in N:\n",
    "            if found:\n",
    "                break\n",
    "            for depth in depths:\n",
    "                bc = BaggingClassifier(ratio = ratio, N = n, \n",
    "                                       base=DecisionTreeClassifier(max_depth=depth))\n",
    "                bc.fit(X_train, y_train)\n",
    "                y_hat = bc.predict(X_test)\n",
    "                accuracy = sum(y_hat == y_test)/len(y_test)\n",
    "                if accuracy > max_acc[\"acc\"]:\n",
    "                    print(\"Current max accuracy:\", accuracy)\n",
    "                    max_acc[\"acc\"] = accuracy\n",
    "                    max_acc[\"ratio\"] = ratio\n",
    "                    max_acc[\"n\"] = n\n",
    "                    max_acc[\"depth\"] = depth\n",
    "                \n",
    "                if max_acc[\"acc\"] >= 0.97:\n",
    "                    found = True\n",
    "                    break\n",
    "\n",
    "print(time.time() - start)"
   ]
  },
  {
   "cell_type": "code",
   "execution_count": 6,
   "metadata": {},
   "outputs": [
    {
     "name": "stdout",
     "output_type": "stream",
     "text": [
      "Accuracy: 0.9700833742030407\n",
      "Ratio: 0.25000000000000006\n",
      "N: 70\n",
      "Depth: 9\n"
     ]
    }
   ],
   "source": [
    "print(\"Accuracy:\", max_acc['acc'])\n",
    "print(\"Ratio:\", max_acc['ratio'])\n",
    "print(\"N:\", max_acc['n'])\n",
    "print(\"Depth:\", max_acc['depth'])"
   ]
  },
  {
   "cell_type": "markdown",
   "metadata": {},
   "source": [
    "<center>__Expected accuracy is about 97%__</center>"
   ]
  },
  {
   "cell_type": "markdown",
   "metadata": {},
   "source": [
    "I found the first parameters that give me 97% accuracy, there might be better parameters that can give us better accuracy, however, I think these are good enough.<br>\n",
    "And I think these parameters make sense. Depth = 10 is the default, ratio = 0.25 the one fourth of the points and is good enough."
   ]
  },
  {
   "cell_type": "markdown",
   "metadata": {},
   "source": [
    "# Random Decision Tree [35 points]\n",
    "\n",
    "In this assignment you are going to implement a random decision tree using random vector method as discussed in the lecture.\n",
    "\n",
    "Best split: One that achieves maximum reduction in gini index across multiple candidate splits. (decided by `candidate_splits` attribute of the class `RandomDecisionTree`)\n",
    "\n",
    "Use `TreeNode` class as node abstraction to build the tree\n",
    "\n",
    "You are allowed to add new attributes in the `TreeNode` and `RandomDecisionTree` class - if that helps.\n",
    "\n",
    "Your tasks are as follows:\n",
    "* Implement `gini_index` method which takes in class labels as parameter and returns the gini impurity as measure of uncertainty\n",
    "\n",
    "* Implement `majority` method which picks the most frequent class label. In case of tie return any random class label\n",
    "\n",
    "* Implement `find_best_split` method which finds the random vector/hyperplane which causes most reduction in the gini index. \n",
    "\n",
    "* Implement `build_tree` method which uses `find_best_split` method to get the best random split vector for current set of training points. This vector partitions the training points into two sets, and you should call `build_tree` method on two partitioned sets and build left subtree and right subtree. Use `TreeNode` as abstraction for a node.\n",
    "\n",
    "> The method calls itself recursively to the generate left and right subtree till the point either `max_depth` is reached or no good random split is found.  When either of two cases is encountered, you should make that node as leaf and identify the label for that leaf to be the most frequent class (use `majority` method). Go through lecture slides for better understanding\n",
    "\n",
    "* Implement `predict` method which takes in multiple data points and returns final prediction for each one of those using the tree built. (`root` attribute of the class)"
   ]
  },
  {
   "cell_type": "code",
   "execution_count": 12,
   "metadata": {},
   "outputs": [],
   "source": [
    "class TreeNode:\n",
    "    def __init__(self):\n",
    "        self.left = None\n",
    "        self.right = None\n",
    "        self.isLeaf = False\n",
    "        self.label = None\n",
    "        self.split_vector = None\n",
    "\n",
    "    def getLabel(self):\n",
    "        if not self.isLeaf:\n",
    "            raise Exception(\"Should not to do getLabel on a non-leaf node\")\n",
    "        return self.label\n",
    "    \n",
    "class RandomDecisionTree:\n",
    "            \n",
    "    def __init__(self, candidate_splits = 100, depth = 10):\n",
    "        \"\"\"\n",
    "        Args:\n",
    "            candidate_splits (int) : number of random decision splits to test\n",
    "            depth (int) : maximum depth of the random decision tree\n",
    "        \"\"\"\n",
    "        self.candidate_splits = candidate_splits\n",
    "        self.depth = depth\n",
    "        self.root = None\n",
    "    \n",
    "    def fit(self, X_train, y_train):\n",
    "        \"\"\"\n",
    "        Args:\n",
    "            X_train (ndarray): [n_samples x n_features] ndarray of training data   \n",
    "            y_train (ndarray): [n_samples] ndarray of data\n",
    "            \n",
    "        \"\"\"\n",
    "        self.root = self.build_tree(X_train[:], y_train[:], 0)\n",
    "        return self\n",
    "        \n",
    "    def build_tree(self, X_train, y_train, height):\n",
    "        \"\"\"\n",
    "        Args:\n",
    "            X_train (ndarray): [n_samples x n_features] ndarray of training data   \n",
    "            y_train (ndarray): [n_samples] ndarray of data\n",
    "            \n",
    "        \"\"\"\n",
    "        node = TreeNode()\n",
    "        node.split_vector, info_gain = self.find_best_split(X_train, y_train)\n",
    "        leftData, rightData = self.partition(X_train, y_train, node.split_vector)\n",
    "        \n",
    "        if (info_gain < 0) or (height > self.depth):\n",
    "            node.isLeaf = True\n",
    "            node.label = self.majority(y_train)  \n",
    "            return node\n",
    "        \n",
    "        if(leftData[\"X\"].shape[0] != 0):\n",
    "            node.left = self.build_tree(leftData[\"X\"], leftData[\"y\"], \n",
    "                                    height + 1)\n",
    "        else:\n",
    "            node.isLeaf = True\n",
    "            node.label = self.majority(y_train)\n",
    "            \n",
    "        if(rightData[\"X\"].shape[0] != 0):\n",
    "            node.right = self.build_tree(rightData[\"X\"], rightData[\"y\"],\n",
    "                                    height + 1)\n",
    "        else:\n",
    "            node.isLeaf = True\n",
    "            node.label = self.majority(y_train)\n",
    "\n",
    "        return node\n",
    "\n",
    "    \n",
    "    def partition(self, X, y, split_vector):\n",
    "        leftData = {\"X\": [], \"y\": []}\n",
    "        rightData = {\"X\": [], \"y\": []}\n",
    "        for i in range(X.shape[0]):\n",
    "            partition_val = np.dot(X[i], split_vector)\n",
    "\n",
    "            if partition_val >= 0:\n",
    "                leftData[\"X\"].append(X[i])\n",
    "                leftData[\"y\"].append(y[i])\n",
    "            else:\n",
    "                rightData[\"X\"].append(X[i])\n",
    "                rightData[\"y\"].append(y[i])\n",
    "        \n",
    "        leftData[\"X\"] = np.array(leftData[\"X\"])\n",
    "        leftData[\"y\"] = np.array(leftData[\"y\"])\n",
    "        rightData[\"X\"] = np.array(rightData[\"X\"])\n",
    "        rightData[\"y\"] = np.array(rightData[\"y\"])\n",
    "        \n",
    "        return leftData, rightData\n",
    "        \n",
    "    \n",
    "    def find_best_split(self, X_train, y_train):\n",
    "        \"\"\"\n",
    "        Args:\n",
    "            X_train (ndarray): [n_samples x n_features] ndarray of training data   \n",
    "            y_train (ndarray): [n_samples] ndarray of data\n",
    "            \n",
    "        \"\"\"\n",
    "        split_vector = None\n",
    "        num_features = X_train.shape[1]\n",
    "        best_info_gain = 0\n",
    "        total_gini = self.gini_index(y_train)\n",
    "        total_len = y_train.shape[0]\n",
    "        \n",
    "        for i in range(self.candidate_splits):\n",
    "            current_vector = np.random.normal(0, 1, num_features)\n",
    "            left, right = self.partition(X_train, y_train, current_vector)\n",
    "            \n",
    "            left_gini = self.gini_index(left[\"y\"])\n",
    "            left_len = left[\"y\"].shape[0]\n",
    "            \n",
    "            right_gini = self.gini_index(right[\"y\"])\n",
    "            right_len = right[\"y\"].shape[0]\n",
    "            \n",
    "            current_info_gain = total_gini - \\\n",
    "                        (left_len/total_len*left_gini) - \\\n",
    "                        (right_len/total_len*right_gini)\n",
    "        \n",
    "            if current_info_gain > best_info_gain or i == 0:\n",
    "                best_info_gain = current_info_gain\n",
    "                split_vector = current_vector\n",
    "        \n",
    "        return split_vector, best_info_gain\n",
    "            \n",
    "        \n",
    "    def gini_index(self, y):\n",
    "        \"\"\"\n",
    "        Args:\n",
    "            y (ndarray): [n_samples] ndarray of data\n",
    "        \"\"\"\n",
    "        length = y.shape[0]\n",
    "        unique, counts = np.unique(y, return_counts=True)\n",
    "        gini = 1\n",
    "        for i in counts:\n",
    "            gini -= (i/length)**2\n",
    "        \n",
    "        return gini\n",
    "\n",
    "    \n",
    "    def majority(self, y):\n",
    "        \"\"\"\n",
    "        Return the major class in ndarray y\n",
    "        \"\"\"\n",
    "        return np.sign(np.sum(y, axis=0))\n",
    "    \n",
    "    def predict(self, X):\n",
    "        \"\"\"\n",
    "        BaggingClassifier prediction for new data points in X\n",
    "        \n",
    "        Args:\n",
    "            X (ndarray): [n_samples x n_features] ndarray of data \n",
    "            \n",
    "        Returns:\n",
    "            yhat (ndarray): [n_samples] ndarray of predicted labels {-1,1}\n",
    "        \"\"\"\n",
    "        yhat = []\n",
    "        for i in X:\n",
    "            node = self.root\n",
    "            while True:\n",
    "                if node.isLeaf:\n",
    "                    yhat.append(node.label)\n",
    "                    break\n",
    "                    \n",
    "                partition_val = np.dot(i, node.split_vector)\n",
    "                if partition_val >= 0:\n",
    "                    node = node.left\n",
    "                else:\n",
    "                    node = node.right\n",
    "        return np.array(yhat)\n",
    "        "
   ]
  },
  {
   "cell_type": "markdown",
   "metadata": {},
   "source": [
    "## RandomDecisionTree for Handwritten Digit Recognition\n",
    "\n",
    "After you've successfully completed `RandomDecisionTree`, and train using the default values in the constructor and report accuracy on the test set. Use the data from `ThreesAndEights` class initialized variable `data` "
   ]
  },
  {
   "cell_type": "code",
   "execution_count": 8,
   "metadata": {},
   "outputs": [
    {
     "name": "stdout",
     "output_type": "stream",
     "text": [
      "Accuracy: 0.91\n"
     ]
    }
   ],
   "source": [
    "test = RandomDecisionTree()\n",
    "X = data.X_train\n",
    "y = data.y_train\n",
    "\n",
    "n = test.fit(X, y)\n",
    "yhat = test.predict(data.X_valid)\n",
    "print(\"Accuracy: {:.2f}\".format(sum(yhat == data.y_valid)/yhat.shape[0]))"
   ]
  },
  {
   "cell_type": "markdown",
   "metadata": {},
   "source": [
    "<center>__Expected accuracy is about 90%__</center>"
   ]
  },
  {
   "cell_type": "markdown",
   "metadata": {},
   "source": [
    "# Random Forest [20 points]\n",
    "Random forests or random decision forests are an ensemble learning method for classification, regression and other tasks, that operate by constructing a multitude of decision trees at training time and outputting the class that is the mode of the classes (classification) or mean prediction (regression) of the individual trees. Random decision forests correct for decision trees' habit of overfitting to their training set.\n",
    "\n",
    "Random forest trains random decision trees on bootstrapped training points. Thus, you can implementation of methods (`bootstrap`, `predict`) from `BaggingClassifier` class directly. Only difference being, you have to use the `RandomDecisionTree` as base which you implemented previously instead of sklearn's implementation of `DecisionTreeClassifier`). Implement the `fit` method in the class below accordingly."
   ]
  },
  {
   "cell_type": "code",
   "execution_count": 9,
   "metadata": {},
   "outputs": [],
   "source": [
    "class RandomForest(BaggingClassifier):\n",
    "    def __init__(self, ratio = 0.20, N = 20, max_depth = 10, candidate_splits = 100):\n",
    "        self.ratio = ratio\n",
    "        self.N = N\n",
    "        self.learners = []\n",
    "        self.candidate_splits = candidate_splits\n",
    "        self.max_depth = max_depth\n",
    "        \n",
    "    def fit(self, X_train, y_train):\n",
    "        \"\"\"\n",
    "        Train Bagging Ensemble Classifier on data\n",
    "        \n",
    "        Args:\n",
    "            X_train (ndarray): [n_samples x n_features] ndarray of training data   \n",
    "            y_train (ndarray): [n_samples] ndarray of data \n",
    "        \"\"\"\n",
    "        for i in range(self.N):  \n",
    "            X_bs, y_bs = self.boostrap(X_train, y_train)\n",
    "            clf = RandomDecisionTree(self.candidate_splits, self.max_depth)\n",
    "            self.learners.append(clf.fit(X_bs, y_bs))"
   ]
  },
  {
   "cell_type": "markdown",
   "metadata": {},
   "source": [
    "## RandomForest for Handwritten Digit Recognition [10 points]\n",
    "***\n",
    "\n",
    "After you've successfully completed `RandomForest` find the optimal values of `ratio`, `N`, `candidate_splits` and `depth` using k-fold cross validation on. Feel free to use sklearn library to split your training data. Use the data from `ThreesAndEights` class intialized variable `data`. \n",
    "\n",
    "Justify why those values are optimal.\n",
    "\n",
    "Report best accuracy on the testing data using those optimal parameter values."
   ]
  },
  {
   "cell_type": "code",
   "execution_count": 10,
   "metadata": {},
   "outputs": [
    {
     "name": "stdout",
     "output_type": "stream",
     "text": [
      "Current max accuracy: 0.9744973025993134\n",
      "4554.045931100845\n"
     ]
    }
   ],
   "source": [
    "start = time.time()\n",
    "\n",
    "kf = KFold(n_splits=5).split(data.X_train)\n",
    "ratios = np.arange(0.5,1.0, 0.1)\n",
    "N = range(80, 140, 10)\n",
    "cands = range(150,200,10)\n",
    "\n",
    "found = False\n",
    "max_acc = {\"acc\": 0, \"ratio\": None, \"n\": None, \"cand\": None}\n",
    "for train_index, test_index in kf:\n",
    "    X_train, X_test = data.X_train[train_index], data.X_valid\n",
    "    y_train, y_test = data.y_train[train_index], data.y_valid\n",
    "    \n",
    "    for ratio in ratios:\n",
    "        if found:\n",
    "            break\n",
    "        for n in N:\n",
    "            if found:\n",
    "                break\n",
    "            for cand in cands:\n",
    "                bc = RandomForest(ratio = ratio, N = n, candidate_splits = cand)\n",
    "                bc.fit(X_train, y_train)\n",
    "                y_hat = bc.predict(X_test)\n",
    "                accuracy = sum(y_hat == y_test)/len(y_test)\n",
    "                if accuracy > max_acc[\"acc\"]:\n",
    "                    print(\"Current max accuracy:\", accuracy)\n",
    "                    max_acc[\"acc\"] = accuracy\n",
    "                    max_acc[\"ratio\"] = ratio\n",
    "                    max_acc[\"n\"] = n\n",
    "                    max_acc[\"cand\"] = cand\n",
    "                \n",
    "                if(max_acc[\"acc\"] >= 0.97):\n",
    "                    found = True\n",
    "                    break\n",
    "\n",
    "print(time.time() - start)"
   ]
  },
  {
   "cell_type": "code",
   "execution_count": 11,
   "metadata": {},
   "outputs": [
    {
     "name": "stdout",
     "output_type": "stream",
     "text": [
      "Accuracy: 0.9744973025993134\n",
      "Ratio: 0.5\n",
      "N: 80\n",
      "Candidate splits: 150\n"
     ]
    }
   ],
   "source": [
    "print(\"Accuracy:\", max_acc['acc'])\n",
    "print(\"Ratio:\", max_acc['ratio'])\n",
    "print(\"N:\", max_acc['n'])\n",
    "print(\"Candidate splits:\", max_acc['cand'])"
   ]
  },
  {
   "cell_type": "markdown",
   "metadata": {},
   "source": [
    "<center>__Expected accuracy is about 97%__</center>"
   ]
  },
  {
   "cell_type": "markdown",
   "metadata": {},
   "source": [
    "I found the first parameters that give me 97% accuracy, there might be better parameters that can give us better accuracy, however, I think these are good enough.<br>"
   ]
  }
 ],
 "metadata": {
  "kernelspec": {
   "display_name": "Python 3",
   "language": "python",
   "name": "python3"
  },
  "language_info": {
   "codemirror_mode": {
    "name": "ipython",
    "version": 3
   },
   "file_extension": ".py",
   "mimetype": "text/x-python",
   "name": "python",
   "nbconvert_exporter": "python",
   "pygments_lexer": "ipython3",
   "version": "3.7.2"
  },
  "varInspector": {
   "cols": {
    "lenName": 16,
    "lenType": 16,
    "lenVar": 40
   },
   "kernels_config": {
    "python": {
     "delete_cmd_postfix": "",
     "delete_cmd_prefix": "del ",
     "library": "var_list.py",
     "varRefreshCmd": "print(var_dic_list())"
    },
    "r": {
     "delete_cmd_postfix": ") ",
     "delete_cmd_prefix": "rm(",
     "library": "var_list.r",
     "varRefreshCmd": "cat(var_dic_list()) "
    }
   },
   "types_to_exclude": [
    "module",
    "function",
    "builtin_function_or_method",
    "instance",
    "_Feature"
   ],
   "window_display": false
  }
 },
 "nbformat": 4,
 "nbformat_minor": 2
}
