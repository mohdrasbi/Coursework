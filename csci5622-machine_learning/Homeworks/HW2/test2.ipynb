{
 "cells": [
  {
   "cell_type": "markdown",
   "metadata": {},
   "source": [
    "# Homework 2 - Logistic Regression\n",
    "## CSCI 5622 - Spring 2019\n",
    "***\n",
    "**Name**: Mohamed Al-Rasbi\n",
    "***\n",
    "\n",
    "This assignment is due on Canvas by **11.59 PM on Tuesday, February 12th**. Submit only this Jupyter notebook to Canvas.  Do not compress it using tar, rar, zip, etc. Your solutions to analysis questions should be done in Markdown directly below the associated question.  Remember that you are encouraged to discuss the problems with your classmates and instructors, but **you must write all code and solutions on your own**, and list any people or sources consulted."
   ]
  },
  {
   "cell_type": "markdown",
   "metadata": {},
   "source": [
    "## Overview \n",
    "***\n",
    "\n",
    "Your task for this homework is to build a logistic regression model that implements stochastic gradient ascent. To start, you'll apply it to the task of determining whether a number is 8 or 9\n",
    "\n",
    "We start by importing and plotting the given data"
   ]
  },
  {
   "cell_type": "code",
   "execution_count": 1,
   "metadata": {},
   "outputs": [],
   "source": [
    "import numpy as np\n",
    "import matplotlib.pylab as plt\n",
    "import math\n",
    "import pickle, gzip       \n",
    "from sklearn.utils import shuffle\n",
    "import time\n",
    "%matplotlib inline "
   ]
  },
  {
   "cell_type": "markdown",
   "metadata": {},
   "source": [
    "###### [ 50 points] Problem 1: Implementing the Logistic Regression Classifier\n",
    "***"
   ]
  },
  {
   "cell_type": "code",
   "execution_count": 2,
   "metadata": {},
   "outputs": [],
   "source": [
    "class Numbers:\n",
    "    \"\"\"\n",
    "    Class to store MNIST data for images of 9 and 8 only\n",
    "    \"\"\" \n",
    "    def __init__(self, location):\n",
    "        # You shouldn't have to modify this class, but you can if you'd like\n",
    "        # Load the dataset\n",
    "        with gzip.open(location, 'rb') as f:\n",
    "            train_set, valid_set, test_set = pickle.load(f)\n",
    "                \n",
    "        self.train_x, self.train_y = train_set\n",
    "        train_indices = np.where(self.train_y > 7)\n",
    "        self.train_x, self.train_y = self.train_x[train_indices], self.train_y[train_indices]\n",
    "        self.train_y = self.train_y - 8\n",
    " \n",
    "        self.valid_x, self.valid_y = valid_set\n",
    "        valid_indices = np.where(self.valid_y > 7)\n",
    "        self.valid_x, self.valid_y = self.valid_x[valid_indices], self.valid_y[valid_indices]\n",
    "        self.valid_y = self.valid_y - 8"
   ]
  },
  {
   "cell_type": "markdown",
   "metadata": {},
   "source": [
    "In this homework you'll implement a Logistic Regression classifier to take drawings of either an eight or a nine and output the corresponding label.\n",
    "1.1 - Finish the `calculate_score` function to return the output of applying the dot product of the weights with the input parameter\n",
    "\n",
    "1.2 - Finish the `sigmoid` function to return the output of applying the sigmoid function to the calculated score\n",
    "\n",
    "1.3 - Finish the `compute_gradient` function to return the derivate of the cost w.r.t. the weights\n",
    "\n",
    "1.4 - Finish the `sgd_update` function so that it performs stochastic gradient descent on the single training example and updates the weight vector correspondingly\n",
    "\n",
    "1.5 - Finish the `mini_batch_update` function so that it performs mini-batch gradient descent on the batches of the training data set example and updates the weight vector correspondingly"
   ]
  },
  {
   "cell_type": "code",
   "execution_count": 3,
   "metadata": {},
   "outputs": [],
   "source": [
    "from collections import defaultdict\n",
    "class LogReg:\n",
    "    \n",
    "    def __init__(self, X, y, eta = 0.1):\n",
    "        \"\"\"\n",
    "        Create a logistic regression classifier\n",
    "        :param num_features: The number of features (including bias)\n",
    "        :param eta: Learning rate (the default is a constant value)\n",
    "        :method: This should be the name of the method (sgd_update or mini_batch_descent)\n",
    "        :batch_size: optional argument that is needed only in the case of mini_batch_descent\n",
    "        \"\"\"\n",
    "        self.X = X\n",
    "        self.y = y\n",
    "        self.w = np.zeros(X.shape[1]) # can remove from here and ask to be defined in the function\n",
    "        self.eta = eta\n",
    "        \n",
    "    def calculate_score(self, x):\n",
    "        \"\"\"\n",
    "        :param x: This can be a single training example or it could be n training examples\n",
    "        :return score: Calculate the score that you will plug into the logistic function\n",
    "        \"\"\"\n",
    "        if x.ndim == 1:\n",
    "            score = 0\n",
    "            for i in range(len(x)):\n",
    "                score += float(self.w[i]*x[i])\n",
    "            return score\n",
    "        \n",
    "        score = []\n",
    "        for example in x:\n",
    "            temp = 0\n",
    "            for i in range(len(example)):\n",
    "                temp += float(self.w[i]*example[i])\n",
    "            score.append(temp)\n",
    "        \n",
    "        return score\n",
    "    \n",
    "    def sigmoid(self, score):\n",
    "        \"\"\"\n",
    "        :param score: Either a real valued number or a vector to convert into a number between 0 and 1\n",
    "        :return sigmoid: Calcuate the output of applying the sigmoid function to the score. This could be a single\n",
    "        value or a vector depending on the input\n",
    "        \"\"\"\n",
    "        if type(score) == float:\n",
    "            return 1 / (1 + math.exp(-score))\n",
    "        \n",
    "        output = []\n",
    "        for i in score:\n",
    "            try:\n",
    "                output.append(1 / (1 + math.exp(-i)))\n",
    "            except OverflowError:\n",
    "                output.append(1.0)\n",
    "        \n",
    "        return output\n",
    "        \n",
    "        \n",
    "    def compute_gradient(self, x, h, y):\n",
    "        \"\"\"\n",
    "        :param x: Feature vector\n",
    "        :param h: predicted class label\n",
    "        :param y: real class label\n",
    "        :return gradient: Return the derivate of the cost w.r.t to the weights\n",
    "        \"\"\"\n",
    "        if type(x) == float:\n",
    "            return x*(h - y)\n",
    "        \n",
    "        return np.dot(x, (h-y))\n",
    "        \n",
    "     \n",
    "    def sgd_update(self):\n",
    "        \"\"\"\n",
    "        Compute a stochastic gradient update over the entire dataset to improve the log likelihood.\n",
    "        :param x_i: The features of the example to take the gradient with respect to\n",
    "        :param y: The target output of the example to take the gradient with respect to\n",
    "        :return: Return the new value of the regression coefficients\n",
    "        \"\"\" \n",
    "        for i in range(self.X.shape[0]):\n",
    "            h = self.sigmoid(self.calculate_score(self.X[i]))\n",
    "            for j in range(len(self.X[i])):\n",
    "                gradient = self.compute_gradient(self.X[i][j], h, self.y[i])\n",
    "                self.w[j] = self.w[j] - (self.eta * gradient)\n",
    "            \n",
    "        return self.w\n",
    "            \n",
    "    \n",
    "    def mini_batch_update(self, batch_size):\n",
    "        \"\"\"\n",
    "        One iteration of the mini-batch update over the entire dataset (one sweep of the dataset).\n",
    "        :param X: NumPy array of features (size : no of examples X features)\n",
    "        :param y: Numpy array of class labels (size : no of examples X 1)\n",
    "        :param batch_size: size of the batch for gradient update\n",
    "        :returns w: Coefficients of the classifier (after updating)\n",
    "        \"\"\"\n",
    "        # TODO: Performing mini-batch training follows the same steps as in stochastic gradient descent,\n",
    "        # the only major difference is that we’ll use batches of training examples instead of one. \n",
    "        # Here we decide a batch size, which is the number of examples that will be fed into the \n",
    "        # computational graph at once.\n",
    "        for i in range(0, self.X.shape[0], batch_size):\n",
    "            h = self.sigmoid(self.calculate_score(self.X[i:i+batch_size]))\n",
    "            for j in range(len(self.X[i])):\n",
    "                gradient = self.compute_gradient(self.X[i:i+batch_size,j], h, self.y[i:i+batch_size])\n",
    "                self.w[j] = self.w[j] - (self.eta * gradient)\n",
    "\n",
    "        return self.w\n",
    "    \n",
    "    def progress(self, test_x, test_y, update_method, *batch_size):\n",
    "        \"\"\"\n",
    "        Given a set of examples, computes the probability and accuracy\n",
    "        :param test_x: The features of the test dataset to score\n",
    "        :param test_y: The features of the test \n",
    "        :param update_method: The update method to be used, either 'sgd_update' or 'mini_batch_update'\n",
    "        :param batch_size: Optional arguement to be given only in case of mini_batch_update\n",
    "        :return: A tuple of (log probability, accuracy)\n",
    "        \"\"\"\n",
    "        # TODO: Complete this function to compute the predicted value for an example based on the logistic value\n",
    "        # and return the log probability and the accuracy of those predictions\n",
    "        weights = None\n",
    "        if update_method == 'sgd_update':\n",
    "            weights = self.sgd_update()\n",
    "            \n",
    "        elif update_method == 'mini_batch_update':\n",
    "            weights = self.mini_batch_update(batch_size[0])\n",
    "        \n",
    "        if type(weights) != np.ndarray:\n",
    "            raise Exception(\"check passed update_method\")\n",
    "        \n",
    "\n",
    "        responses = self.sigmoid(self.calculate_score(test_x))\n",
    "        if type(responses) != list:\n",
    "            responses = np.array(responses)\n",
    "        \n",
    "        hits = 0\n",
    "        log_prob = 0\n",
    "        for i in range(len(responses)):\n",
    "            if np.around(responses[i]) == test_y[i]:\n",
    "                hits += 1\n",
    "                log_prob += math.log(responses[i])\n",
    "            else:\n",
    "                try:\n",
    "                    log_prob += math.log(1 - responses[i])\n",
    "                except ValueError:\n",
    "                    pass\n",
    "\n",
    "        accuracy = hits/len(test_y)\n",
    "        \n",
    "        return (log_prob, accuracy)\n",
    "    \n",
    "    def train(self, x_data, y_data, epoch, update_method, *batch_size):\n",
    "        '''\n",
    "        epoch: max number of epochs\n",
    "        update_method: either 'sgd_update' or 'mini_batch_update'\n",
    "        Return: dict with epoch number as key and accuracy as value\n",
    "        '''\n",
    "        accuracy = {}\n",
    "        for i in range(1, epoch+1):\n",
    "            log_prob, acc = self.progress(x_data, y_data, update_method, *batch_size)\n",
    "            x_data, y_data = shuffle(x_data, y_data)\n",
    "            accuracy[i] = acc\n",
    "        \n",
    "        return accuracy\n",
    "        \n",
    "        "
   ]
  },
  {
   "cell_type": "code",
   "execution_count": 4,
   "metadata": {},
   "outputs": [
    {
     "name": "stderr",
     "output_type": "stream",
     "text": [
      "...\n",
      "----------------------------------------------------------------------\n",
      "Ran 3 tests in 0.221s\n",
      "\n",
      "OK\n"
     ]
    },
    {
     "data": {
      "text/plain": [
       "<unittest.runner.TextTestResult run=3 errors=0 failures=0>"
      ]
     },
     "execution_count": 4,
     "metadata": {},
     "output_type": "execute_result"
    }
   ],
   "source": [
    "import unittest\n",
    "\n",
    "class LogRegTester(unittest.TestCase):\n",
    "    def setUp(self):\n",
    "        self.X = np.array([[0.1, 0.3 ], [0.4, 0.6], [0.8, 0.1], [0.8, 0.1], [0.5, 0.8]])\n",
    "        self.y = np.array([0,  0, 1, 1,  0])\n",
    "        self.log_reg_classifier_1 = LogReg(self.X, self.y, 0.5)\n",
    "        self.log_reg_classifier_2 = LogReg(self.X, self.y, 0.5)\n",
    "        \n",
    "    def test_sgd_update(self):\n",
    "        \"\"\"\n",
    "        Test sgd_update function from LogReg\n",
    "        \"\"\"\n",
    "        weights = self.log_reg_classifier_1.sgd_update()\n",
    "        self.assertEqual(round(weights[0], 2), 0.16)\n",
    "        self.assertEqual(round(weights[1], 2), -0.37)\n",
    "        \n",
    "    def tests_mini_batch_update(self):\n",
    "        \"\"\"\n",
    "        Test mini_batch_update function from LogReg\n",
    "        \"\"\"\n",
    "        weights = self.log_reg_classifier_2.mini_batch_update(2)\n",
    "        self.assertEqual(round(weights[0], 2), 0.17)\n",
    "        self.assertEqual(round(weights[1], 2), -0.37)\n",
    "        \n",
    "    def tests_progress_sgd_update(self):\n",
    "        \"\"\"\n",
    "        Test progress function from LogReg with method = 'sgd_update'\n",
    "        \"\"\"\n",
    "        self.log_reg_classifier_1 = LogReg(self.X[:4], self.y[:4], 0.5)\n",
    "        log_prob, accuracy = self.log_reg_classifier_1.progress(self.X[4:], self.y[4:], 'sgd_update')\n",
    "        self.assertEqual(round(log_prob, 2), -0.7)\n",
    "        self.assertEqual(accuracy, 0)\n",
    "        \n",
    "        \n",
    "        \n",
    "    \n",
    "    #BEGIN Workspace\n",
    "    #Add more test functions as required\n",
    "    #END Workspace\n",
    "    \n",
    "tests = LogRegTester()\n",
    "myTests = unittest.TestLoader().loadTestsFromModule(tests)\n",
    "unittest.TextTestRunner().run(myTests)"
   ]
  },
  {
   "cell_type": "markdown",
   "metadata": {},
   "source": [
    "##### [20 Points] Problem 2: Understanding the limits of the Logistic Regression Classifier\n",
    "\n",
    "2.1 - After completing the class above, loop over the training data and perform ___stochastic gradient descent___ for three different user-defined number of epochs 1, 3, 10], and five different values of eta range [.0001, .01, .1, .5, 1]. Train your model and do the following:\n",
    "\n",
    "* Using the `progress` method, calculate the accuracy on the training and the valid sets every 100 iterations. Plot them on same graph for every comparison.\n",
    "\n",
    "* Using `progress` method, calculate the accuracy on the validation set and store it for every epoch.\n",
    "\n",
    "Don't forget to shuffle your training data after each epoch."
   ]
  },
  {
   "cell_type": "code",
   "execution_count": 55,
   "metadata": {},
   "outputs": [],
   "source": [
    "def plotGraph(dic):\n",
    "    x1, y1 = dic[0.0001].keys(), dic[0.0001].values()\n",
    "    x2, y2 = dic[0.01].keys(), dic[0.01].values()\n",
    "    x3, y3 = dic[0.1].keys(), dic[0.1].values()\n",
    "    x4, y4 = dic[0.5].keys(), dic[0.5].values()\n",
    "    x5, y5 = dic[1].keys(), dic[1].values()\n",
    "    plt.plot(x1, y1, label=\"eta=0.0001\")\n",
    "    plt.plot(x2, y2, label=\"eta=0.01\")\n",
    "    plt.plot(x3, y3, label=\"eta=0.1\")\n",
    "    plt.plot(x4, y4, label=\"eta=0.5\")\n",
    "    plt.plot(x5, y5, label=\"eta=1\")\n",
    "    plt.legend()\n",
    "    plt.show()"
   ]
  },
  {
   "cell_type": "code",
   "execution_count": 5,
   "metadata": {},
   "outputs": [],
   "source": [
    "numbers = Numbers(\"data/mnist.pklz\")\n",
    "eta_range = [0.0001, 0.01, 0.1, 0.5, 1]"
   ]
  },
  {
   "cell_type": "code",
   "execution_count": 6,
   "metadata": {},
   "outputs": [
    {
     "name": "stdout",
     "output_type": "stream",
     "text": [
      "2484.850676059723\n"
     ]
    }
   ],
   "source": [
    "start_time = time.time()\n",
    "\n",
    "x = [1, 2, 3, 4, 5, 6, 7, 8, 9, 10]\n",
    "y_train1 = {}\n",
    "for eta in eta_range:\n",
    "    log_reg = LogReg(numbers.train_x, numbers.train_y, eta)\n",
    "    y_train1[eta] = log_reg.train(numbers.train_x, numbers.train_y, 10, 'sgd_update')\n",
    "\n",
    "print(time.time() - start_time)"
   ]
  },
  {
   "cell_type": "code",
   "execution_count": 56,
   "metadata": {},
   "outputs": [
    {
     "data": {
      "image/png": "[encoded data removed]",
      "text/plain": [
       "<Figure size 432x288 with 1 Axes>"
      ]
     },
     "metadata": {},
     "output_type": "display_data"
    }
   ],
   "source": [
    "plotGraph(y_train1)"
   ]
  },
  {
   "cell_type": "code",
   "execution_count": 12,
   "metadata": {},
   "outputs": [
    {
     "name": "stdout",
     "output_type": "stream",
     "text": [
      "2154.9394040107727\n"
     ]
    }
   ],
   "source": [
    "start_time = time.time()\n",
    "\n",
    "x = [1, 2, 3, 4, 5, 6, 7, 8, 9, 10]\n",
    "y_valid1 = {}\n",
    "for eta in eta_range:\n",
    "    log_reg = LogReg(numbers.train_x, numbers.train_y, eta)\n",
    "    y_valid1[eta] = log_reg.train(numbers.valid_x, numbers.valid_y, 10, 'sgd_update')\n",
    "\n",
    "print(time.time() - start_time)"
   ]
  },
  {
   "cell_type": "markdown",
   "metadata": {},
   "source": [
    "2.2 - After completing the class above, loop over the training data and perform ___mini batch gradient descent___ for three different user-defined number of epochs 1, 3, 10], and five different values of eta range [.0001, .01, .1, .5, 1]. Train your model and do the following:\n",
    "\n",
    "* Using the `progress` method, calculate the accuracy on the training and the valid sets every 100 iterations. Plot them on same graph for every comparison.\n",
    "\n",
    "* Using `progress` method, calculate the accuracy on the validation set and store it for every epoch.\n",
    "\n",
    "Don't forget to shuffle your training data after each epoch."
   ]
  },
  {
   "cell_type": "code",
   "execution_count": 14,
   "metadata": {},
   "outputs": [
    {
     "ename": "KeyboardInterrupt",
     "evalue": "",
     "output_type": "error",
     "traceback": [
      "\u001b[0;31m---------------------------------------------------------------------------\u001b[0m",
      "\u001b[0;31mKeyboardInterrupt\u001b[0m                         Traceback (most recent call last)",
      "\u001b[0;32m<ipython-input-14-2cfccb87e898>\u001b[0m in \u001b[0;36m<module>\u001b[0;34m()\u001b[0m\n\u001b[1;32m      5\u001b[0m \u001b[0;32mfor\u001b[0m \u001b[0meta\u001b[0m \u001b[0;32min\u001b[0m \u001b[0meta_range\u001b[0m\u001b[0;34m:\u001b[0m\u001b[0;34m\u001b[0m\u001b[0m\n\u001b[1;32m      6\u001b[0m     \u001b[0mlog_reg\u001b[0m \u001b[0;34m=\u001b[0m \u001b[0mLogReg\u001b[0m\u001b[0;34m(\u001b[0m\u001b[0mnumbers\u001b[0m\u001b[0;34m.\u001b[0m\u001b[0mtrain_x\u001b[0m\u001b[0;34m,\u001b[0m \u001b[0mnumbers\u001b[0m\u001b[0;34m.\u001b[0m\u001b[0mtrain_y\u001b[0m\u001b[0;34m,\u001b[0m \u001b[0meta\u001b[0m\u001b[0;34m)\u001b[0m\u001b[0;34m\u001b[0m\u001b[0m\n\u001b[0;32m----> 7\u001b[0;31m     \u001b[0my_train2\u001b[0m \u001b[0;34m=\u001b[0m \u001b[0mlog_reg\u001b[0m\u001b[0;34m.\u001b[0m\u001b[0mtrain\u001b[0m\u001b[0;34m(\u001b[0m\u001b[0mnumbers\u001b[0m\u001b[0;34m.\u001b[0m\u001b[0mtrain_x\u001b[0m\u001b[0;34m,\u001b[0m \u001b[0mnumbers\u001b[0m\u001b[0;34m.\u001b[0m\u001b[0mtrain_y\u001b[0m\u001b[0;34m,\u001b[0m \u001b[0;36m10\u001b[0m\u001b[0;34m,\u001b[0m \u001b[0;34m'mini_batch_update'\u001b[0m\u001b[0;34m,\u001b[0m \u001b[0;36m32\u001b[0m\u001b[0;34m)\u001b[0m\u001b[0;34m\u001b[0m\u001b[0m\n\u001b[0m\u001b[1;32m      8\u001b[0m \u001b[0;34m\u001b[0m\u001b[0m\n\u001b[1;32m      9\u001b[0m \u001b[0mprint\u001b[0m\u001b[0;34m(\u001b[0m\u001b[0mtime\u001b[0m\u001b[0;34m.\u001b[0m\u001b[0mtime\u001b[0m\u001b[0;34m(\u001b[0m\u001b[0;34m)\u001b[0m \u001b[0;34m-\u001b[0m \u001b[0mstart_time\u001b[0m\u001b[0;34m)\u001b[0m\u001b[0;34m\u001b[0m\u001b[0m\n",
      "\u001b[0;32m<ipython-input-9-735f51a0f0dc>\u001b[0m in \u001b[0;36mtrain\u001b[0;34m(self, x_data, y_data, epoch, update_method, *batch_size)\u001b[0m\n\u001b[1;32m    153\u001b[0m         \u001b[0maccuracy\u001b[0m \u001b[0;34m=\u001b[0m \u001b[0;34m{\u001b[0m\u001b[0;34m}\u001b[0m\u001b[0;34m\u001b[0m\u001b[0m\n\u001b[1;32m    154\u001b[0m         \u001b[0;32mfor\u001b[0m \u001b[0mi\u001b[0m \u001b[0;32min\u001b[0m \u001b[0mrange\u001b[0m\u001b[0;34m(\u001b[0m\u001b[0;36m1\u001b[0m\u001b[0;34m,\u001b[0m \u001b[0mepoch\u001b[0m\u001b[0;34m+\u001b[0m\u001b[0;36m1\u001b[0m\u001b[0;34m)\u001b[0m\u001b[0;34m:\u001b[0m\u001b[0;34m\u001b[0m\u001b[0m\n\u001b[0;32m--> 155\u001b[0;31m             \u001b[0mlog_prob\u001b[0m\u001b[0;34m,\u001b[0m \u001b[0macc\u001b[0m \u001b[0;34m=\u001b[0m \u001b[0mself\u001b[0m\u001b[0;34m.\u001b[0m\u001b[0mprogress\u001b[0m\u001b[0;34m(\u001b[0m\u001b[0mx_data\u001b[0m\u001b[0;34m,\u001b[0m \u001b[0my_data\u001b[0m\u001b[0;34m,\u001b[0m \u001b[0mupdate_method\u001b[0m\u001b[0;34m,\u001b[0m \u001b[0;34m*\u001b[0m\u001b[0mbatch_size\u001b[0m\u001b[0;34m)\u001b[0m\u001b[0;34m\u001b[0m\u001b[0m\n\u001b[0m\u001b[1;32m    156\u001b[0m             \u001b[0mx_data\u001b[0m\u001b[0;34m,\u001b[0m \u001b[0my_data\u001b[0m \u001b[0;34m=\u001b[0m \u001b[0mshuffle\u001b[0m\u001b[0;34m(\u001b[0m\u001b[0mx_data\u001b[0m\u001b[0;34m,\u001b[0m \u001b[0my_data\u001b[0m\u001b[0;34m)\u001b[0m\u001b[0;34m\u001b[0m\u001b[0m\n\u001b[1;32m    157\u001b[0m             \u001b[0maccuracy\u001b[0m\u001b[0;34m[\u001b[0m\u001b[0mi\u001b[0m\u001b[0;34m]\u001b[0m \u001b[0;34m=\u001b[0m \u001b[0macc\u001b[0m\u001b[0;34m\u001b[0m\u001b[0m\n",
      "\u001b[0;32m<ipython-input-9-735f51a0f0dc>\u001b[0m in \u001b[0;36mprogress\u001b[0;34m(self, test_x, test_y, update_method, *batch_size)\u001b[0m\n\u001b[1;32m    119\u001b[0m \u001b[0;34m\u001b[0m\u001b[0m\n\u001b[1;32m    120\u001b[0m         \u001b[0;32melif\u001b[0m \u001b[0mupdate_method\u001b[0m \u001b[0;34m==\u001b[0m \u001b[0;34m'mini_batch_update'\u001b[0m\u001b[0;34m:\u001b[0m\u001b[0;34m\u001b[0m\u001b[0m\n\u001b[0;32m--> 121\u001b[0;31m             \u001b[0mweights\u001b[0m \u001b[0;34m=\u001b[0m \u001b[0mself\u001b[0m\u001b[0;34m.\u001b[0m\u001b[0mmini_batch_update\u001b[0m\u001b[0;34m(\u001b[0m\u001b[0mbatch_size\u001b[0m\u001b[0;34m[\u001b[0m\u001b[0;36m0\u001b[0m\u001b[0;34m]\u001b[0m\u001b[0;34m)\u001b[0m\u001b[0;34m\u001b[0m\u001b[0m\n\u001b[0m\u001b[1;32m    122\u001b[0m \u001b[0;34m\u001b[0m\u001b[0m\n\u001b[1;32m    123\u001b[0m         \u001b[0;32mif\u001b[0m \u001b[0mtype\u001b[0m\u001b[0;34m(\u001b[0m\u001b[0mweights\u001b[0m\u001b[0;34m)\u001b[0m \u001b[0;34m!=\u001b[0m \u001b[0mnp\u001b[0m\u001b[0;34m.\u001b[0m\u001b[0mndarray\u001b[0m\u001b[0;34m:\u001b[0m\u001b[0;34m\u001b[0m\u001b[0m\n",
      "\u001b[0;32m<ipython-input-9-735f51a0f0dc>\u001b[0m in \u001b[0;36mmini_batch_update\u001b[0;34m(self, batch_size)\u001b[0m\n\u001b[1;32m     96\u001b[0m         \u001b[0;31m# computational graph at once.\u001b[0m\u001b[0;34m\u001b[0m\u001b[0;34m\u001b[0m\u001b[0m\n\u001b[1;32m     97\u001b[0m         \u001b[0;32mfor\u001b[0m \u001b[0mi\u001b[0m \u001b[0;32min\u001b[0m \u001b[0mrange\u001b[0m\u001b[0;34m(\u001b[0m\u001b[0;36m0\u001b[0m\u001b[0;34m,\u001b[0m \u001b[0mself\u001b[0m\u001b[0;34m.\u001b[0m\u001b[0mX\u001b[0m\u001b[0;34m.\u001b[0m\u001b[0mshape\u001b[0m\u001b[0;34m[\u001b[0m\u001b[0;36m0\u001b[0m\u001b[0;34m]\u001b[0m\u001b[0;34m,\u001b[0m \u001b[0mbatch_size\u001b[0m\u001b[0;34m)\u001b[0m\u001b[0;34m:\u001b[0m\u001b[0;34m\u001b[0m\u001b[0m\n\u001b[0;32m---> 98\u001b[0;31m             \u001b[0mh\u001b[0m \u001b[0;34m=\u001b[0m \u001b[0mself\u001b[0m\u001b[0;34m.\u001b[0m\u001b[0msigmoid\u001b[0m\u001b[0;34m(\u001b[0m\u001b[0mself\u001b[0m\u001b[0;34m.\u001b[0m\u001b[0mcalculate_score\u001b[0m\u001b[0;34m(\u001b[0m\u001b[0mself\u001b[0m\u001b[0;34m.\u001b[0m\u001b[0mX\u001b[0m\u001b[0;34m[\u001b[0m\u001b[0mi\u001b[0m\u001b[0;34m:\u001b[0m\u001b[0mi\u001b[0m\u001b[0;34m+\u001b[0m\u001b[0mbatch_size\u001b[0m\u001b[0;34m]\u001b[0m\u001b[0;34m)\u001b[0m\u001b[0;34m)\u001b[0m\u001b[0;34m\u001b[0m\u001b[0m\n\u001b[0m\u001b[1;32m     99\u001b[0m             \u001b[0;32mfor\u001b[0m \u001b[0mj\u001b[0m \u001b[0;32min\u001b[0m \u001b[0mrange\u001b[0m\u001b[0;34m(\u001b[0m\u001b[0mlen\u001b[0m\u001b[0;34m(\u001b[0m\u001b[0mself\u001b[0m\u001b[0;34m.\u001b[0m\u001b[0mX\u001b[0m\u001b[0;34m[\u001b[0m\u001b[0mi\u001b[0m\u001b[0;34m]\u001b[0m\u001b[0;34m)\u001b[0m\u001b[0;34m)\u001b[0m\u001b[0;34m:\u001b[0m\u001b[0;34m\u001b[0m\u001b[0m\n\u001b[1;32m    100\u001b[0m                 \u001b[0mgradient\u001b[0m \u001b[0;34m=\u001b[0m \u001b[0mself\u001b[0m\u001b[0;34m.\u001b[0m\u001b[0mcompute_gradient\u001b[0m\u001b[0;34m(\u001b[0m\u001b[0mself\u001b[0m\u001b[0;34m.\u001b[0m\u001b[0mX\u001b[0m\u001b[0;34m[\u001b[0m\u001b[0mi\u001b[0m\u001b[0;34m:\u001b[0m\u001b[0mi\u001b[0m\u001b[0;34m+\u001b[0m\u001b[0mbatch_size\u001b[0m\u001b[0;34m,\u001b[0m\u001b[0mj\u001b[0m\u001b[0;34m]\u001b[0m\u001b[0;34m,\u001b[0m \u001b[0mh\u001b[0m\u001b[0;34m,\u001b[0m \u001b[0mself\u001b[0m\u001b[0;34m.\u001b[0m\u001b[0my\u001b[0m\u001b[0;34m[\u001b[0m\u001b[0mi\u001b[0m\u001b[0;34m:\u001b[0m\u001b[0mi\u001b[0m\u001b[0;34m+\u001b[0m\u001b[0mbatch_size\u001b[0m\u001b[0;34m]\u001b[0m\u001b[0;34m)\u001b[0m\u001b[0;34m\u001b[0m\u001b[0m\n",
      "\u001b[0;32m<ipython-input-9-735f51a0f0dc>\u001b[0m in \u001b[0;36mcalculate_score\u001b[0;34m(self, x)\u001b[0m\n\u001b[1;32m     30\u001b[0m             \u001b[0mtemp\u001b[0m \u001b[0;34m=\u001b[0m \u001b[0;36m0\u001b[0m\u001b[0;34m\u001b[0m\u001b[0m\n\u001b[1;32m     31\u001b[0m             \u001b[0;32mfor\u001b[0m \u001b[0mi\u001b[0m \u001b[0;32min\u001b[0m \u001b[0mrange\u001b[0m\u001b[0;34m(\u001b[0m\u001b[0mlen\u001b[0m\u001b[0;34m(\u001b[0m\u001b[0mexample\u001b[0m\u001b[0;34m)\u001b[0m\u001b[0;34m)\u001b[0m\u001b[0;34m:\u001b[0m\u001b[0;34m\u001b[0m\u001b[0m\n\u001b[0;32m---> 32\u001b[0;31m                 \u001b[0mtemp\u001b[0m \u001b[0;34m+=\u001b[0m \u001b[0mfloat\u001b[0m\u001b[0;34m(\u001b[0m\u001b[0mself\u001b[0m\u001b[0;34m.\u001b[0m\u001b[0mw\u001b[0m\u001b[0;34m[\u001b[0m\u001b[0mi\u001b[0m\u001b[0;34m]\u001b[0m\u001b[0;34m*\u001b[0m\u001b[0mexample\u001b[0m\u001b[0;34m[\u001b[0m\u001b[0mi\u001b[0m\u001b[0;34m]\u001b[0m\u001b[0;34m)\u001b[0m\u001b[0;34m\u001b[0m\u001b[0m\n\u001b[0m\u001b[1;32m     33\u001b[0m             \u001b[0mscore\u001b[0m\u001b[0;34m.\u001b[0m\u001b[0mappend\u001b[0m\u001b[0;34m(\u001b[0m\u001b[0mtemp\u001b[0m\u001b[0;34m)\u001b[0m\u001b[0;34m\u001b[0m\u001b[0m\n\u001b[1;32m     34\u001b[0m \u001b[0;34m\u001b[0m\u001b[0m\n",
      "\u001b[0;31mKeyboardInterrupt\u001b[0m: "
     ]
    }
   ],
   "source": [
    "start_time = time.time()\n",
    "\n",
    "x = [1, 2, 3, 4, 5, 6, 7, 8, 9, 10]\n",
    "y_train2 = {}\n",
    "for eta in eta_range:\n",
    "    log_reg = LogReg(numbers.train_x, numbers.train_y, eta)\n",
    "    y_train2[eta] = log_reg.train(numbers.train_x, numbers.train_y, 10, 'mini_batch_update', 32)\n",
    "\n",
    "print(time.time() - start_time)"
   ]
  },
  {
   "cell_type": "code",
   "execution_count": null,
   "metadata": {},
   "outputs": [],
   "source": [
    "start_time = time.time()\n",
    "\n",
    "x = [1, 2, 3, 4, 5, 6, 7, 8, 9, 10]\n",
    "y_valid2 = {}\n",
    "for eta in eta_range:\n",
    "    log_reg = LogReg(numbers.train_x, numbers.train_y, eta)\n",
    "    y_valid2[eta] = log_reg.train(numbers.valid_x, numbers.valid_y, 10, 'mini_batch_update', 32)\n",
    "\n",
    "print(time.time() - start_time)"
   ]
  },
  {
   "cell_type": "markdown",
   "metadata": {},
   "source": [
    "**Q:** Briefly describe the role of learning rate (eta) on the efficiency of convergence during training."
   ]
  },
  {
   "cell_type": "markdown",
   "metadata": {},
   "source": [
    "*Write your response here*"
   ]
  },
  {
   "cell_type": "markdown",
   "metadata": {},
   "source": [
    "**Q:** Briefly describe the role of the number of epochs on validation accuracy."
   ]
  },
  {
   "cell_type": "markdown",
   "metadata": {},
   "source": [
    "*Write your response here*"
   ]
  },
  {
   "cell_type": "markdown",
   "metadata": {},
   "source": [
    "### [ 30 points] Problem 4: Implementing the Logistic Regression Classifier for Multinomial Classification\n",
    "\n",
    "You will now create a classifier that is commonly referred to as Multinomial Logistic Regression. The particular method you will be implementing is **One Vs All** or **One Vs Rest**. The dataset will be the MNIST dataset which includes all digits 0-9. You are free to use the functions you created above as needed."
   ]
  },
  {
   "cell_type": "code",
   "execution_count": 17,
   "metadata": {},
   "outputs": [],
   "source": [
    "class Numbers2:\n",
    "    \"\"\"\n",
    "    Class to store MNIST data for images of 0-9\n",
    "    \"\"\" \n",
    "    def __init__(self, location):\n",
    "        # You shouldn't have to modify this class, but you can if you'd like\n",
    "        # Load the dataset\n",
    "        with gzip.open(location, 'rb') as f:\n",
    "            train_set, valid_set, test_set = pickle.load(f)\n",
    " \n",
    "        self.train_x, self.train_y = train_set\n",
    "        self.test_x, self.test_y = valid_set"
   ]
  },
  {
   "cell_type": "code",
   "execution_count": 18,
   "metadata": {
    "scrolled": true
   },
   "outputs": [
    {
     "name": "stdout",
     "output_type": "stream",
     "text": [
      "[5 0 4 1 9 2 1 3 1 4]\n",
      "true label: 6\n"
     ]
    },
    {
     "data": {
      "image/png": "[encoded data removed]",
      "text/plain": [
       "<Figure size 432x288 with 1 Axes>"
      ]
     },
     "metadata": {},
     "output_type": "display_data"
    }
   ],
   "source": [
    "data2 = Numbers2('data/mnist.pklz')\n",
    "print(data2.train_y[:10])\n",
    "def view_digit(example, label=None):\n",
    "    if label is not None: print(\"true label: {:d}\".format(label))\n",
    "    plt.imshow(example.reshape(28,28), cmap='gray');\n",
    "view_digit(data2.train_x[18],data2.train_y[18])"
   ]
  },
  {
   "cell_type": "code",
   "execution_count": 52,
   "metadata": {},
   "outputs": [
    {
     "data": {
      "text/plain": [
       "array([1, 0, 4, ..., 8, 4, 8])"
      ]
     },
     "execution_count": 52,
     "metadata": {},
     "output_type": "execute_result"
    }
   ],
   "source": [
    "test = Numbers2('data/mnist.pklz')\n",
    "test.train_y[test.train_y == 5] = 1\n",
    "test.train_y"
   ]
  },
  {
   "cell_type": "code",
   "execution_count": 72,
   "metadata": {},
   "outputs": [],
   "source": [
    "class MultiLogReg:\n",
    "    \"\"\"\n",
    "    Class to store MNIST data for images of 0-9\n",
    "    \"\"\" \n",
    "    def __init__(self, X, y, eta = 0.1):\n",
    "        self.X = self.normalize_data(X)\n",
    "        self.y = self.one_hot_encoding(y)\n",
    "        self.eta = eta\n",
    "        \n",
    "    def one_hot_encoding(self, y):\n",
    "        # TO DO: Represent the output vector y as a one hot encoding. Create a matrix of dimensions (m X 10) \n",
    "        # where m = number of examples, and 10 for number of classes\n",
    "        # if the class for the ith example is 7, then y[i][7] = 1 and the for k != 7, y[i][k] = 0.\n",
    "        temp = np.zeros((y.shape[0], 10))\n",
    "        for i in range(len(y)):\n",
    "            temp[i][y[i]] = 1\n",
    "        \n",
    "        return temp\n",
    "            \n",
    "        \n",
    "    def normalize_data(self, X):\n",
    "        # TO DO: Normalize the dataset X using the mean and standard deviation of all the training examples \n",
    "        temp = np.zeros(X.shape)\n",
    "        for i in range(X.shape[1]):\n",
    "            temp[:,i] = (X[:,i] - X[:,i].mean()) / X[:,i].std()\n",
    "\n",
    "        return temp\n",
    "        \n",
    "    def get_optimal_parameters(self):\n",
    "        # TO DO: This is the main training loop. You will have to find the optimal weights for all 10 models\n",
    "        # Each model is fit to its class which is (0-9), and the cost function will be against all of the other \n",
    "        # numbers, i.e. \"the rest\".\n",
    "        weights = {}\n",
    "        for i in range(10):\n",
    "            log_reg = LogReg(self.X, self.y[:,i])\n",
    "            weights[i] = log_reg.sgd_update()\n",
    "            \n",
    "        return weights\n",
    "    \n",
    "    def predict(self, test_image, test_label):\n",
    "        # TO DO: This function should return the probabilities predicted by each of the models for some given \n",
    "        # input image. The probabilities are sorted with the most likely being listed first.\n",
    "        # Return a vector of shape (10, 2) with the first column holding the number and the second column with\n",
    "        # the probability that the test_image is that number\n",
    "        pass\n"
   ]
  },
  {
   "cell_type": "code",
   "execution_count": 71,
   "metadata": {},
   "outputs": [
    {
     "name": "stdout",
     "output_type": "stream",
     "text": [
      "10184\n"
     ]
    },
    {
     "name": "stderr",
     "output_type": "stream",
     "text": [
      "/anaconda3/lib/python3.6/site-packages/ipykernel_launcher.py:25: RuntimeWarning: invalid value encountered in true_divide\n"
     ]
    },
    {
     "data": {
      "text/plain": [
       "10184.0"
      ]
     },
     "execution_count": 71,
     "metadata": {},
     "output_type": "execute_result"
    }
   ],
   "source": [
    "print(sum(test.train_y[test.train_y == 1]))\n",
    "test2 = MultiLogReg(test.train_x, test.train_y)\n",
    "sum(test2.y[:,1])"
   ]
  },
  {
   "cell_type": "code",
   "execution_count": null,
   "metadata": {},
   "outputs": [
    {
     "name": "stderr",
     "output_type": "stream",
     "text": [
      "/anaconda3/lib/python3.6/site-packages/ipykernel_launcher.py:25: RuntimeWarning: invalid value encountered in true_divide\n"
     ]
    }
   ],
   "source": [
    "start_time = time.time()\n",
    "\n",
    "test2 = MultiLogReg(test.train_x, test.train_y)\n",
    "w = test2.get_optimal_parameters()\n",
    "\n",
    "print(time.time() - start_time)"
   ]
  },
  {
   "cell_type": "markdown",
   "metadata": {},
   "source": [
    "### QUESTION ###\n",
    "It is important to know how well your model did on the whole. You need to report the ___accuracy as a percentage___ on the training set and the test set from Numbers2. You should also plot a ___confusion matrix___ for both, just like you did on the last homework and mention the numbers that were misclassified the most"
   ]
  },
  {
   "cell_type": "code",
   "execution_count": null,
   "metadata": {},
   "outputs": [],
   "source": [
    "# TO DO: COMPUTE ACCURACY ON THE TRAIN AND TEST DATA FROM NUMBERS2"
   ]
  },
  {
   "cell_type": "code",
   "execution_count": null,
   "metadata": {},
   "outputs": [],
   "source": [
    "# TO DO: PLOT THE CONFUSION MATRIX ON TEST AND TRAIN DATA. "
   ]
  }
 ],
 "metadata": {
  "kernelspec": {
   "display_name": "Python 3",
   "language": "python",
   "name": "python3"
  },
  "language_info": {
   "codemirror_mode": {
    "name": "ipython",
    "version": 3
   },
   "file_extension": ".py",
   "mimetype": "text/x-python",
   "name": "python",
   "nbconvert_exporter": "python",
   "pygments_lexer": "ipython3",
   "version": "3.6.5"
  }
 },
 "nbformat": 4,
 "nbformat_minor": 2
}
