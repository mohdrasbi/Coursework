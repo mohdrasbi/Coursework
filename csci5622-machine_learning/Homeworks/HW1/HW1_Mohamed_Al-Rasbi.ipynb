{
 "cells": [
  {
   "cell_type": "markdown",
   "metadata": {},
   "source": [
    "# Homework 1 - KNN\n",
    "## CSCI 5622 - Spring 2019\n",
    "\n",
    "For today's assignment, we will be implementing our own K-Nearest Neighbors (KNN) algorithm.\n",
    "\n",
    "*But Professor Quigley, hasn't someone else already written KNN before?*\n",
    "\n",
    "Yes, you are not the first to implement KNN, or basically any algorithm we'll work with in this class. But 1) I'll know that you know what's really going on, and 2) you'll know you can do it, because 2a) someday you might have to implement some machine learning algorithm from scratch - maybe for a new platform (do you need to run python on your SmartToaster just to get it to learn how users like their toast?), maybe because you want to tweak the algorithm (there's always a better approach...), or maybe because you're working on something important and you need to control exactly what's on there (should you really be running anaconda on your secret spy plane?).\n",
    "\n",
    "That said - we're not going to implement *everything*. We'll start by importing a few helper functions"
   ]
  },
  {
   "cell_type": "code",
   "execution_count": 1,
   "metadata": {},
   "outputs": [],
   "source": [
    "import numpy as np\n",
    "import matplotlib.pyplot as plt\n",
    "import sklearn\n",
    "import sklearn.datasets\n",
    "from sklearn.model_selection import train_test_split\n",
    "import pandas as pd\n",
    "from prettytable import PrettyTable #pip install PrettyTable"
   ]
  },
  {
   "cell_type": "markdown",
   "metadata": {},
   "source": [
    "*Wait a minute - didn't we just import Scikit-learn (sklearn)? The package with baked-in machine learning tools?*\n",
    "\n",
    "Yes - but it also has a ton of helper functions, including a dataset we'll be using later. But, for now, let's set up a KNNClassifier class."
   ]
  },
  {
   "cell_type": "code",
   "execution_count": 2,
   "metadata": {},
   "outputs": [],
   "source": [
    "import sklearn.neighbors\n",
    "\n",
    "class KNNClassifier:\n",
    "    \n",
    "    def __init__(self, X, y, k = 5):\n",
    "        \"\"\"\n",
    "        Initialize our custom KNN classifier\n",
    "        PARAMETERS\n",
    "        X - our training data features\n",
    "        y - our training data answers\n",
    "        k - the number of nearest neighbors to consider for classification\n",
    "        \"\"\"\n",
    "        self._model = sklearn.neighbors.BallTree(X)\n",
    "        self._y = y[0]\n",
    "        if len(y.shape) == 1:\n",
    "            self._y = y\n",
    "        self._k = k\n",
    "        self._counts = self.getCounts()\n",
    "        self._errors = {}\n",
    "        \n",
    "    def getCounts(self):\n",
    "        \"\"\"\n",
    "        Creates a dictionary storing the counts of each answer class found in y\n",
    "        RETURNS\n",
    "        counts - a dictionary of counts of answer classes\n",
    "        \"\"\"\n",
    "        counts = dict(pd.Series(self._y).value_counts())\n",
    "        return(counts)\n",
    "    \n",
    "    def majority(self, indices):\n",
    "        \"\"\"\n",
    "        Given indices, report the majority label of those points.\n",
    "        For a tie, report the most common label in the data set.\n",
    "        PARAMETERS\n",
    "        indices - an np.array, where each element is an index of a neighbor\n",
    "        RETURNS\n",
    "        label - the majority label of our neighbors\n",
    "        \"\"\"\n",
    "        label = 0\n",
    "        counts = {}\n",
    "        \n",
    "        #calculate counts for each label\n",
    "        for i in indices[0]:\n",
    "            counts[self._y[i]] = counts.get(self._y[i], 0) + 1\n",
    "        \n",
    "        #determine the majority label\n",
    "        max_keys = [k for k, v in counts.items() if v == max(counts.values())]\n",
    "        if len(max_keys) == 1:\n",
    "            label = max_keys[0]\n",
    "        else:\n",
    "            tot_counts = self.getCounts()\n",
    "            sub_counts = {k: tot_counts[k] for k in max_keys}\n",
    "            label = max(sub_counts, key=sub_counts.get)\n",
    "            \n",
    "        return(label)\n",
    "    \n",
    "    def classify(self, point):\n",
    "        \"\"\"\n",
    "        Given a new data point, classify it according to the training data X and our number of neighbors k into the appropriate class in our training answers y\n",
    "        PARAMETERS\n",
    "        point - a feature vector of our test point\n",
    "        RETURNS\n",
    "        ans - our predicted classification\n",
    "        \"\"\"\n",
    "        ans = 0\n",
    "        dist, ind = self._model.query(np.array(list([point])), k=self._k)\n",
    "        ans = self.majority(ind)\n",
    "\n",
    "        return(ans)\n",
    "    \n",
    "    def getIndices(self):\n",
    "        '''\n",
    "        Return a dict with key=class and it's index in the\n",
    "        confusion matrix(value)\n",
    "        '''\n",
    "        counts = self.getCounts()\n",
    "        n = len(counts)\n",
    "        indices = {}\n",
    "        for i, j in zip(counts.keys(), range(n)):\n",
    "            indices[i] = j\n",
    "        \n",
    "        return indices\n",
    "        \n",
    "    def store_errors(self, index, predict, correct, data):\n",
    "        '''\n",
    "        Store data that are false positives/negatives in self._errors dict\n",
    "        key: index\n",
    "        value: [(predict_class, correct_class), data]\n",
    "        '''\n",
    "        self._errors[index] = [(predict, correct), data]        \n",
    "        \n",
    "    def confusionMatrix(self, testX, testY):\n",
    "        \"\"\"\n",
    "        Generate a confusion matrix for the given test set\n",
    "        PARAMETERS\n",
    "        testX - an np.array of feature vectors of test points\n",
    "        testY - the corresponding correct classifications of our test set\n",
    "        RETURN\n",
    "        C - an N*N np.array of counts, where N is the number of classes in our classifier\n",
    "        \"\"\"\n",
    "        indices = self.getIndices()\n",
    "        n = len(indices)\n",
    "        C = np.zeros((n,n), dtype=np.int)\n",
    "\n",
    "        tmpY = testY[0]\n",
    "        if len(testY.shape) == 1:\n",
    "            tmpY = testY\n",
    "                \n",
    "        for i in range(len(testX)):\n",
    "            predict = self.classify(testX[i])\n",
    "            correct = tmpY[i]\n",
    "            C[indices[predict]][indices[correct]] += 1\n",
    "            \n",
    "            if predict != correct:\n",
    "                self.store_errors(i, predict, correct, testX[i])\n",
    "        \n",
    "        return(C)\n",
    "    \n",
    "    def printConfMatrix(self, C):\n",
    "        indices = self.getIndices()\n",
    "        sorted_ind = sorted((v,k) for k,v in indices.items())\n",
    "        t = PrettyTable([\"\"] + [i[1] for i in sorted_ind])\n",
    "        for i in range(len(sorted_ind)):\n",
    "            row = [sorted_ind[i][1]] + list(C[i])\n",
    "            t.add_row(row)\n",
    "        print(\"Predict(row)/Correct(col)\")\n",
    "        print(t)\n",
    "        \n",
    "    def accuracy(self, C):\n",
    "        \"\"\"\n",
    "        Generate an accuracy score for the classifier based on the confusion matrix\n",
    "        PARAMETERS\n",
    "        C - an np.array of counts\n",
    "        RETURN\n",
    "        score - an accuracy score\n",
    "        \"\"\"\n",
    "        score = np.sum(C.diagonal()) / C.sum()\n",
    "        return(score)"
   ]
  },
  {
   "cell_type": "markdown",
   "metadata": {},
   "source": [
    "*But professor, this code isn't complete!*\n",
    "\n",
    "### Problem 1: Complete our KNN Classifier - 40 Points (10 each)\n",
    "\n",
    "1.1 - Complete the getCounts function to return the count of each class found in the training set\n",
    "\n",
    "1.2 - Complete the majority function to determine the majority class of a series of neighbors\n",
    "\n",
    "1.3 - Complete the classify function to capture the predicted class of a new datapoint\n",
    "\n",
    " - HINT: Use the BallTree documentation to determine how to retrieve neighbors from the model (https://scikit-learn.org/stable/modules/generated/sklearn.neighbors.BallTree.html#sklearn.neighbors.BallTree)\n",
    "\n",
    "1.4 - Complete the confusionMatrix function to reveal the results of classification\n",
    "\n",
    "You can take a look at the unit tests below to see how we create data to input into our classifier, what kinds of things we expect as output, etc. You should also consider expanding the test cases to make sure your classifier is working correctly.\n"
   ]
  },
  {
   "cell_type": "code",
   "execution_count": 3,
   "metadata": {
    "scrolled": true
   },
   "outputs": [
    {
     "name": "stderr",
     "output_type": "stream",
     "text": [
      "....\n",
      "----------------------------------------------------------------------\n",
      "Ran 4 tests in 0.026s\n",
      "\n",
      "OK\n"
     ]
    },
    {
     "data": {
      "text/plain": [
       "<unittest.runner.TextTestResult run=4 errors=0 failures=0>"
      ]
     },
     "execution_count": 3,
     "metadata": {},
     "output_type": "execute_result"
    }
   ],
   "source": [
    "import unittest\n",
    "\n",
    "class KNNTester(unittest.TestCase):\n",
    "    def setUp(self):\n",
    "        self.x = np.array([[3,1],[2,8], [2,7], [5,2],[3,2],[8,2],[2,4]])\n",
    "        self.y = np.array([[1, -1, -1, 1, -1, 1, -1]])\n",
    "        self.knnfive = KNNClassifier(self.x, self.y)\n",
    "        self.knnthree = KNNClassifier(self.x, self.y, 3)\n",
    "        self.knnone = KNNClassifier(self.x, self.y, 1)\n",
    "        \n",
    "        self.testPoints = np.array([[2,1], [2,6], [4, 4]])\n",
    "        \n",
    "    def testCounter(self):\n",
    "        \"\"\"\n",
    "        Test getCounts function from knnclassifier\n",
    "        \"\"\"\n",
    "        self.assertEqual(self.knnfive._counts[1], 3)\n",
    "        self.assertEqual(self.knnfive._counts[-1], 4)\n",
    "        \n",
    "    def testKNNOne(self):\n",
    "        \"\"\"\n",
    "        Test if the classifier returns \"correct\" (expected) classifications for k = 1\n",
    "        \"\"\"\n",
    "        self.assertEqual(self.knnone.classify(self.testPoints[0]), 1)\n",
    "    \n",
    "    def testKNNThree(self):\n",
    "        \"\"\"\n",
    "        Test if the classifier returns \"correct\" (expected) classifications for k = 3\n",
    "        \"\"\"\n",
    "        self.assertEqual(self.knnone.classify(self.testPoints[1]), -1)\n",
    "        \n",
    "    def testKNNFive(self):\n",
    "        \"\"\"\n",
    "        Test if the classifier returns \"correct\" (expected) classifications for k = 5\n",
    "        \"\"\"\n",
    "        self.assertEqual(self.knnone.classify(self.testPoints[2]), -1)\n",
    "    \n",
    "tests = KNNTester()\n",
    "myTests = unittest.TestLoader().loadTestsFromModule(tests)\n",
    "unittest.TextTestRunner().run(myTests)"
   ]
  },
  {
   "cell_type": "markdown",
   "metadata": {},
   "source": [
    "OK - now we've demonstrated that our KNN classifier works, let's think about our problem space! \n",
    "\n",
    "## Our Dataset - Identifying Digits from Images\n",
    "\n",
    "It's a pretty common problem - just imagine working at the post office, or at a bank, and you're handed a hand-written envelope, or check, or other piece of information and you have to identify exactly what it says. Did they pay 500 or 600 dollars? Is the letter going to 80309 (campus) or 30309 (Atlanta)?\n",
    "\n",
    "Let's be a little smart about this - let's up some classes and helper functions to help us out.\n",
    "\n",
    "### Problem 2: Implement KNN on Digits dataset - 30 Points\n",
    "\n",
    "2.1 Randomly divide our Digits dataset into training and testing sets (15 Points)\n",
    "\n",
    "2.2 Report the number of examples in training and testing, as well as measuring then number of pixels in each image (5 points)\n",
    "\n",
    "2.3 Create a confusion matrix of our classifier for K = 5 (10 points) *HINT: Doing this may cause you to catch mistakes in your classifier. Go fix those!*"
   ]
  },
  {
   "cell_type": "code",
   "execution_count": 4,
   "metadata": {},
   "outputs": [],
   "source": [
    "class Numbers:\n",
    "    def __init__(self):\n",
    "        digits = sklearn.datasets.load_digits()\n",
    "    \n",
    "        self.train_x, self.test_x, self.train_y, self.test_y = \\\n",
    "            train_test_split(digits.data, digits.target, test_size=0.2)\n",
    "        \n",
    "    def report(self):\n",
    "        \"\"\"\n",
    "        Report information about the dataset using the print() function\n",
    "        \"\"\"\n",
    "        print(\"\\t#data\\t#pixels\")\n",
    "        print(\"train\\t{}\\t{}\".format(self.train_x.shape[0], self.train_x.shape[1]))\n",
    "        print(\"test\\t{}\\t{}\".format(self.test_x.shape[0], self.test_x.shape[1]))   \n",
    "        \n",
    "\n",
    "    def classify(self):\n",
    "        \"\"\"\n",
    "        Create a classifier using the training data and generate a confusion matrix for the test data\n",
    "        Return errors dict\n",
    "        \"\"\"\n",
    "        class_digits = KNNClassifier(self.train_x, self.train_y)\n",
    "        confMatrix = class_digits.confusionMatrix(self.test_x, self.test_y)\n",
    "        class_digits.printConfMatrix(confMatrix)\n",
    "        \n",
    "        print(\"Accuracy: {:.2f}%\".format(class_digits.accuracy(confMatrix)*100))\n",
    "        \n",
    "        return class_digits._errors\n",
    "    \n",
    "    def viewDigit(self, digitImage):\n",
    "        \"\"\"\n",
    "        Display an image of a digit\n",
    "        PARAMETERS\n",
    "        digitImage - a data object from the dataset\n",
    "        \"\"\"\n",
    "        plt.gray()\n",
    "        plt.matshow(digitImage)\n",
    "        plt.show()\n",
    "        \n",
    "        "
   ]
  },
  {
   "cell_type": "code",
   "execution_count": 5,
   "metadata": {},
   "outputs": [
    {
     "name": "stdout",
     "output_type": "stream",
     "text": [
      "\t#data\t#pixels\n",
      "train\t1437\t64\n",
      "test\t360\t64\n",
      "\n",
      "Predict(row)/Correct(col)\n",
      "+---+----+----+----+----+----+----+----+----+----+----+\n",
      "|   | 1  | 6  | 7  | 5  | 0  | 9  | 4  | 2  | 8  | 3  |\n",
      "+---+----+----+----+----+----+----+----+----+----+----+\n",
      "| 1 | 27 | 0  | 0  | 0  | 0  | 0  | 0  | 0  | 1  | 0  |\n",
      "| 6 | 0  | 27 | 0  | 1  | 0  | 0  | 0  | 0  | 0  | 0  |\n",
      "| 7 | 0  | 0  | 33 | 0  | 0  | 0  | 1  | 0  | 0  | 2  |\n",
      "| 5 | 0  | 0  | 0  | 38 | 0  | 1  | 0  | 0  | 0  | 0  |\n",
      "| 0 | 0  | 0  | 0  | 0  | 35 | 0  | 0  | 0  | 0  | 0  |\n",
      "| 9 | 0  | 0  | 0  | 0  | 0  | 36 | 0  | 0  | 0  | 0  |\n",
      "| 4 | 0  | 0  | 0  | 0  | 0  | 0  | 39 | 0  | 0  | 0  |\n",
      "| 2 | 0  | 0  | 0  | 0  | 0  | 0  | 0  | 37 | 0  | 0  |\n",
      "| 8 | 0  | 0  | 0  | 0  | 0  | 0  | 0  | 0  | 35 | 1  |\n",
      "| 3 | 0  | 0  | 0  | 0  | 0  | 1  | 0  | 0  | 0  | 45 |\n",
      "+---+----+----+----+----+----+----+----+----+----+----+\n",
      "Accuracy: 97.78%\n"
     ]
    }
   ],
   "source": [
    "test = Numbers()\n",
    "test.report()\n",
    "print(\"\")\n",
    "errors = test.classify()"
   ]
  },
  {
   "cell_type": "markdown",
   "metadata": {},
   "source": [
    "*Wow, I can't believe we just created a KNN Classifier - but can't we make it better?*\n",
    "\n",
    "Yes, we saw above that our classifier didn't work perfectly. Let's explore that issue a little further\n",
    "\n",
    "### Problem 3: Improving KNN on Digits - 30 Points\n",
    "\n",
    "3.1 Determine which classes are most often confused (from our confusion matrix above), inspect some examples of these digits (using the viewDigit function in our Numbers class), and write a brief (4 - 5 sentences) description of why you think these particular numbers may be misclassified.\n",
    "\n",
    "3.2 Explore the influence of the number of nearest neighbors (i.e. try changing our K). Plot the relationship between K and accuracy, and write a brief (4 - 5 sentences) description of how this factor impacts our accuracy.\n",
    "\n",
    "3.3 (Bonus) Explore the influence of the train / test split of our data (i.e. copy our Numbers class into Numbers2 below and try changing the split for our dataset). Plot the relationship between the split % and accuracy, and write a brief (4 - 5 sentences) description of its impact."
   ]
  },
  {
   "cell_type": "code",
   "execution_count": 6,
   "metadata": {},
   "outputs": [
    {
     "name": "stdout",
     "output_type": "stream",
     "text": [
      "Predicted class: 1\tCorrect class: 8\n"
     ]
    },
    {
     "data": {
      "text/plain": [
       "<Figure size 432x288 with 0 Axes>"
      ]
     },
     "metadata": {},
     "output_type": "display_data"
    },
    {
     "data": {
      "image/png": "[encoded data removed]",
      "text/plain": [
       "<Figure size 288x288 with 1 Axes>"
      ]
     },
     "metadata": {},
     "output_type": "display_data"
    },
    {
     "name": "stdout",
     "output_type": "stream",
     "text": [
      "Predicted class: 7\tCorrect class: 3\n"
     ]
    },
    {
     "data": {
      "text/plain": [
       "<Figure size 432x288 with 0 Axes>"
      ]
     },
     "metadata": {},
     "output_type": "display_data"
    },
    {
     "data": {
      "image/png": "[encoded data removed]",
      "text/plain": [
       "<Figure size 288x288 with 1 Axes>"
      ]
     },
     "metadata": {},
     "output_type": "display_data"
    },
    {
     "name": "stdout",
     "output_type": "stream",
     "text": [
      "Predicted class: 5\tCorrect class: 9\n"
     ]
    },
    {
     "data": {
      "text/plain": [
       "<Figure size 432x288 with 0 Axes>"
      ]
     },
     "metadata": {},
     "output_type": "display_data"
    },
    {
     "data": {
      "image/png": "[encoded data removed]",
      "text/plain": [
       "<Figure size 288x288 with 1 Axes>"
      ]
     },
     "metadata": {},
     "output_type": "display_data"
    },
    {
     "name": "stdout",
     "output_type": "stream",
     "text": [
      "Predicted class: 8\tCorrect class: 3\n"
     ]
    },
    {
     "data": {
      "text/plain": [
       "<Figure size 432x288 with 0 Axes>"
      ]
     },
     "metadata": {},
     "output_type": "display_data"
    },
    {
     "data": {
      "image/png": "[encoded data removed]",
      "text/plain": [
       "<Figure size 288x288 with 1 Axes>"
      ]
     },
     "metadata": {},
     "output_type": "display_data"
    },
    {
     "name": "stdout",
     "output_type": "stream",
     "text": [
      "Predicted class: 6\tCorrect class: 5\n"
     ]
    },
    {
     "data": {
      "text/plain": [
       "<Figure size 432x288 with 0 Axes>"
      ]
     },
     "metadata": {},
     "output_type": "display_data"
    },
    {
     "data": {
      "image/png": "[encoded data removed]",
      "text/plain": [
       "<Figure size 288x288 with 1 Axes>"
      ]
     },
     "metadata": {},
     "output_type": "display_data"
    },
    {
     "name": "stdout",
     "output_type": "stream",
     "text": [
      "Predicted class: 3\tCorrect class: 9\n"
     ]
    },
    {
     "data": {
      "text/plain": [
       "<Figure size 432x288 with 0 Axes>"
      ]
     },
     "metadata": {},
     "output_type": "display_data"
    },
    {
     "data": {
      "image/png": "[encoded data removed]",
      "text/plain": [
       "<Figure size 288x288 with 1 Axes>"
      ]
     },
     "metadata": {},
     "output_type": "display_data"
    },
    {
     "name": "stdout",
     "output_type": "stream",
     "text": [
      "Predicted class: 7\tCorrect class: 3\n"
     ]
    },
    {
     "data": {
      "text/plain": [
       "<Figure size 432x288 with 0 Axes>"
      ]
     },
     "metadata": {},
     "output_type": "display_data"
    },
    {
     "data": {
      "image/png": "[encoded data removed]",
      "text/plain": [
       "<Figure size 288x288 with 1 Axes>"
      ]
     },
     "metadata": {},
     "output_type": "display_data"
    },
    {
     "name": "stdout",
     "output_type": "stream",
     "text": [
      "Predicted class: 7\tCorrect class: 4\n"
     ]
    },
    {
     "data": {
      "text/plain": [
       "<Figure size 432x288 with 0 Axes>"
      ]
     },
     "metadata": {},
     "output_type": "display_data"
    },
    {
     "data": {
      "image/png": "[encoded data removed]",
      "text/plain": [
       "<Figure size 288x288 with 1 Axes>"
      ]
     },
     "metadata": {},
     "output_type": "display_data"
    }
   ],
   "source": [
    "for i in errors.values():\n",
    "    print(\"Predicted class: {}\\tCorrect class: {}\".format(i[0][0], i[0][1]))\n",
    "    image = []\n",
    "    for j in range(0, len(i[1]), 8):\n",
    "        image.append(list(i[1][j:j+8]))\n",
    "    test.viewDigit(image)"
   ]
  },
  {
   "cell_type": "markdown",
   "metadata": {},
   "source": [
    "#### 3.1b\n",
    "From the example below, and from running the code multiple times (generates different training/testing datasets everytime), 5, 7 and 9 are the most confused.<br>\n",
    "In a way this makes sense because these images are 8x8, so the colors are not always clear. Hence, it is very easy to confuse 5 and 9 with each other or with other numbers."
   ]
  },
  {
   "cell_type": "code",
   "execution_count": 7,
   "metadata": {},
   "outputs": [],
   "source": [
    "class Numbers2:\n",
    "    def __init__(self, trainPercentage):\n",
    "        digits = sklearn.datasets.load_digits()\n",
    "    \n",
    "        self.train_x, self.test_x, self.train_y, self.test_y = \\\n",
    "            train_test_split(digits.data, digits.target, test_size=trainPercentage)\n",
    "\n",
    "    def classify(self, k):\n",
    "        \"\"\"\n",
    "        Create a classifier using the training data and generate a confusion matrix for the test data\n",
    "        Return accuracy\n",
    "        \"\"\"\n",
    "        class_digits = KNNClassifier(self.train_x, self.train_y, k)\n",
    "        confMatrix = class_digits.confusionMatrix(self.test_x, self.test_y)\n",
    "        accuracy = class_digits.accuracy(confMatrix)\n",
    "            \n",
    "        return accuracy\n",
    "        \n",
    "    def viewDigit(digitImage):\n",
    "        \"\"\"\n",
    "        Display an image of a digit\n",
    "        PARAMETERS\n",
    "        digitImage - a data object from the dataset\n",
    "        \"\"\"\n",
    "        plt.gray()\n",
    "        plt.matshow(digitImage)\n",
    "        plt.show()"
   ]
  },
  {
   "cell_type": "code",
   "execution_count": 8,
   "metadata": {},
   "outputs": [],
   "source": [
    "test = Numbers2(0.2)\n",
    "x = [i for i in range(1, 1001)]\n",
    "y = []\n",
    "for k in range(1, 1001):\n",
    "    y.append(test.classify(k))"
   ]
  },
  {
   "cell_type": "code",
   "execution_count": 9,
   "metadata": {},
   "outputs": [
    {
     "data": {
      "image/png": "[encoded data removed]",
      "text/plain": [
       "<Figure size 432x288 with 1 Axes>"
      ]
     },
     "metadata": {},
     "output_type": "display_data"
    }
   ],
   "source": [
    "plt.plot(x,y)\n",
    "plt.xlabel(\"k\")\n",
    "plt.ylabel(\"accuracy\")\n",
    "plt.show()"
   ]
  },
  {
   "cell_type": "markdown",
   "metadata": {},
   "source": [
    "#### 3.2b\n",
    "From what we see above, in general, increasing k decrease the accuracy. <br>\n",
    "By testing that for k=1 to k=1000 we see the accuracy decreases from 0.98 to almost 0.5.<br>\n",
    "It usually depenends on how many classes we have, and in this case we have 10 classes, hence, it makes sense that by increasing k the accuracy will decrease. Because by increasing k we are looking at a bigger range and that is no necessary (k=5 to k=10 it perfect in this case)"
   ]
  },
  {
   "cell_type": "code",
   "execution_count": 10,
   "metadata": {},
   "outputs": [],
   "source": [
    "x = np.arange(0.05, 1, 0.05)\n",
    "y = []\n",
    "for i in x:\n",
    "    test = Numbers2(i)\n",
    "    y.append(test.classify(5))"
   ]
  },
  {
   "cell_type": "code",
   "execution_count": 11,
   "metadata": {},
   "outputs": [
    {
     "data": {
      "image/png": "[encoded data removed]",
      "text/plain": [
       "<Figure size 432x288 with 1 Axes>"
      ]
     },
     "metadata": {},
     "output_type": "display_data"
    }
   ],
   "source": [
    "plt.plot(x,y)\n",
    "plt.xlabel(\"train percentage\")\n",
    "plt.ylabel(\"accuracy\")\n",
    "plt.show()"
   ]
  },
  {
   "cell_type": "markdown",
   "metadata": {},
   "source": [
    "#### 3.3b\n",
    "From the graph above we see that in general increasing training data percentage decreases the accuracy. However, the impact becomes significant when the train data percantage > 0.5. <br>\n",
    "When the percentage reaches 0.8, we see that the accuracy starts decreasing drastically."
   ]
  }
 ],
 "metadata": {
  "kernelspec": {
   "display_name": "Python 3",
   "language": "python",
   "name": "python3"
  },
  "language_info": {
   "codemirror_mode": {
    "name": "ipython",
    "version": 3
   },
   "file_extension": ".py",
   "mimetype": "text/x-python",
   "name": "python",
   "nbconvert_exporter": "python",
   "pygments_lexer": "ipython3",
   "version": "3.6.5"
  }
 },
 "nbformat": 4,
 "nbformat_minor": 2
}
