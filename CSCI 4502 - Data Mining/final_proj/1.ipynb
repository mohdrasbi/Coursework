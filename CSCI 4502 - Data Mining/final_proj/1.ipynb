{
 "cells": [
  {
   "cell_type": "code",
   "execution_count": 2,
   "metadata": {},
   "outputs": [],
   "source": [
    "import pandas as pd\n",
    "import glob\n",
    "from difflib import SequenceMatcher\n",
    "import time\n",
    "# from translate import Translator\n",
    "import csv\n",
    "from sklearn.feature_extraction.text import TfidfVectorizer\n",
    "import re\n",
    "import nltk\n",
    "from sklearn import feature_extraction\n",
    "from nltk.stem.snowball import SnowballStemmer\n",
    "from nltk.tokenize import word_tokenize\n",
    "import nltk\n",
    "import matplotlib.pyplot as plt\n",
    "from helper_functions import *\n",
    "import platform"
   ]
  },
  {
   "cell_type": "markdown",
   "metadata": {},
   "source": [
    "# Store Tweets"
   ]
  },
  {
   "cell_type": "code",
   "execution_count": 2,
   "metadata": {},
   "outputs": [],
   "source": [
    "path = \"/Users/datacsv/*.csv\"\n",
    "if platform.os == \"Windows\":\n",
    "    path = \"C:/Users/Ahmed/Desktop/Research/datacsv/*.csv\""
   ]
  },
  {
   "cell_type": "code",
   "execution_count": 3,
   "metadata": {},
   "outputs": [],
   "source": [
    "tweets = []\n",
    "times = []\n",
    "regex = re.compile('[^a-zA-Z]')\n",
    "sims = []\n",
    "for file in glob.glob(path):\n",
    "    df = pd.read_csv(file, sep=',', usecols=['Message', 'Language', 'Date_Posted'])\n",
    "    df_tweets = df[df[\"Language\"] == \"en\"][\"Message\"]\n",
    "    df_times = df[df[\"Language\"] == \"en\"][\"Date_Posted\"]\n",
    "\n",
    "    for _tweet, _time in zip(df_tweets, df_times):\n",
    "        if _tweet[0:2] != \"RT\":\n",
    "            for word in _tweet.lower().split():\n",
    "                if(check_sim(regex.sub('', word))):\n",
    "                    tweets.append(_tweet)\n",
    "                    times.append(_time)\n",
    "                    sims.append(regex.sub('', word))\n",
    "                    break"
   ]
  },
  {
   "cell_type": "code",
   "execution_count": 4,
   "metadata": {
    "scrolled": false
   },
   "outputs": [
    {
     "name": "stdout",
     "output_type": "stream",
     "text": [
      "Number of tweets that contain mosquito or a similar word is: 668407\n"
     ]
    }
   ],
   "source": [
    "print(\"Number of tweets that contain mosquito or a similar word is: {}\".format(len(tweets)))\n",
    "#357052"
   ]
  },
  {
   "cell_type": "code",
   "execution_count": 8,
   "metadata": {},
   "outputs": [],
   "source": [
    "pd.DataFrame({\"tweets\": tweets, \"times\":times}).to_csv(\"file1.csv\")"
   ]
  },
  {
   "cell_type": "markdown",
   "metadata": {},
   "source": [
    "### Reduce Redundancy"
   ]
  },
  {
   "cell_type": "code",
   "execution_count": 5,
   "metadata": {},
   "outputs": [
    {
     "name": "stdout",
     "output_type": "stream",
     "text": [
      "Number of tweets after prev 10 algorithm: 388161\n"
     ]
    }
   ],
   "source": [
    "filtered_tweets, filtered_times = reduce_tweets(tweets, times, 10)\n",
    "print(\"Number of tweets after prev 10 algorithm: {}\".format(len(filtered_tweets)))"
   ]
  },
  {
   "cell_type": "markdown",
   "metadata": {},
   "source": [
    "### Clean Up Some Tweets"
   ]
  },
  {
   "cell_type": "code",
   "execution_count": 15,
   "metadata": {},
   "outputs": [
    {
     "name": "stdout",
     "output_type": "stream",
     "text": [
      "Number of tweets after cleaning: 387624\n"
     ]
    }
   ],
   "source": [
    "final_tweets, final_times = [], []\n",
    "for i in range(len(filtered_tweets)):\n",
    "    if 'I liked a @YouTube video' not in filtered_tweets[i]:\n",
    "        final_tweets.append(filtered_tweets[i])\n",
    "        final_times.append(filtered_times[i])\n",
    "\n",
    "print(\"Number of tweets after cleaning: {}\".format(len(final_tweets)))"
   ]
  },
  {
   "cell_type": "code",
   "execution_count": 16,
   "metadata": {},
   "outputs": [],
   "source": [
    "pd.DataFrame({\"tweets\": final_tweets, \"times\": final_times}).to_csv(\"file2.csv\")"
   ]
  }
 ],
 "metadata": {
  "kernelspec": {
   "display_name": "Python 3",
   "language": "python",
   "name": "python3"
  },
  "language_info": {
   "codemirror_mode": {
    "name": "ipython",
    "version": 3
   },
   "file_extension": ".py",
   "mimetype": "text/x-python",
   "name": "python",
   "nbconvert_exporter": "python",
   "pygments_lexer": "ipython3",
   "version": "3.6.5"
  }
 },
 "nbformat": 4,
 "nbformat_minor": 2
}
