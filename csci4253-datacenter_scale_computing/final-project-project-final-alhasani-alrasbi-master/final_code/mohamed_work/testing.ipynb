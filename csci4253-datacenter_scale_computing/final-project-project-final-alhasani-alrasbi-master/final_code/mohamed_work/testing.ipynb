{
 "cells": [
  {
   "cell_type": "code",
   "execution_count": 1,
   "metadata": {},
   "outputs": [],
   "source": [
    "import pandas as pd\n",
    "import matplotlib.pyplot as plt\n",
    "import numpy as np\n",
    "import re\n",
    "import sys\n",
    "import glob\n",
    "import warnings\n",
    "warnings.filterwarnings('ignore')"
   ]
  },
  {
   "cell_type": "markdown",
   "metadata": {},
   "source": [
    "note: \n",
    "1. make limits to show more detailed histogram\n",
    "2. count number of awards at that range\n",
    "3. find percentage\n",
    "4. do that for every state, every FY"
   ]
  },
  {
   "cell_type": "code",
   "execution_count": 6,
   "metadata": {},
   "outputs": [
    {
     "data": {
      "image/png": "[encoded data removed]",
      "text/plain": [
       "<Figure size 432x288 with 1 Axes>"
      ]
     },
     "metadata": {},
     "output_type": "display_data"
    }
   ],
   "source": [
    "df = pd.read_csv(\"datasets/arizona/2010.csv\")\n",
    "start, end = 0, 10000\n",
    "df = df[(df[\"total_funding_amount\"] > start) & (df[\"total_funding_amount\"] < end)]\n",
    "bins = [i for i in range(start, end+100, 100)]\n",
    "plt.hist(df[\"total_funding_amount\"], bins=bins)\n",
    "# plt.ylim(0, 5000)\n",
    "# plt.xlim(0, 10000)\n",
    "plt.show()"
   ]
  },
  {
   "cell_type": "code",
   "execution_count": 3,
   "metadata": {},
   "outputs": [
    {
     "data": {
      "text/plain": [
       "0        4761.0\n",
       "1         271.0\n",
       "2        1587.0\n",
       "3         149.0\n",
       "4         105.0\n",
       "5        3239.0\n",
       "6          23.0\n",
       "7        8150.0\n",
       "8        1396.0\n",
       "10         60.0\n",
       "11       6623.0\n",
       "12       1089.0\n",
       "13       2242.0\n",
       "14        948.0\n",
       "15       6889.0\n",
       "17       2107.0\n",
       "18        363.0\n",
       "19       1020.0\n",
       "20       1280.0\n",
       "21        812.0\n",
       "24       1585.0\n",
       "25       1117.0\n",
       "26        254.0\n",
       "27       2066.0\n",
       "29       8010.0\n",
       "30       1744.0\n",
       "31       2277.0\n",
       "32       5326.0\n",
       "33       4996.0\n",
       "34        757.0\n",
       "          ...  \n",
       "39667    4891.0\n",
       "39668    3440.0\n",
       "39669    2464.0\n",
       "39670     273.0\n",
       "39671     107.0\n",
       "39672     251.0\n",
       "39674      73.0\n",
       "39675    1860.0\n",
       "39676    3282.0\n",
       "39678    3970.0\n",
       "39679     158.0\n",
       "39680      78.0\n",
       "39681     833.0\n",
       "39682     696.0\n",
       "39686    1507.0\n",
       "39688     141.0\n",
       "39693      60.0\n",
       "39694    6386.0\n",
       "39695    9895.0\n",
       "39696    5816.0\n",
       "39697    7697.0\n",
       "39699     202.0\n",
       "39700     277.0\n",
       "39702    5287.0\n",
       "39703     622.0\n",
       "39705     592.0\n",
       "39708    5991.0\n",
       "39710    7615.0\n",
       "39711    3757.0\n",
       "39712    1098.0\n",
       "Name: total_funding_amount, Length: 12413, dtype: float64"
      ]
     },
     "execution_count": 3,
     "metadata": {},
     "output_type": "execute_result"
    }
   ],
   "source": [
    "df = pd.read_csv(\"datasets/arizona/2010.csv\")\n",
    "df[(df[\"total_funding_amount\"] < 10000) & (df[\"total_funding_amount\"] > 0)][\"total_funding_amount\"]\n"
   ]
  },
  {
   "cell_type": "code",
   "execution_count": null,
   "metadata": {},
   "outputs": [],
   "source": []
  },
  {
   "cell_type": "code",
   "execution_count": null,
   "metadata": {},
   "outputs": [],
   "source": []
  },
  {
   "cell_type": "code",
   "execution_count": 4,
   "metadata": {},
   "outputs": [
    {
     "data": {
      "text/plain": [
       "50000000.0"
      ]
     },
     "execution_count": 4,
     "metadata": {},
     "output_type": "execute_result"
    }
   ],
   "source": [
    "5e7"
   ]
  },
  {
   "cell_type": "code",
   "execution_count": 5,
   "metadata": {},
   "outputs": [
    {
     "name": "stdout",
     "output_type": "stream",
     "text": [
      "[-1.77307005 -1.43615051  1.11140623 ...  0.23725106 -0.72326332\n",
      " -0.05957377]\n"
     ]
    },
    {
     "data": {
      "text/plain": [
       "(array([6.0000e+00, 2.0000e+01, 1.0800e+02, 3.8600e+02, 1.0220e+03,\n",
       "        2.3630e+03, 5.0490e+03, 8.5530e+03, 1.2556e+04, 1.5759e+04,\n",
       "        1.6296e+04, 1.4607e+04, 1.0543e+04, 6.6940e+03, 3.6070e+03,\n",
       "        1.5990e+03, 5.8200e+02, 1.9300e+02, 4.1000e+01, 1.6000e+01]),\n",
       " array([0.43354849, 0.87990264, 1.3262568 , 1.77261095, 2.21896511,\n",
       "        2.66531926, 3.11167342, 3.55802757, 4.00438173, 4.45073588,\n",
       "        4.89709004, 5.34344419, 5.78979835, 6.2361525 , 6.68250666,\n",
       "        7.12886081, 7.57521497, 8.02156912, 8.46792328, 8.91427743,\n",
       "        9.36063159]),\n",
       " <a list of 20 Patch objects>)"
      ]
     },
     "execution_count": 5,
     "metadata": {},
     "output_type": "execute_result"
    },
    {
     "data": {
      "image/png": "[encoded data removed]",
      "text/plain": [
       "<Figure size 432x288 with 2 Axes>"
      ]
     },
     "metadata": {},
     "output_type": "display_data"
    }
   ],
   "source": [
    "N_points = 100000\n",
    "n_bins = 20\n",
    "\n",
    "# Generate a normal distribution, center at x=0 and y=5\n",
    "x = np.random.randn(N_points)\n",
    "y = .4 * x + np.random.randn(100000) + 5\n",
    "print(x)\n",
    "fig, axs = plt.subplots(1, 2, sharey=True, tight_layout=True)\n",
    "\n",
    "# We can set the number of bins with the `bins` kwarg\n",
    "axs[0].hist(x, bins=n_bins)\n",
    "axs[1].hist(y, bins=n_bins)"
   ]
  }
 ],
 "metadata": {
  "kernelspec": {
   "display_name": "Python 3",
   "language": "python",
   "name": "python3"
  },
  "language_info": {
   "codemirror_mode": {
    "name": "ipython",
    "version": 3
   },
   "file_extension": ".py",
   "mimetype": "text/x-python",
   "name": "python",
   "nbconvert_exporter": "python",
   "pygments_lexer": "ipython3",
   "version": "3.6.5"
  }
 },
 "nbformat": 4,
 "nbformat_minor": 2
}
