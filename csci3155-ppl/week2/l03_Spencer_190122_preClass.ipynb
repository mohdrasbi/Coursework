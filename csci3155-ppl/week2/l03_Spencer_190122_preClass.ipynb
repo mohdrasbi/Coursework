{
 "cells": [
  {
   "cell_type": "markdown",
   "metadata": {},
   "source": [
    "# CSCI 3155 - Lecture 3 of 30 (Spencer Wilson)"
   ]
  },
  {
   "cell_type": "markdown",
   "metadata": {},
   "source": [
    "## Overview\n",
    "* Preclass\n",
    "* Outstanding Questions\n",
    "* Test Driven Development for Recursion\n",
    "* Recursion"
   ]
  },
  {
   "cell_type": "markdown",
   "metadata": {},
   "source": [
    "> Dbl click for space\n",
    "\n",
    "> ctrl enter to collapse\n",
    "\n",
    "\n",
    "\n",
    "\n",
    "\n",
    "\n",
    "\n",
    "\n",
    "\n",
    "\n",
    "\n",
    "\n"
   ]
  },
  {
   "cell_type": "markdown",
   "metadata": {},
   "source": [
    "## Pre-Class\n",
    "### Setup\n",
    "* go to Moodle and download this document\n",
    "    * 20 January - 26 January\n",
    "    * Notebooks\n",
    "    * Spencer Week 2 Lecture Material\n",
    "    * l03_Spencer_190122_preClass.ipynb\n",
    "* Open this doc in Jupyter Notebooks\n",
    "\n",
    "#### Tips for this document\n",
    "* Now you can take your notes directly in here.\n",
    "    * Double click on a markdown element to edit them\n",
    "    * from any element you can hit the '+' button (near the save button) to add a block under the current block\n",
    "    * for a highlighted empty block, you can easily update its type using the dropdown that likely reads code when you first click on the empty block\n",
    "\n",
    "#### Is this Useful?\n",
    "I think this is really cool, but maybe it’s not actually the best tool for you. If you think this isn't working well for you please let me know and help me figure out a better way to lead the class\n",
    "\n",
    "#### Moving forward\n",
    "I'm trying to figure out how to best run this course. I'm thinking that moving forward I will distribute my lectures through jupyter notebooks (JNs). Still not sure if I will continue creating my own documents or working off of the reading assignments. Let me know your thoughts about this if you are comfortable sharing. If I hear nothing, I'll put out an anonymized survey eventually\n",
    "\n",
    "I will typically post my material two days in advance of class. I will also post a postClass version of the document if that is needed.\n",
    "\n",
    "### TODONES\n",
    "* Went to recitation\n",
    "* Have JN environment up and running\n",
    "* Play around with Scala and learn it a little bit\n",
    "* Start working on Homework 1\n",
    "\n",
    "### Tangent\n",
    "A short video: https://www.youtube.com/watch?v=W7lbetWc35w\n",
    "\n",
    "Last week I talked about code translation as a tool to learn new languages. You all know python, so if you need to code in Scala you might first code in python and then translate to scala. Just like in human languages translation is great way to begin learning a language, but I feel that I should warn you it is not a great way to master a language. At some point you do need to start thinking in the goal language itself.\n"
   ]
  },
  {
   "cell_type": "markdown",
   "metadata": {},
   "source": [
    "> Dbl click for space\n",
    "\n",
    "> ctrl enter to collapse\n",
    "\n",
    "\n",
    "\n",
    "\n",
    "\n",
    "\n",
    "\n",
    "\n",
    "\n",
    "\n",
    "\n",
    "\n"
   ]
  },
  {
   "cell_type": "markdown",
   "metadata": {
    "collapsed": true
   },
   "source": [
    "## Outstanding questions\n",
    "1. What is Unit? Is that like void? I looked it up. Like I said in class, yes Unit is a lot like void in Java but it does have some nuances in that Unit has a value in Scala and void doesn't have a value in Java [joelabrahamsson.com/learning-scala-part-eight-scalas-type-hierarchy-and-object-equality/]\n",
    "\n",
    "2. Do we HAVE to declare our types in Scala? I misled you about this one in class. Scala has a *beautiful* type system and there are many places where you don't need to notate the types of a val, var, parameter, or other things. It's rather complex... I would encourage you to write your code with the types in. Then try removing the types here and there and see if your code still works. I will try to highlight some of these as we move forward.\n",
    "\n",
    "3. Noting that Scala allows us a \"syntax sugar\" to remove the “.” and “()” when executing a method of an object. Can we always do this? I may have misled you. I think I may have said its not possible. But it is. See example bellow. “curryTwoParams” takes its parameters in a way you may not have seen before. That is termed curried notation in honor of Haskell Curry. We will discuss that deeper at some point in this course along with its great friend partial function applications.\n",
    "\n"
   ]
  },
  {
   "cell_type": "code",
   "execution_count": 21,
   "metadata": {},
   "outputs": [
    {
     "name": "stdout",
     "output_type": "stream",
     "text": [
      "Expecting to see 10\n",
      "\t10\n",
      "\t10\n",
      "Expecting to see 30\n",
      "\t30\n",
      "\t30\n",
      "\t30\n",
      "Expecting to see 12\n",
      "\t12\n",
      "\t12\n"
     ]
    },
    {
     "data": {
      "text/plain": [
       "defined \u001b[32mclass\u001b[39m \u001b[36mThing\u001b[39m\n",
       "\u001b[36mthing\u001b[39m: \u001b[32mThing\u001b[39m = ammonite.$sess.cmd20$Helper$Thing@766a2968\n",
       "\u001b[36mn0\u001b[39m: \u001b[32mInt\u001b[39m = \u001b[32m10\u001b[39m\n",
       "\u001b[36mn1\u001b[39m: \u001b[32mInt\u001b[39m = \u001b[32m10\u001b[39m\n",
       "\u001b[36mn2\u001b[39m: \u001b[32mInt\u001b[39m = \u001b[32m30\u001b[39m\n",
       "\u001b[36mn3\u001b[39m: \u001b[32mInt\u001b[39m = \u001b[32m30\u001b[39m\n",
       "\u001b[36mn4\u001b[39m: \u001b[32mInt\u001b[39m = \u001b[32m30\u001b[39m\n",
       "\u001b[36mn5\u001b[39m: \u001b[32mInt\u001b[39m = \u001b[32m12\u001b[39m\n",
       "\u001b[36mn6\u001b[39m: \u001b[32mInt\u001b[39m = \u001b[32m12\u001b[39m"
      ]
     },
     "execution_count": 21,
     "metadata": {},
     "output_type": "execute_result"
    }
   ],
   "source": [
    "class Thing(val x:Int) {\n",
    "    def noParams():Int = {\n",
    "        this.x * 2\n",
    "    }\n",
    "    def oneParam(y:Int):Int = {\n",
    "        this.x + y\n",
    "    }\n",
    "    def curryTwoParams(y:Int)(z:Int):Int = {\n",
    "        (this.x + y) * z\n",
    "    }\n",
    "}\n",
    "\n",
    "// NOTE: I don't have* to state the type of my vals here\n",
    "// I think that has to do with the way we use these vals... but I'm not an expert\n",
    "val thing = new Thing(5)\n",
    "val n0 = thing.noParams()\n",
    "val n1 = (thing noParams)  // Here we need those (). I think we do this to make it \"atomic\"\n",
    "println(\"Expecting to see 10\")\n",
    "println(\"\\t\" + n0)\n",
    "println(\"\\t\" + n1)\n",
    "val n2 = thing.oneParam(25)\n",
    "val n3 = thing oneParam 25\n",
    "val n4 = (thing oneParam 25)  // Here the () are not required\n",
    "println(\"Expecting to see 30\")\n",
    "println(s\"\\t$n2\")  // note the `s` in the front of our string\n",
    "println(s\"\\t$n3\")\n",
    "println(s\"\\t$n4\")\n",
    "val n5 = thing.curryTwoParams(1)(2)  // you might think of this like thing.curryTwoParams(1,2)\n",
    "                                     // although that isn't really correct\n",
    "                                     // but it might be helpful to think of it that way anyway\n",
    "val n6 = (thing curryTwoParams 1)(2) // note how () stack\n",
    "println(s\"Expecting to see 12\\n\\t$n5\\n\\t$n6\")  // note the `s` in the front of our string\n"
   ]
  },
  {
   "cell_type": "markdown",
   "metadata": {},
   "source": [
    "> Dbl click for space\n",
    "\n",
    "> ctrl enter to collapse\n",
    "\n",
    "\n",
    "\n",
    "\n",
    "\n",
    "\n",
    "\n",
    "\n",
    "\n",
    "\n",
    "\n",
    "\n"
   ]
  },
  {
   "cell_type": "markdown",
   "metadata": {},
   "source": [
    "\n",
    "\n",
    "\n",
    "\n",
    "\n",
    "\n",
    "\n",
    "\n",
    "\n",
    "\n",
    "\n",
    "\n",
    "\n"
   ]
  },
  {
   "cell_type": "markdown",
   "metadata": {
    "collapsed": true
   },
   "source": [
    "## Test Driven Development for Recursion\n",
    "\n",
    "### TDD\n",
    "Test Driven Development or TDD is not a core topic of this course but I think it is worth mentioning and using when easily applicable. TDD is the process of writing tests before you implement your code. It is still a buzz word in the software engineering industry and can be a useful tool to report on a resume. Note, in general, if you can't write a test then, chances are you don't understand the problem yet. Sometimes that is okay and that is indicative of a scenario where TDD is not practical. Here is the high-level formula:\n",
    "* write a few simple tests\n",
    "    * if you can't write a test then you need to go to the assigner and work with them to better understand the problem\n",
    "* implement just enough of a solution to solve for all of your tests (refactor your code as needed)\n",
    "* iterate until the problem is solved completely\n",
    "\n",
    "One cool exercise to try sometime is a roman numberal translator [https://dzone.com/articles/roman-numerals-kata-tdd-and].\n",
    "\n",
    "### \"Easy\" Recursion\n",
    "There are a lot of differnt ways that we can learn recursion. Each person is differnt in how they think an learn. I find this to be particularly evident as people attempt to master recursion. If the content displayed in the course material doesn't make sense to you, let a member of the course staff know offline and we will try to tackle the problem with you in a different way.\n",
    "\n",
    "One way to think about \"easy\" recursive problems is as follows:\n",
    "* there are one-or-many base cases\n",
    "* there are inductive cases that rely on your base case\n",
    "* there might be edge casses\n",
    "    * in my experience, these are often due to limitations of using a computer to solve the problem\n",
    "    * sometimes the problem will naturally have an edge case\n",
    "\n",
    "### tie them together\n",
    "In my experience, if a problem is easy to solve with recursion, that same problem is also easy to solve with Test Driven Development. Using both of them together can help you learn both of these tools at the same time and better learn each tool individually.\n",
    "\n",
    "### Example: Fibbonacci\n",
    "Perhaps the easiest example of this is the factorial problem, but we solve that last week. Let's instead look at the fibinocci problem. The fibbonacci sequence is a mathmatic description of a phenomina found in nature that has many applications in a variety of diciplines. By nature of this being an inductively defined mathmatic problem I would consider this an \"easy\" recurssion problem. \n",
    "\n",
    "I'm not a master of sets, and I no one is asking you to understand this notation (we'll cover it a bit but Theory of Computation - TOC - is a course you want to take if you think sets are interesting). Having said that, consider the following set definition of the fibonaci sequence: \n",
    "\n",
    "F = {1, 1, ..., F(n-1) + F(n-2) | n >= 2} \n",
    "\n",
    "In maths, I could restate the above definition as:\n",
    "* F(0) = 1\n",
    "* F(1) = 1\n",
    "* F(2) = 2 = F(2-1) + F(2-2) = F(1) + F(2-2) = 1 + F(2-2) = 1 + F(0) = 1 + 1 = 2\n",
    "* F(3) = 3 = F(3-1) + F(3-2) = F(2) + F(3-2) = 2 + F(3-2) = 2 + F(1) = 2 + 1 = 3\n",
    "* ...\n",
    "* F(n) = ??? = F(n-1) + F(n-2)\n",
    "\n",
    "Here we have seen some inductive logic (a topic well look deeper at on Thursday) and now we might have enough information to start coding a solution to the fibonaccie problem.\n",
    "\n",
    "We'll solve the problem using TDD. Recipe:\n",
    "1. Identify the problem to solve\n",
    "2. get set up\n",
    "    * define your implementation function\n",
    "    * define a test function\n",
    "    * call the test function\n",
    "* Identify the base cases of the problem to solve\n",
    "* Write **correct** tests for the base cases\n",
    "* Implement a solution for the base cases\n",
    "* test your work\n",
    "* Identify the inductive cases of the problem to solve\n",
    "* Write **correct** tests for the inductive cases\n",
    "* Implement a solution for the inductive cases\n",
    "* test your work\n",
    "* Identify any edge cases of the problem to solve\n",
    "* Define reactions for these edge cases\n",
    "* Write **correct** tests for the edge cases based on your determined reactions\n",
    "* Implement a solution for the inductive cases\n",
    "* test your work\n",
    "\n",
    "#### Code\n"
   ]
  },
  {
   "cell_type": "code",
   "execution_count": 12,
   "metadata": {},
   "outputs": [
    {
     "name": "stdout",
     "output_type": "stream",
     "text": [
      "BEGINING TESTS\n",
      "true\n",
      "true\n",
      "true\n",
      "true\n",
      "true\n",
      "true\n",
      "TESTS ENDED\n"
     ]
    },
    {
     "data": {
      "text/plain": [
       "defined \u001b[32mfunction\u001b[39m \u001b[36mtestFib\u001b[39m\n",
       "defined \u001b[32mfunction\u001b[39m \u001b[36mfib\u001b[39m"
      ]
     },
     "execution_count": 12,
     "metadata": {},
     "output_type": "execute_result"
    }
   ],
   "source": [
    "/*\n",
    "    I got us started. with steps 1 and of the recipe\n",
    "    We'll do 3-6 together\n",
    "    You'll do 7 - 15 on your own.\n",
    "    \n",
    "    Additional notes:\n",
    "    Today we will use print testing. \n",
    "    Also we will return -1 for any invalid inputs to the function\n",
    "*/\n",
    "\n",
    "\n",
    "def testFib() = {\n",
    "    println(\"BEGINING TESTS\")\n",
    "    \n",
    "    println(fib(0) == 1)\n",
    "    println(fib(1) == 1)\n",
    "    println(fib(2) == 2)\n",
    "    println(fib(3) == 3)\n",
    "    println(fib(4) == 5)\n",
    "    println(fib(5) == 8)\n",
    "\n",
    "    println(\"TESTS ENDED\")\n",
    "}\n",
    "\n",
    "\n",
    "def fib(n:Int):Int = \n",
    "{\n",
    "    require(n >= 0)\n",
    "    n match\n",
    "    {\n",
    "        case 0 | 1 => 1\n",
    "        case _ => fib(n-1) + fib(n-2)\n",
    "    }\n",
    "    //     if(n == 0 || n == 1)\n",
    "    //         1\n",
    "    //     else\n",
    "    //         fib(n-1) + fib(n-2)\n",
    "}\n",
    "    \n",
    "\n",
    "\n",
    "testFib()"
   ]
  },
  {
   "cell_type": "markdown",
   "metadata": {},
   "source": [
    "#### Notes\n",
    "Note, this isn't the ideal way to solve Fibonacci. First of all there is a matter of the stack on our machine and the way our language handles this stack. Recursion can be quite resource intensive and can cause us to \"blow the stack\" (not like in Altered Carbon, this just means we've overloaded the space available). We can get around that issue using a data structure known as the trampoline monad. We'll cover trampolines later in this course. I don't think we'll bother covering monads this semester but the following video is quite comprehensive on the topic of monoid, monad and the state monad (a different monad from the trampoline): https://www.youtube.com/watch?v=ZhuHCtR3xq8.\n",
    "\n",
    "Having said all of that, recursion is not the fastest way to solve fibonocci on a machine, its just an \"obvious\" way to solve it. Take a course on Algorithms to learn about some other options for solving this particular problem (or google it).\n"
   ]
  },
  {
   "cell_type": "markdown",
   "metadata": {},
   "source": [
    "> Dbl click for space\n",
    "\n",
    "> ctrl enter to collapse\n",
    "\n",
    "\n",
    "\n",
    "\n",
    "\n",
    "\n",
    "\n",
    "\n",
    "\n",
    "\n",
    "\n",
    "\n"
   ]
  },
  {
   "cell_type": "markdown",
   "metadata": {
    "collapsed": true
   },
   "source": [
    "## Recursion\n",
    "### termination\n",
    "One concept in recursion I'd like to cover today is the idea of setting a goal and making progress toward that goal, or **termination**(I sometimes call this consumption).\n",
    "\n",
    "Consider in our solution to *fib* above we used a require statement that the input `n` shall be greater-than-or-equal-to `0`. Why is that important for the Fibonacci problem?\n",
    "\n",
    "#### code example\n",
    "Well consider what would happen if we didn't have the require statement (see code below).\n",
    "\n"
   ]
  },
  {
   "cell_type": "code",
   "execution_count": 14,
   "metadata": {},
   "outputs": [
    {
     "data": {
      "text/plain": [
       "defined \u001b[32mfunction\u001b[39m \u001b[36mfibIncomplete\u001b[39m\n",
       "\u001b[36mres13_1\u001b[39m: \u001b[32mInt\u001b[39m = \u001b[32m2\u001b[39m"
      ]
     },
     "execution_count": 14,
     "metadata": {},
     "output_type": "execute_result"
    }
   ],
   "source": [
    "def fibIncomplete(n:Int):Int = n match {\n",
    "    case 0 | 1 => 1\n",
    "    case _ => fibIncomplete(n-1) + fibIncomplete(n-2)\n",
    "}\n",
    "fibIncomplete(2)  // equals 3 as expected\n",
    "// fibIncomplete(-1)  // has some problems (\"blows\" the stack)"
   ]
  },
  {
   "cell_type": "markdown",
   "metadata": {},
   "source": [
    "#### Observation\n",
    "In our solution to Fibonacci one of our goals is to reach known Fibonacci values for 0 and 1.  So we write our code to start counting down from the number provided until we reach 0 or 1. But some numbers can't count down to 0 or 1. If the number is less than 0 to begin with then we will never get down to 0. We'll just get more and more negative.\n",
    "\n",
    "Alternatively, if you prefer, Fibonacci terminates at both 0 and 1. It does not apply to values less than 0. It only applies to whole numbers.\n",
    "\n",
    "For more on this topic, checkout the posted reading on Recursion. Let me know in Thursday's class if you still have questions on this topic.\n",
    "\n",
    "### tail recursion\n",
    "Another topic I'd like to bring up is tail recursion optimization. Some langauges have a preference toward this. You might need to look it up for the langauge you are working with. Let's pop over to the reading on Recurssion to look at this a bit further. Lets look at this on factorial, then you can try it out on Fibonacci\n"
   ]
  },
  {
   "cell_type": "code",
   "execution_count": 69,
   "metadata": {},
   "outputs": [
    {
     "data": {
      "text/plain": [
       "defined \u001b[32mfunction\u001b[39m \u001b[36mfactorialSimple\u001b[39m\n",
       "defined \u001b[32mfunction\u001b[39m \u001b[36mfactorialTail\u001b[39m"
      ]
     },
     "execution_count": 69,
     "metadata": {},
     "output_type": "execute_result"
    }
   ],
   "source": [
    "def factorialSimple(n:Int):Int = {\n",
    "    require(n >= 0)\n",
    "    def fact(n:Int):Int = n match {\n",
    "        case 0 => 1\n",
    "        case _ => n * fact (n - 1)\n",
    "    }\n",
    "    fact(n)\n",
    "}\n",
    "\n",
    "//walk through this\n",
    "def factorialTail(n:Int):Int = {\n",
    "    require (n >= 0)\n",
    "    def fact(n:Int, part:Int):Int = n match {\n",
    "        case 0 => part\n",
    "        case _ => fact(n-1, n * part)\n",
    "    }\n",
    "    fact(n, 1)\n",
    "}\n",
    "\n",
    "// tests defined after observations"
   ]
  },
  {
   "cell_type": "markdown",
   "metadata": {},
   "source": [
    "#### Observations\n",
    "In tail recursion we often need to provide an extra parameter to our function with a known value for our base case. For this reason, many people will code it in an interior function - think about the UX here, if we have that parameter in the outer function this would be a somewhat difficult function to call\n",
    "\n",
    "#### Notes\n",
    "Some functions have a preference toward tail recursion. I probably will never tell you what languages have this preference. It's just something that you should be aware of and look up as you learn new languages\n",
    "\n",
    "#### Why we care\n",
    "Understanding tail recursion will be useful as we move forward in the class. We'll look at more interesting ways to solve the problem using recursion including the use of trampoline and partial function application with early returns (I forgot the technical term for that one...).\n",
    "\n"
   ]
  },
  {
   "cell_type": "markdown",
   "metadata": {},
   "source": [
    "> Dbl click for space\n",
    "\n",
    "> ctrl enter to collapse\n",
    "\n",
    "\n",
    "\n",
    "\n",
    "\n",
    "\n",
    "\n",
    "\n",
    "\n",
    "\n",
    "\n",
    "\n"
   ]
  },
  {
   "cell_type": "code",
   "execution_count": 24,
   "metadata": {},
   "outputs": [
    {
     "name": "stdout",
     "output_type": "stream",
     "text": [
      "base case 0\n",
      "\tPASSED\n",
      "base case 1\n",
      "\tPASSED\n",
      "inductive case 3\n",
      "\tPASSED\n",
      "base case 0\n",
      "\tPASSED\n",
      "base case 1\n",
      "\tPASSED\n",
      "inductive case 3\n",
      "\tPASSED\n",
      "\n",
      "\n",
      "\n",
      "ALL PASSED!\n",
      "TODO: enter some sweet ascii art!!!\n"
     ]
    },
    {
     "data": {
      "text/plain": [
       "defined \u001b[32mfunction\u001b[39m \u001b[36mtest\u001b[39m\n",
       "\u001b[36mres23_1\u001b[39m: (\u001b[32mInt\u001b[39m, \u001b[32mInt\u001b[39m) = (\u001b[32m6\u001b[39m, \u001b[32m6\u001b[39m)"
      ]
     },
     "execution_count": 24,
     "metadata": {},
     "output_type": "execute_result"
    }
   ],
   "source": [
    "/*\n",
    "    below are tests for our factorial solutions defined above\n",
    "    You'll have to run the definitions of factorialSimple and factorialTail before these\n",
    "    tests will work\n",
    "    \n",
    "    For now, you don't need to know how this test works. Just look at the output.\n",
    "    these are not the best helpers... they're here to show you things you could** do\n",
    "    If you are interested, try to figure out why this test works\n",
    "    If you use this for any of your own work, you should site where you found it\n",
    " */\n",
    "def test() = {\n",
    "    def testOne[A,B,C](description:String, f:A => B, in: A, expected: B, fc:() => C):Boolean= {\n",
    "        println(description)\n",
    "        val out = try {\n",
    "                val got = f(in)\n",
    "                if (got == expected) {\n",
    "                    println(\"\\tPASSED\")\n",
    "                    true\n",
    "                } else {\n",
    "                    println(s\"\\tEXPECTED : $expected\")\n",
    "                    println(s\"\\tFOUND    : $got\")\n",
    "                    false\n",
    "                }\n",
    "            } catch {\n",
    "                case _:Throwable => {\n",
    "                    fc()\n",
    "                    false\n",
    "                }\n",
    "            }\n",
    "        out\n",
    "    }\n",
    "    def testManyFibs[A](tests:List[(String, () => A, A)]):(Int,Int) = {\n",
    "        val out@(success, total) = tests.foldLeft((0,0)) {\n",
    "            case ((success, total), (description, f, expected)) => {\n",
    "                val b = testOne(description, (n:Int) => f(), 1, expected, () => println(\"XXXXXXXX 500 ERROR\"))\n",
    "                if (b) {\n",
    "                    (success + 1, total + 1)\n",
    "                } else {\n",
    "                    (success, total + 1)\n",
    "                }\n",
    "            }\n",
    "        }\n",
    "        \n",
    "        println(\"\\n\\n\")\n",
    "        if (success == total) {\n",
    "            println(\"ALL PASSED!\")\n",
    "            println(\"TODO: enter some sweet ascii art!!!\")\n",
    "        } else {\n",
    "            println(\"\\n\\n\")\n",
    "            println(s\"You only passed $success of $total test cases\")\n",
    "            println(\"I'm not mad... I'm just disappointed\")\n",
    "        }\n",
    "        \n",
    "        out\n",
    "    }\n",
    "    \n",
    "    val t1 = (\"base case 0\", () => factorialSimple(0), 1)\n",
    "    val t2 = (\"base case 1\", () => factorialSimple(1), 1)\n",
    "    val t3 = (\"inductive case 3\", () => factorialSimple(3), 6)\n",
    "    val t4 = (\"base case 0\", () => factorialTail(0), 1)\n",
    "    val t5 = (\"base case 1\", () => factorialTail(1), 1)\n",
    "    val t6 = (\"inductive case 3\", () => factorialTail(3), 6)\n",
    "    \n",
    "    val tests = List(t1,t2,t3,t4,t5,t6)\n",
    "    \n",
    "    testManyFibs(tests)\n",
    "}\n",
    "\n",
    "test()"
   ]
  },
  {
   "cell_type": "markdown",
   "metadata": {},
   "source": [
    "> Dbl click for space\n",
    "\n",
    "> ctrl enter to collapse\n",
    "\n",
    "\n",
    "\n",
    "\n",
    "\n",
    "\n",
    "\n",
    "\n",
    "\n",
    "\n",
    "\n",
    "\n"
   ]
  },
  {
   "cell_type": "markdown",
   "metadata": {},
   "source": [
    "#### Try it yourself\n",
    "* Ill keep the example of tail recursive factorial on the board\n",
    "* Solve factorial using tail recursion\n",
    "* Test your work"
   ]
  },
  {
   "cell_type": "code",
   "execution_count": 12,
   "metadata": {},
   "outputs": [
    {
     "data": {
      "text/plain": [
       "defined \u001b[32mfunction\u001b[39m \u001b[36mfibSimple\u001b[39m\n",
       "defined \u001b[32mfunction\u001b[39m \u001b[36mfibTail\u001b[39m"
      ]
     },
     "execution_count": 12,
     "metadata": {},
     "output_type": "execute_result"
    }
   ],
   "source": [
    "def fibSimple(n:Int):Int = {\n",
    "    require(n >= 0)\n",
    "    def fib(n:Int):Int = n match {\n",
    "        case 0 | 1 => 1\n",
    "        case _ => fib(n - 1) + fib(n - 2)\n",
    "    }\n",
    "    fib(n)\n",
    "}\n",
    "\n",
    "def fibTail(n:Int):Int = {\n",
    "    require (n >= 0)\n",
    "    // define fib correctly\n",
    "    def fib(n:Int, part:Int):Int = 2\n",
    "    // make an initial call to fib rather than just returning 1\n",
    "    1\n",
    "}"
   ]
  },
  {
   "cell_type": "code",
   "execution_count": 67,
   "metadata": {},
   "outputs": [
    {
     "data": {
      "text/plain": [
       "defined \u001b[32mfunction\u001b[39m \u001b[36mdisplTo100\u001b[39m\n",
       "defined \u001b[32mfunction\u001b[39m \u001b[36mdisplTo100Tail\u001b[39m"
      ]
     },
     "execution_count": 67,
     "metadata": {},
     "output_type": "execute_result"
    }
   ],
   "source": [
    "def displTo100(): Unit = {\n",
    "    def help(n:Int): String = n match {\n",
    "        case 1 => \"1\"\n",
    "        case _ => {\n",
    "            val head = help(n-1)\n",
    "            s\"$head\\n$n\"\n",
    "        }\n",
    "    }\n",
    "    println(help(100))\n",
    "}\n",
    "\n",
    "def displTo100Tail(): Unit = {\n",
    "    def help(n:Int, part:String): String = n match {\n",
    "        case 1 => part\n",
    "        case _ => {\n",
    "            val head = help(n-1, (part.toInt + 1).toString)\n",
    "            s\"$part\\n$head\"\n",
    "        }\n",
    "    }\n",
    "    println(help(100, \"1\"))\n",
    "}"
   ]
  },
  {
   "cell_type": "code",
   "execution_count": 68,
   "metadata": {},
   "outputs": [
    {
     "name": "stdout",
     "output_type": "stream",
     "text": [
      "1\n",
      "2\n",
      "3\n",
      "4\n",
      "5\n",
      "6\n",
      "7\n",
      "8\n",
      "9\n",
      "10\n",
      "11\n",
      "12\n",
      "13\n",
      "14\n",
      "15\n",
      "16\n",
      "17\n",
      "18\n",
      "19\n",
      "20\n",
      "21\n",
      "22\n",
      "23\n",
      "24\n",
      "25\n",
      "26\n",
      "27\n",
      "28\n",
      "29\n",
      "30\n",
      "31\n",
      "32\n",
      "33\n",
      "34\n",
      "35\n",
      "36\n",
      "37\n",
      "38\n",
      "39\n",
      "40\n",
      "41\n",
      "42\n",
      "43\n",
      "44\n",
      "45\n",
      "46\n",
      "47\n",
      "48\n",
      "49\n",
      "50\n",
      "51\n",
      "52\n",
      "53\n",
      "54\n",
      "55\n",
      "56\n",
      "57\n",
      "58\n",
      "59\n",
      "60\n",
      "61\n",
      "62\n",
      "63\n",
      "64\n",
      "65\n",
      "66\n",
      "67\n",
      "68\n",
      "69\n",
      "70\n",
      "71\n",
      "72\n",
      "73\n",
      "74\n",
      "75\n",
      "76\n",
      "77\n",
      "78\n",
      "79\n",
      "80\n",
      "81\n",
      "82\n",
      "83\n",
      "84\n",
      "85\n",
      "86\n",
      "87\n",
      "88\n",
      "89\n",
      "90\n",
      "91\n",
      "92\n",
      "93\n",
      "94\n",
      "95\n",
      "96\n",
      "97\n",
      "98\n",
      "99\n",
      "100\n"
     ]
    }
   ],
   "source": [
    "displTo100Tail"
   ]
  },
  {
   "cell_type": "markdown",
   "metadata": {},
   "source": [
    "> Dbl click for space\n",
    "\n",
    "> ctrl enter to collapse\n",
    "\n",
    "\n",
    "\n",
    "\n",
    "\n",
    "\n",
    "\n",
    "\n",
    "\n",
    "\n",
    "\n",
    "\n"
   ]
  },
  {
   "cell_type": "markdown",
   "metadata": {},
   "source": [
    "#### Next steps\n",
    "If you are particularly interested in this, or if you solved homework 1 in a record time, consider resolving homework 1 using tail recursion. \n",
    "\n",
    "Already solved it with Tail recursion? Try solving using the other kind of recursion that we have covered so far."
   ]
  },
  {
   "cell_type": "markdown",
   "metadata": {},
   "source": [
    "> Dbl click for space\n",
    "\n",
    "> ctrl enter to collapse\n",
    "\n",
    "\n",
    "\n",
    "\n",
    "\n",
    "\n",
    "\n",
    "\n",
    "\n",
    "\n",
    "\n",
    "\n"
   ]
  },
  {
   "cell_type": "markdown",
   "metadata": {
    "collapsed": true
   },
   "source": [
    "## TODO\n",
    "* THURSDAYs lecture 01/24 I'll answer any outstanding questions you have on the JNs readings for week 1 and 2 on Moodle. As time permits, we'll have some exercises to try out.\n",
    "* See Moodle for recommended readings. As needed look around for supplemental material including video resources (post those resources to piazza if you're comfortable)\n",
    "* Continue to work through Homework 1\n",
    "    * As you have questions, ask on piazza\n",
    "    * If you need help, try an office hour\n",
    "* Homework 1 and quiz 1 are due this week\n",
    "* Homework 2 and quiz 2 will go live this week\n"
   ]
  },
  {
   "cell_type": "markdown",
   "metadata": {},
   "source": [
    "> Dbl click for space\n",
    "\n",
    "> ctrl enter to collapse\n",
    "\n",
    "\n",
    "\n",
    "\n",
    "\n",
    "\n",
    "\n",
    "\n",
    "\n",
    "\n",
    "\n",
    "\n"
   ]
  }
 ],
 "metadata": {
  "anaconda-cloud": {},
  "kernelspec": {
   "display_name": "Scala",
   "language": "scala",
   "name": "scala"
  },
  "language_info": {
   "codemirror_mode": "text/x-scala",
   "file_extension": ".scala",
   "mimetype": "text/x-scala",
   "name": "scala",
   "nbconvert_exporter": "script",
   "version": "2.12.8"
  }
 },
 "nbformat": 4,
 "nbformat_minor": 1
}
