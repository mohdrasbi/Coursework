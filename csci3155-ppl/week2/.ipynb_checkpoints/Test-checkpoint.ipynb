{
 "cells": [
  {
   "cell_type": "markdown",
   "metadata": {},
   "source": [
    "##### Definition of a set of stuff(list of numbers):\n",
    "List -> Nil<br>\n",
    "List -> Cons(ScalaIntegers, List)<br>\n",
    "List -> ConsL(List, List)<br>"
   ]
  },
  {
   "cell_type": "code",
   "execution_count": 24,
   "metadata": {},
   "outputs": [
    {
     "data": {
      "text/plain": [
       "defined \u001b[32mtrait\u001b[39m \u001b[36mList\u001b[39m\n",
       "defined \u001b[32mobject\u001b[39m \u001b[36mNil\u001b[39m\n",
       "defined \u001b[32mclass\u001b[39m \u001b[36mCons\u001b[39m\n",
       "defined \u001b[32mclass\u001b[39m \u001b[36mConsL\u001b[39m"
      ]
     },
     "execution_count": 24,
     "metadata": {},
     "output_type": "execute_result"
    }
   ],
   "source": [
    "//trait similar to abstract class (usually we are not meant to create them)\n",
    "//sealed means that everything that inherits from the trait should be in the same file\n",
    "sealed trait List //nonterminal\n",
    "// case class Nil() extends List //List -> Nil\n",
    "case object Nil extends List // same is above\n",
    "case class Cons(j: Int, l: List) extends List //Cons(Int, List)\n",
    "case class ConsL(ll: List, l2: List) extends List //ConsL(List, List)"
   ]
  },
  {
   "cell_type": "code",
   "execution_count": 25,
   "metadata": {},
   "outputs": [
    {
     "data": {
      "text/plain": [
       "\u001b[36ml1\u001b[39m: \u001b[32mNil\u001b[39m = Nil"
      ]
     },
     "execution_count": 25,
     "metadata": {},
     "output_type": "execute_result"
    }
   ],
   "source": [
    "//because it is case class, no need to type val l1 = new Nil()\n",
    "val l1 = Nil\n"
   ]
  },
  {
   "cell_type": "code",
   "execution_count": 26,
   "metadata": {},
   "outputs": [
    {
     "data": {
      "text/plain": [
       "\u001b[36ml2\u001b[39m: \u001b[32mCons\u001b[39m = \u001b[33mCons\u001b[39m(\u001b[32m25\u001b[39m, \u001b[33mCons\u001b[39m(\u001b[32m24\u001b[39m, \u001b[33mCons\u001b[39m(\u001b[32m12\u001b[39m, Nil)))"
      ]
     },
     "execution_count": 26,
     "metadata": {},
     "output_type": "execute_result"
    }
   ],
   "source": [
    "val l2 = Cons(25, Cons(24, Cons(12, Nil)))"
   ]
  },
  {
   "cell_type": "code",
   "execution_count": 27,
   "metadata": {},
   "outputs": [
    {
     "data": {
      "text/plain": [
       "\u001b[36ml3\u001b[39m: \u001b[32mCons\u001b[39m = \u001b[33mCons\u001b[39m(\u001b[32m1\u001b[39m, Nil)"
      ]
     },
     "execution_count": 27,
     "metadata": {},
     "output_type": "execute_result"
    }
   ],
   "source": [
    "val l3 = Cons(1, Nil)"
   ]
  },
  {
   "cell_type": "code",
   "execution_count": 28,
   "metadata": {},
   "outputs": [
    {
     "data": {
      "text/plain": [
       "\u001b[36ml4\u001b[39m: \u001b[32mConsL\u001b[39m = \u001b[33mConsL\u001b[39m(\u001b[33mCons\u001b[39m(\u001b[32m1\u001b[39m, Nil), \u001b[33mCons\u001b[39m(\u001b[32m25\u001b[39m, \u001b[33mCons\u001b[39m(\u001b[32m24\u001b[39m, \u001b[33mCons\u001b[39m(\u001b[32m12\u001b[39m, Nil))))"
      ]
     },
     "execution_count": 28,
     "metadata": {},
     "output_type": "execute_result"
    }
   ],
   "source": [
    "val l4 = ConsL(l3, l2)"
   ]
  },
  {
   "cell_type": "code",
   "execution_count": 29,
   "metadata": {},
   "outputs": [
    {
     "data": {
      "text/plain": [
       "\u001b[36ml5\u001b[39m: \u001b[32mConsL\u001b[39m = \u001b[33mConsL\u001b[39m(\n",
       "  \u001b[33mConsL\u001b[39m(\u001b[33mCons\u001b[39m(\u001b[32m1\u001b[39m, Nil), \u001b[33mCons\u001b[39m(\u001b[32m25\u001b[39m, \u001b[33mCons\u001b[39m(\u001b[32m24\u001b[39m, \u001b[33mCons\u001b[39m(\u001b[32m12\u001b[39m, Nil)))),\n",
       "  \u001b[33mConsL\u001b[39m(\u001b[33mCons\u001b[39m(\u001b[32m1\u001b[39m, Nil), \u001b[33mCons\u001b[39m(\u001b[32m25\u001b[39m, \u001b[33mCons\u001b[39m(\u001b[32m24\u001b[39m, \u001b[33mCons\u001b[39m(\u001b[32m12\u001b[39m, Nil))))\n",
       ")"
      ]
     },
     "execution_count": 29,
     "metadata": {},
     "output_type": "execute_result"
    }
   ],
   "source": [
    "val l5 = ConsL(l4, l4)"
   ]
  },
  {
   "cell_type": "markdown",
   "metadata": {},
   "source": [
    "##### Definition of binary trees of numebrs:\n",
    "Tree -> Leaf<br>\n",
    "Tree -> Node(scalaInteger, Tree, Tree)<br>\n",
    "Start symbol is Tree"
   ]
  },
  {
   "cell_type": "code",
   "execution_count": 30,
   "metadata": {},
   "outputs": [
    {
     "data": {
      "text/plain": [
       "defined \u001b[32mtrait\u001b[39m \u001b[36mTree\u001b[39m\n",
       "defined \u001b[32mobject\u001b[39m \u001b[36mLeaf\u001b[39m\n",
       "defined \u001b[32mclass\u001b[39m \u001b[36mNode\u001b[39m"
      ]
     },
     "execution_count": 30,
     "metadata": {},
     "output_type": "execute_result"
    }
   ],
   "source": [
    "sealed trait Tree\n",
    "case object Leaf extends Tree\n",
    "case class Node (j: Int, t1: Tree, t2: Tree) extends Tree"
   ]
  },
  {
   "cell_type": "code",
   "execution_count": 31,
   "metadata": {},
   "outputs": [
    {
     "data": {
      "text/plain": [
       "\u001b[36mt1\u001b[39m: \u001b[32mLeaf\u001b[39m = Leaf"
      ]
     },
     "execution_count": 31,
     "metadata": {},
     "output_type": "execute_result"
    }
   ],
   "source": [
    "val t1 = Leaf"
   ]
  },
  {
   "cell_type": "code",
   "execution_count": 32,
   "metadata": {},
   "outputs": [
    {
     "data": {
      "text/plain": [
       "\u001b[36mt2\u001b[39m: \u001b[32mNode\u001b[39m = \u001b[33mNode\u001b[39m(\u001b[32m15\u001b[39m, Leaf, \u001b[33mNode\u001b[39m(\u001b[32m25\u001b[39m, Leaf, Leaf))"
      ]
     },
     "execution_count": 32,
     "metadata": {},
     "output_type": "execute_result"
    }
   ],
   "source": [
    "val t2 = Node(15, Leaf, Node(25, Leaf, Leaf))"
   ]
  }
 ],
 "metadata": {
  "kernelspec": {
   "display_name": "Scala",
   "language": "scala",
   "name": "scala"
  },
  "language_info": {
   "codemirror_mode": "text/x-scala",
   "file_extension": ".scala",
   "mimetype": "text/x-scala",
   "name": "scala",
   "nbconvert_exporter": "script",
   "version": "2.12.8"
  }
 },
 "nbformat": 4,
 "nbformat_minor": 2
}
