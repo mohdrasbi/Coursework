{
 "cells": [
  {
   "cell_type": "markdown",
   "metadata": {
    "nbgrader": {
     "grade": false,
     "grade_id": "cell-e4ec8e4f42d06d14",
     "locked": true,
     "schema_version": 1,
     "solution": false
    }
   },
   "source": [
    "# Recitation 4\n",
    "Topics: Anonymous Functions, Semantics, Scoping"
   ]
  },
  {
   "cell_type": "markdown",
   "metadata": {
    "nbgrader": {
     "grade": false,
     "grade_id": "cell-b8df8cb319677f2a",
     "locked": true,
     "schema_version": 1,
     "solution": false
    }
   },
   "source": [
    "## Anonymous functions\n",
    "\n",
    "Syntax:\n",
    "```\n",
    "Scala:  (param1, param2) => expression\n",
    "Python: lambda param1, param2: expression\n",
    "Java:   (param1, param2) -> expression\n",
    "```"
   ]
  },
  {
   "cell_type": "markdown",
   "metadata": {
    "nbgrader": {
     "grade": false,
     "grade_id": "cell-79c2a81c668fa9d0",
     "locked": true,
     "schema_version": 1,
     "solution": false
    }
   },
   "source": [
    "### Exercise: Anonymous func intro\n",
    "Make anonymous functions that perform the requested operations. (Ok, we're putting them in variables, so they're not quite \"anonymous\")\n",
    "\n",
    "**WARNING**: `return` doesn't do what you expect in anonymous functions: https://stackoverflow.com/questions/17754976/scala-return-statements-in-anonymous-functions"
   ]
  },
  {
   "cell_type": "code",
   "execution_count": 1,
   "metadata": {
    "nbgrader": {
     "grade": false,
     "grade_id": "cell-ac54b03388c07a84",
     "locked": false,
     "schema_version": 1,
     "solution": true
    }
   },
   "outputs": [
    {
     "name": "stdout",
     "output_type": "stream",
     "text": [
      "hi0\n",
      "hi1\n",
      "hi2\n",
      "hi3\n",
      "hi4\n",
      "hi5\n",
      "hi6\n",
      "hi7\n",
      "hi8\n",
      "hi9\n"
     ]
    },
    {
     "data": {
      "text/plain": [
       "\u001b[36mis_one\u001b[39m: \u001b[32mInt\u001b[39m => \u001b[32mBoolean\u001b[39m = <function1>\n",
       "\u001b[36mis_one_underscore\u001b[39m: \u001b[32mInt\u001b[39m => \u001b[32mBoolean\u001b[39m = <function1>\n",
       "\u001b[36mis_one_pattern\u001b[39m: \u001b[32mInt\u001b[39m => \u001b[32mBoolean\u001b[39m = <function1>\n",
       "\u001b[36mis_one_pattern_short\u001b[39m: \u001b[32mInt\u001b[39m => \u001b[32mBoolean\u001b[39m = <function1>\n",
       "\u001b[36madd\u001b[39m: (\u001b[32mInt\u001b[39m, \u001b[32mInt\u001b[39m) => \u001b[32mInt\u001b[39m = <function2>\n",
       "\u001b[36mmake_adder\u001b[39m: \u001b[32mInt\u001b[39m => \u001b[32mInt\u001b[39m => \u001b[32mInt\u001b[39m = <function1>\n",
       "\u001b[36mcall_on_3\u001b[39m: \u001b[32mInt\u001b[39m => \u001b[32mInt\u001b[39m => \u001b[32mInt\u001b[39m = <function1>\n",
       "\u001b[36mfunc_with_loop\u001b[39m: \u001b[32mInt\u001b[39m => \u001b[32mUnit\u001b[39m = <function1>"
      ]
     },
     "execution_count": 1,
     "metadata": {},
     "output_type": "execute_result"
    }
   ],
   "source": [
    "// Returns true if input is 1, false otherwise\n",
    "// BEGIN SOLUTION\n",
    "val is_one:            (Int) => Boolean = x => x == 1\n",
    "val is_one_underscore: (Int) => Boolean = _ == 1 // (alternative) Shorthand underscore match syntax\n",
    "// END SOLUTION\n",
    "assert(is_one(1))\n",
    "assert(!is_one(2))\n",
    "\n",
    "// new: pattern matching\n",
    "// Returns true if input is 1, false otherwise *using patterrn matching*\n",
    "// BEGIN SOLUTION\n",
    "val is_one_pattern:       (Int) => Boolean = x => x match {\n",
    "    case 1 => true\n",
    "    case _ => false\n",
    "}\n",
    "val is_one_pattern_short: (Int) => Boolean = { // (alternative) Shorthand pattern match syntax `x => x match` is assumed if you have cases\n",
    "    case 1 => true\n",
    "    case _ => false\n",
    "}\n",
    "// END SOLUTION\n",
    "assert(is_one_pattern(1))\n",
    "assert(!is_one_pattern(2))\n",
    "\n",
    "// new: multi-param\n",
    "// Returns the addition of the inputs\n",
    "// BEGIN SOLUTION\n",
    "val add: (Int, Int) => Int = (x, y) => x + y\n",
    "// END SOLUTION\n",
    "assert(add(1, 2) == 3)\n",
    "\n",
    "// new: return funcs\n",
    "// Returns a function that adds the numbers to it's input\n",
    "// BEGIN SOLUTION\n",
    "val make_adder: Int => Int => Int = x => y => x + y // Also can be thought of as a curried add function\n",
    "// END SOLUTION\n",
    "assert(make_adder(1)(2) == 3)\n",
    "\n",
    "// new: take funcs\n",
    "// Takes a function and applies it to 3\n",
    "// BEGIN SOLUTION\n",
    "val call_on_3: (Int => Int) => Int = f => f(3)\n",
    "// END SOLUTION\n",
    "assert(call_on_3((x) => x + 5) == 8)\n",
    "\n",
    "// new: statements\n",
    "// Any anonymous function with a loop in it\n",
    "// BEGIN SOLUTION\n",
    "val func_with_loop: (Int) => Unit = x => {\n",
    "    for (i <- 0 until x) {\n",
    "        println(\"hi\"+ i.toString)\n",
    "    }\n",
    "}\n",
    "// END SOLUTION\n",
    "func_with_loop(10)"
   ]
  },
  {
   "cell_type": "markdown",
   "metadata": {
    "nbgrader": {
     "grade": false,
     "grade_id": "cell-d2b8230885a2e1a4",
     "locked": true,
     "schema_version": 1,
     "solution": false
    }
   },
   "source": [
    "### Exercise: Mini interpreter\n",
    "Implement the function below to apply the operations, from left to right of the list to the input by passing an anonymous function to fold"
   ]
  },
  {
   "cell_type": "code",
   "execution_count": 2,
   "metadata": {
    "nbgrader": {
     "grade": false,
     "grade_id": "cell-6b837257055969c3",
     "locked": false,
     "schema_version": 1,
     "solution": true
    }
   },
   "outputs": [
    {
     "data": {
      "text/plain": [
       "defined \u001b[32mtrait\u001b[39m \u001b[36mOperation\u001b[39m\n",
       "defined \u001b[32mclass\u001b[39m \u001b[36mPlus\u001b[39m\n",
       "defined \u001b[32mclass\u001b[39m \u001b[36mMinus\u001b[39m\n",
       "defined \u001b[32mclass\u001b[39m \u001b[36mPow\u001b[39m\n",
       "defined \u001b[32mclass\u001b[39m \u001b[36mNestedOps\u001b[39m\n",
       "defined \u001b[32mobject\u001b[39m \u001b[36mSin\u001b[39m\n",
       "defined \u001b[32mfunction\u001b[39m \u001b[36mperform_ops_loop\u001b[39m\n",
       "defined \u001b[32mfunction\u001b[39m \u001b[36mperform_ops_rec\u001b[39m\n",
       "defined \u001b[32mfunction\u001b[39m \u001b[36mperform_ops\u001b[39m"
      ]
     },
     "execution_count": 2,
     "metadata": {},
     "output_type": "execute_result"
    }
   ],
   "source": [
    "sealed trait Operation\n",
    "case class Plus(n: Double) extends Operation\n",
    "case class Minus(n: Double) extends Operation\n",
    "case class Pow(n: Double) extends Operation\n",
    "case class NestedOps(ops: List[Operation]) extends Operation\n",
    "case object Sin extends Operation\n",
    "\n",
    "// Version 1: Loop with acc\n",
    "def perform_ops_loop(init: Double, steps: List[Operation]): Double = {\n",
    "    var v = init\n",
    "    for (ops <- steps) {\n",
    "        v = { ops match {\n",
    "            case Plus(n) => v + n\n",
    "            case Minus(n) => v - n\n",
    "            case Pow(n) => math.pow(v, n)\n",
    "            case NestedOps(ops) => perform_ops_loop(v, ops)\n",
    "            case Sin => math.sin(v)\n",
    "            }\n",
    "        }\n",
    "    }\n",
    "    return v\n",
    "}\n",
    "\n",
    "// Version 2: Using recursion\n",
    "def perform_ops_rec(v: Double, steps: List[Operation]): Double = {\n",
    "    if (steps.length == 0) v\n",
    "    else {\n",
    "        val o = steps.head\n",
    "        val rest = steps.tail\n",
    "        o match {\n",
    "            case Plus(n) => perform_ops_rec(v + n, rest)\n",
    "            case Minus(n) => perform_ops_rec(v - n, rest)\n",
    "            case Pow(n) => perform_ops_rec(math.pow(v, n), rest)\n",
    "            case NestedOps(ops) => perform_ops_rec( perform_ops_rec(v, ops), rest)\n",
    "            case Sin => perform_ops_rec(math.sin(v), rest)\n",
    "        }\n",
    "    }\n",
    "}\n",
    "// Version 3: using foldLeft\n",
    "def perform_ops(init: Double, steps: List[Operation]): Double =\n",
    "    steps.foldLeft(init)(\n",
    "        (acc, op) => op match {\n",
    "            case Plus(n) => acc + n\n",
    "            case Minus(n) => acc - n\n",
    "            case Pow(n) => Math.pow(acc, n)\n",
    "            case NestedOps(ops) => perform_ops(acc, ops)\n",
    "            case Sin => Math.sin(acc)\n",
    "        }\n",
    "    )\n",
    "\n",
    "assert(perform_ops(5, List(Plus(5), Pow(2), NestedOps(List(Minus(3))))) == 97)"
   ]
  },
  {
   "cell_type": "markdown",
   "metadata": {},
   "source": [
    "### Exercise: Operartional semantics\n",
    "Write inference rules to define `Plus` and `NestedOps` (on paper)."
   ]
  },
  {
   "cell_type": "markdown",
   "metadata": {},
   "source": [
    "#### Answer:\n",
    "\n",
    "$$\n",
    "\\newcommand{\\cons}[2]{\\texttt{#1(}#2\\texttt{)}}\n",
    "\\begin{array}{c}\n",
    "init + n = n' \\\\\n",
    "perform\\_ops(n', rest\\_ops) = n'' \\\\\n",
    "\\hline\n",
    "perform\\_ops(init,\\ \\cons{Plus}{n} :: rest\\_ops) = n'' \\\\\n",
    "\\end{array} \\text{(plus)}\n",
    "$$\n",
    "\n",
    "\n",
    "\n",
    "$$\n",
    "\\begin{array}{c}\n",
    "perform\\_ops(init,\\ ops) = n'  \\\\\n",
    "perform\\_ops(n', rest\\_ops) = n'' \\\\\n",
    "\\hline\n",
    "perform\\_ops(init,\\ \\cons{NestedOps}{ops}) :: rest\\_ops = n'' \\\\\n",
    "\\end{array} \\text{(nested ops)}\n",
    "$$"
   ]
  },
  {
   "cell_type": "markdown",
   "metadata": {
    "nbgrader": {
     "grade": false,
     "grade_id": "cell-5a645649cac30f2f",
     "locked": true,
     "schema_version": 1,
     "solution": false
    }
   },
   "source": [
    "### Exercise: Sort\n",
    "Don't worry, you don't have to write quick-sort. Use Scala's built in `sortWith` to sort food in the requested ways with anonymous functions.\n",
    "\n",
    "```scala\n",
    "// Method of list class\n",
    "def sortWith(lt: (A, A) ⇒ Boolean): List[A]\n",
    "```"
   ]
  },
  {
   "cell_type": "code",
   "execution_count": 3,
   "metadata": {},
   "outputs": [
    {
     "data": {
      "text/plain": [
       "defined \u001b[32mclass\u001b[39m \u001b[36mFood\u001b[39m\n",
       "\u001b[36mdonut\u001b[39m: \u001b[32mFood\u001b[39m = \u001b[33mFood\u001b[39m(\u001b[32m300.0\u001b[39m, \u001b[32m1.5\u001b[39m)\n",
       "\u001b[36mgoat_cheese_spinach_kale_and_soy_infused_kombucha\u001b[39m: \u001b[32mFood\u001b[39m = \u001b[33mFood\u001b[39m(\u001b[32m-50.0\u001b[39m, \u001b[32m1000.0\u001b[39m)\n",
       "\u001b[36mbuffalo_chicken_pizza\u001b[39m: \u001b[32mFood\u001b[39m = \u001b[33mFood\u001b[39m(\u001b[32m500.0\u001b[39m, \u001b[32m20.0\u001b[39m)\n",
       "\u001b[36mmenu\u001b[39m: \u001b[32mList\u001b[39m[\u001b[32mFood\u001b[39m] = \u001b[33mList\u001b[39m(\u001b[33mFood\u001b[39m(\u001b[32m300.0\u001b[39m, \u001b[32m1.5\u001b[39m), \u001b[33mFood\u001b[39m(\u001b[32m-50.0\u001b[39m, \u001b[32m1000.0\u001b[39m), \u001b[33mFood\u001b[39m(\u001b[32m500.0\u001b[39m, \u001b[32m20.0\u001b[39m))\n",
       "\u001b[36msorted_by_calories\u001b[39m: \u001b[32mList\u001b[39m[\u001b[32mFood\u001b[39m] = \u001b[33mList\u001b[39m(\u001b[33mFood\u001b[39m(\u001b[32m-50.0\u001b[39m, \u001b[32m1000.0\u001b[39m), \u001b[33mFood\u001b[39m(\u001b[32m300.0\u001b[39m, \u001b[32m1.5\u001b[39m), \u001b[33mFood\u001b[39m(\u001b[32m500.0\u001b[39m, \u001b[32m20.0\u001b[39m))\n",
       "\u001b[36msorted_by_price\u001b[39m: \u001b[32mList\u001b[39m[\u001b[32mFood\u001b[39m] = \u001b[33mList\u001b[39m(\u001b[33mFood\u001b[39m(\u001b[32m300.0\u001b[39m, \u001b[32m1.5\u001b[39m), \u001b[33mFood\u001b[39m(\u001b[32m500.0\u001b[39m, \u001b[32m20.0\u001b[39m), \u001b[33mFood\u001b[39m(\u001b[32m-50.0\u001b[39m, \u001b[32m1000.0\u001b[39m))"
      ]
     },
     "execution_count": 3,
     "metadata": {},
     "output_type": "execute_result"
    }
   ],
   "source": [
    "case class Food(val calories: Double, val price: Double) // Like a sealed trait with fields\n",
    "\n",
    "val donut = Food(300, 1.50)\n",
    "val goat_cheese_spinach_kale_and_soy_infused_kombucha = Food(-50, 1000)\n",
    "val buffalo_chicken_pizza = Food(500, 20)\n",
    "\n",
    "val menu = List(donut, goat_cheese_spinach_kale_and_soy_infused_kombucha, buffalo_chicken_pizza)\n",
    "\n",
    "// BEGIN SOLUTION\n",
    "val sorted_by_calories = menu.sortWith((f1, f2) => f1.calories < f2.calories)\n",
    "val sorted_by_price = menu.sortWith((f1, f2) => f1.price < f2.price)\n",
    "// END SOLUTION\n",
    "\n",
    "assert(sorted_by_calories == List(goat_cheese_spinach_kale_and_soy_infused_kombucha, donut, buffalo_chicken_pizza))\n",
    "assert(sorted_by_price == List(donut, buffalo_chicken_pizza, goat_cheese_spinach_kale_and_soy_infused_kombucha))"
   ]
  },
  {
   "cell_type": "markdown",
   "metadata": {
    "nbgrader": {
     "grade": false,
     "grade_id": "cell-90a1c627f767f6d6",
     "locked": true,
     "schema_version": 1,
     "solution": false
    }
   },
   "source": [
    "## Scoping"
   ]
  },
  {
   "cell_type": "markdown",
   "metadata": {
    "nbgrader": {
     "grade": false,
     "grade_id": "cell-ef512cdfe58014fd",
     "locked": true,
     "schema_version": 1,
     "solution": false
    }
   },
   "source": [
    "###  Exercise: Lettuce concrete syntax scoping\n",
    "For each variable use below, match each use with its declaration.\n",
    "Numbers are used to label uses, capital leters are used to label declarations."
   ]
  },
  {
   "cell_type": "markdown",
   "metadata": {},
   "source": [
    "```\n",
    "let a = 5 in\n",
    "    A\n",
    "\n",
    "    let b = a in\n",
    "        B   1\n",
    "\n",
    "        let a = b in a + b\n",
    "            C   2    3   4\n",
    "```"
   ]
  },
  {
   "cell_type": "markdown",
   "metadata": {},
   "source": [
    "\n",
    "| Use | Declaration|\n",
    "|-----|------------|\n",
    "|1| A|\n",
    "|2| B|\n",
    "|3| C|\n",
    "|4| B|"
   ]
  },
  {
   "cell_type": "markdown",
   "metadata": {},
   "source": [
    "```\n",
    "let a = function(a)\n",
    "    A            B\n",
    "    \n",
    "            let a = a in\n",
    "                C   1\n",
    "                \n",
    "                a(5) + 4\n",
    "                2\n",
    "\n",
    "    in\n",
    "\n",
    "        function(b)\n",
    "                 D\n",
    "\n",
    "            let a = a(let a = 5 in a) in\n",
    "                E   3     F        4\n",
    "\n",
    "                a(a(b))\n",
    "                5 6 7\n",
    "```"
   ]
  },
  {
   "cell_type": "markdown",
   "metadata": {},
   "source": [
    "| Use | Declaration|\n",
    "|-----|------------|\n",
    "|1| B|\n",
    "|2| C|\n",
    "|3| A|\n",
    "|4| F|\n",
    "|5| E|\n",
    "|6| E|\n",
    "|7| D|"
   ]
  },
  {
   "cell_type": "markdown",
   "metadata": {},
   "source": [
    "###  Exercise: Lettuce abstract syntax scoping\n",
    "For each variable use below, match each use with its declaration.\n",
    "Numbers are used to label uses, capital leters are used to label declarations."
   ]
  },
  {
   "cell_type": "markdown",
   "metadata": {},
   "source": [
    "```\n",
    "Let(\"x\",\n",
    "     A\n",
    "\n",
    "    Let(\"f\",\n",
    "         B\n",
    "         \n",
    "        FunDef(\"y\"\n",
    "                C\n",
    "        \n",
    "               Plus(Ident(\"x\"), Ident(\"y\")))\n",
    "                           1          2\n",
    "               \n",
    "        FunCall(Ident(\"f\"), Const(3))),\n",
    "                       3\n",
    "                       \n",
    "    Let(\"y\",\n",
    "         D\n",
    "    \n",
    "        Ident(\"x\"),\n",
    "               4\n",
    "\n",
    "        FunCall(Ident(\"f\"), Ident(\"y\"))))\n",
    "                       5           6\n",
    "```"
   ]
  },
  {
   "cell_type": "markdown",
   "metadata": {},
   "source": [
    "| Use | Declaration|\n",
    "|-----|------------|\n",
    "|1| A|\n",
    "|2| C|\n",
    "|3| B|\n",
    "|4| A|\n",
    "|5| Error (out of scope, not defined)|\n",
    "|6| D|"
   ]
  },
  {
   "cell_type": "markdown",
   "metadata": {
    "nbgrader": {
     "grade": false,
     "grade_id": "cell-4cb09471788ab656",
     "locked": true,
     "schema_version": 1,
     "solution": false
    }
   },
   "source": [
    "###  Exercise: Scala concrete syntax scoping\n",
    "For each variable use below, match each use with its declaration.\n",
    "Numbers are used to label uses, capital leters are used to label declarations."
   ]
  },
  {
   "cell_type": "code",
   "execution_count": 4,
   "metadata": {
    "scrolled": true
   },
   "outputs": [
    {
     "data": {
      "text/plain": [
       "\u001b[36mx\u001b[39m: \u001b[32mInt\u001b[39m = \u001b[32m5\u001b[39m\n",
       "\u001b[36my\u001b[39m: \u001b[32mInt\u001b[39m = \u001b[32m8\u001b[39m\n",
       "\u001b[36mf2\u001b[39m: \u001b[32mInt\u001b[39m => \u001b[32mInt\u001b[39m => \u001b[32mInt\u001b[39m = <function1>\n",
       "\u001b[36mf3\u001b[39m: \u001b[32mInt\u001b[39m => \u001b[32mInt\u001b[39m => \u001b[32mInt\u001b[39m => \u001b[32mInt\u001b[39m = <function1>\n",
       "\u001b[36mres3_4\u001b[39m: \u001b[32mInt\u001b[39m = \u001b[32m5\u001b[39m"
      ]
     },
     "execution_count": 4,
     "metadata": {},
     "output_type": "execute_result"
    }
   ],
   "source": [
    "   val x = 5\n",
    "//     A\n",
    "\n",
    "   val y = x + 3\n",
    "//     B   1\n",
    "\n",
    "   val f2: (Int => Int) => Int = (y) => {\n",
    "//     C                          D\n",
    "\n",
    "       y(x)\n",
    "//     2 3\n",
    "\n",
    "   }\n",
    "\n",
    "   val f3: ((Int => Int) => Int) => Int =\n",
    "//     E\n",
    "\n",
    "       (f3) => f3((f3) => f3)\n",
    "//      F      4   G      5\n",
    "\n",
    "   f3(f2)\n",
    "// 6  7"
   ]
  },
  {
   "cell_type": "markdown",
   "metadata": {},
   "source": [
    "| Use | Declaration|\n",
    "|-----|------------|\n",
    "|1| A|\n",
    "|2| D|\n",
    "|3| A|\n",
    "|4| F|\n",
    "|5| G|\n",
    "|6| E|\n",
    "|7| C|"
   ]
  },
  {
   "cell_type": "code",
   "execution_count": 5,
   "metadata": {},
   "outputs": [
    {
     "data": {
      "text/plain": [
       "\u001b[36mx\u001b[39m: \u001b[32mInt\u001b[39m = \u001b[32m5\u001b[39m\n",
       "\u001b[36mres4_1\u001b[39m: \u001b[32mInt\u001b[39m = \u001b[32m4\u001b[39m"
      ]
     },
     "execution_count": 5,
     "metadata": {},
     "output_type": "execute_result"
    }
   ],
   "source": [
    "   val x = 5\n",
    "//     A\n",
    "   \n",
    "   x match {\n",
    "// 1\n",
    "       \n",
    "       case x if x == x => {\n",
    "//          B    2    3\n",
    "       \n",
    "           val x = 4\n",
    "//             C\n",
    "\n",
    "           x\n",
    "//         4\n",
    "           \n",
    "       }\n",
    "       \n",
    "       case y if x == y =>\n",
    "//          D    5    6\n",
    "       \n",
    "           ((x: Int) => y + x)(x)\n",
    "//           E          7   8  9\n",
    "\n",
    "       // Extra credit...\n",
    "       case `x` => x match {\n",
    "//           10    11\n",
    "\n",
    "           case x @ `x` => x\n",
    "//              F    12    13\n",
    "\n",
    "       }\n",
    "           \n",
    "   }"
   ]
  },
  {
   "cell_type": "markdown",
   "metadata": {},
   "source": [
    "| Use | Declaration|\n",
    "|-----|------------|\n",
    "|1| A|\n",
    "|2| B|\n",
    "|3| B|\n",
    "|4| C|\n",
    "|5| A|\n",
    "|6| D|\n",
    "|7| D|\n",
    "|8| E|\n",
    "|9| A|\n",
    "|10| A|\n",
    "|11| A|\n",
    "|12| A|\n",
    "|13| F|"
   ]
  },
  {
   "cell_type": "markdown",
   "metadata": {},
   "source": [
    "### End\n",
    "* Project\n",
    "    * Running\n",
    "    * Testing\n",
    "    * Zipping\n",
    "* Assignment 4\n",
    "* Assignment 5"
   ]
  }
 ],
 "metadata": {
  "celltoolbar": "Create Assignment",
  "kernelspec": {
   "display_name": "Scala",
   "language": "scala",
   "name": "scala"
  },
  "language_info": {
   "codemirror_mode": "text/x-scala",
   "file_extension": ".scala",
   "mimetype": "text/x-scala",
   "name": "scala",
   "nbconvert_exporter": "script",
   "version": "2.12.8"
  }
 },
 "nbformat": 4,
 "nbformat_minor": 2
}
