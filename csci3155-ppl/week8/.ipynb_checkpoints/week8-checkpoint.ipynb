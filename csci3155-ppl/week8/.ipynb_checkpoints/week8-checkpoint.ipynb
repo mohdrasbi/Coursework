{
 "cells": [
  {
   "cell_type": "markdown",
   "metadata": {},
   "source": [
    "# CSCI 3155 Recitation 6\n",
    "March 8, 2019"
   ]
  },
  {
   "cell_type": "markdown",
   "metadata": {},
   "source": [
    "## Reviewing Closures and Recursion"
   ]
  },
  {
   "cell_type": "markdown",
   "metadata": {},
   "source": [
    "https://docs.google.com/presentation/d/1H5coQ04RiNxKWTAb6ljWDiCJKqk_2w52SaosYGVqZ38/edit?usp=sharing"
   ]
  },
  {
   "cell_type": "markdown",
   "metadata": {},
   "source": [
    "## Mutual Recursion\n",
    "\n",
    "Recursion is defined as a function calling itself in the function body:\n",
    "```scala\n",
    "def f_rec(): Unit = f_rec()\n",
    "```\n",
    "\n",
    "Mutual recursion is when a function calls a helper function that then makes the call back to it:\n",
    "```scala\n",
    "def f_mutual_rec_1(): Unit = f_mutual_rec_2()\n",
    "def f_mutual_rec_2(): Unit = f_mutual_rec_1()\n",
    "```\n",
    "\n",
    "Below is an example of a useful function that makes use of mutual recursion."
   ]
  },
  {
   "cell_type": "code",
   "execution_count": null,
   "metadata": {},
   "outputs": [],
   "source": [
    "def isEvenLen(l: List[Int]): Boolean = l match {\n",
    "    case _ :: rest => isOddLen(rest)\n",
    "    case Nil => true\n",
    "}\n",
    "\n",
    "def isOddLen(l: List[Int]): Boolean = l match {\n",
    "    case _ :: rest => isEvenLen(rest)\n",
    "    case Nil => false\n",
    "}"
   ]
  },
  {
   "cell_type": "code",
   "execution_count": null,
   "metadata": {},
   "outputs": [],
   "source": [
    "val l_0 = Nil\n",
    "assert(isEvenLen(l_0))\n",
    "assert(!isOddLen(l_0))\n",
    "\n",
    "val l_1 = 2 :: l_0\n",
    "assert(isOddLen(l_1))\n",
    "assert(!isEvenLen(l_1))\n",
    "\n",
    "val l_2 = 1 :: l_1\n",
    "assert(isEvenLen(l_2))\n",
    "assert(!isOddLen(l_2))"
   ]
  },
  {
   "cell_type": "markdown",
   "metadata": {},
   "source": [
    "### Exercise: N-Ary tree Count nodes\n",
    "Mutually recursive functions are often useful when the input has a mutually recursive structure as well. For example, we have seen binary trees defined inductively:\n",
    "```scala\n",
    "sealed trait BTree\n",
    "case class EmptyTree() extends BTree\n",
    "case class TreeNode(l: BTree, d: Int, r: BTree) extends BTree\n",
    "```\n",
    "\n",
    "As well as lists:\n",
    "```scala\n",
    "sealed trait List\n",
    "case class EmptyList() extends List\n",
    "case class ListNode(d: Int, t: List)\n",
    "```\n",
    "\n",
    "We could combine these two inductive structures, and create an n-ary trees _(shamelessly stolen fom Wikipedia)_:"
   ]
  },
  {
   "cell_type": "code",
   "execution_count": null,
   "metadata": {},
   "outputs": [],
   "source": [
    "sealed trait NaryTree\n",
    "case object Empty extends NaryTree\n",
    "// Rely on already defined inductive Lists\n",
    "case class Node(d: Int, childen: List[NaryTree]) extends NaryTree"
   ]
  },
  {
   "cell_type": "markdown",
   "metadata": {},
   "source": [
    "Implement a function `def countNodesTree(tree: NaryTree): Int` that counts nodes in the tree."
   ]
  },
  {
   "cell_type": "code",
   "execution_count": null,
   "metadata": {},
   "outputs": [],
   "source": [
    "???"
   ]
  },
  {
   "cell_type": "code",
   "execution_count": null,
   "metadata": {},
   "outputs": [],
   "source": [
    "val tree = Node(0,\n",
    "                Node(1, \n",
    "                     Node(5, Nil) :: Nil ) ::\n",
    "                Node(2, Nil) :: \n",
    "                Node(3, Nil) :: \n",
    "                Node(4, Nil) :: Nil\n",
    ")\n",
    "\n",
    "assert(countNodesTree(tree) == 6)"
   ]
  },
  {
   "cell_type": "markdown",
   "metadata": {},
   "source": [
    "### Exercise: Check heapiness\n",
    "\n",
    "Implement a function that checks whether a givenn NaryTree is a min-heap (A tree where every node has a smaller value than any children). "
   ]
  },
  {
   "cell_type": "code",
   "execution_count": null,
   "metadata": {},
   "outputs": [],
   "source": [
    "???"
   ]
  },
  {
   "cell_type": "code",
   "execution_count": null,
   "metadata": {},
   "outputs": [],
   "source": [
    "val tree_minHeap = Node(0,\n",
    "                        Node(1, \n",
    "                             Node(5, Nil) :: Nil ) ::\n",
    "                        Node(2, Nil) :: \n",
    "                        Node(3, Nil) :: \n",
    "                        Node(4, Nil) :: Nil)\n",
    "assert(isMinHeapTree(tree_minHeap), \"1\")\n",
    "\n",
    "val tree_NOT_minHeap = Node(5, tree_minHeap :: Nil)\n",
    "assert(!isMinHeapTree(tree_NOT_minHeap), \"2\")"
   ]
  },
  {
   "cell_type": "markdown",
   "metadata": {},
   "source": [
    "## References\n",
    "\n",
    "### Exercise: Show steps of execution\n",
    "\n",
    "1. **Exercise:**\n",
    "    ```\n",
    "    NewRef(4)\n",
    "    ```\n",
    "---\n",
    "2. **Exercise:**\n",
    "    ```\n",
    "    DeRef(NewRef(4))\n",
    "    ```\n",
    "\n",
    "---\n",
    "3. **Exercise:**\n",
    "    ```\n",
    "    NewRef(3) + NewRef(4)\n",
    "    ```\n",
    "---\n",
    "4. **Exercise:**\n",
    "    ```\n",
    "    let y = NewRef(5) in\n",
    "        DeRef(y)\n",
    "    ```\n",
    "---\n",
    "5. **Exercise:**\n",
    "    ```\n",
    "    let y = NewRef(91) in\n",
    "        DeRef(y) + AssignRef(y, 4) + DeRef(y)\n",
    "    ```\n",
    "---\n",
    "6. **Exercise:**\n",
    "    ```\n",
    "    (let x = NewRef(4) in 3) + 5\n",
    "    ```"
   ]
  }
 ],
 "metadata": {
  "kernelspec": {
   "display_name": "Scala",
   "language": "scala",
   "name": "scala"
  },
  "language_info": {
   "codemirror_mode": "text/x-scala",
   "file_extension": ".scala",
   "mimetype": "text/x-scala",
   "name": "scala",
   "nbconvert_exporter": "script",
   "version": "2.12.8"
  }
 },
 "nbformat": 4,
 "nbformat_minor": 2
}
