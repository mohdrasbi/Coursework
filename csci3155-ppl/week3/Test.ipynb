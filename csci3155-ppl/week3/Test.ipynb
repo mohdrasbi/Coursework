{
 "cells": [
  {
   "cell_type": "code",
   "execution_count": null,
   "metadata": {},
   "outputs": [],
   "source": [
    "sealed trait Tree\n",
    "case object Leaf extends Tree\n",
    "case class Node(n: Int, left: Tree, right: Tree) extends Tree"
   ]
  },
  {
   "cell_type": "code",
   "execution_count": null,
   "metadata": {},
   "outputs": [],
   "source": [
    "val t1 = Node(2, Leaf, Leaf)\n",
    "val t2 = Node(3, Leaf, Leaf)\n",
    "val t = Node(1, t1, t2)"
   ]
  },
  {
   "cell_type": "code",
   "execution_count": null,
   "metadata": {},
   "outputs": [],
   "source": [
    "//Arithmitic expressions\n",
    "sealed trait Expr //Expression\n",
    "case class Const(n: Double) extends Expr\n",
    "case class Ident(s: String) extends Expr //Identifier\n",
    "case class Plus(e1: Expr, e2: Expr) extends Expr\n",
    "case class Minus(e1: Expr, e2: Expr) extends Expr\n",
    "case class Mult(e1: Expr, e2: Expr) extends Expr\n",
    "case class Div(e1: Expr, e2: Expr) extends Expr\n",
    "case class Log(e: Expr) extends Expr\n",
    "case class Exp(e: Expr) extends Expr"
   ]
  },
  {
   "cell_type": "code",
   "execution_count": null,
   "metadata": {},
   "outputs": [],
   "source": [
    "//(x*y)+4\n",
    "val e1 = Plus(Mult(Ident(\"x\"), Ident(\"y\")), Const(4))"
   ]
  },
  {
   "cell_type": "code",
   "execution_count": null,
   "metadata": {},
   "outputs": [],
   "source": [
    "//Conditional expressions\n",
    "sealed trait CondExpr\n",
    "case object True extends CondExpr\n",
    "case object False extends CondExpr\n",
    "case class Geq(e1: Expr, e2: Expr) extends CondExpr\n",
    "case class Leq(e1: Expr, e2: Expr) extends CondExpr\n",
    "case class Eq(e1: Expr, e2: Expr) extends CondExpr\n",
    "case class And(e1: CondExpr, e2: CondExpr) extends CondExpr"
   ]
  },
  {
   "cell_type": "code",
   "execution_count": null,
   "metadata": {},
   "outputs": [],
   "source": [
    "//(x >= 5)\n",
    "val e2 = Geq(Ident(\"x\"), Const(5))"
   ]
  },
  {
   "cell_type": "code",
   "execution_count": null,
   "metadata": {},
   "outputs": [],
   "source": [
    "sealed trait List {\n",
    "    def length(): Int\n",
    "    def sum(): Int\n",
    "}\n",
    "case class Cons(n: Int, l: List) extends List {\n",
    "    def length(): Int = { 1 + l.length() }\n",
    "    def sum(): Int = { n + l.sum() }\n",
    "}\n",
    "case object Nil extends List {\n",
    "    def length(): Int = 0\n",
    "    def sum(): Int = 0\n",
    "}"
   ]
  },
  {
   "cell_type": "code",
   "execution_count": null,
   "metadata": {},
   "outputs": [],
   "source": [
    "val l1 = Nil\n",
    "val l2 = Cons(1, Cons(2, Cons(3, Nil)))\n",
    "val l3 = Cons(5, l2)"
   ]
  },
  {
   "cell_type": "code",
   "execution_count": null,
   "metadata": {},
   "outputs": [],
   "source": [
    "//Write a function that gives the length of a list\n",
    "l3.length()\n",
    "l3.sum()"
   ]
  },
  {
   "cell_type": "code",
   "execution_count": null,
   "metadata": {},
   "outputs": [],
   "source": [
    "def length(l: List): Int = l match {\n",
    "    case Nil => 0\n",
    "    //j and l1 are being created behined the scenes and get bound to the function's arguments\n",
    "    //case Cons(j, l1) => 1 + length(l1)\n",
    "    //we can use _ instaed of j so that no variable is begin created, since we are not using j\n",
    "    case Cons(_, l1) => 1 + length(l1)\n",
    "}\n",
    "\n",
    "def sum(l: List): Int = l match {\n",
    "    case Nil => 0\n",
    "    case Cons(j, l1) => j + sum(l1)\n",
    "}"
   ]
  },
  {
   "cell_type": "code",
   "execution_count": null,
   "metadata": {},
   "outputs": [],
   "source": [
    "length(l3)\n",
    "sum(l3)"
   ]
  },
  {
   "cell_type": "code",
   "execution_count": null,
   "metadata": {},
   "outputs": [],
   "source": [
    "def returnLastNumber(l: List): Int = l match {\n",
    "    case Nil => throw new IllegalArgumentException(\"How dare you!\")\n",
    "    case Cons(j, Nil) => j\n",
    "    case Cons(_, l1) => returnLastNumber(l1)\n",
    "    \n",
    "}"
   ]
  },
  {
   "cell_type": "code",
   "execution_count": null,
   "metadata": {},
   "outputs": [],
   "source": [
    "returnLastNumber(l3)"
   ]
  },
  {
   "cell_type": "code",
   "execution_count": null,
   "metadata": {},
   "outputs": [],
   "source": [
    "returnLastNumber(Nil)"
   ]
  },
  {
   "cell_type": "code",
   "execution_count": null,
   "metadata": {},
   "outputs": [],
   "source": [
    "def isAscendingOrder(l: List): Boolean = l match {\n",
    "    case Nil => true\n",
    "    case Cons(_, Nil) => true\n",
    "    case Cons(j1, Cons(j2, _)) if j1 > j2 => false\n",
    "    case Cons(_, tail) => isAscendingOrder(tail)\n",
    "}\n",
    "\n",
    "def isAscendingOrder2(l: List): Boolean = l match {\n",
    "    case Nil => true\n",
    "    case Cons(_, Nil) => true\n",
    "    case Cons(j1, tail@ Cons(j2, _)) => if (j1 > j2) false else isAscendingOrder3(tail)\n",
    "}"
   ]
  },
  {
   "cell_type": "code",
   "execution_count": null,
   "metadata": {},
   "outputs": [],
   "source": [
    "isAscendingOrder(Cons(1, Cons(2, Cons(3, Nil))))"
   ]
  },
  {
   "cell_type": "markdown",
   "metadata": {},
   "source": [
    "140, 70, 35"
   ]
  }
 ],
 "metadata": {
  "kernelspec": {
   "display_name": "Scala",
   "language": "scala",
   "name": "scala"
  },
  "language_info": {
   "codemirror_mode": "text/x-scala",
   "file_extension": ".scala",
   "mimetype": "text/x-scala",
   "name": "scala",
   "nbconvert_exporter": "script",
   "version": "2.12.8"
  }
 },
 "nbformat": 4,
 "nbformat_minor": 2
}
