{
 "cells": [
  {
   "cell_type": "code",
   "execution_count": 2,
   "metadata": {},
   "outputs": [
    {
     "data": {
      "text/plain": [
       "defined \u001b[32mfunction\u001b[39m \u001b[36maddTwoNumbers\u001b[39m\n",
       "\u001b[36maddTwoNumbersAnon\u001b[39m: (\u001b[32mDouble\u001b[39m, \u001b[32mDouble\u001b[39m) => \u001b[32mDouble\u001b[39m = ammonite.$sess.cmd1$Helper$$Lambda$2518/935018374@3f86e68e"
      ]
     },
     "execution_count": 2,
     "metadata": {},
     "output_type": "execute_result"
    }
   ],
   "source": [
    "def addTwoNumbers(x: Double, y: Double) = x + y\n",
    "\n",
    "val addTwoNumbersAnon: (Double, Double) => Double = (x, y) => x + y"
   ]
  },
  {
   "cell_type": "code",
   "execution_count": 5,
   "metadata": {},
   "outputs": [
    {
     "data": {
      "text/plain": [
       "\u001b[36ml\u001b[39m: \u001b[32mList\u001b[39m[\u001b[32mInt\u001b[39m] = \u001b[33mList\u001b[39m(\u001b[32m1\u001b[39m, \u001b[32m2\u001b[39m, \u001b[32m4\u001b[39m, \u001b[32m6\u001b[39m, \u001b[32m18\u001b[39m, \u001b[32m-3\u001b[39m, \u001b[32m5\u001b[39m)\n",
       "\u001b[36mres4_1\u001b[39m: \u001b[32mInt\u001b[39m = \u001b[32m-12960\u001b[39m"
      ]
     },
     "execution_count": 5,
     "metadata": {},
     "output_type": "execute_result"
    }
   ],
   "source": [
    "val l: List[Int] = List(1,2,4,6,18,-3,5)\n",
    "l.product"
   ]
  },
  {
   "cell_type": "code",
   "execution_count": 7,
   "metadata": {},
   "outputs": [
    {
     "data": {
      "text/plain": [
       "defined \u001b[32mfunction\u001b[39m \u001b[36mmultipltList\u001b[39m\n",
       "\u001b[36mres6_1\u001b[39m: \u001b[32mInt\u001b[39m = \u001b[32m-12960\u001b[39m"
      ]
     },
     "execution_count": 7,
     "metadata": {},
     "output_type": "execute_result"
    }
   ],
   "source": [
    "//Using for loop\n",
    "def multipltList(l: List[Int]): Int = {\n",
    "    var acc = 1\n",
    "    for(x <- l) {\n",
    "        acc = acc * x\n",
    "    }\n",
    "    return acc\n",
    "}\n",
    "multipltList(l)"
   ]
  },
  {
   "cell_type": "code",
   "execution_count": 9,
   "metadata": {},
   "outputs": [
    {
     "data": {
      "text/plain": [
       "defined \u001b[32mfunction\u001b[39m \u001b[36msqaureEachElement\u001b[39m\n",
       "\u001b[36mres8_1\u001b[39m: \u001b[32mList\u001b[39m[\u001b[32mInt\u001b[39m] = \u001b[33mList\u001b[39m(\u001b[32m1\u001b[39m, \u001b[32m4\u001b[39m, \u001b[32m16\u001b[39m, \u001b[32m36\u001b[39m, \u001b[32m324\u001b[39m, \u001b[32m9\u001b[39m, \u001b[32m25\u001b[39m)"
      ]
     },
     "execution_count": 9,
     "metadata": {},
     "output_type": "execute_result"
    }
   ],
   "source": [
    "def sqaureEachElement(l: List[Int]): List[Int] = {\n",
    "    var returnList : List[Int] = List()\n",
    "    for(x <- l) {\n",
    "        val sq = x*x\n",
    "        returnList = returnList ++ List(sq)\n",
    "    }\n",
    "    return returnList\n",
    "}\n",
    "sqaureEachElement(l)"
   ]
  },
  {
   "cell_type": "markdown",
   "metadata": {},
   "source": [
    "## Map\n",
    "list.map(function)"
   ]
  },
  {
   "cell_type": "code",
   "execution_count": 11,
   "metadata": {},
   "outputs": [
    {
     "data": {
      "text/plain": [
       "defined \u001b[32mfunction\u001b[39m \u001b[36msquareEachElement1\u001b[39m\n",
       "defined \u001b[32mfunction\u001b[39m \u001b[36msquareEachElement2\u001b[39m"
      ]
     },
     "execution_count": 11,
     "metadata": {},
     "output_type": "execute_result"
    }
   ],
   "source": [
    "def squareEachElement1(l: List[Int]): List[Int] = l.map(x => x*x)\n",
    "def squareEachElement2(l: List[Int]): List[Int] = {\n",
    "    def square(x: Int): Int = x*x\n",
    "    l.map(square)\n",
    "}"
   ]
  },
  {
   "cell_type": "code",
   "execution_count": 13,
   "metadata": {},
   "outputs": [
    {
     "data": {
      "text/plain": [
       "\u001b[36ml\u001b[39m: \u001b[32mList\u001b[39m[\u001b[32mString\u001b[39m] = \u001b[33mList\u001b[39m(\u001b[32m\"Potato\"\u001b[39m, \u001b[32m\"Tomato\"\u001b[39m, \u001b[32m\"Zucchini\"\u001b[39m, \u001b[32m\"Chicken\"\u001b[39m)\n",
       "defined \u001b[32mfunction\u001b[39m \u001b[36mtest\u001b[39m\n",
       "\u001b[36mres12_2\u001b[39m: \u001b[32mList\u001b[39m[\u001b[32mString\u001b[39m] = \u001b[33mList\u001b[39m(\n",
       "  \u001b[32m\"Hello Potato\"\u001b[39m,\n",
       "  \u001b[32m\"Hello Tomato\"\u001b[39m,\n",
       "  \u001b[32m\"Hello Zucchini\"\u001b[39m,\n",
       "  \u001b[32m\"Hello Chicken\"\u001b[39m\n",
       ")"
      ]
     },
     "execution_count": 13,
     "metadata": {},
     "output_type": "execute_result"
    }
   ],
   "source": [
    "val l: List[String] = List(\"Potato\", \"Tomato\", \"Zucchini\", \"Chicken\")\n",
    "def test(l: List[String]): List[String] = l.map(x => \"Hello \" + x)\n",
    "test(l)"
   ]
  },
  {
   "cell_type": "markdown",
   "metadata": {},
   "source": [
    "## Filter\n",
    "Returns true or false "
   ]
  },
  {
   "cell_type": "code",
   "execution_count": 14,
   "metadata": {},
   "outputs": [
    {
     "data": {
      "text/plain": [
       "\u001b[36mlst\u001b[39m: \u001b[32mList\u001b[39m[\u001b[32mInt\u001b[39m] = \u001b[33mList\u001b[39m(\u001b[32m1\u001b[39m, \u001b[32m2\u001b[39m, \u001b[32m5\u001b[39m, \u001b[32m6\u001b[39m, \u001b[32m19\u001b[39m, \u001b[32m21\u001b[39m)"
      ]
     },
     "execution_count": 14,
     "metadata": {},
     "output_type": "execute_result"
    }
   ],
   "source": [
    "val lst = List(1,2,5,6,19,21)"
   ]
  },
  {
   "cell_type": "code",
   "execution_count": 15,
   "metadata": {},
   "outputs": [
    {
     "data": {
      "text/plain": [
       "\u001b[36mnewList\u001b[39m: \u001b[32mList\u001b[39m[\u001b[32mInt\u001b[39m] = \u001b[33mList\u001b[39m(\u001b[32m1\u001b[39m, \u001b[32m5\u001b[39m, \u001b[32m19\u001b[39m, \u001b[32m21\u001b[39m)"
      ]
     },
     "execution_count": 15,
     "metadata": {},
     "output_type": "execute_result"
    }
   ],
   "source": [
    "val newList = lst.filter(x => x % 2 == 1)"
   ]
  },
  {
   "cell_type": "markdown",
   "metadata": {},
   "source": [
    "## Fold (reduce)\n",
    "List to object (could be a single number)<br>\n",
    "- fold\n",
    "- foldLeft\n",
    "- foldRight"
   ]
  },
  {
   "cell_type": "code",
   "execution_count": 18,
   "metadata": {},
   "outputs": [
    {
     "data": {
      "text/plain": [
       "\u001b[36mlst\u001b[39m: \u001b[32mList\u001b[39m[\u001b[32mInt\u001b[39m] = \u001b[33mList\u001b[39m(\u001b[32m1\u001b[39m, \u001b[32m2\u001b[39m, \u001b[32m3\u001b[39m, \u001b[32m4\u001b[39m, \u001b[32m-5\u001b[39m, \u001b[32m-6\u001b[39m, \u001b[32m8\u001b[39m)\n",
       "\u001b[36mres17_1\u001b[39m: \u001b[32mInt\u001b[39m = \u001b[32m5760\u001b[39m\n",
       "\u001b[36mres17_2\u001b[39m: \u001b[32mInt\u001b[39m = \u001b[32m5760\u001b[39m"
      ]
     },
     "execution_count": 18,
     "metadata": {},
     "output_type": "execute_result"
    }
   ],
   "source": [
    "val lst = List(1,2,3,4,-5,-6,8)\n",
    "//two parts: 1. start value of accumlator, \n",
    "//2. transformer function (takes acc and element, and returns new acc)\n",
    "lst.fold(1)((acc, x) => acc * x)\n",
    "lst.product"
   ]
  },
  {
   "cell_type": "code",
   "execution_count": 22,
   "metadata": {},
   "outputs": [
    {
     "data": {
      "text/plain": [
       "defined \u001b[32mfunction\u001b[39m \u001b[36mmyOwnFoldFunction\u001b[39m\n",
       "\u001b[36mres21_1\u001b[39m: \u001b[32mInt\u001b[39m = \u001b[32m5760\u001b[39m"
      ]
     },
     "execution_count": 22,
     "metadata": {},
     "output_type": "execute_result"
    }
   ],
   "source": [
    "def myOwnFoldFunction(lst: List[Int], startingValue: Int,\n",
    "                      updateFun: (Int, Int) => Int): Int = {\n",
    "    var acc = startingValue\n",
    "    for(x <- lst){\n",
    "        acc = updateFun(acc, x)\n",
    "    }\n",
    "    return acc\n",
    "}\n",
    "myOwnFoldFunction(lst, 1, (x,y) => x*y)"
   ]
  },
  {
   "cell_type": "code",
   "execution_count": 27,
   "metadata": {},
   "outputs": [
    {
     "data": {
      "text/plain": [
       "\u001b[36mlstOfTopping\u001b[39m: \u001b[32mList\u001b[39m[\u001b[32mString\u001b[39m] = \u001b[33mList\u001b[39m(\u001b[32m\"Potato\"\u001b[39m, \u001b[32m\"Tomato\"\u001b[39m, \u001b[32m\"Zucchini\"\u001b[39m, \u001b[32m\"Chicken\"\u001b[39m)\n",
       "\u001b[36mres26_1\u001b[39m: \u001b[32mString\u001b[39m = \u001b[32m\"PotatoTomatoZucchiniChicken\"\u001b[39m\n",
       "\u001b[36mres26_2\u001b[39m: \u001b[32mString\u001b[39m = \u001b[32m\"PotatoTomatoZucchiniChicken\"\u001b[39m"
      ]
     },
     "execution_count": 27,
     "metadata": {},
     "output_type": "execute_result"
    }
   ],
   "source": [
    "val lstOfTopping: List[String] = List(\"Potato\", \"Tomato\", \"Zucchini\", \"Chicken\")\n",
    "lstOfTopping.fold(\"\")((acc, x) => acc + x)\n",
    "//we can set the return type of acc, or let scala figure it out\n",
    "lstOfTopping.fold[String](\"\")((acc, x) => acc + x) "
   ]
  },
  {
   "cell_type": "code",
   "execution_count": 28,
   "metadata": {},
   "outputs": [
    {
     "data": {
      "text/plain": [
       "\u001b[36mlstOfNum\u001b[39m: \u001b[32mList\u001b[39m[\u001b[32mInt\u001b[39m] = \u001b[33mList\u001b[39m(\u001b[32m1\u001b[39m, \u001b[32m2\u001b[39m, \u001b[32m5\u001b[39m, \u001b[32m6\u001b[39m, \u001b[32m18\u001b[39m, \u001b[32m45\u001b[39m, \u001b[32m64\u001b[39m, \u001b[32m94\u001b[39m)\n",
       "\u001b[36mnumEven\u001b[39m: \u001b[32mList\u001b[39m[\u001b[32mInt\u001b[39m] = \u001b[33mList\u001b[39m(\u001b[32m2\u001b[39m, \u001b[32m6\u001b[39m, \u001b[32m18\u001b[39m, \u001b[32m64\u001b[39m, \u001b[32m94\u001b[39m)\n",
       "\u001b[36mnumOdd\u001b[39m: \u001b[32mList\u001b[39m[\u001b[32mInt\u001b[39m] = \u001b[33mList\u001b[39m(\u001b[32m1\u001b[39m, \u001b[32m5\u001b[39m, \u001b[32m45\u001b[39m)\n",
       "\u001b[36mretVal\u001b[39m: (\u001b[32mInt\u001b[39m, \u001b[32mInt\u001b[39m) = (\u001b[32m3\u001b[39m, \u001b[32m5\u001b[39m)"
      ]
     },
     "execution_count": 28,
     "metadata": {},
     "output_type": "execute_result"
    }
   ],
   "source": [
    "val lstOfNum = List(1,2,5,6,18,45,64,94)\n",
    "val numEven = lstOfNum.filter(x => x%2 == 0)\n",
    "val numOdd = lstOfNum.filter(x => x%2 == 1)\n",
    "val retVal = (numOdd.length, numEven.length)"
   ]
  },
  {
   "cell_type": "code",
   "execution_count": 31,
   "metadata": {},
   "outputs": [
    {
     "data": {
      "text/plain": [
       "\u001b[36mstartValue\u001b[39m: (\u001b[32mInt\u001b[39m, \u001b[32mInt\u001b[39m) = (\u001b[32m0\u001b[39m, \u001b[32m0\u001b[39m)\n",
       "defined \u001b[32mfunction\u001b[39m \u001b[36mupdateFunction\u001b[39m\n",
       "\u001b[36mcountOddEven\u001b[39m: (\u001b[32mInt\u001b[39m, \u001b[32mInt\u001b[39m) = (\u001b[32m3\u001b[39m, \u001b[32m5\u001b[39m)"
      ]
     },
     "execution_count": 31,
     "metadata": {},
     "output_type": "execute_result"
    }
   ],
   "source": [
    "val startValue = (0,0)\n",
    "def updateFunction(acc: (Int, Int), x: Int) = {\n",
    "    val (numOdd, numEven) = acc //unpacking\n",
    "    if(x % 2 == 1) {\n",
    "        (numOdd + 1, numEven)\n",
    "    } else {\n",
    "        (numOdd, numEven + 1)\n",
    "    }\n",
    "}\n",
    "\n",
    "//cannot use fold in this case\n",
    "val countOddEven: (Int, Int) = lstOfNum.foldLeft[(Int, Int)](startValue)(updateFunction)"
   ]
  },
  {
   "cell_type": "code",
   "execution_count": 31,
   "metadata": {},
   "outputs": [
    {
     "name": "stderr",
     "output_type": "stream",
     "text": [
      "cmd31.sc:5: type mismatch;\n",
      " found   : (List[Int], Int, Int => Int) => List[Int]\n",
      " required: (Any, Any) => Any\n",
      "val mapList = lstOfNum.fold(startValue)(updateFunction)\n",
      "                                        ^Compilation Failed"
     ]
    },
    {
     "ename": "",
     "evalue": "",
     "output_type": "error",
     "traceback": [
      "Compilation Failed"
     ]
    }
   ],
   "source": [
    "val startingValue: List[Int] = List()\n",
    "def updateFunction(acc: List[Int], x:Int, f: Int => Int) = {\n",
    "    acc ++ List(f(x))\n",
    "}\n",
    "def squareUpdateFunction(acc: Int, x: Int) = \n",
    "val mapList = lstOfNum.fold(startValue)(updateFunction)"
   ]
  }
 ],
 "metadata": {
  "kernelspec": {
   "display_name": "Scala",
   "language": "scala",
   "name": "scala"
  },
  "language_info": {
   "codemirror_mode": "text/x-scala",
   "file_extension": ".scala",
   "mimetype": "text/x-scala",
   "name": "scala",
   "nbconvert_exporter": "script",
   "version": "2.12.8"
  }
 },
 "nbformat": 4,
 "nbformat_minor": 2
}
