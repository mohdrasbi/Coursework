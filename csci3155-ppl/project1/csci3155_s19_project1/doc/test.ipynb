{
 "cells": [
  {
   "cell_type": "code",
   "execution_count": 9,
   "metadata": {},
   "outputs": [
    {
     "data": {
      "text/plain": [
       "defined \u001b[32mfunction\u001b[39m \u001b[36mtest\u001b[39m\n",
       "\u001b[36mres8_1\u001b[39m: \u001b[32mDouble\u001b[39m = \u001b[32m11.0\u001b[39m"
      ]
     },
     "execution_count": 9,
     "metadata": {},
     "output_type": "execute_result"
    }
   ],
   "source": [
    "def test(f: (Double, Double) => Double, i: Double, j: Double): Double = {\n",
    "    f(i, j)\n",
    "}\n",
    "test((x,y) => x+y, 5, 6)"
   ]
  },
  {
   "cell_type": "code",
   "execution_count": 19,
   "metadata": {},
   "outputs": [
    {
     "data": {
      "text/plain": [
       "\u001b[36mtest1\u001b[39m: \u001b[32mList\u001b[39m[\u001b[32mDouble\u001b[39m] = \u001b[33mList\u001b[39m(\u001b[32m1.0\u001b[39m, \u001b[32m2.0\u001b[39m, \u001b[32m3.0\u001b[39m, \u001b[32m4.0\u001b[39m)\n",
       "\u001b[36mtest2\u001b[39m: \u001b[32mList\u001b[39m[\u001b[32mDouble\u001b[39m] = \u001b[33mList\u001b[39m(\u001b[32m1.0\u001b[39m, \u001b[32m2.0\u001b[39m, \u001b[32m3.0\u001b[39m, \u001b[32m4.0\u001b[39m)\n",
       "\u001b[36mtest3\u001b[39m: \u001b[32mList\u001b[39m[\u001b[32mDouble\u001b[39m] = \u001b[33mList\u001b[39m(\u001b[32m1.0\u001b[39m, \u001b[32m2.0\u001b[39m, \u001b[32m3.0\u001b[39m, \u001b[32m4.0\u001b[39m)\n",
       "\u001b[36mres18_3\u001b[39m: \u001b[32mList\u001b[39m[\u001b[32mDouble\u001b[39m] = \u001b[33mList\u001b[39m(\n",
       "  \u001b[32m1.0\u001b[39m,\n",
       "  \u001b[32m2.0\u001b[39m,\n",
       "  \u001b[32m3.0\u001b[39m,\n",
       "  \u001b[32m4.0\u001b[39m,\n",
       "  \u001b[32m1.0\u001b[39m,\n",
       "  \u001b[32m2.0\u001b[39m,\n",
       "  \u001b[32m3.0\u001b[39m,\n",
       "  \u001b[32m4.0\u001b[39m,\n",
       "  \u001b[32m1.0\u001b[39m,\n",
       "  \u001b[32m2.0\u001b[39m,\n",
       "  \u001b[32m3.0\u001b[39m,\n",
       "  \u001b[32m4.0\u001b[39m\n",
       ")"
      ]
     },
     "execution_count": 19,
     "metadata": {},
     "output_type": "execute_result"
    }
   ],
   "source": [
    "val test1: List[Double] = List(1.0, 2.0, 3.0, 4.0)\n",
    "val test2: List[Double] = List(1.0, 2.0, 3.0, 4.0)\n",
    "val test3: List[Double] = List(1.0, 2.0, 3.0, 4.0)\n",
    "test1 ++ test2 ++ test3"
   ]
  }
 ],
 "metadata": {
  "kernelspec": {
   "display_name": "Scala",
   "language": "scala",
   "name": "scala"
  },
  "language_info": {
   "codemirror_mode": "text/x-scala",
   "file_extension": ".scala",
   "mimetype": "text/x-scala",
   "name": "scala",
   "nbconvert_exporter": "script",
   "version": "2.12.8"
  }
 },
 "nbformat": 4,
 "nbformat_minor": 2
}
