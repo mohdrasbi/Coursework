{
 "cells": [
  {
   "cell_type": "markdown",
   "metadata": {},
   "source": [
    "# Outline\n",
    "* Intro\n",
    "* (Im)mutability\n",
    "* Tail Recursion / Loops\n",
    "* First Class Functions / Function Types\n",
    "* Classes, Operators as Methods, Operator Overloading"
   ]
  },
  {
   "cell_type": "code",
   "execution_count": 1,
   "metadata": {},
   "outputs": [
    {
     "data": {
      "text/plain": [
       "defined \u001b[32mfunction\u001b[39m \u001b[36mtestWithMessage\u001b[39m"
      ]
     },
     "execution_count": 1,
     "metadata": {},
     "output_type": "execute_result"
    }
   ],
   "source": [
    "// helper function for testing code\n",
    "def testWithMessage(v: Boolean, id: String) = {\n",
    "    try {\n",
    "        if (v) { println(s\"Test $id passed\")}\n",
    "        else { println(s\"Test $id failed\")}\n",
    "    } catch {\n",
    "        case e: NotImplementedError =>  {println(s\"Code not implemented\")}\n",
    "        case e: Exception => {println(\"Exception Thrown: \" + e)}\n",
    "    }\n",
    "}"
   ]
  },
  {
   "cell_type": "markdown",
   "metadata": {},
   "source": [
    "## Mutability\n",
    "The following examples do not compile. Fix the code."
   ]
  },
  {
   "cell_type": "code",
   "execution_count": 2,
   "metadata": {},
   "outputs": [
    {
     "data": {
      "text/plain": [
       "\u001b[36mi\u001b[39m: \u001b[32mInt\u001b[39m = \u001b[32m0\u001b[39m"
      ]
     },
     "execution_count": 2,
     "metadata": {},
     "output_type": "execute_result"
    }
   ],
   "source": [
    "// Change to var\n",
    "var i = 10\n",
    "while (i > 0) {\n",
    "    i = i - 1\n",
    "}"
   ]
  },
  {
   "cell_type": "code",
   "execution_count": 3,
   "metadata": {},
   "outputs": [
    {
     "data": {
      "text/plain": [
       "defined \u001b[32mfunction\u001b[39m \u001b[36madd1\u001b[39m"
      ]
     },
     "execution_count": 3,
     "metadata": {},
     "output_type": "execute_result"
    }
   ],
   "source": [
    "// Function parameters are immutable, need to introduce var\n",
    "def add1(x: Int) {\n",
    "    var x2 = x\n",
    "    x2 = x2 + 1\n",
    "    return x2\n",
    "}"
   ]
  },
  {
   "cell_type": "markdown",
   "metadata": {},
   "source": [
    "You might be tempted to ask: if val causes so many issues, why use it? Think about the situation below.\n",
    "\n",
    "Here, we want our language to give us a strong garuntee about what code it will allow us to execute. In this situation, there is no reason for `g` to change, so by declaring it a `val`, we can leverage Scala to prevent ourselves and others from writing incorrect code."
   ]
  },
  {
   "cell_type": "code",
   "execution_count": 3,
   "metadata": {},
   "outputs": [
    {
     "name": "stderr",
     "output_type": "stream",
     "text": [
      "cmd3.sc:8: reassignment to val\n",
      "    g = g + 1\n",
      "      ^"
     ]
    },
    {
     "ename": "",
     "evalue": "",
     "output_type": "error",
     "traceback": [
      "Compilation Failed"
     ]
    }
   ],
   "source": [
    "// code for insulin pump\n",
    "val g = 419 // poorly named but important parameter for proper insulin injection\n",
    "\n",
    "def injectInsulin() {\n",
    "    println(s\"Injected proper amount depending on g = $g\")\n",
    "}\n",
    "\n",
    "def sleepySoftwareEngineerIntern() {\n",
    "    g = g + 1\n",
    "}"
   ]
  },
  {
   "cell_type": "markdown",
   "metadata": {},
   "source": [
    "## Recursion\n",
    "\n",
    "Consider the following function:\n",
    "\n",
    "$\n",
    "f(x) =\n",
    "\\begin{cases}\n",
    "x/2\\ \\ \\ \\ \\ \\ \\ \\ \\ \\text{if $x$ is divisible by $2$} \\\\\n",
    "3x + 1\\ \\ \\ \\text{else}\n",
    "\\end{cases}\n",
    "$\n",
    "\n",
    "The Collatz conjecture says that applying this function repeatedly to any starting positive integer will eventually return 1.\n",
    "\n",
    "Here is a function that tests the conjecture using a while loop. The function verifies the conjecture for the given input if the function terminates."
   ]
  },
  {
   "cell_type": "code",
   "execution_count": 4,
   "metadata": {},
   "outputs": [
    {
     "data": {
      "text/plain": [
       "defined \u001b[32mfunction\u001b[39m \u001b[36mtestCollatzConjecture\u001b[39m"
      ]
     },
     "execution_count": 4,
     "metadata": {},
     "output_type": "execute_result"
    }
   ],
   "source": [
    "def testCollatzConjecture(x : Int) : Int = {\n",
    "    var n = x\n",
    "    while (n != 1) {\n",
    "        if (n % 2 == 0) {\n",
    "            n = n/2\n",
    "        } else {\n",
    "            n = 3*n + 1\n",
    "        }\n",
    "    }\n",
    "    return n\n",
    "}"
   ]
  },
  {
   "cell_type": "code",
   "execution_count": 5,
   "metadata": {},
   "outputs": [
    {
     "name": "stdout",
     "output_type": "stream",
     "text": [
      "Test 1 passed\n",
      "Test 2 passed\n",
      "Test 3 passed\n"
     ]
    }
   ],
   "source": [
    "testWithMessage(testCollatzConjecture(5) == 1, \"1\")\n",
    "testWithMessage(testCollatzConjecture(17) == 1, \"2\")\n",
    "testWithMessage(testCollatzConjecture(10485) == 1, \"3\")"
   ]
  },
  {
   "cell_type": "markdown",
   "metadata": {},
   "source": [
    "Now let's implement the same function using recursion."
   ]
  },
  {
   "cell_type": "code",
   "execution_count": 6,
   "metadata": {
    "nbgrader": {
     "grade": false,
     "grade_id": "cell-c9370c5086aca05b",
     "locked": false,
     "schema_version": 1,
     "solution": true
    }
   },
   "outputs": [
    {
     "data": {
      "text/plain": [
       "defined \u001b[32mfunction\u001b[39m \u001b[36mtestCollatzConjectureRec\u001b[39m"
      ]
     },
     "execution_count": 6,
     "metadata": {},
     "output_type": "execute_result"
    }
   ],
   "source": [
    "def testCollatzConjectureRec(x : Int) : Int = {\n",
    "    // BEGIN SOLUTION\n",
    "    if (x == 1) {\n",
    "        return 1\n",
    "    } \n",
    "    \n",
    "    if (x % 2 == 0) {\n",
    "        return testCollatzConjectureRec(x/2)\n",
    "    } else {\n",
    "        return testCollatzConjectureRec(3*x + 1)\n",
    "    }\n",
    "    // END SOLUTION\n",
    "}"
   ]
  },
  {
   "cell_type": "code",
   "execution_count": 7,
   "metadata": {},
   "outputs": [
    {
     "name": "stdout",
     "output_type": "stream",
     "text": [
      "Test 1 passed\n",
      "Test 2 passed\n",
      "Test 3 passed\n"
     ]
    }
   ],
   "source": [
    "testWithMessage(testCollatzConjectureRec(5) == 1, \"1\")\n",
    "testWithMessage(testCollatzConjectureRec(17) == 1, \"2\")\n",
    "testWithMessage(testCollatzConjectureRec(10485) == 1, \"3\")"
   ]
  },
  {
   "cell_type": "markdown",
   "metadata": {},
   "source": [
    "## Functions as values\n",
    "\n",
    "In Scala, functions are first-class values. Why is this useful? Suppose you're implementing a library, and you want to let users run their own function, but within some valid or safe context."
   ]
  },
  {
   "cell_type": "code",
   "execution_count": 8,
   "metadata": {
    "nbgrader": {
     "grade": false,
     "grade_id": "cell-03a1194fbe893b16",
     "locked": false,
     "schema_version": 1,
     "solution": true
    }
   },
   "outputs": [
    {
     "data": {
      "text/plain": [
       "defined \u001b[32mfunction\u001b[39m \u001b[36misSafe\u001b[39m\n",
       "defined \u001b[32mfunction\u001b[39m \u001b[36mvalidateAndCall\u001b[39m"
      ]
     },
     "execution_count": 8,
     "metadata": {},
     "output_type": "execute_result"
    }
   ],
   "source": [
    "def isSafe(n : Int) : Boolean = {\n",
    "    return n > 0;\n",
    "}\n",
    "\n",
    "def validateAndCall(f: Int => Int, x: Int): Int = {\n",
    "    // BEGIN SOLUTION\n",
    "    if (!isSafe(x)) {\n",
    "        throw new IllegalArgumentException(\"Argument is not valid!\")\n",
    "    }\n",
    "    return f(x)\n",
    "    // END SOLUTION\n",
    "}"
   ]
  },
  {
   "cell_type": "code",
   "execution_count": 9,
   "metadata": {},
   "outputs": [
    {
     "data": {
      "text/plain": [
       "defined \u001b[32mfunction\u001b[39m \u001b[36madd1\u001b[39m\n",
       "\u001b[36mres8_1\u001b[39m: \u001b[32mInt\u001b[39m = \u001b[32m6\u001b[39m\n",
       "\u001b[36mres8_2\u001b[39m: \u001b[32mInt\u001b[39m = \u001b[32m7\u001b[39m"
      ]
     },
     "execution_count": 9,
     "metadata": {},
     "output_type": "execute_result"
    }
   ],
   "source": [
    "// An example of calling it:\n",
    "def add1(x: Int): Int = x + 1\n",
    "validateAndCall(add1, 5)\n",
    "\n",
    "// Another example, this time with an anonymous function\n",
    "validateAndCall((x: Int) => x + 1, 6)"
   ]
  },
  {
   "cell_type": "markdown",
   "metadata": {},
   "source": [
    "Another example: filtering elements of a list based on a user-specified condition."
   ]
  },
  {
   "cell_type": "code",
   "execution_count": 10,
   "metadata": {},
   "outputs": [
    {
     "data": {
      "text/plain": [
       "\u001b[36mres9\u001b[39m: \u001b[32mList\u001b[39m[\u001b[32mInt\u001b[39m] = \u001b[33mList\u001b[39m(\u001b[32m1\u001b[39m, \u001b[32m2\u001b[39m, \u001b[32m3\u001b[39m, \u001b[32m5\u001b[39m)"
      ]
     },
     "execution_count": 10,
     "metadata": {},
     "output_type": "execute_result"
    }
   ],
   "source": [
    "List(1, 2, 3, 4, 5).filter(n => n != 4)"
   ]
  },
  {
   "cell_type": "markdown",
   "metadata": {},
   "source": [
    "The `filter` function is nice because the user does not have to write the boilerplate code to loop through the list themselves. Instead, they only need to specify the filtering function that they want to run within the context of the loop."
   ]
  },
  {
   "cell_type": "markdown",
   "metadata": {},
   "source": [
    "## Classes and Operators\n",
    "\n",
    "A `BodyOfWater` keeps track of how many fish it contains.\n",
    "1. Implement a `removeFish` method for removing fish from the `BodyOfWater` and producing a new `BodyOfWater`.\n",
    "2. Then, implement a new `<><` operator which removes the given number of fish and can be used like this: `lake <>< 2` (meaninng: go fishing for 2 fish in a lake). This can use your `removeFish` method.\n",
    "3. Finaly, overload the existing `+` operator to add a `BodyOfWater` to another by creating a new `BodyOfWater` with the number of fish being the sum of the two inputs."
   ]
  },
  {
   "cell_type": "code",
   "execution_count": 11,
   "metadata": {
    "nbgrader": {
     "grade": false,
     "grade_id": "cell-5f6a47f2f40e8fc7",
     "locked": false,
     "schema_version": 1,
     "solution": true
    }
   },
   "outputs": [
    {
     "data": {
      "text/plain": [
       "defined \u001b[32mclass\u001b[39m \u001b[36mBodyOfWater\u001b[39m"
      ]
     },
     "execution_count": 11,
     "metadata": {},
     "output_type": "execute_result"
    }
   ],
   "source": [
    "class BodyOfWater(val numFish: Int) {\n",
    "\n",
    "    def removeFish(n: Int): BodyOfWater = {\n",
    "        // BEGIN SOLUTION\n",
    "        return new BodyOfWater(numFish - n)\n",
    "        // END SOLUTION\n",
    "    }\n",
    "\n",
    "    // BEGIN SOLUTION\n",
    "    def <><(n: Int): BodyOfWater = {\n",
    "        return this.removeFish(n)\n",
    "    }\n",
    "    // END SOLUTION\n",
    "\n",
    "    // BEGIN SOLUTION\n",
    "    def +(that: BodyOfWater): BodyOfWater = {\n",
    "        return new BodyOfWater(numFish + that.numFish)\n",
    "    }\n",
    "    // END SOLUTION\n",
    "\n",
    "}"
   ]
  },
  {
   "cell_type": "code",
   "execution_count": 12,
   "metadata": {
    "scrolled": true
   },
   "outputs": [
    {
     "name": "stdout",
     "output_type": "stream",
     "text": [
      "Test 1 passed\n",
      "Test 2 passed\n",
      "Test 3 passed\n"
     ]
    },
    {
     "data": {
      "text/plain": [
       "\u001b[36mlake\u001b[39m: \u001b[32mBodyOfWater\u001b[39m = $sess.cmd10Wrapper$Helper$BodyOfWater@632c173c\n",
       "\u001b[36mlake2\u001b[39m: \u001b[32mBodyOfWater\u001b[39m = $sess.cmd10Wrapper$Helper$BodyOfWater@789038d6\n",
       "\u001b[36mlake3\u001b[39m: \u001b[32mBodyOfWater\u001b[39m = $sess.cmd10Wrapper$Helper$BodyOfWater@11c6024c"
      ]
     },
     "execution_count": 12,
     "metadata": {},
     "output_type": "execute_result"
    }
   ],
   "source": [
    "val lake = new BodyOfWater(10)\n",
    "val lake2 = lake <>< 5\n",
    "val lake3 = lake + lake2\n",
    "\n",
    "testWithMessage(lake.numFish == 10, \"1\")\n",
    "testWithMessage(lake2.numFish == 5, \"2\")\n",
    "testWithMessage(lake3.numFish == 15, \"3\")"
   ]
  }
 ],
 "metadata": {
  "celltoolbar": "Create Assignment",
  "kernelspec": {
   "display_name": "Scala",
   "language": "scala",
   "name": "scala"
  },
  "language_info": {
   "codemirror_mode": "text/x-scala",
   "file_extension": ".scala",
   "mimetype": "text/x-scala",
   "name": "scala",
   "nbconvert_exporter": "script",
   "version": "2.12.8"
  }
 },
 "nbformat": 4,
 "nbformat_minor": 2
}
