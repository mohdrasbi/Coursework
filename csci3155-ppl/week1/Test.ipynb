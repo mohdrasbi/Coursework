{
 "cells": [
  {
   "cell_type": "code",
   "execution_count": 23,
   "metadata": {},
   "outputs": [
    {
     "data": {
      "text/plain": [
       "defined \u001b[32mfunction\u001b[39m \u001b[36mfactorial\u001b[39m\n",
       "\u001b[36mres22_1\u001b[39m: \u001b[32mInt\u001b[39m = \u001b[32m120\u001b[39m"
      ]
     },
     "execution_count": 23,
     "metadata": {},
     "output_type": "execute_result"
    }
   ],
   "source": [
    "def factorial(n: Int): Int = {\n",
    "    var i = 1\n",
    "    var product = 1\n",
    "    //1 to n: include n\n",
    "    //1 until n: does not include n (goes to n-1)\n",
    "    for(i <- 1 to n){\n",
    "        product = product * i\n",
    "    }\n",
    "    product //or return product\n",
    "}\n",
    "factorial(5)"
   ]
  },
  {
   "cell_type": "code",
   "execution_count": 34,
   "metadata": {},
   "outputs": [
    {
     "data": {
      "text/plain": [
       "defined \u001b[32mfunction\u001b[39m \u001b[36mfactorial_rec\u001b[39m\n",
       "\u001b[36mres33_1\u001b[39m: \u001b[32mInt\u001b[39m = \u001b[32m120\u001b[39m"
      ]
     },
     "execution_count": 34,
     "metadata": {},
     "output_type": "execute_result"
    }
   ],
   "source": [
    "def factorial_rec(n: Int): Int = {\n",
    "    if(n <= 1)\n",
    "        return n\n",
    "    return n * factorial_rec(n-1)\n",
    "}\n",
    "factorial_rec(5)"
   ]
  },
  {
   "cell_type": "code",
   "execution_count": 38,
   "metadata": {},
   "outputs": [
    {
     "data": {
      "text/plain": [
       "defined \u001b[32mfunction\u001b[39m \u001b[36mfactorial_fancy\u001b[39m\n",
       "\u001b[36mres37_1\u001b[39m: \u001b[32mInt\u001b[39m = \u001b[32m1\u001b[39m"
      ]
     },
     "execution_count": 38,
     "metadata": {},
     "output_type": "execute_result"
    }
   ],
   "source": [
    "//Fancy\n",
    "def factorial_fancy(n: Int): Int = {\n",
    "    require(n >= 0)\n",
    "    (1 to n).foldLeft(1) (_*_)\n",
    "}\n",
    "factorial_fancy(1)"
   ]
  },
  {
   "cell_type": "code",
   "execution_count": 43,
   "metadata": {},
   "outputs": [
    {
     "name": "stdout",
     "output_type": "stream",
     "text": [
      "TestString\n"
     ]
    },
    {
     "data": {
      "text/plain": [
       "defined \u001b[32mfunction\u001b[39m \u001b[36mcleanUpString\u001b[39m"
      ]
     },
     "execution_count": 43,
     "metadata": {},
     "output_type": "execute_result"
    }
   ],
   "source": [
    "def cleanUpString(s: String): String = {\n",
    "    var retString = \"\"\n",
    "    val n = s.length\n",
    "    for (i <- 0 until n){\n",
    "        if(s(i) != ' ' && s(i) != ','){\n",
    "            retString = retString + s(i)\n",
    "        }\n",
    "    }\n",
    "    retString\n",
    "}\n",
    "println(cleanUpString(\"Test, String\"))"
   ]
  },
  {
   "cell_type": "code",
   "execution_count": 47,
   "metadata": {},
   "outputs": [
    {
     "data": {
      "text/plain": [
       "defined \u001b[32mfunction\u001b[39m \u001b[36mcleanUpStringRec\u001b[39m\n",
       "\u001b[36mres46_1\u001b[39m: \u001b[32mString\u001b[39m = \u001b[32m\"TestString\"\u001b[39m"
      ]
     },
     "execution_count": 47,
     "metadata": {},
     "output_type": "execute_result"
    }
   ],
   "source": [
    "def cleanUpStringRec(s: String, i: Int, retString: String): String = {\n",
    "    if(i >= s.length) \n",
    "    {\n",
    "        return retString\n",
    "    }\n",
    "    else \n",
    "    {\n",
    "        if(s(i) != ' ' && s(i) != ',')\n",
    "            cleanUpStringRec(s, i+1, retString + s(i))\n",
    "        else\n",
    "            cleanUpStringRec(s, i+1, retString)\n",
    "    }\n",
    "}\n",
    "cleanUpStringRec(\"Test, String\", 0, \"\")"
   ]
  },
  {
   "cell_type": "code",
   "execution_count": 62,
   "metadata": {},
   "outputs": [
    {
     "data": {
      "text/plain": [
       "defined \u001b[32mfunction\u001b[39m \u001b[36mreverseString\u001b[39m\n",
       "\u001b[36mres61_1\u001b[39m: \u001b[32mString\u001b[39m = \u001b[32m\"321tseT\"\u001b[39m"
      ]
     },
     "execution_count": 62,
     "metadata": {},
     "output_type": "execute_result"
    }
   ],
   "source": [
    "def reverseString(s: String): String = {\n",
    "    var retString = \"\"\n",
    "    val end = s.length - 1\n",
    "    for(i <- end to 0 by -1){\n",
    "        retString += s(i)\n",
    "    }\n",
    "    \n",
    "    retString\n",
    "}\n",
    "\n",
    "reverseString(\"Test123\")"
   ]
  },
  {
   "cell_type": "code",
   "execution_count": 63,
   "metadata": {},
   "outputs": [
    {
     "data": {
      "text/plain": [
       "defined \u001b[32mfunction\u001b[39m \u001b[36mreverseStringRec\u001b[39m\n",
       "\u001b[36mres62_1\u001b[39m: \u001b[32mString\u001b[39m = \u001b[32m\"321tseT\"\u001b[39m"
      ]
     },
     "execution_count": 63,
     "metadata": {},
     "output_type": "execute_result"
    }
   ],
   "source": [
    "def reverseStringRec(s: String): String = {\n",
    "    if(s.length == 0)\n",
    "        return s\n",
    "    else\n",
    "        return reverseStringRec(s.substring(1)) + s(0)\n",
    "}\n",
    "reverseStringRec(\"Test123\")"
   ]
  },
  {
   "cell_type": "code",
   "execution_count": 76,
   "metadata": {},
   "outputs": [
    {
     "data": {
      "text/plain": [
       "defined \u001b[32mclass\u001b[39m \u001b[36mDoggie\u001b[39m"
      ]
     },
     "execution_count": 76,
     "metadata": {},
     "output_type": "execute_result"
    }
   ],
   "source": [
    "class Doggie(val name: String, val age: Int)\n",
    "{\n",
    "    def getName: String = name\n",
    "    def getAge: Int = age\n",
    "    def bark: Unit = println(\"Wuff Wuff!\") //Unit is void, returns nothing\n",
    "    def altBark: Unit = println(\"Arrrufff Arrrufff Arrufff!\")\n",
    "}"
   ]
  },
  {
   "cell_type": "code",
   "execution_count": 77,
   "metadata": {},
   "outputs": [
    {
     "data": {
      "text/plain": [
       "\u001b[36md\u001b[39m: \u001b[32mDoggie\u001b[39m = ammonite.$sess.cmd75$Helper$Doggie@1d03df9b"
      ]
     },
     "execution_count": 77,
     "metadata": {},
     "output_type": "execute_result"
    }
   ],
   "source": [
    "val d = new Doggie(\"Bo\", 2)"
   ]
  },
  {
   "cell_type": "code",
   "execution_count": 80,
   "metadata": {},
   "outputs": [
    {
     "name": "stdout",
     "output_type": "stream",
     "text": [
      "Bo\n",
      "2\n",
      "Wuff Wuff!\n",
      "Arrrufff Arrrufff Arrufff!\n"
     ]
    }
   ],
   "source": [
    "println(d.getName)\n",
    "println(d.getAge)\n",
    "d.bark\n",
    "d.altBark"
   ]
  }
 ],
 "metadata": {
  "kernelspec": {
   "display_name": "Scala",
   "language": "scala",
   "name": "scala"
  },
  "language_info": {
   "codemirror_mode": "text/x-scala",
   "file_extension": ".scala",
   "mimetype": "text/x-scala",
   "name": "scala",
   "nbconvert_exporter": "script",
   "version": "2.12.8"
  }
 },
 "nbformat": 4,
 "nbformat_minor": 2
}
