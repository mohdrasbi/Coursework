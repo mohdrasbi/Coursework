{
 "cells": [
  {
   "cell_type": "code",
   "execution_count": 40,
   "metadata": {},
   "outputs": [
    {
     "name": "stderr",
     "output_type": "stream",
     "text": [
      "cmd40.sc:3: not found: value bar\n",
      "        bar(x-2)\n",
      "        ^cmd40.sc:5: not found: value bar\n",
      "        fun(x - bar(x-1))\n",
      "                ^Compilation Failed"
     ]
    },
    {
     "ename": "",
     "evalue": "",
     "output_type": "error",
     "traceback": [
      "Compilation Failed"
     ]
    }
   ],
   "source": [
    "def fun(x: Int): Int = {\n",
    "    if(x % 2 == 0)\n",
    "        bar(x-2)\n",
    "    else\n",
    "        fun(x - bar(x-1))\n",
    "}"
   ]
  },
  {
   "cell_type": "code",
   "execution_count": 20,
   "metadata": {},
   "outputs": [
    {
     "data": {
      "text/plain": [
       "\u001b[36mres19_0\u001b[39m: \u001b[32mInt\u001b[39m = \u001b[32m0\u001b[39m\n",
       "\u001b[36mres19_1\u001b[39m: \u001b[32mInt\u001b[39m = \u001b[32m5\u001b[39m\n",
       "\u001b[36mres19_2\u001b[39m: \u001b[32mInt\u001b[39m = \u001b[32m-8\u001b[39m\n",
       "\u001b[36mres19_3\u001b[39m: \u001b[32mInt\u001b[39m = \u001b[32m-7\u001b[39m\n",
       "\u001b[36mres19_4\u001b[39m: \u001b[32mInt\u001b[39m = \u001b[32m-6\u001b[39m"
      ]
     },
     "execution_count": 20,
     "metadata": {},
     "output_type": "execute_result"
    }
   ],
   "source": [
    "fun(5)\n",
    "fun(10)\n",
    "fun(11)\n",
    "fun(12)\n",
    "fun(13)"
   ]
  },
  {
   "cell_type": "code",
   "execution_count": 39,
   "metadata": {},
   "outputs": [
    {
     "data": {
      "text/plain": [
       "defined \u001b[32mfunction\u001b[39m \u001b[36mfun_k\u001b[39m"
      ]
     },
     "execution_count": 39,
     "metadata": {},
     "output_type": "execute_result"
    }
   ],
   "source": [
    "def fun_k[T](x: Int, k: Int => T): T = {\n",
    "    if(x <= 10)\n",
    "        k(x-5)\n",
    "    else\n",
    "        fun_k(x-5, v1 => { fun_k(v1-4, v2 => {k(v2)}) })\n",
    "}"
   ]
  },
  {
   "cell_type": "code",
   "execution_count": 40,
   "metadata": {},
   "outputs": [
    {
     "data": {
      "text/plain": [
       "\u001b[36mres39_0\u001b[39m: \u001b[32mInt\u001b[39m = \u001b[32m0\u001b[39m\n",
       "\u001b[36mres39_1\u001b[39m: \u001b[32mInt\u001b[39m = \u001b[32m5\u001b[39m\n",
       "\u001b[36mres39_2\u001b[39m: \u001b[32mInt\u001b[39m = \u001b[32m-8\u001b[39m\n",
       "\u001b[36mres39_3\u001b[39m: \u001b[32mInt\u001b[39m = \u001b[32m-7\u001b[39m\n",
       "\u001b[36mres39_4\u001b[39m: \u001b[32mInt\u001b[39m = \u001b[32m-6\u001b[39m"
      ]
     },
     "execution_count": 40,
     "metadata": {},
     "output_type": "execute_result"
    }
   ],
   "source": [
    "fun_k[Int](5, Int => Int)\n",
    "fun_k[Int](10, Int => Int)\n",
    "fun_k[Int](11, Int => Int)\n",
    "fun_k[Int](12, Int => Int)\n",
    "fun_k[Int](13, Int => Int)"
   ]
  }
 ],
 "metadata": {
  "kernelspec": {
   "display_name": "Scala",
   "language": "scala",
   "name": "scala"
  },
  "language_info": {
   "codemirror_mode": "text/x-scala",
   "file_extension": ".scala",
   "mimetype": "text/x-scala",
   "name": "scala",
   "nbconvert_exporter": "script",
   "version": "2.12.8"
  }
 },
 "nbformat": 4,
 "nbformat_minor": 2
}
