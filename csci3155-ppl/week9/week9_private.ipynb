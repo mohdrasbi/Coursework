{
 "cells": [
  {
   "cell_type": "markdown",
   "metadata": {},
   "source": [
    "# CSCI 3155 Recitation 8\n",
    "March 15"
   ]
  },
  {
   "cell_type": "markdown",
   "metadata": {},
   "source": [
    "### Examples\n",
    "\n",
    "https://docs.google.com/presentation/d/1OlAu7pjBfKogQg6Z5Ykkid9FfWVH-yrSbPUCHMI-3HM/edit?usp=sharing"
   ]
  },
  {
   "cell_type": "markdown",
   "metadata": {},
   "source": [
    "## Exercise\n",
    "Given the following functions, change them to use continuations:"
   ]
  },
  {
   "cell_type": "code",
   "execution_count": 1,
   "metadata": {},
   "outputs": [
    {
     "data": {
      "text/plain": [
       "defined \u001b[32mfunction\u001b[39m \u001b[36mdoThing1\u001b[39m\n",
       "defined \u001b[32mfunction\u001b[39m \u001b[36mdoThing2\u001b[39m\n",
       "defined \u001b[32mfunction\u001b[39m \u001b[36mdoThing3\u001b[39m"
      ]
     },
     "execution_count": 1,
     "metadata": {},
     "output_type": "execute_result"
    }
   ],
   "source": [
    "def doThing1(): Int = 5 + 3\n",
    "def doThing2(a: Int, b: Int): Int = a + b\n",
    "def doThing3(f: Int => String): Int = {\n",
    "    println(f(5))\n",
    "    5\n",
    "}"
   ]
  },
  {
   "cell_type": "code",
   "execution_count": 2,
   "metadata": {},
   "outputs": [
    {
     "data": {
      "text/plain": [
       "defined \u001b[32mfunction\u001b[39m \u001b[36mdoThing1_cont\u001b[39m\n",
       "defined \u001b[32mfunction\u001b[39m \u001b[36mdoThing2_cont\u001b[39m\n",
       "defined \u001b[32mfunction\u001b[39m \u001b[36mdoThing3_cont\u001b[39m"
      ]
     },
     "execution_count": 2,
     "metadata": {},
     "output_type": "execute_result"
    }
   ],
   "source": [
    "// BEGIN SOLUTION\n",
    "def doThing1_cont(k: Int => Int): Int = k(5 + 3)\n",
    "def doThing2_cont(a: Int, b: Int, k: Int => Int): Int = k(a + b)\n",
    "def doThing3_cont(f: Int => String, k: Int => Int): Int = {\n",
    "    println(f(5))\n",
    "    k(5)\n",
    "}\n",
    "// END SOLUTION"
   ]
  },
  {
   "cell_type": "markdown",
   "metadata": {},
   "source": [
    "## Exercise\n",
    "Update the following expression to use the new continuation functions:"
   ]
  },
  {
   "cell_type": "code",
   "execution_count": 3,
   "metadata": {},
   "outputs": [
    {
     "name": "stdout",
     "output_type": "stream",
     "text": [
      "Log: 5\n"
     ]
    },
    {
     "data": {
      "text/plain": [
       "\u001b[36mx\u001b[39m: \u001b[32mInt\u001b[39m = \u001b[32m8\u001b[39m\n",
       "\u001b[36my\u001b[39m: \u001b[32mInt\u001b[39m = \u001b[32m11\u001b[39m\n",
       "\u001b[36mz\u001b[39m: \u001b[32mInt\u001b[39m = \u001b[32m5\u001b[39m"
      ]
     },
     "execution_count": 3,
     "metadata": {},
     "output_type": "execute_result"
    }
   ],
   "source": [
    "val x = doThing1()\n",
    "val y = doThing2(x, 3)\n",
    "val z = doThing3(n => \"Log: \" + n.toString)"
   ]
  },
  {
   "cell_type": "code",
   "execution_count": 4,
   "metadata": {},
   "outputs": [
    {
     "name": "stdout",
     "output_type": "stream",
     "text": [
      "Log: 5\n"
     ]
    },
    {
     "data": {
      "text/plain": [
       "\u001b[36mz2\u001b[39m: \u001b[32mInt\u001b[39m = \u001b[32m5\u001b[39m"
      ]
     },
     "execution_count": 4,
     "metadata": {},
     "output_type": "execute_result"
    }
   ],
   "source": [
    "// BEGIN SOLUTION\n",
    "val z2 = \n",
    "    doThing1_cont(x =>\n",
    "        doThing2_cont(x, 3, y =>\n",
    "            doThing3_cont(n => \"Log: \" + n.toString, n =>\n",
    "                n)))\n",
    "// END SOLUTION\n",
    "\n",
    "assert(z == z2)"
   ]
  },
  {
   "cell_type": "markdown",
   "metadata": {},
   "source": [
    "### Exercise: Backtracking\n",
    "As with any good programing tool, we can use continuations to solve problems without putting them everywhere in our code. In this example, you will write a search function that looks for a value in a binary tree, **not** a B**S**T. Take advantage of continuations to remember where to look if something isn't found while keeping the function tail recursive."
   ]
  },
  {
   "cell_type": "code",
   "execution_count": 5,
   "metadata": {
    "nbgrader": {
     "grade": false,
     "grade_id": "cell-bdaf875cad5b0678",
     "locked": false,
     "schema_version": 1,
     "solution": true
    }
   },
   "outputs": [
    {
     "data": {
      "text/plain": [
       "defined \u001b[32mtrait\u001b[39m \u001b[36mTree\u001b[39m\n",
       "defined \u001b[32mobject\u001b[39m \u001b[36mEmpty\u001b[39m\n",
       "defined \u001b[32mclass\u001b[39m \u001b[36mNode\u001b[39m\n",
       "defined \u001b[32mfunction\u001b[39m \u001b[36msearch\u001b[39m"
      ]
     },
     "execution_count": 5,
     "metadata": {},
     "output_type": "execute_result"
    }
   ],
   "source": [
    "sealed trait Tree\n",
    "case object Empty extends Tree\n",
    "case class Node(l: Tree, d: Int, r: Tree) extends Tree\n",
    "\n",
    "def search(t: Tree, i: Int, fail_continuation: () => Boolean): Boolean =\n",
    "    // BEGIN SOLUTION\n",
    "    t match {\n",
    "        case Empty => fail_continuation()\n",
    "        case Node(l, j, r) if i == j =>\n",
    "            true\n",
    "        case Node(l, j, r) =>\n",
    "            search(l, i, () => {\n",
    "                search(r, i, () => {\n",
    "                    fail_continuation()\n",
    "                })\n",
    "            })\n",
    "    }\n",
    "    //END SOLUTION\n"
   ]
  },
  {
   "cell_type": "code",
   "execution_count": 6,
   "metadata": {
    "nbgrader": {
     "grade": true,
     "grade_id": "cell-df2188387bae0d26",
     "locked": true,
     "points": 1,
     "schema_version": 1,
     "solution": false
    }
   },
   "outputs": [
    {
     "data": {
      "text/plain": [
       "\u001b[36mt\u001b[39m: \u001b[32mNode\u001b[39m = Node(Empty,10,Node(Empty,6,Empty))"
      ]
     },
     "execution_count": 6,
     "metadata": {},
     "output_type": "execute_result"
    }
   ],
   "source": [
    "val t = Node(Empty, 10, Node(Empty, 6, Empty))\n",
    "assert(search(t, 10, () => false))\n",
    "assert(!search(t, 0, () => false))"
   ]
  },
  {
   "cell_type": "markdown",
   "metadata": {},
   "source": [
    "### Exercise: Eval (again)\n",
    "\n",
    "This is similar to the example in class: implement eval for the small language given below, ensuring that every function call is a tail call."
   ]
  },
  {
   "cell_type": "code",
   "execution_count": 7,
   "metadata": {
    "nbgrader": {
     "grade": false,
     "grade_id": "cell-83c17e7eeba4b4e4",
     "locked": false,
     "schema_version": 1,
     "solution": true
    }
   },
   "outputs": [
    {
     "data": {
      "text/plain": [
       "defined \u001b[32mtrait\u001b[39m \u001b[36mExpr\u001b[39m\n",
       "defined \u001b[32mclass\u001b[39m \u001b[36mBoolLiteral\u001b[39m\n",
       "defined \u001b[32mclass\u001b[39m \u001b[36mAnd\u001b[39m\n",
       "defined \u001b[32mclass\u001b[39m \u001b[36mIf\u001b[39m\n",
       "defined \u001b[32mfunction\u001b[39m \u001b[36meval\u001b[39m"
      ]
     },
     "execution_count": 7,
     "metadata": {},
     "output_type": "execute_result"
    }
   ],
   "source": [
    "sealed trait Expr\n",
    "case class BoolLiteral(b: Boolean) extends Expr\n",
    "case class And(left: Expr, right: Expr) extends Expr\n",
    "case class If(test: Expr, then: Expr, otherwise: Expr) extends Expr\n",
    "\n",
    "def eval(e: Expr, continuation: Boolean => Boolean): Boolean =\n",
    "    // BEGIN SOLUTION\n",
    "    e match {\n",
    "        case BoolLiteral(b) =>\n",
    "            continuation(b)\n",
    "        case And(left, right) =>\n",
    "            eval(left, left_val =>\n",
    "                 eval(right, right_val =>\n",
    "                      continuation(left_val && right_val)\n",
    "                     )\n",
    "                )\n",
    "        case If(test, then, otherwise) =>\n",
    "            eval(test, test_val =>\n",
    "                 if (test_val) eval(then, b => continuation(b))\n",
    "                 else eval(otherwise, continuation)\n",
    "                )\n",
    "    }\n",
    "    // END SOLUTION"
   ]
  },
  {
   "cell_type": "code",
   "execution_count": 8,
   "metadata": {
    "nbgrader": {
     "grade": true,
     "grade_id": "cell-c127bcc04c6197cc",
     "locked": true,
     "points": 1,
     "schema_version": 1,
     "solution": false
    }
   },
   "outputs": [
    {
     "data": {
      "text/plain": [
       "\u001b[36me\u001b[39m: \u001b[32mIf\u001b[39m = If(And(BoolLiteral(true),BoolLiteral(true)),BoolLiteral(false),BoolLiteral(true))"
      ]
     },
     "execution_count": 8,
     "metadata": {},
     "output_type": "execute_result"
    }
   ],
   "source": [
    "val e = If(\n",
    "    And(BoolLiteral(true), BoolLiteral(true)),\n",
    "    BoolLiteral(false),\n",
    "    BoolLiteral(true)\n",
    ")\n",
    "assert(!eval(e, x => x))"
   ]
  },
  {
   "cell_type": "markdown",
   "metadata": {},
   "source": [
    "## Exercise: Async Continuations (Callbacks)\n",
    "Use the `http_get` function to request the given url and provide a continuation that will append `\" lie.\"` to the result"
   ]
  },
  {
   "cell_type": "code",
   "execution_count": 9,
   "metadata": {},
   "outputs": [
    {
     "data": {
      "text/plain": [
       "\u001b[32mimport \u001b[39m\u001b[36m$ivy.$                            \n",
       "\u001b[39m\n",
       "\u001b[32mimport \u001b[39m\u001b[36mscala.concurrent.{ Future, Await }\n",
       "\u001b[39m\n",
       "\u001b[32mimport \u001b[39m\u001b[36mscala.concurrent.duration._\n",
       "\u001b[39m\n",
       "\u001b[32mimport \u001b[39m\u001b[36mscala.concurrent.ExecutionContext.Implicits.global\n",
       "\n",
       "\u001b[39m\n",
       "defined \u001b[32mfunction\u001b[39m \u001b[36mhttp_get\u001b[39m"
      ]
     },
     "execution_count": 9,
     "metadata": {},
     "output_type": "execute_result"
    }
   ],
   "source": [
    "import $ivy.`com.lihaoyi::requests:0.1.4`\n",
    "import scala.concurrent.{ Future, Await }\n",
    "import scala.concurrent.duration._\n",
    "import scala.concurrent.ExecutionContext.Implicits.global\n",
    "\n",
    "def http_get(url: String, k: String => String): Future[String] =\n",
    "    Future(requests.get(url)).map(_.text).map(k)"
   ]
  },
  {
   "cell_type": "code",
   "execution_count": 10,
   "metadata": {},
   "outputs": [
    {
     "data": {
      "text/plain": [
       "\u001b[36mshakira_url\u001b[39m: \u001b[32mString\u001b[39m = \u001b[32m\"http://www.mocky.io/v2/5c6fa3fc3400004e5f8931a6\"\u001b[39m\n",
       "\u001b[36mres\u001b[39m: \u001b[32mFuture\u001b[39m[\u001b[32mString\u001b[39m] = Future(<not completed>)"
      ]
     },
     "execution_count": 10,
     "metadata": {},
     "output_type": "execute_result"
    }
   ],
   "source": [
    "val shakira_url = \"http://www.mocky.io/v2/5c6fa3fc3400004e5f8931a6\"\n",
    "\n",
    "// BEGIN SOLUTION\n",
    "val res = http_get(shakira_url, result => result + \" lie.\")\n",
    "// END SOLUTION"
   ]
  },
  {
   "cell_type": "code",
   "execution_count": 11,
   "metadata": {},
   "outputs": [
    {
     "data": {
      "text/plain": [
       "\u001b[36mres10\u001b[39m: \u001b[32mString\u001b[39m = \u001b[32m\"Hips don't lie.\"\u001b[39m"
      ]
     },
     "execution_count": 11,
     "metadata": {},
     "output_type": "execute_result"
    }
   ],
   "source": [
    "// Run this cell if you're using the older scala kernel (from VM)\n",
    "// which doesn't update the future\n",
    "Await.result(res, 5000 millis)"
   ]
  }
 ],
 "metadata": {
  "celltoolbar": "Create Assignment",
  "kernelspec": {
   "display_name": "Scala",
   "language": "scala",
   "name": "scala"
  },
  "language_info": {
   "codemirror_mode": "text/x-scala",
   "file_extension": ".scala",
   "mimetype": "text/x-scala",
   "name": "scala211",
   "nbconvert_exporter": "script",
   "pygments_lexer": "scala",
   "version": "2.11.11"
  }
 },
 "nbformat": 4,
 "nbformat_minor": 2
}
