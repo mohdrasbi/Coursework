{
 "cells": [
  {
   "cell_type": "code",
   "execution_count": 1,
   "metadata": {},
   "outputs": [],
   "source": [
    "import pandas as pd"
   ]
  },
  {
   "cell_type": "code",
   "execution_count": 171,
   "metadata": {},
   "outputs": [
    {
     "data": {
      "text/html": [
       "<div>\n",
       "<style scoped>\n",
       "    .dataframe tbody tr th:only-of-type {\n",
       "        vertical-align: middle;\n",
       "    }\n",
       "\n",
       "    .dataframe tbody tr th {\n",
       "        vertical-align: top;\n",
       "    }\n",
       "\n",
       "    .dataframe thead th {\n",
       "        text-align: right;\n",
       "    }\n",
       "</style>\n",
       "<table border=\"1\" class=\"dataframe\">\n",
       "  <thead>\n",
       "    <tr style=\"text-align: right;\">\n",
       "      <th></th>\n",
       "      <th>award_description</th>\n",
       "      <th>federal_action_obligation</th>\n",
       "      <th>recipient_county_name</th>\n",
       "      <th>cfda_title</th>\n",
       "      <th>business_types_description</th>\n",
       "    </tr>\n",
       "  </thead>\n",
       "  <tbody>\n",
       "    <tr>\n",
       "      <th>0</th>\n",
       "      <td>AGGREGATE SUPPLEMENTAL SECURITY INCOME (SSI) B...</td>\n",
       "      <td>116.00</td>\n",
       "      <td>SAN JUAN</td>\n",
       "      <td>SUPPLEMENTAL SECURITY INCOME</td>\n",
       "      <td>INDIVIDUAL</td>\n",
       "    </tr>\n",
       "    <tr>\n",
       "      <th>1</th>\n",
       "      <td>AGGREGATE RETIREMENT INSURANCE (RI) BENEFITS</td>\n",
       "      <td>958295.00</td>\n",
       "      <td>COSTILLA</td>\n",
       "      <td>SOCIAL SECURITY RETIREMENT INSURANCE</td>\n",
       "      <td>INDIVIDUAL</td>\n",
       "    </tr>\n",
       "    <tr>\n",
       "      <th>2</th>\n",
       "      <td>AGGREGATE AWARD.  AGGREGATION CARRIED OUT TO P...</td>\n",
       "      <td>0.00</td>\n",
       "      <td>SUMMIT</td>\n",
       "      <td>SOCIAL INSURANCE FOR RAILROAD WORKERS</td>\n",
       "      <td>INDIVIDUAL</td>\n",
       "    </tr>\n",
       "    <tr>\n",
       "      <th>3</th>\n",
       "      <td>AGGREGATE AWARD.  AGGREGATION CARRIED OUT TO P...</td>\n",
       "      <td>44784.61</td>\n",
       "      <td>GARFIELD</td>\n",
       "      <td>SOCIAL INSURANCE FOR RAILROAD WORKERS</td>\n",
       "      <td>INDIVIDUAL</td>\n",
       "    </tr>\n",
       "    <tr>\n",
       "      <th>4</th>\n",
       "      <td>AGGREGATE RETIREMENT INSURANCE (RI) BENEFITS</td>\n",
       "      <td>4304259.00</td>\n",
       "      <td>EAGLE</td>\n",
       "      <td>SOCIAL SECURITY RETIREMENT INSURANCE</td>\n",
       "      <td>INDIVIDUAL</td>\n",
       "    </tr>\n",
       "  </tbody>\n",
       "</table>\n",
       "</div>"
      ],
      "text/plain": [
       "                                   award_description  \\\n",
       "0  AGGREGATE SUPPLEMENTAL SECURITY INCOME (SSI) B...   \n",
       "1       AGGREGATE RETIREMENT INSURANCE (RI) BENEFITS   \n",
       "2  AGGREGATE AWARD.  AGGREGATION CARRIED OUT TO P...   \n",
       "3  AGGREGATE AWARD.  AGGREGATION CARRIED OUT TO P...   \n",
       "4       AGGREGATE RETIREMENT INSURANCE (RI) BENEFITS   \n",
       "\n",
       "   federal_action_obligation recipient_county_name  \\\n",
       "0                     116.00              SAN JUAN   \n",
       "1                  958295.00              COSTILLA   \n",
       "2                       0.00                SUMMIT   \n",
       "3                   44784.61              GARFIELD   \n",
       "4                 4304259.00                 EAGLE   \n",
       "\n",
       "                              cfda_title business_types_description  \n",
       "0           SUPPLEMENTAL SECURITY INCOME                 INDIVIDUAL  \n",
       "1   SOCIAL SECURITY RETIREMENT INSURANCE                 INDIVIDUAL  \n",
       "2  SOCIAL INSURANCE FOR RAILROAD WORKERS                 INDIVIDUAL  \n",
       "3  SOCIAL INSURANCE FOR RAILROAD WORKERS                 INDIVIDUAL  \n",
       "4   SOCIAL SECURITY RETIREMENT INSURANCE                 INDIVIDUAL  "
      ]
     },
     "metadata": {},
     "output_type": "display_data"
    }
   ],
   "source": [
    "dataframe = pd.read_csv('All Payments Colorado 2018.csv')\n",
    "\n",
    "df = dataframe[['award_description','federal_action_obligation','recipient_county_name', 'cfda_title', 'business_types_description']]\n",
    "\n",
    "display(df.head())"
   ]
  },
  {
   "cell_type": "code",
   "execution_count": 136,
   "metadata": {},
   "outputs": [
    {
     "data": {
      "text/plain": [
       "0    PRICE LOSS COVERAGE PROGRAM\n",
       "dtype: object"
      ]
     },
     "metadata": {},
     "output_type": "display_data"
    }
   ],
   "source": [
    "display(df['award_description'].mode())"
   ]
  },
  {
   "cell_type": "code",
   "execution_count": 161,
   "metadata": {},
   "outputs": [
    {
     "name": "stdout",
     "output_type": "stream",
     "text": [
      "------- TOP 5 TITLES -------\n"
     ]
    },
    {
     "data": {
      "text/plain": [
       "PRICE LOSS COVERAGE                        27340\n",
       "CONSERVATION RESERVE PROGRAM               17582\n",
       "FEDERAL PELL GRANT PROGRAM                  9628\n",
       "SOCIAL INSURANCE FOR RAILROAD WORKERS       2247\n",
       "LIVESTOCK FORAGE PROGRAM-2014 FARM BILL     1537\n",
       "Name: cfda_title, dtype: int64"
      ]
     },
     "metadata": {},
     "output_type": "display_data"
    },
    {
     "name": "stdout",
     "output_type": "stream",
     "text": [
      "------- BOTTOM 5 TITLES -------\n",
      "HEALTH PROFESSIONS PRE-GRADUATE SCHOLARSHIP PROGRAM FOR INDIANS                                            1\n",
      "NATIONAL INSTITUTE ON MINORITY HEALTH AND HEALTH DISPARITIES (NIMHD) EXTRAMURAL LOAN REPAYMENT PROGRAMS    1\n",
      "SUPPLEMENTAL REVENUE ASSISTANCE PROGRAM                                                                    1\n",
      "DISADVANTAGED HEALTH PROFESSIONS FACULTY LOAN REPAYMENT PROGRAM (FLRP)                                     1\n",
      "COTTON GINNING COST SHARE PROGRAM                                                                          1\n",
      "Name: cfda_title, dtype: int64\n"
     ]
    }
   ],
   "source": [
    "top = df['cfda_title'].value_counts()\n",
    "print(\"------- TOP 5 TITLES -------\")\n",
    "display((top[:5]))\n",
    "\n",
    "print(\"------- BOTTOM 5 TITLES -------\")\n",
    "print(top[len(top)-5:len(top)])"
   ]
  },
  {
   "cell_type": "code",
   "execution_count": 153,
   "metadata": {},
   "outputs": [
    {
     "name": "stdout",
     "output_type": "stream",
     "text": [
      "143\n",
      "\n",
      "PRICE LOSS COVERAGE PROGRAM    18217\n",
      "Name: award_description, dtype: int64\n"
     ]
    }
   ],
   "source": [
    "top = df['award_description'].value_counts()\n",
    "print(len(top))\n",
    "print()\n",
    "print(top[:1])"
   ]
  },
  {
   "cell_type": "code",
   "execution_count": 145,
   "metadata": {},
   "outputs": [
    {
     "data": {
      "text/html": [
       "<div>\n",
       "<style scoped>\n",
       "    .dataframe tbody tr th:only-of-type {\n",
       "        vertical-align: middle;\n",
       "    }\n",
       "\n",
       "    .dataframe tbody tr th {\n",
       "        vertical-align: top;\n",
       "    }\n",
       "\n",
       "    .dataframe thead th {\n",
       "        text-align: right;\n",
       "    }\n",
       "</style>\n",
       "<table border=\"1\" class=\"dataframe\">\n",
       "  <thead>\n",
       "    <tr style=\"text-align: right;\">\n",
       "      <th></th>\n",
       "      <th>award_description</th>\n",
       "      <th>federal_action_obligation</th>\n",
       "    </tr>\n",
       "  </thead>\n",
       "  <tbody>\n",
       "    <tr>\n",
       "      <th>0</th>\n",
       "      <td>\"CFDA: 15.026</td>\n",
       "      <td>16010.00</td>\n",
       "    </tr>\n",
       "    <tr>\n",
       "      <th>1</th>\n",
       "      <td>A07AV00062</td>\n",
       "      <td>26001.62</td>\n",
       "    </tr>\n",
       "    <tr>\n",
       "      <th>2</th>\n",
       "      <td>A07AV00063</td>\n",
       "      <td>0.00</td>\n",
       "    </tr>\n",
       "    <tr>\n",
       "      <th>3</th>\n",
       "      <td>A08AV00056</td>\n",
       "      <td>162423.52</td>\n",
       "    </tr>\n",
       "    <tr>\n",
       "      <th>4</th>\n",
       "      <td>A08AV00057</td>\n",
       "      <td>500000.00</td>\n",
       "    </tr>\n",
       "    <tr>\n",
       "      <th>5</th>\n",
       "      <td>A09AV00235</td>\n",
       "      <td>0.00</td>\n",
       "    </tr>\n",
       "    <tr>\n",
       "      <th>6</th>\n",
       "      <td>A09AV00236</td>\n",
       "      <td>125680.39</td>\n",
       "    </tr>\n",
       "    <tr>\n",
       "      <th>7</th>\n",
       "      <td>A09AV00237</td>\n",
       "      <td>0.00</td>\n",
       "    </tr>\n",
       "    <tr>\n",
       "      <th>8</th>\n",
       "      <td>A11AV00287</td>\n",
       "      <td>0.00</td>\n",
       "    </tr>\n",
       "    <tr>\n",
       "      <th>9</th>\n",
       "      <td>A11AV00306</td>\n",
       "      <td>0.00</td>\n",
       "    </tr>\n",
       "  </tbody>\n",
       "</table>\n",
       "</div>"
      ],
      "text/plain": [
       "  award_description  federal_action_obligation\n",
       "0     \"CFDA: 15.026                   16010.00\n",
       "1        A07AV00062                   26001.62\n",
       "2        A07AV00063                       0.00\n",
       "3        A08AV00056                  162423.52\n",
       "4        A08AV00057                  500000.00\n",
       "5        A09AV00235                       0.00\n",
       "6        A09AV00236                  125680.39\n",
       "7        A09AV00237                       0.00\n",
       "8        A11AV00287                       0.00\n",
       "9        A11AV00306                       0.00"
      ]
     },
     "metadata": {},
     "output_type": "display_data"
    },
    {
     "name": "stdout",
     "output_type": "stream",
     "text": [
      "\n"
     ]
    },
    {
     "data": {
      "text/html": [
       "<div>\n",
       "<style scoped>\n",
       "    .dataframe tbody tr th:only-of-type {\n",
       "        vertical-align: middle;\n",
       "    }\n",
       "\n",
       "    .dataframe tbody tr th {\n",
       "        vertical-align: top;\n",
       "    }\n",
       "\n",
       "    .dataframe thead th {\n",
       "        text-align: right;\n",
       "    }\n",
       "</style>\n",
       "<table border=\"1\" class=\"dataframe\">\n",
       "  <thead>\n",
       "    <tr style=\"text-align: right;\">\n",
       "      <th></th>\n",
       "      <th>award_description</th>\n",
       "      <th>total obligations</th>\n",
       "    </tr>\n",
       "  </thead>\n",
       "  <tbody>\n",
       "    <tr>\n",
       "      <th>112</th>\n",
       "      <td>PRICE LOSS COVERAGE PROGRAM</td>\n",
       "      <td>104303442</td>\n",
       "    </tr>\n",
       "  </tbody>\n",
       "</table>\n",
       "</div>"
      ],
      "text/plain": [
       "               award_description  total obligations\n",
       "112  PRICE LOSS COVERAGE PROGRAM          104303442"
      ]
     },
     "metadata": {},
     "output_type": "display_data"
    }
   ],
   "source": [
    "map_reduce1 = df.groupby(by=['award_description'], as_index = False)['federal_action_obligation'].sum()\n",
    "\n",
    "# object is a DF\n",
    "display(map_reduce1.head(10))\n",
    "print()\n",
    "\n",
    "# display(type(map_reduce1['federal_action_obligation'][0]))\n",
    "\n",
    "map_reduce1['total obligations'] = map_reduce1['federal_action_obligation'].astype(int)\n",
    "\n",
    "map_reduce1.drop(['federal_action_obligation'], 1, inplace=True)\n",
    "\n",
    "display(map_reduce1[map_reduce1['award_description'].str.contains('PRICE LOSS COVERAGE PROGRAM')])"
   ]
  },
  {
   "cell_type": "code",
   "execution_count": 152,
   "metadata": {},
   "outputs": [
    {
     "data": {
      "text/html": [
       "<div>\n",
       "<style scoped>\n",
       "    .dataframe tbody tr th:only-of-type {\n",
       "        vertical-align: middle;\n",
       "    }\n",
       "\n",
       "    .dataframe tbody tr th {\n",
       "        vertical-align: top;\n",
       "    }\n",
       "\n",
       "    .dataframe thead th {\n",
       "        text-align: right;\n",
       "    }\n",
       "</style>\n",
       "<table border=\"1\" class=\"dataframe\">\n",
       "  <thead>\n",
       "    <tr style=\"text-align: right;\">\n",
       "      <th></th>\n",
       "      <th>recipient_county_name</th>\n",
       "      <th>total obligations</th>\n",
       "    </tr>\n",
       "  </thead>\n",
       "  <tbody>\n",
       "    <tr>\n",
       "      <th>0</th>\n",
       "      <td>ADAMS</td>\n",
       "      <td>2215411994</td>\n",
       "    </tr>\n",
       "    <tr>\n",
       "      <th>1</th>\n",
       "      <td>ALAMOSA</td>\n",
       "      <td>58867547</td>\n",
       "    </tr>\n",
       "    <tr>\n",
       "      <th>2</th>\n",
       "      <td>ARAPAHOE</td>\n",
       "      <td>1799096810</td>\n",
       "    </tr>\n",
       "    <tr>\n",
       "      <th>3</th>\n",
       "      <td>ARCHULETA</td>\n",
       "      <td>66181307</td>\n",
       "    </tr>\n",
       "    <tr>\n",
       "      <th>4</th>\n",
       "      <td>BACA</td>\n",
       "      <td>38192436</td>\n",
       "    </tr>\n",
       "    <tr>\n",
       "      <th>5</th>\n",
       "      <td>BENT</td>\n",
       "      <td>21479803</td>\n",
       "    </tr>\n",
       "    <tr>\n",
       "      <th>6</th>\n",
       "      <td>BOULDER</td>\n",
       "      <td>912185467</td>\n",
       "    </tr>\n",
       "  </tbody>\n",
       "</table>\n",
       "</div>"
      ],
      "text/plain": [
       "  recipient_county_name  total obligations\n",
       "0                 ADAMS         2215411994\n",
       "1               ALAMOSA           58867547\n",
       "2              ARAPAHOE         1799096810\n",
       "3             ARCHULETA           66181307\n",
       "4                  BACA           38192436\n",
       "5                  BENT           21479803\n",
       "6               BOULDER          912185467"
      ]
     },
     "metadata": {},
     "output_type": "display_data"
    },
    {
     "data": {
      "text/html": [
       "<div>\n",
       "<style scoped>\n",
       "    .dataframe tbody tr th:only-of-type {\n",
       "        vertical-align: middle;\n",
       "    }\n",
       "\n",
       "    .dataframe tbody tr th {\n",
       "        vertical-align: top;\n",
       "    }\n",
       "\n",
       "    .dataframe thead th {\n",
       "        text-align: right;\n",
       "    }\n",
       "</style>\n",
       "<table border=\"1\" class=\"dataframe\">\n",
       "  <thead>\n",
       "    <tr style=\"text-align: right;\">\n",
       "      <th></th>\n",
       "      <th>recipient_county_name</th>\n",
       "      <th>total obligations</th>\n",
       "    </tr>\n",
       "  </thead>\n",
       "  <tbody>\n",
       "    <tr>\n",
       "      <th>16</th>\n",
       "      <td>DENVER</td>\n",
       "      <td>2102676122</td>\n",
       "    </tr>\n",
       "  </tbody>\n",
       "</table>\n",
       "</div>"
      ],
      "text/plain": [
       "   recipient_county_name  total obligations\n",
       "16                DENVER         2102676122"
      ]
     },
     "metadata": {},
     "output_type": "display_data"
    }
   ],
   "source": [
    "map_reduce2 = df.groupby(by=['recipient_county_name'], as_index = False)['federal_action_obligation'].sum()\n",
    "\n",
    "map_reduce2['total obligations'] = map_reduce2['federal_action_obligation'].astype(int)\n",
    "\n",
    "map_reduce2.drop(['federal_action_obligation'], 1, inplace=True)\n",
    "\n",
    "display(map_reduce2.head(7))\n",
    "\n",
    "display(map_reduce2[map_reduce2['recipient_county_name'].str.contains('DENVER')])"
   ]
  },
  {
   "cell_type": "code",
   "execution_count": 170,
   "metadata": {},
   "outputs": [
    {
     "data": {
      "text/html": [
       "<div>\n",
       "<style scoped>\n",
       "    .dataframe tbody tr th:only-of-type {\n",
       "        vertical-align: middle;\n",
       "    }\n",
       "\n",
       "    .dataframe tbody tr th {\n",
       "        vertical-align: top;\n",
       "    }\n",
       "\n",
       "    .dataframe thead th {\n",
       "        text-align: right;\n",
       "    }\n",
       "</style>\n",
       "<table border=\"1\" class=\"dataframe\">\n",
       "  <thead>\n",
       "    <tr style=\"text-align: right;\">\n",
       "      <th></th>\n",
       "      <th>business_types_description</th>\n",
       "      <th>total obligations</th>\n",
       "    </tr>\n",
       "  </thead>\n",
       "  <tbody>\n",
       "    <tr>\n",
       "      <th>0</th>\n",
       "      <td>CITY OR TOWNSHIP GOVERNMENT</td>\n",
       "      <td>159581163</td>\n",
       "    </tr>\n",
       "    <tr>\n",
       "      <th>1</th>\n",
       "      <td>FOR-PROFIT ORGANIZATION (OTHER THAN SMALL BUSI...</td>\n",
       "      <td>111803454</td>\n",
       "    </tr>\n",
       "    <tr>\n",
       "      <th>2</th>\n",
       "      <td>INDEPENDENT SCHOOL DISTRICT</td>\n",
       "      <td>8265926</td>\n",
       "    </tr>\n",
       "    <tr>\n",
       "      <th>3</th>\n",
       "      <td>INDIAN/NATIVE AMERICAN TRIBAL DESIGNATED ORGAN...</td>\n",
       "      <td>5729141</td>\n",
       "    </tr>\n",
       "    <tr>\n",
       "      <th>4</th>\n",
       "      <td>INDIAN/NATIVE AMERICAN TRIBAL GOVERNMENT (FEDE...</td>\n",
       "      <td>7128162</td>\n",
       "    </tr>\n",
       "    <tr>\n",
       "      <th>5</th>\n",
       "      <td>INDIVIDUAL</td>\n",
       "      <td>9173109363</td>\n",
       "    </tr>\n",
       "    <tr>\n",
       "      <th>6</th>\n",
       "      <td>NONPROFIT WITH 501C3 IRS STATUS (OTHER THAN AN...</td>\n",
       "      <td>6377854</td>\n",
       "    </tr>\n",
       "    <tr>\n",
       "      <th>7</th>\n",
       "      <td>OTHER</td>\n",
       "      <td>1329478314</td>\n",
       "    </tr>\n",
       "    <tr>\n",
       "      <th>8</th>\n",
       "      <td>PRIVATE INSTITUTION OF HIGHER EDUCATION</td>\n",
       "      <td>49131985</td>\n",
       "    </tr>\n",
       "    <tr>\n",
       "      <th>9</th>\n",
       "      <td>PUBLIC/STATE CONTROLLED INSTITUTION OF HIGHER ...</td>\n",
       "      <td>131153016</td>\n",
       "    </tr>\n",
       "  </tbody>\n",
       "</table>\n",
       "</div>"
      ],
      "text/plain": [
       "                          business_types_description  total obligations\n",
       "0                        CITY OR TOWNSHIP GOVERNMENT          159581163\n",
       "1  FOR-PROFIT ORGANIZATION (OTHER THAN SMALL BUSI...          111803454\n",
       "2                        INDEPENDENT SCHOOL DISTRICT            8265926\n",
       "3  INDIAN/NATIVE AMERICAN TRIBAL DESIGNATED ORGAN...            5729141\n",
       "4  INDIAN/NATIVE AMERICAN TRIBAL GOVERNMENT (FEDE...            7128162\n",
       "5                                         INDIVIDUAL         9173109363\n",
       "6  NONPROFIT WITH 501C3 IRS STATUS (OTHER THAN AN...            6377854\n",
       "7                                              OTHER         1329478314\n",
       "8            PRIVATE INSTITUTION OF HIGHER EDUCATION           49131985\n",
       "9  PUBLIC/STATE CONTROLLED INSTITUTION OF HIGHER ...          131153016"
      ]
     },
     "metadata": {},
     "output_type": "display_data"
    }
   ],
   "source": [
    "map_reduce3 = df.groupby(by=['business_types_description'], as_index = False)['federal_action_obligation'].sum()\n",
    "\n",
    "map_reduce3['total obligations'] = map_reduce3['federal_action_obligation'].astype(int)\n",
    "\n",
    "map_reduce3.drop(['federal_action_obligation'], 1, inplace=True)\n",
    "\n",
    "display(map_reduce3.head(10))"
   ]
  },
  {
   "cell_type": "code",
   "execution_count": null,
   "metadata": {},
   "outputs": [],
   "source": []
  }
 ],
 "metadata": {
  "kernelspec": {
   "display_name": "Python 3",
   "language": "python",
   "name": "python3"
  },
  "language_info": {
   "codemirror_mode": {
    "name": "ipython",
    "version": 3
   },
   "file_extension": ".py",
   "mimetype": "text/x-python",
   "name": "python",
   "nbconvert_exporter": "python",
   "pygments_lexer": "ipython3",
   "version": "3.6.6"
  }
 },
 "nbformat": 4,
 "nbformat_minor": 2
}
