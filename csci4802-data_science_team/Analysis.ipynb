{
 "cells": [
  {
   "cell_type": "code",
   "execution_count": 1,
   "metadata": {},
   "outputs": [],
   "source": [
    "import pandas as pd\n",
    "import numpy as np\n",
    "import matplotlib.pyplot as plt"
   ]
  },
  {
   "cell_type": "code",
   "execution_count": 2,
   "metadata": {
    "scrolled": true
   },
   "outputs": [
    {
     "name": "stderr",
     "output_type": "stream",
     "text": [
      "/anaconda3/lib/python3.6/site-packages/IPython/core/interactiveshell.py:2785: DtypeWarning: Columns (28) have mixed types. Specify dtype option on import or set low_memory=False.\n",
      "  interactivity=interactivity, compiler=compiler, result=result)\n"
     ]
    }
   ],
   "source": [
    "df = pd.read_csv(\"/Users/mohd/Desktop/data/train.csv\")"
   ]
  },
  {
   "cell_type": "code",
   "execution_count": 3,
   "metadata": {},
   "outputs": [
    {
     "data": {
      "text/plain": [
       "8921483"
      ]
     },
     "execution_count": 3,
     "metadata": {},
     "output_type": "execute_result"
    }
   ],
   "source": [
    "len(df)"
   ]
  },
  {
   "cell_type": "markdown",
   "metadata": {},
   "source": [
    "## Functions"
   ]
  },
  {
   "cell_type": "code",
   "execution_count": 4,
   "metadata": {},
   "outputs": [],
   "source": [
    "def appendToDict(dic, series):\n",
    "    indices = series.index\n",
    "    for i in indices:\n",
    "        dic[i] = dic.get(i, [])\n",
    "        dic[i].append(series[i])\n",
    "    \n",
    "    return dic\n",
    "\n",
    "def printPercentages(d, title):\n",
    "    currentStr = \"[[{}]]\".format(title)\n",
    "    for k, v in d.items():\n",
    "        try:\n",
    "            currentStr += \"\\n{}: {:.2f}%\".format(k, v[1]/v[0])\n",
    "        except:\n",
    "            currentStr += \"\\n{}: {:.2f}%\".format(k, 0)\n",
    "    \n",
    "    return currentStr\n",
    "            \n",
    "def calculateAllPercentages(df):\n",
    "    tot = {}\n",
    "    cols = list(df.columns)\n",
    "    cols.remove('MachineIdentifier')\n",
    "    for col in cols:\n",
    "        before = df[col].value_counts()\n",
    "        d = appendToDict({}, before)\n",
    "\n",
    "        after = df[col][df[\"HasDetections\"] == 1].value_counts()\n",
    "        d = appendToDict(d, after)\n",
    "        \n",
    "        tot[col] = d\n",
    "    \n",
    "    return tot"
   ]
  },
  {
   "cell_type": "markdown",
   "metadata": {},
   "source": [
    "## Calculate malware percentages for each column"
   ]
  },
  {
   "cell_type": "code",
   "execution_count": 5,
   "metadata": {},
   "outputs": [],
   "source": [
    "tot = calculateAllPercentages(df)"
   ]
  },
  {
   "cell_type": "code",
   "execution_count": 6,
   "metadata": {
    "scrolled": true
   },
   "outputs": [],
   "source": [
    "f = open(\"output.txt\", \"w+\")\n",
    "for i in tot:\n",
    "    f.write(printPercentages(tot[i], \"{}\".format(i)))\n",
    "    f.write(\"\\n=====================\\n\")"
   ]
  },
  {
   "cell_type": "code",
   "execution_count": 27,
   "metadata": {},
   "outputs": [
    {
     "data": {
      "image/png": "[encoded data removed]",
      "text/plain": [
       "<Figure size 432x288 with 1 Axes>"
      ]
     },
     "metadata": {},
     "output_type": "display_data"
    }
   ],
   "source": [
    "map_dict = {}\n",
    "for title in tot:\n",
    "    index = 0\n",
    "    map_index_val = {}\n",
    "    x = []\n",
    "    y = []\n",
    "    for i in tot[title]:\n",
    "        x.append(index)\n",
    "        try:\n",
    "            \n",
    "            y.append(tot[title][i][1]/tot[title][i][0])\n",
    "        except:\n",
    "            y.append(0)\n",
    "        index += 1\n",
    "    map_dict[title] = map_index_val\n",
    "    plt.title(title)\n",
    "    plt.plot(x, y)\n",
    "    plt.savefig(\"plots/{}.png\".format(title))"
   ]
  },
  {
   "cell_type": "code",
   "execution_count": null,
   "metadata": {},
   "outputs": [],
   "source": [
    "df"
   ]
  }
 ],
 "metadata": {
  "kernelspec": {
   "display_name": "Python 3",
   "language": "python",
   "name": "python3"
  },
  "language_info": {
   "codemirror_mode": {
    "name": "ipython",
    "version": 3
   },
   "file_extension": ".py",
   "mimetype": "text/x-python",
   "name": "python",
   "nbconvert_exporter": "python",
   "pygments_lexer": "ipython3",
   "version": "3.6.5"
  }
 },
 "nbformat": 4,
 "nbformat_minor": 2
}
