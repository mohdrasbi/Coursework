{
 "cells": [
  {
   "cell_type": "code",
   "execution_count": 1,
   "metadata": {},
   "outputs": [],
   "source": [
    "import pandas as pd\n",
    "import numpy as np\n",
    "import matplotlib.pyplot as plt"
   ]
  },
  {
   "cell_type": "code",
   "execution_count": 2,
   "metadata": {
    "scrolled": true
   },
   "outputs": [
    {
     "name": "stderr",
     "output_type": "stream",
     "text": [
      "/anaconda3/lib/python3.6/site-packages/IPython/core/interactiveshell.py:2785: DtypeWarning: Columns (28) have mixed types. Specify dtype option on import or set low_memory=False.\n",
      "  interactivity=interactivity, compiler=compiler, result=result)\n"
     ]
    }
   ],
   "source": [
    "df = pd.read_csv(\"/Users/mohd/Desktop/data/train.csv\")"
   ]
  },
  {
   "cell_type": "code",
   "execution_count": 31,
   "metadata": {},
   "outputs": [
    {
     "data": {
      "text/plain": [
       "8921483"
      ]
     },
     "execution_count": 31,
     "metadata": {},
     "output_type": "execute_result"
    }
   ],
   "source": [
    "len(df)"
   ]
  },
  {
   "cell_type": "markdown",
   "metadata": {},
   "source": [
    "## Functions"
   ]
  },
  {
   "cell_type": "code",
   "execution_count": 34,
   "metadata": {},
   "outputs": [],
   "source": [
    "def appendToDict(dic, series):\n",
    "    indices = series.index\n",
    "    for i in indices:\n",
    "        dic[i] = dic.get(i, [])\n",
    "        dic[i].append(series[i])\n",
    "    \n",
    "    return dic\n",
    "\n",
    "def printPercentages(d, title):\n",
    "    currentStr = \"[[{}]]\".format(title)\n",
    "    for k, v in d.items():\n",
    "        try:\n",
    "            currentStr += \"\\n{}: {:.2f}%\".format(k, v[1]/v[0])\n",
    "        except:\n",
    "            currentStr += \"\\n{}: {:.2f}%\".format(k, 0)\n",
    "    \n",
    "    return currentStr\n",
    "            \n",
    "def calculateAllPercentages(df):\n",
    "    tot = {}\n",
    "    cols = list(df.columns)\n",
    "    cols.remove('MachineIdentifier')\n",
    "    for col in cols:\n",
    "        before = df[col].value_counts()\n",
    "        d = appendToDict({}, before)\n",
    "\n",
    "        after = df[col][df[\"HasDetections\"] == 1].value_counts()\n",
    "        d = appendToDict(d, after)\n",
    "        \n",
    "        tot[col] = d\n",
    "    \n",
    "    return tot"
   ]
  },
  {
   "cell_type": "markdown",
   "metadata": {},
   "source": [
    "## Calculate malware percentages for each column"
   ]
  },
  {
   "cell_type": "code",
   "execution_count": 27,
   "metadata": {},
   "outputs": [],
   "source": [
    "tot = calculateAllPercentages(df)"
   ]
  },
  {
   "cell_type": "code",
   "execution_count": 37,
   "metadata": {
    "scrolled": true
   },
   "outputs": [],
   "source": [
    "f = open(\"output.txt\", \"w+\")\n",
    "for i in tot:\n",
    "    f.write(printPercentages(tot[i], \"{}\".format(i)))\n",
    "    f.write(\"\\n=====================\\n\")"
   ]
  }
 ],
 "metadata": {
  "kernelspec": {
   "display_name": "Python 3",
   "language": "python",
   "name": "python3"
  },
  "language_info": {
   "codemirror_mode": {
    "name": "ipython",
    "version": 3
   },
   "file_extension": ".py",
   "mimetype": "text/x-python",
   "name": "python",
   "nbconvert_exporter": "python",
   "pygments_lexer": "ipython3",
   "version": "3.6.5"
  }
 },
 "nbformat": 4,
 "nbformat_minor": 2
}
