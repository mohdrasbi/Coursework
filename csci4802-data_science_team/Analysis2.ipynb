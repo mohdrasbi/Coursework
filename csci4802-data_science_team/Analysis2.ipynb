{
 "cells": [
  {
   "cell_type": "code",
   "execution_count": null,
   "metadata": {},
   "outputs": [],
   "source": [
    "import pandas as pd\n",
    "import numpy as np\n",
    "import matplotlib.pyplot as plt\n",
    "import sklearn\n",
    "from sklearn.cluster import KMeans\n",
    "from sklearn.linear_model import LogisticRegression, SGDClassifier, SGDRegressor\n",
    "import time\n",
    "import warnings\n",
    "warnings.filterwarnings('ignore')"
   ]
  },
  {
   "cell_type": "code",
   "execution_count": null,
   "metadata": {
    "scrolled": false
   },
   "outputs": [],
   "source": [
    "train_data = pd.read_csv(\"/Users/mohd/Desktop/data/train.csv\")\n",
    "test_data = pd.read_csv(\"/Users/mohd/Desktop/data/test.csv\")"
   ]
  },
  {
   "cell_type": "markdown",
   "metadata": {},
   "source": [
    "## Functions"
   ]
  },
  {
   "cell_type": "code",
   "execution_count": null,
   "metadata": {},
   "outputs": [],
   "source": [
    "def calculateAllPercentages(df):\n",
    "    tot = {}\n",
    "    cols = list(df.columns)\n",
    "    cols.remove('MachineIdentifier')\n",
    "    cols.remove('HasDetections')\n",
    "    for col in cols:\n",
    "        before = df[col].count()\n",
    "        after = df[col][df[\"HasDetections\"] == 1].count()\n",
    "        tot[col] = after/before\n",
    "    \n",
    "    return tot"
   ]
  },
  {
   "cell_type": "markdown",
   "metadata": {},
   "source": [
    "## Plotting"
   ]
  },
  {
   "cell_type": "code",
   "execution_count": null,
   "metadata": {},
   "outputs": [],
   "source": [
    "tot = calculateAllPercentages(train_data)"
   ]
  },
  {
   "cell_type": "code",
   "execution_count": null,
   "metadata": {},
   "outputs": [],
   "source": [
    "index = 0\n",
    "index_to_col = {}\n",
    "cols = list(train_data.columns)\n",
    "cols.remove('MachineIdentifier')\n",
    "cols.remove('HasDetections')\n",
    "\n",
    "x = []\n",
    "y = []\n",
    "for i in cols:\n",
    "    index_to_col[index] = i\n",
    "    x.append(index)\n",
    "    y.append(tot[i])\n",
    "    index += 1"
   ]
  },
  {
   "cell_type": "code",
   "execution_count": null,
   "metadata": {
    "scrolled": true
   },
   "outputs": [],
   "source": [
    "plt.plot(x, y)"
   ]
  },
  {
   "cell_type": "markdown",
   "metadata": {},
   "source": [
    "## Get numrical training and test data (features)"
   ]
  },
  {
   "cell_type": "code",
   "execution_count": null,
   "metadata": {},
   "outputs": [],
   "source": [
    "cols_num = []\n",
    "cols_others = []\n",
    "dtypes = train_data.dtypes\n",
    "for i in range(len(dtypes)):\n",
    "    if dtypes[i] in ['int64', 'float64']:\n",
    "        cols_num.append(dtypes.index[i])\n",
    "    else:\n",
    "        cols_others.append(dtypes.index[i])\n",
    "\n",
    "train_nums = train_data[cols_num].fillna(0)\n",
    "cols_others.remove('MachineIdentifier')\n",
    "train_others = train_data[cols_others]\n",
    "test_others = test_data[cols_others]\n"
   ]
  },
  {
   "cell_type": "code",
   "execution_count": null,
   "metadata": {},
   "outputs": [],
   "source": [
    "cols_num.remove('HasDetections')\n",
    "test_nums = test_data[cols_num].fillna(0)"
   ]
  },
  {
   "cell_type": "code",
   "execution_count": null,
   "metadata": {},
   "outputs": [],
   "source": [
    "features = train_nums[cols_num]\n",
    "results = train_nums['HasDetections']"
   ]
  },
  {
   "cell_type": "code",
   "execution_count": null,
   "metadata": {},
   "outputs": [],
   "source": [
    "train_nums.head()"
   ]
  },
  {
   "cell_type": "markdown",
   "metadata": {},
   "source": [
    "## Loading data"
   ]
  },
  {
   "cell_type": "code",
   "execution_count": null,
   "metadata": {},
   "outputs": [],
   "source": [
    "n = len(features)\n",
    "x_train = features[:n]\n",
    "y_train = results[:n]\n",
    "\n",
    "x_test = test_nums[:n]"
   ]
  },
  {
   "cell_type": "markdown",
   "metadata": {},
   "source": [
    "## Analyze non-number features"
   ]
  },
  {
   "cell_type": "code",
   "execution_count": null,
   "metadata": {
    "scrolled": false
   },
   "outputs": [],
   "source": [
    "train_others.head()"
   ]
  },
  {
   "cell_type": "code",
   "execution_count": null,
   "metadata": {},
   "outputs": [],
   "source": [
    "t = {}\n",
    "for col in cols_others:\n",
    "    unique_vals = list(set(train_others[col]))\n",
    "    t[col] = {}\n",
    "    index = 0\n",
    "    for val in unique_vals:\n",
    "        t[col][val] = index\n",
    "        index += 1\n"
   ]
  },
  {
   "cell_type": "markdown",
   "metadata": {},
   "source": [
    "## Logistic regression (scaling data)"
   ]
  },
  {
   "cell_type": "code",
   "execution_count": null,
   "metadata": {},
   "outputs": [],
   "source": [
    "x_train1 = sklearn.preprocessing.scale(x_train)\n",
    "x_test1 = sklearn.preprocessing.scale(x_test)"
   ]
  },
  {
   "cell_type": "code",
   "execution_count": null,
   "metadata": {},
   "outputs": [],
   "source": [
    "log_reg1 = LogisticRegression(random_state=0, solver='lbfgs', multi_class=\"multinomial\").fit(x_train1, y_train)\n"
   ]
  },
  {
   "cell_type": "code",
   "execution_count": null,
   "metadata": {},
   "outputs": [],
   "source": [
    "predict1 = log_reg1.predict(x_test1)\n"
   ]
  },
  {
   "cell_type": "code",
   "execution_count": null,
   "metadata": {},
   "outputs": [],
   "source": [
    "d1 = {'MachineIdentifier': test_data['MachineIdentifier'][:n], 'HasDetections': predict1}\n",
    "output1 = pd.DataFrame(data=d1)\n"
   ]
  },
  {
   "cell_type": "code",
   "execution_count": null,
   "metadata": {},
   "outputs": [],
   "source": [
    "output1.to_csv(\"output1.csv\", index=False)"
   ]
  },
  {
   "cell_type": "code",
   "execution_count": null,
   "metadata": {},
   "outputs": [],
   "source": [
    "predict11 = log_reg1.predict(x_train1)\n",
    "\n",
    "print(\"Score: {:.3f}\".format(sum(predict11 == y_train)/n))"
   ]
  },
  {
   "cell_type": "markdown",
   "metadata": {},
   "source": [
    "## Logistic regression (normalizing data)"
   ]
  },
  {
   "cell_type": "code",
   "execution_count": null,
   "metadata": {},
   "outputs": [],
   "source": [
    "x_train2 = sklearn.preprocessing.scale(x_train)\n",
    "x_test2 = sklearn.preprocessing.scale(x_test)"
   ]
  },
  {
   "cell_type": "code",
   "execution_count": null,
   "metadata": {},
   "outputs": [],
   "source": [
    "log_reg2 = LogisticRegression(random_state=0, solver='lbfgs', multi_class=\"multinomial\").fit(x_train2, y_train)\n"
   ]
  },
  {
   "cell_type": "code",
   "execution_count": null,
   "metadata": {},
   "outputs": [],
   "source": [
    "predict2 = log_reg2.predict(x_test2)\n"
   ]
  },
  {
   "cell_type": "code",
   "execution_count": null,
   "metadata": {},
   "outputs": [],
   "source": [
    "d2 = {'MachineIdentifier': test_data['MachineIdentifier'][:n], 'HasDetections': predict2}\n",
    "output2 = pd.DataFrame(data=d2)\n"
   ]
  },
  {
   "cell_type": "code",
   "execution_count": null,
   "metadata": {},
   "outputs": [],
   "source": [
    "output2.to_csv(\"output2.csv\", index=False)"
   ]
  },
  {
   "cell_type": "code",
   "execution_count": null,
   "metadata": {},
   "outputs": [],
   "source": [
    "predict22 = log_reg2.predict(x_train2)\n",
    "\n",
    "print(\"Score: {:.3f}\".format(sum(predict22 == y_train)/n))"
   ]
  },
  {
   "cell_type": "markdown",
   "metadata": {},
   "source": [
    "## Logistic regression (data not changed)"
   ]
  },
  {
   "cell_type": "code",
   "execution_count": null,
   "metadata": {},
   "outputs": [],
   "source": [
    "log_reg3 = LogisticRegression(random_state=0, solver='lbfgs', multi_class=\"multinomial\").fit(x_train, y_train)\n"
   ]
  },
  {
   "cell_type": "code",
   "execution_count": null,
   "metadata": {},
   "outputs": [],
   "source": [
    "predict3 = log_reg3.predict(x_test)\n"
   ]
  },
  {
   "cell_type": "code",
   "execution_count": null,
   "metadata": {},
   "outputs": [],
   "source": [
    "d3 = {'MachineIdentifier': test_data['MachineIdentifier'][:n], 'HasDetections': predict3}\n",
    "output3 = pd.DataFrame(data=d3)\n"
   ]
  },
  {
   "cell_type": "code",
   "execution_count": null,
   "metadata": {},
   "outputs": [],
   "source": [
    "output3.to_csv(\"output3.csv\", index=False)"
   ]
  },
  {
   "cell_type": "code",
   "execution_count": null,
   "metadata": {},
   "outputs": [],
   "source": [
    "predict33 = log_reg3.predict(x_train)\n",
    "\n",
    "print(\"Score: {:.3f}\".format(sum(predict33 == y_train)/n))"
   ]
  },
  {
   "cell_type": "markdown",
   "metadata": {},
   "source": [
    "## SGD"
   ]
  },
  {
   "cell_type": "code",
   "execution_count": null,
   "metadata": {},
   "outputs": [],
   "source": [
    "sgd1 = SGDClassifier(loss=\"hinge\", penalty=\"l2\", max_iter=5).fit(x_train, y_train)\n"
   ]
  },
  {
   "cell_type": "code",
   "execution_count": null,
   "metadata": {},
   "outputs": [],
   "source": [
    "predict4 = sgd1.predict(x_test)"
   ]
  },
  {
   "cell_type": "code",
   "execution_count": null,
   "metadata": {},
   "outputs": [],
   "source": [
    "d4 = {'MachineIdentifier': test_data['MachineIdentifier'][:n], 'HasDetections': predict4}\n",
    "output4 = pd.DataFrame(data=d4)\n"
   ]
  },
  {
   "cell_type": "code",
   "execution_count": null,
   "metadata": {},
   "outputs": [],
   "source": [
    "output4.to_csv(\"output4.csv\", index=False)"
   ]
  },
  {
   "cell_type": "code",
   "execution_count": null,
   "metadata": {},
   "outputs": [],
   "source": [
    "predict44 = sgd1.predict(x_train)\n",
    "print(\"Score: {:.3f}\".format(sum(predict44 == y_train)/n))\n"
   ]
  },
  {
   "cell_type": "markdown",
   "metadata": {},
   "source": [
    "## SGD + LR"
   ]
  },
  {
   "cell_type": "code",
   "execution_count": null,
   "metadata": {},
   "outputs": [],
   "source": [
    "sgd2 = SGDRegressor().fit(x_train, y_train)"
   ]
  },
  {
   "cell_type": "code",
   "execution_count": null,
   "metadata": {},
   "outputs": [],
   "source": [
    "predict5 = sgd2.predict(x_test)"
   ]
  },
  {
   "cell_type": "code",
   "execution_count": null,
   "metadata": {},
   "outputs": [],
   "source": [
    "d5 = {'MachineIdentifier': test_data['MachineIdentifier'][:n], 'HasDetections': predict5}\n",
    "output5 = pd.DataFrame(data=d5)\n"
   ]
  },
  {
   "cell_type": "code",
   "execution_count": null,
   "metadata": {},
   "outputs": [],
   "source": [
    "output5.to_csv(\"output5.csv\", index=False)"
   ]
  },
  {
   "cell_type": "code",
   "execution_count": null,
   "metadata": {},
   "outputs": [],
   "source": [
    "predict55 = sgd2.predict(x_train)\n",
    "print(\"Score: {:.3f}\".format(sum(predict55 == y_train)/n))"
   ]
  },
  {
   "cell_type": "code",
   "execution_count": null,
   "metadata": {},
   "outputs": [],
   "source": [
    "np.round(predict55)"
   ]
  }
 ],
 "metadata": {
  "kernelspec": {
   "display_name": "Python 3",
   "language": "python",
   "name": "python3"
  },
  "language_info": {
   "codemirror_mode": {
    "name": "ipython",
    "version": 3
   },
   "file_extension": ".py",
   "mimetype": "text/x-python",
   "name": "python",
   "nbconvert_exporter": "python",
   "pygments_lexer": "ipython3",
   "version": "3.6.5"
  }
 },
 "nbformat": 4,
 "nbformat_minor": 2
}
